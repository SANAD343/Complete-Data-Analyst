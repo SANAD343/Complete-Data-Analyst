{
  "nbformat": 4,
  "nbformat_minor": 0,
  "metadata": {
    "colab": {
      "provenance": []
    },
    "kernelspec": {
      "name": "python3",
      "display_name": "Python 3"
    },
    "language_info": {
      "name": "python"
    }
  },
  "cells": [
    {
      "cell_type": "markdown",
      "source": [
        "## **Python Basic Question Bank**\n",
        "\n",
        "![image.png](data:image/png;base64,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)"
      ],
      "metadata": {
        "id": "n6yGj0_mPTv6"
      }
    },
    {
      "cell_type": "markdown",
      "source": [
        "**Question 1:** Write a Python program to print \"Hello, World!\"."
      ],
      "metadata": {
        "id": "Y_8abodQPwnJ"
      }
    },
    {
      "cell_type": "code",
      "execution_count": null,
      "metadata": {
        "colab": {
          "base_uri": "https://localhost:8080/"
        },
        "id": "MNAEzr0GO8wF",
        "outputId": "841172ed-7e86-421c-fb7d-3e4b5bf3197f"
      },
      "outputs": [
        {
          "output_type": "stream",
          "name": "stdout",
          "text": [
            "Hello, World!\n"
          ]
        }
      ],
      "source": [
        "print(\"Hello, World!\")"
      ]
    },
    {
      "cell_type": "markdown",
      "source": [
        "**Question 2:** Write a Python program that takes a user input and prints it."
      ],
      "metadata": {
        "id": "1jAzetyAP2Ne"
      }
    },
    {
      "cell_type": "code",
      "source": [
        "user = input(\"Please enter something: \")\n",
        "print(f\"You entered: {user}\")"
      ],
      "metadata": {
        "colab": {
          "base_uri": "https://localhost:8080/"
        },
        "id": "4x__YY_lP0tV",
        "outputId": "eda90b43-b86a-4f2a-b415-f70ea520ecf3"
      },
      "execution_count": null,
      "outputs": [
        {
          "output_type": "stream",
          "name": "stdout",
          "text": [
            "Please enter something: sanad singh\n",
            "You entered: sanad singh\n"
          ]
        }
      ]
    },
    {
      "cell_type": "markdown",
      "source": [
        "**Question 3:** Write a Python program to check if a number is positive, negative, or zero."
      ],
      "metadata": {
        "id": "S3YJTDsAQAek"
      }
    },
    {
      "cell_type": "code",
      "source": [
        "number = float(input(\"Enter a number: \"))\n",
        "if number > 0:\n",
        "    print(\"The number is positive.\")\n",
        "elif number < 0:\n",
        "    print(\"The number is negative.\")\n",
        "else:\n",
        "    print(\"The number is zero.\")"
      ],
      "metadata": {
        "colab": {
          "base_uri": "https://localhost:8080/"
        },
        "id": "ZPDA_vS1P910",
        "outputId": "e8006e29-6e7b-4cc9-b3ad-c1eb0624e44a"
      },
      "execution_count": null,
      "outputs": [
        {
          "output_type": "stream",
          "name": "stdout",
          "text": [
            "Enter a number: 10\n",
            "The number is positive.\n"
          ]
        }
      ]
    },
    {
      "cell_type": "code",
      "source": [
        "number = float(input(\"Enter a number: \"))\n",
        "if number > 0:\n",
        "    print(\"The number is positive.\")\n",
        "elif number < 0:\n",
        "    print(\"The number is negative.\")\n",
        "else:\n",
        "    print(\"The number is zero.\")"
      ],
      "metadata": {
        "colab": {
          "base_uri": "https://localhost:8080/"
        },
        "id": "L4JajLSHQEOi",
        "outputId": "6741f9d3-6199-4e6d-cc85-f23e5f3e3233"
      },
      "execution_count": null,
      "outputs": [
        {
          "output_type": "stream",
          "name": "stdout",
          "text": [
            "Enter a number: -30\n",
            "The number is negative.\n"
          ]
        }
      ]
    },
    {
      "cell_type": "code",
      "source": [
        "number = float(input(\"Enter a number: \"))\n",
        "if number > 0:\n",
        "    print(\"The number is positive.\")\n",
        "elif number < 0:\n",
        "    print(\"The number is negative.\")\n",
        "else:\n",
        "    print(\"The number is zero.\")"
      ],
      "metadata": {
        "colab": {
          "base_uri": "https://localhost:8080/"
        },
        "id": "OfGGGTMfQGeY",
        "outputId": "3ff4cf94-d0ae-4931-9a9a-caa340da233e"
      },
      "execution_count": null,
      "outputs": [
        {
          "output_type": "stream",
          "name": "stdout",
          "text": [
            "Enter a number: 0\n",
            "The number is zero.\n"
          ]
        }
      ]
    },
    {
      "cell_type": "markdown",
      "source": [
        "**Question 4:** Write a Python program to find the largest of three numbers."
      ],
      "metadata": {
        "id": "35KRNVNJQK0Z"
      }
    },
    {
      "cell_type": "code",
      "source": [
        "num1 = float(input(\"Enter first number: \"))\n",
        "num2 = float(input(\"Enter second number: \"))\n",
        "num3 = float(input(\"Enter third number: \"))\n",
        "\n",
        "if (num1 >= num2) and (num1 >= num3):\n",
        "    largest = num1\n",
        "elif (num2 >= num1) and (num2 >= num3):\n",
        "    largest = num2\n",
        "else:\n",
        "    largest = num3\n",
        "\n",
        "print(f\"The largest number is {largest}\")"
      ],
      "metadata": {
        "colab": {
          "base_uri": "https://localhost:8080/"
        },
        "id": "KTYZw_yuQMYR",
        "outputId": "b29178db-fae2-4320-82a3-518dcf5c0e41"
      },
      "execution_count": null,
      "outputs": [
        {
          "output_type": "stream",
          "name": "stdout",
          "text": [
            "Enter first number: 10\n",
            "Enter second number: 50\n",
            "Enter third number: 14\n",
            "The largest number is 50.0\n"
          ]
        }
      ]
    },
    {
      "cell_type": "markdown",
      "source": [
        "**Question 5:** Write a Python program to calculate the factorial of a number."
      ],
      "metadata": {
        "id": "HBnr0hflQTYH"
      }
    },
    {
      "cell_type": "code",
      "source": [
        "def factorial(n):\n",
        "    if n == 0:\n",
        "        return 1\n",
        "    else:\n",
        "        return n * factorial(n-1)\n",
        "\n",
        "num = int(input(\"Enter a number: \"))\n",
        "print(f\"The factorial of {num} is {factorial(num)}\")"
      ],
      "metadata": {
        "colab": {
          "base_uri": "https://localhost:8080/"
        },
        "id": "8_djw0sdQOZy",
        "outputId": "623a341d-331f-43d5-e086-e3362f3debb9"
      },
      "execution_count": null,
      "outputs": [
        {
          "output_type": "stream",
          "name": "stdout",
          "text": [
            "Enter a number: 5\n",
            "The factorial of 5 is 120\n"
          ]
        }
      ]
    },
    {
      "cell_type": "markdown",
      "source": [
        "## Variables and Data Types\n",
        "\n",
        "**Question 6:** Create variables of different data types: integer, float, string, and boolean. Print their values and types."
      ],
      "metadata": {
        "id": "BtyzB65mQnJN"
      }
    },
    {
      "cell_type": "code",
      "source": [
        "integer = 10\n",
        "float_var = 10.5\n",
        "string= \"Hello\"\n",
        "boolean= True\n",
        "\n",
        "print(f\"Integer value: {integer}, type: {type(integer)}\")\n",
        "print(f\"Float value: {float_var}, type: {type(float_var)}\")\n",
        "print(f\"String value: {string}, type: {type(string)}\")\n",
        "print(f\"Boolean value: {boolean}, type: {type(boolean)}\")"
      ],
      "metadata": {
        "colab": {
          "base_uri": "https://localhost:8080/"
        },
        "id": "sEG98Wu4QVZI",
        "outputId": "a8fca78a-b4bc-4af2-f029-faa8c91584ea"
      },
      "execution_count": null,
      "outputs": [
        {
          "output_type": "stream",
          "name": "stdout",
          "text": [
            "Integer value: 10, type: <class 'int'>\n",
            "Float value: 10.5, type: <class 'float'>\n",
            "String value: Hello, type: <class 'str'>\n",
            "Boolean value: True, type: <class 'bool'>\n"
          ]
        }
      ]
    },
    {
      "cell_type": "markdown",
      "source": [
        "**Question 7:** Write a Python program to swap the values of two variables."
      ],
      "metadata": {
        "id": "pi1AEi4lRDmA"
      }
    },
    {
      "cell_type": "code",
      "source": [
        "a = 5\n",
        "b = 10\n",
        "print(f\"Before swap: a = {a}, b = {b}\")\n",
        "\n",
        "# Swapping\n",
        "a, b = b, a\n",
        "print(f\"After swap: a = {a}, b = {b}\")"
      ],
      "metadata": {
        "colab": {
          "base_uri": "https://localhost:8080/"
        },
        "id": "XFantmcqQ_DV",
        "outputId": "70103ad4-87f1-426a-9f16-66f5b06392aa"
      },
      "execution_count": null,
      "outputs": [
        {
          "output_type": "stream",
          "name": "stdout",
          "text": [
            "Before swap: a = 5, b = 10\n",
            "After swap: a = 10, b = 5\n"
          ]
        }
      ]
    },
    {
      "cell_type": "markdown",
      "source": [
        "**Question 8:** Write a Python program to convert Celsius to Fahrenheit."
      ],
      "metadata": {
        "id": "Y-MAPfmERIiv"
      }
    },
    {
      "cell_type": "code",
      "source": [
        "celsius = float(input(\"Enter temperature in Celsius: \"))\n",
        "fahrenheit = (celsius * 9/5) + 32\n",
        "print(f\"{celsius}°C is equal to {fahrenheit}°F\")"
      ],
      "metadata": {
        "colab": {
          "base_uri": "https://localhost:8080/"
        },
        "id": "0309pqQoRGX2",
        "outputId": "2a3d01b0-9327-4c2e-e940-d4e89405a548"
      },
      "execution_count": null,
      "outputs": [
        {
          "output_type": "stream",
          "name": "stdout",
          "text": [
            "Enter temperature in Celsius: 2.2\n",
            "2.2°C is equal to 35.96°F\n"
          ]
        }
      ]
    },
    {
      "cell_type": "markdown",
      "source": [
        "**Question 9:** Write a Python program to concatenate two strings."
      ],
      "metadata": {
        "id": "zNaC6hUFROlx"
      }
    },
    {
      "cell_type": "code",
      "source": [
        "string1 = \"Hello\"\n",
        "string2 = \"World\"\n",
        "concatenated_string = string1 + \" \" + string2\n",
        "print(concatenated_string)"
      ],
      "metadata": {
        "colab": {
          "base_uri": "https://localhost:8080/"
        },
        "id": "7z3XgFD7RKG6",
        "outputId": "d6ed4908-36b3-4984-b130-efc5c9489941"
      },
      "execution_count": null,
      "outputs": [
        {
          "output_type": "stream",
          "name": "stdout",
          "text": [
            "Hello World\n"
          ]
        }
      ]
    },
    {
      "cell_type": "markdown",
      "source": [
        "**Question 10:** Write a Python program to check if a variable is of a specific data type."
      ],
      "metadata": {
        "id": "MSjBa3jqRTOQ"
      }
    },
    {
      "cell_type": "code",
      "source": [
        "var = 10.5\n",
        "if isinstance(var, float):\n",
        "    print(f\"{var} is a float\")\n",
        "else:\n",
        "    print(f\"{var} is not a float\")"
      ],
      "metadata": {
        "colab": {
          "base_uri": "https://localhost:8080/"
        },
        "id": "Gz4cmBBTRQ9d",
        "outputId": "a0addd1e-ae2d-49b4-a0c1-8a4a4fdc26f5"
      },
      "execution_count": null,
      "outputs": [
        {
          "output_type": "stream",
          "name": "stdout",
          "text": [
            "10.5 is a float\n"
          ]
        }
      ]
    },
    {
      "cell_type": "markdown",
      "source": [
        "## Basic Operators (Arithmetic, Comparison, Logical)\n",
        "\n",
        "**Question 11:** Write a Python program to perform arithmetic operations: addition, subtraction, multiplication, and division."
      ],
      "metadata": {
        "id": "cSNd5NsdRaio"
      }
    },
    {
      "cell_type": "code",
      "source": [
        "a = 5\n",
        "b = 3\n",
        "\n",
        "print(f\"Addition: {a} + {b} = {a + b}\")\n",
        "print(f\"Subtraction: {a} - {b} = {a - b}\")\n",
        "print(f\"Multiplication: {a} * {b} = {a * b}\")\n",
        "print(f\"Division: {a} / {b} = {a / b}\")"
      ],
      "metadata": {
        "colab": {
          "base_uri": "https://localhost:8080/"
        },
        "id": "ziomeAnaRWbO",
        "outputId": "04dd627b-af27-4d8b-ebcf-e77781b3176e"
      },
      "execution_count": null,
      "outputs": [
        {
          "output_type": "stream",
          "name": "stdout",
          "text": [
            "Addition: 5 + 3 = 8\n",
            "Subtraction: 5 - 3 = 2\n",
            "Multiplication: 5 * 3 = 15\n",
            "Division: 5 / 3 = 1.6666666666666667\n"
          ]
        }
      ]
    },
    {
      "cell_type": "markdown",
      "source": [
        "**Question 12:** Write a Python program to demonstrate comparison operators: equal to, not equal to, greater than, less than."
      ],
      "metadata": {
        "id": "fxYvWZwTRhiu"
      }
    },
    {
      "cell_type": "code",
      "source": [
        "a =int(input(\"Enter the Value: \"))\n",
        "b =int(input(\"Enter the Value: \"))\n",
        "\n",
        "print(f\"{a} == {b}: {a == b}\")\n",
        "print(f\"{a} != {b}: {a != b}\")\n",
        "print(f\"{a} > {b}: {a > b}\")\n",
        "print(f\"{a} < {b}: {a < b}\")"
      ],
      "metadata": {
        "colab": {
          "base_uri": "https://localhost:8080/"
        },
        "id": "jFetVJGbRfpO",
        "outputId": "1f859b3c-2fb4-40c8-ccd1-5169af00401e"
      },
      "execution_count": null,
      "outputs": [
        {
          "output_type": "stream",
          "name": "stdout",
          "text": [
            "Enter the Value: 10\n",
            "Enter the Value: 5\n",
            "10 == 5: False\n",
            "10 != 5: True\n",
            "10 > 5: True\n",
            "10 < 5: False\n"
          ]
        }
      ]
    },
    {
      "cell_type": "markdown",
      "source": [
        "**Question 13:** Write a Python program to demonstrate logical operators: and, or, not."
      ],
      "metadata": {
        "id": "XJo_XFymRzZ1"
      }
    },
    {
      "cell_type": "code",
      "source": [
        "a = True\n",
        "b = False\n",
        "\n",
        "print(f\"True and False: {a and b}\")\n",
        "print(f\"True or False: {a or b}\")\n",
        "print(f\"not True: {not a}\")"
      ],
      "metadata": {
        "colab": {
          "base_uri": "https://localhost:8080/"
        },
        "id": "luftS1tcRkrz",
        "outputId": "d31a51e0-97c9-43bf-ab21-38a429e34267"
      },
      "execution_count": null,
      "outputs": [
        {
          "output_type": "stream",
          "name": "stdout",
          "text": [
            "True and False: False\n",
            "True or False: True\n",
            "not True: False\n"
          ]
        }
      ]
    },
    {
      "cell_type": "markdown",
      "source": [
        "**Question 14:** Write a Python program to calculate the square of a number."
      ],
      "metadata": {
        "id": "isO8wCW-R3VJ"
      }
    },
    {
      "cell_type": "code",
      "source": [
        "num = float(input(\"Enter a number: \"))\n",
        "square = num ** 2\n",
        "print(f\"The square of {num} is {square}\")"
      ],
      "metadata": {
        "colab": {
          "base_uri": "https://localhost:8080/"
        },
        "id": "OaJTb6lyR2Sc",
        "outputId": "8d69debd-b158-476a-c628-e8f2e5c3c977"
      },
      "execution_count": null,
      "outputs": [
        {
          "output_type": "stream",
          "name": "stdout",
          "text": [
            "Enter a number: 100\n",
            "The square of 100.0 is 10000.0\n"
          ]
        }
      ]
    },
    {
      "cell_type": "code",
      "source": [
        "num = float(input(\"Enter a number: \"))\n",
        "square = num ** 2\n",
        "print(f\"The square of {num} is {square}\")"
      ],
      "metadata": {
        "colab": {
          "base_uri": "https://localhost:8080/"
        },
        "id": "Ca67s7GAR6IH",
        "outputId": "9ffa02db-24df-479e-cf25-6cfd8381ea96"
      },
      "execution_count": null,
      "outputs": [
        {
          "output_type": "stream",
          "name": "stdout",
          "text": [
            "Enter a number: 25\n",
            "The square of 25.0 is 625.0\n"
          ]
        }
      ]
    },
    {
      "cell_type": "markdown",
      "source": [
        "**Question 15:** Write a Python program to check if a number is even or odd."
      ],
      "metadata": {
        "id": "RCfR86rzR-st"
      }
    },
    {
      "cell_type": "code",
      "source": [
        "num = int(input(\"Enter a number: \"))\n",
        "if num % 2 == 0:\n",
        "    print(f\"{num} is even.\")\n",
        "else:\n",
        "    print(f\"{num} is odd.\")"
      ],
      "metadata": {
        "colab": {
          "base_uri": "https://localhost:8080/"
        },
        "id": "UevytlJ2R8fb",
        "outputId": "544d23eb-1596-4744-bc87-08d6bfb5d9ca"
      },
      "execution_count": null,
      "outputs": [
        {
          "output_type": "stream",
          "name": "stdout",
          "text": [
            "Enter a number: 14\n",
            "14 is even.\n"
          ]
        }
      ]
    },
    {
      "cell_type": "code",
      "source": [
        "num = int(input(\"Enter a number: \"))\n",
        "if num % 2 == 0:\n",
        "    print(f\"{num} is even.\")\n",
        "else:\n",
        "    print(f\"{num} is odd.\")"
      ],
      "metadata": {
        "colab": {
          "base_uri": "https://localhost:8080/"
        },
        "id": "AgRVJF6nSBT-",
        "outputId": "fc1d7526-c6e5-4820-891f-c0127ad7f4cd"
      },
      "execution_count": null,
      "outputs": [
        {
          "output_type": "stream",
          "name": "stdout",
          "text": [
            "Enter a number: 27\n",
            "27 is odd.\n"
          ]
        }
      ]
    },
    {
      "cell_type": "markdown",
      "source": [
        "**Question 16:** Write a Python program to find the sum of the first n natural numbers."
      ],
      "metadata": {
        "id": "ovg0FSW8SEm7"
      }
    },
    {
      "cell_type": "code",
      "source": [
        "n = int(input(\"Enter a number: \"))\n",
        "sum_n = (n * (n + 1)) // 2\n",
        "print(f\"The sum of the first {n} natural numbers is {sum_n}\")"
      ],
      "metadata": {
        "colab": {
          "base_uri": "https://localhost:8080/"
        },
        "id": "-8Ir3hiMSDK0",
        "outputId": "734687de-6ce2-4092-fc2d-89734aed0159"
      },
      "execution_count": null,
      "outputs": [
        {
          "output_type": "stream",
          "name": "stdout",
          "text": [
            "Enter a number: 5\n",
            "The sum of the first 5 natural numbers is 15\n"
          ]
        }
      ]
    },
    {
      "cell_type": "code",
      "source": [
        "n = int(input(\"Enter a number: \"))\n",
        "sum_n = (n * (n + 1)) // 2\n",
        "print(f\"The sum of the first {n} natural numbers is {sum_n}\")"
      ],
      "metadata": {
        "colab": {
          "base_uri": "https://localhost:8080/"
        },
        "id": "Rj6PxQ0_SIu3",
        "outputId": "d1bcc47e-9ea4-45f7-cd2a-c8b315a7c1d9"
      },
      "execution_count": null,
      "outputs": [
        {
          "output_type": "stream",
          "name": "stdout",
          "text": [
            "Enter a number: 11\n",
            "The sum of the first 11 natural numbers is 66\n"
          ]
        }
      ]
    },
    {
      "cell_type": "markdown",
      "source": [
        "**Question 17:** Write a Python program to check if a year is a leap year."
      ],
      "metadata": {
        "id": "gh3x4cDrSOSO"
      }
    },
    {
      "cell_type": "code",
      "source": [
        "year = int(input(\"Enter a year: \"))\n",
        "if (year % 4 == 0 and year % 100 != 0) or (year % 400 == 0):\n",
        "    print(f\"{year} is a leap year.\")\n",
        "else:\n",
        "    print(f\"{year} is not a leap year.\")"
      ],
      "metadata": {
        "colab": {
          "base_uri": "https://localhost:8080/"
        },
        "id": "qS21nWqfSMR8",
        "outputId": "13eece50-e86c-47f8-8f1d-2ac78e6c49da"
      },
      "execution_count": null,
      "outputs": [
        {
          "output_type": "stream",
          "name": "stdout",
          "text": [
            "Enter a year: 4012\n",
            "4012 is a leap year.\n"
          ]
        }
      ]
    },
    {
      "cell_type": "code",
      "source": [
        "year = int(input(\"Enter a year: \"))\n",
        "if (year % 4 == 0 and year % 100 != 0) or (year % 400 == 0):\n",
        "    print(f\"{year} is a leap year.\")\n",
        "else:\n",
        "    print(f\"{year} is not a leap year.\")"
      ],
      "metadata": {
        "colab": {
          "base_uri": "https://localhost:8080/"
        },
        "id": "Ve8jJJYRSQ6L",
        "outputId": "fcd389d6-47cd-4faa-ed6b-cb0dab2cfdd9"
      },
      "execution_count": null,
      "outputs": [
        {
          "output_type": "stream",
          "name": "stdout",
          "text": [
            "Enter a year: 2023\n",
            "2023 is not a leap year.\n"
          ]
        }
      ]
    },
    {
      "cell_type": "markdown",
      "source": [
        "**Question 18:** Write a Python program to reverse a string."
      ],
      "metadata": {
        "id": "PS6tCr6NSZ0d"
      }
    },
    {
      "cell_type": "code",
      "source": [
        "string = input(\"Enter a string: \")\n",
        "reversed_string = string[::-1]\n",
        "print(f\"The reversed string is: {reversed_string}\")"
      ],
      "metadata": {
        "colab": {
          "base_uri": "https://localhost:8080/"
        },
        "id": "cRSQ2CyoSU1v",
        "outputId": "e697e339-4615-49f8-facd-39deee2833fa"
      },
      "execution_count": null,
      "outputs": [
        {
          "output_type": "stream",
          "name": "stdout",
          "text": [
            "Enter a string: sanad singh\n",
            "The reversed string is: hgnis danas\n"
          ]
        }
      ]
    },
    {
      "cell_type": "markdown",
      "source": [
        "**Question 19:** Write a Python program to check if a string is a palindrome."
      ],
      "metadata": {
        "id": "ipkW-J3uSgIe"
      }
    },
    {
      "cell_type": "code",
      "source": [
        "string = input(\"Enter a string: \")\n",
        "if string == string[::-1]:\n",
        "    print(f\"{string} is a palindrome.\")\n",
        "else:\n",
        "    print(f\"{string} is not a palindrome.\")"
      ],
      "metadata": {
        "colab": {
          "base_uri": "https://localhost:8080/"
        },
        "id": "8K0vB-NjScgj",
        "outputId": "d18de527-900c-4323-fff4-144ffe93fe97"
      },
      "execution_count": null,
      "outputs": [
        {
          "output_type": "stream",
          "name": "stdout",
          "text": [
            "Enter a string: samas\n",
            "samas is a palindrome.\n"
          ]
        }
      ]
    },
    {
      "cell_type": "code",
      "source": [
        "string = input(\"Enter a string: \")\n",
        "if string == string[::-1]:\n",
        "    print(f\"{string} is a palindrome.\")\n",
        "else:\n",
        "    print(f\"{string} is not a palindrome.\")"
      ],
      "metadata": {
        "colab": {
          "base_uri": "https://localhost:8080/"
        },
        "id": "savGhiqiSif-",
        "outputId": "37d830c7-6bfd-4a1d-a709-b1123cf3d3c2"
      },
      "execution_count": null,
      "outputs": [
        {
          "output_type": "stream",
          "name": "stdout",
          "text": [
            "Enter a string: sanad\n",
            "sanad is not a palindrome.\n"
          ]
        }
      ]
    },
    {
      "cell_type": "markdown",
      "source": [
        "**Question 20:** Write a Python program to sort a list of numbers in ascending order."
      ],
      "metadata": {
        "id": "i_KLyUZuSoAI"
      }
    },
    {
      "cell_type": "code",
      "source": [
        "numbers = [int(x) for x in input(\"Enter numbers separated by space: \").split()]\n",
        "numbers.sort()\n",
        "print(f\"Sorted list: {numbers}\")"
      ],
      "metadata": {
        "colab": {
          "base_uri": "https://localhost:8080/"
        },
        "id": "rsUEIuvvSlTQ",
        "outputId": "b5b501cf-41b2-48ae-c496-4970b896a3c3"
      },
      "execution_count": null,
      "outputs": [
        {
          "output_type": "stream",
          "name": "stdout",
          "text": [
            "Enter numbers separated by space: 1 2 3 4 5 6 7 8 9 10 9 8 7 6 5 4 3 2 1\n",
            "Sorted list: [1, 1, 2, 2, 3, 3, 4, 4, 5, 5, 6, 6, 7, 7, 8, 8, 9, 9, 10]\n"
          ]
        }
      ]
    },
    {
      "cell_type": "markdown",
      "source": [
        "###**Conditional Statements**\n",
        "\n",
        "### Question 21: Simple if Statement\n",
        "\n",
        "Write a program that asks the user to input a number and prints whether the number is positive."
      ],
      "metadata": {
        "id": "yM0rB-6NTBxk"
      }
    },
    {
      "cell_type": "code",
      "source": [
        "number = float(input(\"Enter a number: \"))\n",
        "if number > 0:\n",
        "    print(\"The number is positive.\")"
      ],
      "metadata": {
        "colab": {
          "base_uri": "https://localhost:8080/"
        },
        "id": "iYIrhawRSrYx",
        "outputId": "68f9e59a-8bf0-4094-bdc6-9071d3a46cd3"
      },
      "execution_count": null,
      "outputs": [
        {
          "output_type": "stream",
          "name": "stdout",
          "text": [
            "Enter a number: 2\n",
            "The number is positive.\n"
          ]
        }
      ]
    },
    {
      "cell_type": "code",
      "source": [
        "number = float(input(\"Enter a number: \"))\n",
        "if number > 0:\n",
        "    print(\"The number is positive.\")"
      ],
      "metadata": {
        "colab": {
          "base_uri": "https://localhost:8080/"
        },
        "id": "TvR0QjoMTQFd",
        "outputId": "726f9722-36af-4b96-a4d9-772d83e57096"
      },
      "execution_count": null,
      "outputs": [
        {
          "output_type": "stream",
          "name": "stdout",
          "text": [
            "Enter a number: 3.2\n",
            "The number is positive.\n"
          ]
        }
      ]
    },
    {
      "cell_type": "code",
      "source": [
        "number = float(input(\"Enter a number: \"))\n",
        "if number > 0:\n",
        "    print(\"The number is positive.\")"
      ],
      "metadata": {
        "colab": {
          "base_uri": "https://localhost:8080/"
        },
        "id": "OMa2X8vKTUng",
        "outputId": "bed0dcad-98dd-40cb-ecff-83ff36fdb3c5"
      },
      "execution_count": null,
      "outputs": [
        {
          "name": "stdout",
          "output_type": "stream",
          "text": [
            "Enter a number: -2\n"
          ]
        }
      ]
    },
    {
      "cell_type": "markdown",
      "source": [
        "### Question 22: if-else Statement\n",
        "\n",
        "Write a program that asks the user to input a number and prints whether the number is positive or negative."
      ],
      "metadata": {
        "id": "UzBUAk8cTfo2"
      }
    },
    {
      "cell_type": "code",
      "source": [
        "number = float(input(\"Enter a number: \"))\n",
        "if number > 0:\n",
        "    print(\"The number is positive.\")\n",
        "else:\n",
        "    print(\"The number is negative.\")"
      ],
      "metadata": {
        "colab": {
          "base_uri": "https://localhost:8080/"
        },
        "id": "bS2lsrTlTcxR",
        "outputId": "7689b5d0-aa98-461e-cf70-ba0bbf0d4c97"
      },
      "execution_count": null,
      "outputs": [
        {
          "output_type": "stream",
          "name": "stdout",
          "text": [
            "Enter a number: 3\n",
            "The number is positive.\n"
          ]
        }
      ]
    },
    {
      "cell_type": "code",
      "source": [
        "number = float(input(\"Enter a number: \"))\n",
        "if number > 0:\n",
        "    print(\"The number is positive.\")\n",
        "else:\n",
        "    print(\"The number is negative.\")"
      ],
      "metadata": {
        "colab": {
          "base_uri": "https://localhost:8080/"
        },
        "id": "oXm6tYa0ToKU",
        "outputId": "7f75746f-1d13-4ca6-8799-f25b671a91dd"
      },
      "execution_count": null,
      "outputs": [
        {
          "output_type": "stream",
          "name": "stdout",
          "text": [
            "Enter a number: -2\n",
            "The number is negative.\n"
          ]
        }
      ]
    },
    {
      "cell_type": "markdown",
      "source": [
        "### Question 23: if-elif-else Statement\n",
        "\n",
        "Write a program that asks the user to input a number and prints whether the number is positive, negative, or zero."
      ],
      "metadata": {
        "id": "9NjGOixmTr8e"
      }
    },
    {
      "cell_type": "code",
      "source": [
        "number = float(input(\"Enter a number: \"))\n",
        "if number > 0:\n",
        "    print(\"The number is positive.\")\n",
        "elif number < 0:\n",
        "    print(\"The number is negative.\")\n",
        "else:\n",
        "    print(\"The number is zero.\")"
      ],
      "metadata": {
        "colab": {
          "base_uri": "https://localhost:8080/"
        },
        "id": "M6SY3TP-TpmS",
        "outputId": "3803aed9-fc9c-48ef-c0f0-19c677b6506b"
      },
      "execution_count": null,
      "outputs": [
        {
          "output_type": "stream",
          "name": "stdout",
          "text": [
            "Enter a number: 0\n",
            "The number is zero.\n"
          ]
        }
      ]
    },
    {
      "cell_type": "markdown",
      "source": [
        "### Question 24: Nested if Statement\n",
        "\n",
        "Write a program that asks the user to input a number and prints whether the number is positive and even, positive and odd, or negative."
      ],
      "metadata": {
        "id": "uLtOwxxjT1cA"
      }
    },
    {
      "cell_type": "code",
      "source": [
        "number = float(input(\"Enter a number: \"))\n",
        "if number > 0:\n",
        "    if number % 2 == 0:\n",
        "        print(\"The number is positive and even.\")\n",
        "    else:\n",
        "        print(\"The number is positive and odd.\")\n",
        "else:\n",
        "    print(\"The number is negative.\")"
      ],
      "metadata": {
        "colab": {
          "base_uri": "https://localhost:8080/"
        },
        "id": "0D2wu3B3TxiB",
        "outputId": "256b2c74-9689-4a8c-e99a-28cc67c176cb"
      },
      "execution_count": null,
      "outputs": [
        {
          "output_type": "stream",
          "name": "stdout",
          "text": [
            "Enter a number: 5\n",
            "The number is positive and odd.\n"
          ]
        }
      ]
    },
    {
      "cell_type": "markdown",
      "source": [
        "\n",
        "### Question 25: for Loop\n",
        "\n",
        "Write a program that prints all the numbers from 1 to 10 using a for loop."
      ],
      "metadata": {
        "id": "2gZDEUWtT_HV"
      }
    },
    {
      "cell_type": "code",
      "source": [
        "for i in range(1, 11):\n",
        "    print(i)"
      ],
      "metadata": {
        "colab": {
          "base_uri": "https://localhost:8080/"
        },
        "id": "BJSCnXDXT5vw",
        "outputId": "a4e9aae4-cfbe-496c-d403-9c3dd2be3265"
      },
      "execution_count": null,
      "outputs": [
        {
          "output_type": "stream",
          "name": "stdout",
          "text": [
            "1\n",
            "2\n",
            "3\n",
            "4\n",
            "5\n",
            "6\n",
            "7\n",
            "8\n",
            "9\n",
            "10\n"
          ]
        }
      ]
    },
    {
      "cell_type": "markdown",
      "source": [
        "### Question 26: while Loop\n",
        "\n",
        "Write a program that prints all the numbers from 1 to 10 using a while loop."
      ],
      "metadata": {
        "id": "DhJ7uJ2AUVt-"
      }
    },
    {
      "cell_type": "code",
      "source": [
        "i = 1\n",
        "while i <= 10:\n",
        "    print(i)\n",
        "    i += 1"
      ],
      "metadata": {
        "colab": {
          "base_uri": "https://localhost:8080/"
        },
        "id": "8wNiBr1-USS6",
        "outputId": "3684c639-6250-4a8e-dda0-3bb63d77e8eb"
      },
      "execution_count": null,
      "outputs": [
        {
          "output_type": "stream",
          "name": "stdout",
          "text": [
            "1\n",
            "2\n",
            "3\n",
            "4\n",
            "5\n",
            "6\n",
            "7\n",
            "8\n",
            "9\n",
            "10\n"
          ]
        }
      ]
    },
    {
      "cell_type": "markdown",
      "source": [
        "### Question 27: Nested Loops\n",
        "\n",
        "Write a program that prints a 5x5 grid of asterisks (*) using nested loops."
      ],
      "metadata": {
        "id": "n6HZGt94Ub9x"
      }
    },
    {
      "cell_type": "code",
      "source": [
        "for i in range(5):\n",
        "    for j in range(5):\n",
        "        print(\"*\", end=\" \")\n",
        "    print()"
      ],
      "metadata": {
        "colab": {
          "base_uri": "https://localhost:8080/"
        },
        "id": "urWGe4l0UZ2R",
        "outputId": "4f5d3afc-dce5-4242-a83a-1d35afc7e6a8"
      },
      "execution_count": null,
      "outputs": [
        {
          "output_type": "stream",
          "name": "stdout",
          "text": [
            "* * * * * \n",
            "* * * * * \n",
            "* * * * * \n",
            "* * * * * \n",
            "* * * * * \n"
          ]
        }
      ]
    },
    {
      "cell_type": "markdown",
      "source": [
        "### Question 28: break Statement\n",
        "\n",
        "Write a program that asks the user to input numbers until they input 0. The program should print the sum of all the input numbers."
      ],
      "metadata": {
        "id": "8rQICarqUlda"
      }
    },
    {
      "cell_type": "code",
      "source": [
        "total = 0\n",
        "while True:\n",
        "    number = float(input(\"Enter a number (0 to stop): \"))\n",
        "    if number == 0:\n",
        "        break\n",
        "    total += number\n",
        "print(f\"The sum of all the numbers is {total}.\")"
      ],
      "metadata": {
        "colab": {
          "base_uri": "https://localhost:8080/"
        },
        "id": "V4-p4mfrUjbX",
        "outputId": "47bf6304-3923-40e5-9d1a-5cfc85ae0826"
      },
      "execution_count": null,
      "outputs": [
        {
          "output_type": "stream",
          "name": "stdout",
          "text": [
            "Enter a number (0 to stop): 2\n",
            "Enter a number (0 to stop): 9\n",
            "Enter a number (0 to stop): 4\n",
            "Enter a number (0 to stop): 3\n",
            "Enter a number (0 to stop): 0\n",
            "The sum of all the numbers is 18.0.\n"
          ]
        }
      ]
    },
    {
      "cell_type": "markdown",
      "source": [
        "### Question 29: continue Statement\n",
        "\n",
        "Write a program that prints all the numbers from 1 to 10 except 5 using a for loop and continue statement."
      ],
      "metadata": {
        "id": "ZqT6RYL1VA82"
      }
    },
    {
      "cell_type": "code",
      "source": [
        "for i in range(1, 11):\n",
        "    if i == 5:\n",
        "        continue\n",
        "    print(i)"
      ],
      "metadata": {
        "colab": {
          "base_uri": "https://localhost:8080/"
        },
        "id": "vOF_af5-Ux9g",
        "outputId": "9b68053f-509f-41a3-f24d-15ccfd5c347d"
      },
      "execution_count": null,
      "outputs": [
        {
          "output_type": "stream",
          "name": "stdout",
          "text": [
            "1\n",
            "2\n",
            "3\n",
            "4\n",
            "6\n",
            "7\n",
            "8\n",
            "9\n",
            "10\n"
          ]
        }
      ]
    },
    {
      "cell_type": "markdown",
      "source": [
        "### Question 30: pass Statement\n",
        "\n",
        "Write a program that defines an empty function using the pass statement."
      ],
      "metadata": {
        "id": "Na977HZ9VzQL"
      }
    },
    {
      "cell_type": "code",
      "source": [
        "def empty_function():\n",
        "    pass\n",
        "\n",
        "# Calling the empty function\n",
        "empty_function()"
      ],
      "metadata": {
        "id": "c3R4YH17Vxtp"
      },
      "execution_count": null,
      "outputs": []
    },
    {
      "cell_type": "markdown",
      "source": [
        "### Question 31: Combining Loops and Conditionals\n",
        "\n",
        "Write a program that asks the user to input a number and prints all the even numbers from 1 to that number using a for loop."
      ],
      "metadata": {
        "id": "8qSMP95uV6Px"
      }
    },
    {
      "cell_type": "code",
      "source": [
        "number = int(input(\"Enter a number: \"))\n",
        "for i in range(1, number + 1):\n",
        "    if i % 2 == 0:\n",
        "        print(i)"
      ],
      "metadata": {
        "colab": {
          "base_uri": "https://localhost:8080/"
        },
        "id": "LeW0fOlDV4ba",
        "outputId": "6863e6bc-3d45-471c-c7ed-7f094d0b0034"
      },
      "execution_count": null,
      "outputs": [
        {
          "output_type": "stream",
          "name": "stdout",
          "text": [
            "Enter a number: 6\n",
            "2\n",
            "4\n",
            "6\n"
          ]
        }
      ]
    },
    {
      "cell_type": "code",
      "source": [
        "number = int(input(\"Enter a number: \"))\n",
        "for i in range(1, number + 1):\n",
        "    if i % 2 == 0:\n",
        "        print(i)"
      ],
      "metadata": {
        "colab": {
          "base_uri": "https://localhost:8080/"
        },
        "id": "4ASVeFFrWGX6",
        "outputId": "89827adb-7c8f-41a3-c93c-1886b8a08e3f"
      },
      "execution_count": null,
      "outputs": [
        {
          "output_type": "stream",
          "name": "stdout",
          "text": [
            "Enter a number: 16\n",
            "2\n",
            "4\n",
            "6\n",
            "8\n",
            "10\n",
            "12\n",
            "14\n",
            "16\n"
          ]
        }
      ]
    },
    {
      "cell_type": "markdown",
      "source": [
        "### Question 32: Factorial Calculation\n",
        "\n",
        "Write a program that calculates the factorial of a number input by the user using a while loop."
      ],
      "metadata": {
        "id": "jn3xRi22WLPO"
      }
    },
    {
      "cell_type": "code",
      "source": [
        "number = int(input(\"Enter a number: \"))\n",
        "factorial = 1\n",
        "i = 1\n",
        "while i <= number:\n",
        "    factorial *= i\n",
        "    i += 1\n",
        "print(f\"The factorial of {number} is {factorial}.\")"
      ],
      "metadata": {
        "colab": {
          "base_uri": "https://localhost:8080/"
        },
        "id": "U_TFehJrWJuf",
        "outputId": "2cc597f4-f165-45cb-9315-6c055071753c"
      },
      "execution_count": null,
      "outputs": [
        {
          "output_type": "stream",
          "name": "stdout",
          "text": [
            "Enter a number: 6\n",
            "The factorial of 6 is 720.\n"
          ]
        }
      ]
    },
    {
      "cell_type": "markdown",
      "source": [
        "### Question 33: Sum of Digits\n",
        "\n",
        "Write a program that calculates the sum of the digits of a number input by the user using a while loop."
      ],
      "metadata": {
        "id": "9nBVzVU5WYru"
      }
    },
    {
      "cell_type": "code",
      "source": [
        "number = int(input(\"Enter a number: \"))\n",
        "sum_of_digits = 0\n",
        "while number > 0:\n",
        "    digit = number % 10\n",
        "    sum_of_digits += digit\n",
        "    number = number // 10\n",
        "print(f\"The sum of the digits is {sum_of_digits}.\")"
      ],
      "metadata": {
        "colab": {
          "base_uri": "https://localhost:8080/"
        },
        "id": "gKYlhonfWQJc",
        "outputId": "c1ce6a9e-cabb-4954-ff4e-329d94839294"
      },
      "execution_count": null,
      "outputs": [
        {
          "output_type": "stream",
          "name": "stdout",
          "text": [
            "Enter a number: 6\n",
            "The sum of the digits is 6.\n"
          ]
        }
      ]
    },
    {
      "cell_type": "code",
      "source": [
        "number = int(input(\"Enter a number: \"))\n",
        "sum_of_digits = 0\n",
        "while number > 0:\n",
        "    digit = number % 10\n",
        "    sum_of_digits += digit\n",
        "    number = number // 10\n",
        "print(f\"The sum of the digits is {sum_of_digits}.\")"
      ],
      "metadata": {
        "colab": {
          "base_uri": "https://localhost:8080/"
        },
        "id": "o7iGrPu7WghX",
        "outputId": "d0a44e39-9e75-4dcc-a7e6-bfc711eabdc0"
      },
      "execution_count": null,
      "outputs": [
        {
          "output_type": "stream",
          "name": "stdout",
          "text": [
            "Enter a number: 9\n",
            "The sum of the digits is 9.\n"
          ]
        }
      ]
    },
    {
      "cell_type": "markdown",
      "source": [
        "### Question 34: Prime Number Check\n",
        "\n",
        "Write a program that checks if a number input by the user is a prime number using a for loop."
      ],
      "metadata": {
        "id": "T-sRxRVzWuHI"
      }
    },
    {
      "cell_type": "code",
      "source": [
        "number = int(input(\"Enter a number: \"))\n",
        "is_prime = True\n",
        "if number <= 1:\n",
        "    is_prime = False\n",
        "else:\n",
        "    for i in range(2, int(number ** 0.5) + 1):\n",
        "        if number % i == 0:\n",
        "            is_prime = False\n",
        "            break\n",
        "if is_prime:\n",
        "    print(f\"{number} is a prime number.\")\n",
        "else:\n",
        "    print(f\"{number} is not a prime number.\")"
      ],
      "metadata": {
        "colab": {
          "base_uri": "https://localhost:8080/"
        },
        "id": "YH2rKG0PWqiA",
        "outputId": "b85dda13-6bf9-4a7e-c626-438ff55df9de"
      },
      "execution_count": null,
      "outputs": [
        {
          "output_type": "stream",
          "name": "stdout",
          "text": [
            "Enter a number: 23\n",
            "23 is a prime number.\n"
          ]
        }
      ]
    },
    {
      "cell_type": "code",
      "source": [
        "number = int(input(\"Enter a number: \"))\n",
        "is_prime = True\n",
        "if number <= 1:\n",
        "    is_prime = False\n",
        "else:\n",
        "    for i in range(2, int(number ** 0.5) + 1):\n",
        "        if number % i == 0:\n",
        "            is_prime = False\n",
        "            break\n",
        "if is_prime:\n",
        "    print(f\"{number} is a prime number.\")\n",
        "else:\n",
        "    print(f\"{number} is not a prime number.\")"
      ],
      "metadata": {
        "colab": {
          "base_uri": "https://localhost:8080/"
        },
        "id": "wKX-etN-Wzp4",
        "outputId": "86c968c2-8857-4f40-d2e2-b63d0215834c"
      },
      "execution_count": null,
      "outputs": [
        {
          "output_type": "stream",
          "name": "stdout",
          "text": [
            "Enter a number: 24\n",
            "24 is not a prime number.\n"
          ]
        }
      ]
    },
    {
      "cell_type": "markdown",
      "source": [
        "### Question 35: Fibonacci Sequence\n",
        "\n",
        "Write a program that prints the first n Fibonacci numbers, where n is input by the user."
      ],
      "metadata": {
        "id": "Gu_FXp0LW5L7"
      }
    },
    {
      "cell_type": "code",
      "source": [
        "n = int(input(\"Enter the number of Fibonacci numbers to print: \"))\n",
        "a, b = 0, 1\n",
        "count = 0\n",
        "while count < n:\n",
        "    print(a)\n",
        "    a, b = b, a + b\n",
        "    count += 1"
      ],
      "metadata": {
        "colab": {
          "base_uri": "https://localhost:8080/"
        },
        "id": "Ix7UWkYKW26T",
        "outputId": "92f1bcd1-63f0-4b9f-af5c-16761c4c015e"
      },
      "execution_count": null,
      "outputs": [
        {
          "output_type": "stream",
          "name": "stdout",
          "text": [
            "Enter the number of Fibonacci numbers to print: 9\n",
            "0\n",
            "1\n",
            "1\n",
            "2\n",
            "3\n",
            "5\n",
            "8\n",
            "13\n",
            "21\n"
          ]
        }
      ]
    },
    {
      "cell_type": "markdown",
      "source": [
        "## **Data Structures Assignments**\n",
        "**Lists**\n",
        "### Question 36: Creating and Accessing Lists\n",
        "\n",
        "Create a list of the first 20 positive integers. Print the list."
      ],
      "metadata": {
        "id": "ZG4GpxZIYZ8f"
      }
    },
    {
      "cell_type": "code",
      "source": [
        "lst = list(range(1, 21))\n",
        "print(lst)"
      ],
      "metadata": {
        "colab": {
          "base_uri": "https://localhost:8080/"
        },
        "id": "-IPc00TRXBxe",
        "outputId": "dd10d306-06f9-4a1f-fb04-0709e3a77a94"
      },
      "execution_count": null,
      "outputs": [
        {
          "output_type": "stream",
          "name": "stdout",
          "text": [
            "[1, 2, 3, 4, 5, 6, 7, 8, 9, 10, 11, 12, 13, 14, 15, 16, 17, 18, 19, 20]\n"
          ]
        }
      ]
    },
    {
      "cell_type": "markdown",
      "source": [
        "### Question 37: Accessing List Elements\n",
        "\n",
        "Print the first, middle, and last elements of the list created in Question 36."
      ],
      "metadata": {
        "id": "6HrazxfGY3Dv"
      }
    },
    {
      "cell_type": "code",
      "source": [
        "print(f\"First element: {lst[0]}\")\n",
        "print(f\"Middle element: {lst[len(lst) // 2]}\")\n",
        "print(f\"Last element: {lst[-1]}\")"
      ],
      "metadata": {
        "colab": {
          "base_uri": "https://localhost:8080/"
        },
        "id": "CNt7btCAYobp",
        "outputId": "92bbef79-2a40-4a4d-f88c-ac73f0edf7a7"
      },
      "execution_count": null,
      "outputs": [
        {
          "output_type": "stream",
          "name": "stdout",
          "text": [
            "First element: 1\n",
            "Middle element: 11\n",
            "Last element: 20\n"
          ]
        }
      ]
    },
    {
      "cell_type": "markdown",
      "source": [
        "### Question 38: List Slicing\n",
        "\n",
        "Print the first five elements, the last five elements, and the elements from index 5 to 15 of the list created in Question 36."
      ],
      "metadata": {
        "id": "nT0yB41UZC34"
      }
    },
    {
      "cell_type": "code",
      "source": [
        "print(f\"First five elements: {lst[:5]}\")\n",
        "print(f\"Last five elements: {lst[-5:]}\")\n",
        "print(f\"Elements from index 5 to 15: {lst[5:16]}\")"
      ],
      "metadata": {
        "colab": {
          "base_uri": "https://localhost:8080/"
        },
        "id": "s-kVHIzNZA88",
        "outputId": "5444cc6c-68e9-4dfc-9c46-be127ae44e25"
      },
      "execution_count": null,
      "outputs": [
        {
          "output_type": "stream",
          "name": "stdout",
          "text": [
            "First five elements: [1, 2, 3, 4, 5]\n",
            "Last five elements: [16, 17, 18, 19, 20]\n",
            "Elements from index 5 to 15: [6, 7, 8, 9, 10, 11, 12, 13, 14, 15, 16]\n"
          ]
        }
      ]
    },
    {
      "cell_type": "markdown",
      "source": [
        "### Question 39: List Comprehensions\n",
        "\n",
        "Create a new list containing the squares of the first 10 positive integers using a list comprehension. Print the new list."
      ],
      "metadata": {
        "id": "nYYBFzdrZNaj"
      }
    },
    {
      "cell_type": "code",
      "source": [
        "squares = [x**2 for x in range(1, 11)]\n",
        "print(squares)"
      ],
      "metadata": {
        "colab": {
          "base_uri": "https://localhost:8080/"
        },
        "id": "m6VE7N78ZLaQ",
        "outputId": "05505b50-deaa-49c0-d2e7-a7f24be55bcb"
      },
      "execution_count": null,
      "outputs": [
        {
          "output_type": "stream",
          "name": "stdout",
          "text": [
            "[1, 4, 9, 16, 25, 36, 49, 64, 81, 100]\n"
          ]
        }
      ]
    },
    {
      "cell_type": "markdown",
      "source": [
        "### Question 40: Filtering Lists\n",
        "\n",
        "Create a new list containing only the even numbers from the list created in Question 36 using a list comprehension. Print the new list."
      ],
      "metadata": {
        "id": "JKGikBiFZT7-"
      }
    },
    {
      "cell_type": "code",
      "source": [
        "evens = [x for x in lst if x % 2 == 0]\n",
        "print(evens)"
      ],
      "metadata": {
        "colab": {
          "base_uri": "https://localhost:8080/"
        },
        "id": "9cEMPVumZS6v",
        "outputId": "10a85da4-551b-4e0d-b55f-d85af6779811"
      },
      "execution_count": null,
      "outputs": [
        {
          "output_type": "stream",
          "name": "stdout",
          "text": [
            "[2, 4, 6, 8, 10, 12, 14, 16, 18, 20]\n"
          ]
        }
      ]
    },
    {
      "cell_type": "markdown",
      "source": [
        "### Question 41: List Methods\n",
        "\n",
        "Create a list of random numbers and sort it in ascending and descending order. Remove the duplicates from the list and print the modified list."
      ],
      "metadata": {
        "id": "uPBW-mTKZhdK"
      }
    },
    {
      "cell_type": "code",
      "source": [
        "import random\n",
        "\n",
        "random_numbers = [random.randint(1, 20) for _ in range(15)]\n",
        "print(f\"Original list: {random_numbers}\")\n",
        "\n",
        "sorted_numbers = sorted(random_numbers)\n",
        "print(f\"Sorted in ascending order: {sorted_numbers}\")\n",
        "\n",
        "sorted_numbers_desc = sorted(random_numbers, reverse=True)\n",
        "print(f\"Sorted in descending order: {sorted_numbers_desc}\")\n",
        "\n",
        "unique_numbers = list(set(random_numbers))\n",
        "print(f\"List with duplicates removed: {unique_numbers}\")"
      ],
      "metadata": {
        "colab": {
          "base_uri": "https://localhost:8080/"
        },
        "id": "NaVUUUFvZZpI",
        "outputId": "c350636a-bab9-4000-b368-27ad6f328739"
      },
      "execution_count": null,
      "outputs": [
        {
          "output_type": "stream",
          "name": "stdout",
          "text": [
            "Original list: [12, 7, 13, 18, 7, 16, 3, 7, 6, 19, 5, 18, 11, 6, 9]\n",
            "Sorted in ascending order: [3, 5, 6, 6, 7, 7, 7, 9, 11, 12, 13, 16, 18, 18, 19]\n",
            "Sorted in descending order: [19, 18, 18, 16, 13, 12, 11, 9, 7, 7, 7, 6, 6, 5, 3]\n",
            "List with duplicates removed: [3, 5, 6, 7, 9, 11, 12, 13, 16, 18, 19]\n"
          ]
        }
      ]
    },
    {
      "cell_type": "markdown",
      "source": [
        "### Question 42: Nested Lists\n",
        "\n",
        "Create a nested list representing a 3x3 matrix and print the matrix. Access and print the element at the second row and third column."
      ],
      "metadata": {
        "id": "fqdWWrD-ZpDM"
      }
    },
    {
      "cell_type": "code",
      "source": [
        "matrix = [\n",
        "    [1, 2, 3],\n",
        "    [4, 5, 6],\n",
        "    [7, 8, 9]\n",
        "]\n",
        "print(\"Matrix:\")\n",
        "for row in matrix:\n",
        "    print(row)\n",
        "print(f\"Element at second row and third column: {matrix[1][2]}\")"
      ],
      "metadata": {
        "colab": {
          "base_uri": "https://localhost:8080/"
        },
        "id": "ieTsZSTWZnj0",
        "outputId": "280dc5b1-ebf1-4330-cec4-612f89bc568f"
      },
      "execution_count": null,
      "outputs": [
        {
          "output_type": "stream",
          "name": "stdout",
          "text": [
            "Matrix:\n",
            "[1, 2, 3]\n",
            "[4, 5, 6]\n",
            "[7, 8, 9]\n",
            "Element at second row and third column: 6\n"
          ]
        }
      ]
    },
    {
      "cell_type": "markdown",
      "source": [
        "### Question 43: List of Dictionaries\n",
        "\n",
        "Create a list of dictionaries where each dictionary represents a student with keys 'name' and 'score'. Sort the list of dictionaries by the 'score' in descending order and print the sorted list."
      ],
      "metadata": {
        "id": "nWI_Ifa_ZzPK"
      }
    },
    {
      "cell_type": "code",
      "source": [
        "students = [\n",
        "    {'name': 'Sanad', 'score': 88},\n",
        "    {'name': 'Raj', 'score': 72},\n",
        "    {'name': 'Honey', 'score': 95},\n",
        "    {'name': 'David', 'score': 65},\n",
        "    {'name': 'Akash', 'score': 78}\n",
        "]\n",
        "sorted_students = sorted(students, key=lambda x: x['score'], reverse=True)\n",
        "print(\"Sorted students by score in descending order:\")\n",
        "for student in sorted_students:\n",
        "    print(student)"
      ],
      "metadata": {
        "colab": {
          "base_uri": "https://localhost:8080/"
        },
        "id": "kgSa71ztZwyf",
        "outputId": "6fe6df25-8640-42f5-e204-aebe23a73237"
      },
      "execution_count": null,
      "outputs": [
        {
          "output_type": "stream",
          "name": "stdout",
          "text": [
            "Sorted students by score in descending order:\n",
            "{'name': 'Honey', 'score': 95}\n",
            "{'name': 'Sanad', 'score': 88}\n",
            "{'name': 'Akash', 'score': 78}\n",
            "{'name': 'Raj', 'score': 72}\n",
            "{'name': 'David', 'score': 65}\n"
          ]
        }
      ]
    },
    {
      "cell_type": "markdown",
      "source": [
        "### Question 44: Matrix Transposition\n",
        "\n",
        "Write a function that takes a 3x3 matrix (nested list) as input and returns its transpose. Print the original and transposed matrices."
      ],
      "metadata": {
        "id": "gEcbTepiaG-3"
      }
    },
    {
      "cell_type": "code",
      "source": [
        "def transpose_matrix(matrix):\n",
        "    transposed = [[matrix[j][i] for j in range(len(matrix))] for i in range(len(matrix[0]))]\n",
        "    return transposed\n",
        "\n",
        "matrix = [\n",
        "    [1, 2, 3],\n",
        "    [4, 5, 6],\n",
        "    [7, 8, 9]\n",
        "]\n",
        "transposed = transpose_matrix(matrix)\n",
        "print(\"Original matrix:\")\n",
        "for row in matrix:\n",
        "    print(row)\n",
        "print(\"Transposed matrix:\")\n",
        "for row in transposed:\n",
        "    print(row)"
      ],
      "metadata": {
        "colab": {
          "base_uri": "https://localhost:8080/"
        },
        "id": "Nb4C3MhiZ_z-",
        "outputId": "16752868-b883-4011-9e17-e2cda2448a89"
      },
      "execution_count": null,
      "outputs": [
        {
          "output_type": "stream",
          "name": "stdout",
          "text": [
            "Original matrix:\n",
            "[1, 2, 3]\n",
            "[4, 5, 6]\n",
            "[7, 8, 9]\n",
            "Transposed matrix:\n",
            "[1, 4, 7]\n",
            "[2, 5, 8]\n",
            "[3, 6, 9]\n"
          ]
        }
      ]
    },
    {
      "cell_type": "markdown",
      "source": [
        "### Question 45: Flattening a Nested List\n",
        "\n",
        "Write a function that takes a nested list and flattens it into a single list. Print the original and flattened lists."
      ],
      "metadata": {
        "id": "iJNCuFw-aOCs"
      }
    },
    {
      "cell_type": "code",
      "source": [
        "def flatten_list(nested_list):\n",
        "    flat_list = [item for sublist in nested_list for item in sublist]\n",
        "    return flat_list\n",
        "\n",
        "nested_list = [\n",
        "    [1, 2, 3],\n",
        "    [4, 5, 6],\n",
        "    [7, 8, 9]\n",
        "]\n",
        "flattened = flatten_list(nested_list)\n",
        "print(\"Original nested list:\")\n",
        "print(nested_list)\n",
        "print(\"Flattened list:\")\n",
        "print(flattened)"
      ],
      "metadata": {
        "colab": {
          "base_uri": "https://localhost:8080/"
        },
        "id": "0uFWiHywaLzo",
        "outputId": "6e73a83e-d19f-407e-88ec-ce3cb6d8f5a6"
      },
      "execution_count": null,
      "outputs": [
        {
          "output_type": "stream",
          "name": "stdout",
          "text": [
            "Original nested list:\n",
            "[[1, 2, 3], [4, 5, 6], [7, 8, 9]]\n",
            "Flattened list:\n",
            "[1, 2, 3, 4, 5, 6, 7, 8, 9]\n"
          ]
        }
      ]
    },
    {
      "cell_type": "markdown",
      "source": [
        "### Question 46: List Manipulation\n",
        "\n",
        "Create a list of the first 10 positive integers. Remove the elements at indices 2, 4, and 6, and insert the element '99' at index 5. Print the modified list."
      ],
      "metadata": {
        "id": "dzT2PXKgaUfR"
      }
    },
    {
      "cell_type": "code",
      "source": [
        "lst = list(range(1, 11))\n",
        "print(f\"Original list: {lst}\")\n",
        "del lst[6]\n",
        "del lst[4]\n",
        "del lst[2]\n",
        "lst.insert(5, 99)\n",
        "print(f\"Modified list: {lst}\")"
      ],
      "metadata": {
        "colab": {
          "base_uri": "https://localhost:8080/"
        },
        "id": "ljWMiKBxaTD1",
        "outputId": "b866dbbd-2c2d-4cbf-d94c-443bf05357ef"
      },
      "execution_count": null,
      "outputs": [
        {
          "output_type": "stream",
          "name": "stdout",
          "text": [
            "Original list: [1, 2, 3, 4, 5, 6, 7, 8, 9, 10]\n",
            "Modified list: [1, 2, 4, 6, 8, 99, 9, 10]\n"
          ]
        }
      ]
    },
    {
      "cell_type": "markdown",
      "source": [
        "### Question 47: List Zipping\n",
        "\n",
        "Create two lists of the same length. Use the `zip` function to combine these lists into a list of tuples and print the result."
      ],
      "metadata": {
        "id": "NAfuX5vWafNK"
      }
    },
    {
      "cell_type": "code",
      "source": [
        "list1 = [1, 2, 3, 4, 5]\n",
        "list2 = ['a', 'b', 'c', 'd', 'e']\n",
        "zipped = list(zip(list1, list2))\n",
        "print(zipped)"
      ],
      "metadata": {
        "colab": {
          "base_uri": "https://localhost:8080/"
        },
        "id": "48ImR6JTaYkB",
        "outputId": "e876a7d5-5f13-45db-9ce9-9d04588442ed"
      },
      "execution_count": null,
      "outputs": [
        {
          "output_type": "stream",
          "name": "stdout",
          "text": [
            "[(1, 'a'), (2, 'b'), (3, 'c'), (4, 'd'), (5, 'e')]\n"
          ]
        }
      ]
    },
    {
      "cell_type": "markdown",
      "source": [
        "### Question 48: List Reversal\n",
        "\n",
        "Write a function that takes a list and returns a new list with the elements in reverse order. Print the original and reversed lists."
      ],
      "metadata": {
        "id": "moD00ttgalb3"
      }
    },
    {
      "cell_type": "code",
      "source": [
        "def reverse_list(lst):\n",
        "    return lst[::-1]\n",
        "\n",
        "original_list = [1, 2, 3, 4, 5]\n",
        "reversed_list = reverse_list(original_list)\n",
        "print(f\"Original list: {original_list}\")\n",
        "print(f\"Reversed list: {reversed_list}\")"
      ],
      "metadata": {
        "colab": {
          "base_uri": "https://localhost:8080/"
        },
        "id": "Js5zZTK4ajb_",
        "outputId": "4ae1599d-830a-49c3-d7d8-81379b9cde91"
      },
      "execution_count": null,
      "outputs": [
        {
          "output_type": "stream",
          "name": "stdout",
          "text": [
            "Original list: [1, 2, 3, 4, 5]\n",
            "Reversed list: [5, 4, 3, 2, 1]\n"
          ]
        }
      ]
    },
    {
      "cell_type": "markdown",
      "source": [
        "### Question 49: List Rotation\n",
        "\n",
        "Write a function that rotates a list by n positions. Print the original and rotated lists."
      ],
      "metadata": {
        "id": "ZZw5zet7asfH"
      }
    },
    {
      "cell_type": "code",
      "source": [
        "def rotate_list(lst, n):\n",
        "    return lst[n:] + lst[:n]\n",
        "\n",
        "original_list = [1, 2, 3, 4, 5]\n",
        "rotated_list = rotate_list(original_list, 2)\n",
        "print(f\"Original list: {original_list}\")\n",
        "print(f\"Rotated list: {rotated_list}\")"
      ],
      "metadata": {
        "colab": {
          "base_uri": "https://localhost:8080/"
        },
        "id": "OXFJYRJ3aquw",
        "outputId": "24940941-e512-4992-82b1-e3bb60486f16"
      },
      "execution_count": null,
      "outputs": [
        {
          "output_type": "stream",
          "name": "stdout",
          "text": [
            "Original list: [1, 2, 3, 4, 5]\n",
            "Rotated list: [3, 4, 5, 1, 2]\n"
          ]
        }
      ]
    },
    {
      "cell_type": "markdown",
      "source": [
        "### Question 50: List Intersection\n",
        "\n",
        "Write a function that takes two lists and returns a new list containing only the elements that are present in both lists. Print the intersected list."
      ],
      "metadata": {
        "id": "hkfb8wBhaznr"
      }
    },
    {
      "cell_type": "code",
      "source": [
        "def list_intersection(lst1, lst2):\n",
        "    return [x for x in lst1 if x in lst2]\n",
        "\n",
        "list1 = [1, 2, 3, 4, 5]\n",
        "list2 = [3, 4, 5, 6, 7]\n",
        "intersection = list_intersection(list1, list2)\n",
        "print(f\"List 1: {list1}\")\n",
        "print(f\"List 2: {list2}\")\n",
        "print(f\"Intersection: {intersection}\")"
      ],
      "metadata": {
        "colab": {
          "base_uri": "https://localhost:8080/"
        },
        "id": "bTQRVo5IawUX",
        "outputId": "3bd2e0c2-c43d-4067-da79-d4a4a0f38ea5"
      },
      "execution_count": null,
      "outputs": [
        {
          "output_type": "stream",
          "name": "stdout",
          "text": [
            "List 1: [1, 2, 3, 4, 5]\n",
            "List 2: [3, 4, 5, 6, 7]\n",
            "Intersection: [3, 4, 5]\n"
          ]
        }
      ]
    },
    {
      "cell_type": "markdown",
      "source": [
        "## **Tuples**\n",
        "### Question 51: Creating and Accessing Tuples\n",
        "\n",
        "Create a tuple with the first 10 positive integers. Print the tuple."
      ],
      "metadata": {
        "id": "g2p032w0bOxG"
      }
    },
    {
      "cell_type": "code",
      "source": [
        "tpl = tuple(range(1, 11))\n",
        "print(tpl)"
      ],
      "metadata": {
        "colab": {
          "base_uri": "https://localhost:8080/"
        },
        "id": "e0TRWouea4PE",
        "outputId": "691e0450-349e-46c0-8126-68273d5daf19"
      },
      "execution_count": null,
      "outputs": [
        {
          "output_type": "stream",
          "name": "stdout",
          "text": [
            "(1, 2, 3, 4, 5, 6, 7, 8, 9, 10)\n"
          ]
        }
      ]
    },
    {
      "cell_type": "markdown",
      "source": [
        "### Question 52: Accessing Tuple Elements\n",
        "\n",
        "Print the first, middle, and last elements of the tuple created in Question 51."
      ],
      "metadata": {
        "id": "N_aOzYoLbdov"
      }
    },
    {
      "cell_type": "code",
      "source": [
        "print(f\"First element: {tpl[0]}\")\n",
        "print(f\"Middle element: {tpl[len(tpl) // 2]}\")\n",
        "print(f\"Last element: {tpl[-1]}\")"
      ],
      "metadata": {
        "colab": {
          "base_uri": "https://localhost:8080/"
        },
        "id": "2dx17_G4bdIG",
        "outputId": "13b0f2cc-fc9b-48c9-dcb5-cf03c5e48b79"
      },
      "execution_count": null,
      "outputs": [
        {
          "output_type": "stream",
          "name": "stdout",
          "text": [
            "First element: 1\n",
            "Middle element: 6\n",
            "Last element: 10\n"
          ]
        }
      ]
    },
    {
      "cell_type": "markdown",
      "source": [
        "### Question 53: Tuple Slicing\n",
        "\n",
        "Print the first three elements, the last three elements, and the elements from index 2 to 5 of the tuple created in Question 51."
      ],
      "metadata": {
        "id": "GIg962qjbjZb"
      }
    },
    {
      "cell_type": "code",
      "source": [
        "print(f\"First three elements: {tpl[:3]}\")\n",
        "print(f\"Last three elements: {tpl[-3:]}\")\n",
        "print(f\"Elements from index 2 to 5: {tpl[2:6]}\")"
      ],
      "metadata": {
        "colab": {
          "base_uri": "https://localhost:8080/"
        },
        "id": "PCvt1zm7bhZE",
        "outputId": "cc18b4e9-ee99-44d3-96ab-a9674123f4bb"
      },
      "execution_count": null,
      "outputs": [
        {
          "output_type": "stream",
          "name": "stdout",
          "text": [
            "First three elements: (1, 2, 3)\n",
            "Last three elements: (8, 9, 10)\n",
            "Elements from index 2 to 5: (3, 4, 5, 6)\n"
          ]
        }
      ]
    },
    {
      "cell_type": "markdown",
      "source": [
        "### Question 54: Nested Tuples\n",
        "\n",
        "Create a nested tuple representing a 3x3 matrix and print the matrix. Access and print the element at the second row and third column."
      ],
      "metadata": {
        "id": "M5Xr93FXbw1C"
      }
    },
    {
      "cell_type": "code",
      "source": [
        "matrix = (\n",
        "    (1, 2, 3),\n",
        "    (4, 5, 6),\n",
        "    (7, 8, 9)\n",
        ")\n",
        "print(\"Matrix:\")\n",
        "for row in matrix:\n",
        "    print(row)\n",
        "print(f\"Element at second row and third column: {matrix[1][2]}\")"
      ],
      "metadata": {
        "colab": {
          "base_uri": "https://localhost:8080/"
        },
        "id": "HEzp3ersbvWG",
        "outputId": "894e8260-6919-42ab-ee35-6ec97db22ac3"
      },
      "execution_count": null,
      "outputs": [
        {
          "output_type": "stream",
          "name": "stdout",
          "text": [
            "Matrix:\n",
            "(1, 2, 3)\n",
            "(4, 5, 6)\n",
            "(7, 8, 9)\n",
            "Element at second row and third column: 6\n"
          ]
        }
      ]
    },
    {
      "cell_type": "markdown",
      "source": [
        "### Question 55: Tuple Concatenation\n",
        "\n",
        "Concatenate two tuples: (1, 2, 3) and (4, 5, 6). Print the resulting tuple."
      ],
      "metadata": {
        "id": "hjxG15HCb4pi"
      }
    },
    {
      "cell_type": "code",
      "source": [
        "tpl1 = (1, 2, 3)\n",
        "tpl2 = (4, 5, 6)\n",
        "concatenated = tpl1 + tpl2\n",
        "print(concatenated)"
      ],
      "metadata": {
        "colab": {
          "base_uri": "https://localhost:8080/"
        },
        "id": "P39WMtsfb2A0",
        "outputId": "f15844fc-afa9-491e-93d4-aec1cdbef439"
      },
      "execution_count": null,
      "outputs": [
        {
          "output_type": "stream",
          "name": "stdout",
          "text": [
            "(1, 2, 3, 4, 5, 6)\n"
          ]
        }
      ]
    },
    {
      "cell_type": "markdown",
      "source": [
        "### Question 56: Tuple Methods\n",
        "\n",
        "Create a tuple with duplicate elements and count the occurrences of an element. Find the index of the first occurrence of an element in the tuple."
      ],
      "metadata": {
        "id": "utQIgDZZb_22"
      }
    },
    {
      "cell_type": "code",
      "source": [
        "tpl = (1, 2, 2, 3, 4, 4, 4, 5)\n",
        "print(f\"Occurrences of 4: {tpl.count(4)}\")\n",
        "print(f\"Index of first occurrence of 2: {tpl.index(2)}\")"
      ],
      "metadata": {
        "colab": {
          "base_uri": "https://localhost:8080/"
        },
        "id": "ogDcHBccb8LC",
        "outputId": "b9e03149-7397-4692-f374-6996053170a5"
      },
      "execution_count": null,
      "outputs": [
        {
          "output_type": "stream",
          "name": "stdout",
          "text": [
            "Occurrences of 4: 3\n",
            "Index of first occurrence of 2: 1\n"
          ]
        }
      ]
    },
    {
      "cell_type": "markdown",
      "source": [
        "### Question 57: Unpacking Tuples\n",
        "\n",
        "Create a tuple with 5 elements and unpack it into 5 variables. Print the variables."
      ],
      "metadata": {
        "id": "LN3s--q4cGIn"
      }
    },
    {
      "cell_type": "code",
      "source": [
        "tpl = (1, 2, 3, 4, 5)\n",
        "a, b, c, d, e = tpl\n",
        "print(a, b, c, d, e)"
      ],
      "metadata": {
        "colab": {
          "base_uri": "https://localhost:8080/"
        },
        "id": "tpuJm_PJcEaO",
        "outputId": "2deb97d2-344f-4031-e232-0c78896705b6"
      },
      "execution_count": null,
      "outputs": [
        {
          "output_type": "stream",
          "name": "stdout",
          "text": [
            "1 2 3 4 5\n"
          ]
        }
      ]
    },
    {
      "cell_type": "markdown",
      "source": [
        "### Question 58: Tuple Conversion\n",
        "\n",
        "Convert a list of the first 5 positive integers to a tuple. Print the tuple."
      ],
      "metadata": {
        "id": "U7EzpJaScNf_"
      }
    },
    {
      "cell_type": "code",
      "source": [
        "lst = [1, 2, 3, 4, 5]\n",
        "tpl = tuple(lst)\n",
        "print(tpl)"
      ],
      "metadata": {
        "colab": {
          "base_uri": "https://localhost:8080/"
        },
        "id": "YSxUqyuhcLEK",
        "outputId": "823faa3c-84d4-457c-b458-e194dae5d887"
      },
      "execution_count": null,
      "outputs": [
        {
          "output_type": "stream",
          "name": "stdout",
          "text": [
            "(1, 2, 3, 4, 5)\n"
          ]
        }
      ]
    },
    {
      "cell_type": "markdown",
      "source": [
        "### Question 59: Tuple of Tuples\n",
        "\n",
        "Create a tuple containing 3 tuples, each with 3 elements. Print the tuple of tuples."
      ],
      "metadata": {
        "id": "53uNghA_cUYI"
      }
    },
    {
      "cell_type": "code",
      "source": [
        "tpl_of_tpls = (\n",
        "    (1, 2, 3),\n",
        "    (4, 5, 6),\n",
        "    (7, 8, 9)\n",
        ")\n",
        "print(tpl_of_tpls)"
      ],
      "metadata": {
        "colab": {
          "base_uri": "https://localhost:8080/"
        },
        "id": "i-ZmWhoCcSwc",
        "outputId": "21c0f695-19c5-43fb-aee5-e50270fd6259"
      },
      "execution_count": null,
      "outputs": [
        {
          "output_type": "stream",
          "name": "stdout",
          "text": [
            "((1, 2, 3), (4, 5, 6), (7, 8, 9))\n"
          ]
        }
      ]
    },
    {
      "cell_type": "markdown",
      "source": [
        "### Question 60: Tuple and List\n",
        "\n",
        "Create a tuple with the first 5 positive integers. Convert it to a list, append the number 6, and convert it back to a tuple. Print the resulting tuple."
      ],
      "metadata": {
        "id": "HawbvnJicaQF"
      }
    },
    {
      "cell_type": "code",
      "source": [
        "tpl = (1, 2, 3, 4, 5)\n",
        "lst = list(tpl)\n",
        "lst.append(6)\n",
        "tpl = tuple(lst)\n",
        "print(tpl)"
      ],
      "metadata": {
        "colab": {
          "base_uri": "https://localhost:8080/"
        },
        "id": "q8CYXMclcXsQ",
        "outputId": "39f679f6-7f73-48fa-a373-e92a870ea749"
      },
      "execution_count": null,
      "outputs": [
        {
          "output_type": "stream",
          "name": "stdout",
          "text": [
            "(1, 2, 3, 4, 5, 6)\n"
          ]
        }
      ]
    },
    {
      "cell_type": "markdown",
      "source": [
        "### Question 61: Tuple and String\n",
        "\n",
        "Create a tuple with the characters of a string. Join the tuple elements into a single string. Print the string."
      ],
      "metadata": {
        "id": "b1uZLt4AcfK3"
      }
    },
    {
      "cell_type": "code",
      "source": [
        "string = \"hello\"\n",
        "tpl = tuple(string)\n",
        "joined_string = ''.join(tpl)\n",
        "print(joined_string)"
      ],
      "metadata": {
        "colab": {
          "base_uri": "https://localhost:8080/"
        },
        "id": "mrmyJnzfcd93",
        "outputId": "23081d55-940f-4404-f4c2-88ec9e48e695"
      },
      "execution_count": null,
      "outputs": [
        {
          "output_type": "stream",
          "name": "stdout",
          "text": [
            "hello\n"
          ]
        }
      ]
    },
    {
      "cell_type": "markdown",
      "source": [
        "### Question 62: Tuple and Dictionary\n",
        "\n",
        "Create a dictionary with tuple keys and integer values. Print the dictionary."
      ],
      "metadata": {
        "id": "6LX0sNaIclt5"
      }
    },
    {
      "cell_type": "code",
      "source": [
        "tpl_dict = {\n",
        "    (1, 2): 3,\n",
        "    (4, 5): 6,\n",
        "    (7, 8): 9\n",
        "}\n",
        "print(tpl_dict)"
      ],
      "metadata": {
        "colab": {
          "base_uri": "https://localhost:8080/"
        },
        "id": "GMIaEsSGcoMt",
        "outputId": "2171bd54-24e4-4bf2-d26f-2a4549127e68"
      },
      "execution_count": null,
      "outputs": [
        {
          "output_type": "stream",
          "name": "stdout",
          "text": [
            "{(1, 2): 3, (4, 5): 6, (7, 8): 9}\n"
          ]
        }
      ]
    },
    {
      "cell_type": "markdown",
      "source": [
        "### Question 63: Nested Tuple Iteration\n",
        "\n",
        "Create a nested tuple and iterate over the elements, printing each element."
      ],
      "metadata": {
        "id": "gX08QuxnczAj"
      }
    },
    {
      "cell_type": "code",
      "source": [
        "nested_tpl = (\n",
        "    (1, 2, 3),\n",
        "    (4, 5, 6),\n",
        "    (7, 8, 9)\n",
        ")\n",
        "for tpl in nested_tpl:\n",
        "    for elem in tpl:\n",
        "        print(elem)"
      ],
      "metadata": {
        "colab": {
          "base_uri": "https://localhost:8080/"
        },
        "id": "GPvQZ1OZcx8E",
        "outputId": "b5d4a4b6-5784-447a-ba28-c64278a7e601"
      },
      "execution_count": null,
      "outputs": [
        {
          "output_type": "stream",
          "name": "stdout",
          "text": [
            "1\n",
            "2\n",
            "3\n",
            "4\n",
            "5\n",
            "6\n",
            "7\n",
            "8\n",
            "9\n"
          ]
        }
      ]
    },
    {
      "cell_type": "markdown",
      "source": [
        "### Question 64: Tuple and Set\n",
        "\n",
        "Create a tuple with duplicate elements. Convert it to a set to remove duplicates and print the resulting set."
      ],
      "metadata": {
        "id": "6v2v1lIRc62j"
      }
    },
    {
      "cell_type": "code",
      "source": [
        "tpl = (1, 2, 2, 3, 4, 4, 4, 5)\n",
        "unique_set = set(tpl)\n",
        "print(unique_set)"
      ],
      "metadata": {
        "colab": {
          "base_uri": "https://localhost:8080/"
        },
        "id": "HzyX51Uzc5Wf",
        "outputId": "64a923c1-9fbf-4321-eafa-74761883e1c0"
      },
      "execution_count": null,
      "outputs": [
        {
          "output_type": "stream",
          "name": "stdout",
          "text": [
            "{1, 2, 3, 4, 5}\n"
          ]
        }
      ]
    },
    {
      "cell_type": "markdown",
      "source": [
        "### Question 65: Tuple Functions\n",
        "\n",
        "Write functions that take a tuple and return the minimum, maximum, and sum of the elements. Print the results for a sample tuple."
      ],
      "metadata": {
        "id": "Z88cv8lPc_f6"
      }
    },
    {
      "cell_type": "code",
      "source": [
        "def min_in_tuple(tpl):\n",
        "    return min(tpl)\n",
        "\n",
        "def max_in_tuple(tpl):\n",
        "    return max(tpl)\n",
        "\n",
        "def sum_of_tuple(tpl):\n",
        "    return sum(tpl)\n",
        "\n",
        "sample_tpl = (1, 2, 3, 4, 5)\n",
        "print(f\"Minimum: {min_in_tuple(sample_tpl)}\")\n",
        "print(f\"Maximum: {max_in_tuple(sample_tpl)}\")\n",
        "print(f\"Sum: {sum_of_tuple(sample_tpl)}\")"
      ],
      "metadata": {
        "colab": {
          "base_uri": "https://localhost:8080/"
        },
        "id": "dnm4KfDgc-uQ",
        "outputId": "b65c3535-b626-47bb-b0b5-30795e17ca7a"
      },
      "execution_count": null,
      "outputs": [
        {
          "output_type": "stream",
          "name": "stdout",
          "text": [
            "Minimum: 1\n",
            "Maximum: 5\n",
            "Sum: 15\n"
          ]
        }
      ]
    },
    {
      "cell_type": "markdown",
      "source": [
        "## **Sets**\n",
        "### Question 66: Creating and Accessing Sets\n",
        "\n",
        "Create a set with the first 10 positive integers. Print the set."
      ],
      "metadata": {
        "id": "JGCTrgjbdQn8"
      }
    },
    {
      "cell_type": "code",
      "source": [
        "s = set(range(1, 11))\n",
        "print(s)"
      ],
      "metadata": {
        "colab": {
          "base_uri": "https://localhost:8080/"
        },
        "id": "1vyMAltSdDo4",
        "outputId": "3cfe14a3-2836-43e3-88ad-66fd2ca523f0"
      },
      "execution_count": null,
      "outputs": [
        {
          "output_type": "stream",
          "name": "stdout",
          "text": [
            "{1, 2, 3, 4, 5, 6, 7, 8, 9, 10}\n"
          ]
        }
      ]
    },
    {
      "cell_type": "markdown",
      "source": [
        "### Question 67: Adding and Removing Elements\n",
        "\n",
        "Add the number 11 to the set created in Assignment 1. Then remove the number 1 from the set. Print the modified set."
      ],
      "metadata": {
        "id": "AlFh_ItudjkW"
      }
    },
    {
      "cell_type": "code",
      "source": [
        "s.add(11)\n",
        "s.remove(1)\n",
        "print(s)"
      ],
      "metadata": {
        "colab": {
          "base_uri": "https://localhost:8080/"
        },
        "id": "untkrT5ndh3O",
        "outputId": "54f5aa95-b69f-4e72-83c2-bc8ecce47e0d"
      },
      "execution_count": null,
      "outputs": [
        {
          "output_type": "stream",
          "name": "stdout",
          "text": [
            "{2, 3, 4, 5, 6, 7, 8, 9, 10, 11}\n"
          ]
        }
      ]
    },
    {
      "cell_type": "markdown",
      "source": [
        "### Question 68: Set Operations\n",
        "\n",
        "Create two sets: one with the first 5 positive integers and another with the first 5 even integers. Perform and print the results of union, intersection, difference, and symmetric difference operations on these sets."
      ],
      "metadata": {
        "id": "JLGG3wr3drjB"
      }
    },
    {
      "cell_type": "code",
      "source": [
        "set1 = set(range(1, 6))\n",
        "set2 = set(range(2, 11, 2))\n",
        "print(f\"Union: {set1 | set2}\")\n",
        "print(f\"Intersection: {set1 & set2}\")\n",
        "print(f\"Difference (set1 - set2): {set1 - set2}\")\n",
        "print(f\"Symmetric Difference: {set1 ^ set2}\")"
      ],
      "metadata": {
        "colab": {
          "base_uri": "https://localhost:8080/"
        },
        "id": "z3U0nm7zdqD1",
        "outputId": "750c9b50-b3fe-4c56-abe4-ef67637edabb"
      },
      "execution_count": null,
      "outputs": [
        {
          "output_type": "stream",
          "name": "stdout",
          "text": [
            "Union: {1, 2, 3, 4, 5, 6, 8, 10}\n",
            "Intersection: {2, 4}\n",
            "Difference (set1 - set2): {1, 3, 5}\n",
            "Symmetric Difference: {1, 3, 5, 6, 8, 10}\n"
          ]
        }
      ]
    },
    {
      "cell_type": "markdown",
      "source": [
        "### Question 69: Set Comprehensions\n",
        "\n",
        "Create a new set containing the squares of the first 10 positive integers using a set comprehension. Print the new set."
      ],
      "metadata": {
        "id": "aojIEsqWdzTi"
      }
    },
    {
      "cell_type": "code",
      "source": [
        "squares = {x**2 for x in range(1, 11)}\n",
        "print(squares)"
      ],
      "metadata": {
        "colab": {
          "base_uri": "https://localhost:8080/"
        },
        "id": "BmefuK4FdwQk",
        "outputId": "827b422a-1ef4-47a3-e2e1-e929586223c0"
      },
      "execution_count": null,
      "outputs": [
        {
          "output_type": "stream",
          "name": "stdout",
          "text": [
            "{64, 1, 4, 36, 100, 9, 16, 49, 81, 25}\n"
          ]
        }
      ]
    },
    {
      "cell_type": "markdown",
      "source": [
        "### Question 70: Filtering Sets\n",
        "\n",
        "Create a new set containing only the even numbers from the set created in Assignment 1 using a set comprehension. Print the new set."
      ],
      "metadata": {
        "id": "qpnvYYB1d-k9"
      }
    },
    {
      "cell_type": "code",
      "source": [
        "evens = {x for x in s if x % 2 == 0}\n",
        "print(evens)"
      ],
      "metadata": {
        "colab": {
          "base_uri": "https://localhost:8080/"
        },
        "id": "7rOqS7y2d30o",
        "outputId": "3f61609b-7650-4542-8fe1-a150d1532716"
      },
      "execution_count": null,
      "outputs": [
        {
          "output_type": "stream",
          "name": "stdout",
          "text": [
            "{2, 4, 6, 8, 10}\n"
          ]
        }
      ]
    },
    {
      "cell_type": "markdown",
      "source": [
        "### Question 71: Set Methods\n",
        "\n",
        "Create a set with duplicate elements and remove the duplicates using set methods. Print the modified set."
      ],
      "metadata": {
        "id": "1_kkQB-ieIn9"
      }
    },
    {
      "cell_type": "code",
      "source": [
        "s = {1, 2, 2, 3, 4, 4, 5}\n",
        "unique_s = set(s)\n",
        "print(unique_s)"
      ],
      "metadata": {
        "colab": {
          "base_uri": "https://localhost:8080/"
        },
        "id": "IZtr4kFBeDNL",
        "outputId": "f2aac8da-929a-45e7-98bf-b58ed8350118"
      },
      "execution_count": null,
      "outputs": [
        {
          "output_type": "stream",
          "name": "stdout",
          "text": [
            "{1, 2, 3, 4, 5}\n"
          ]
        }
      ]
    },
    {
      "cell_type": "markdown",
      "source": [
        "### Question 72: Subsets and Supersets\n",
        "\n",
        "Create two sets: one with the first 5 positive integers and another with the first 3 positive integers. Check if the second set is a subset of the first set and if the first set is a superset of the second set. Print the results."
      ],
      "metadata": {
        "id": "ajbcrRbveOnv"
      }
    },
    {
      "cell_type": "code",
      "source": [
        "set1 = set(range(1, 6))\n",
        "set2 = set(range(1, 4))\n",
        "print(f\"Is set2 a subset of set1? {set2.issubset(set1)}\")\n",
        "print(f\"Is set1 a superset of set2? {set1.issuperset(set2)}\")"
      ],
      "metadata": {
        "colab": {
          "base_uri": "https://localhost:8080/"
        },
        "id": "L3PXrmmweNQy",
        "outputId": "db4ea820-dade-4a4b-b14d-5aca1eeb5a6a"
      },
      "execution_count": null,
      "outputs": [
        {
          "output_type": "stream",
          "name": "stdout",
          "text": [
            "Is set2 a subset of set1? True\n",
            "Is set1 a superset of set2? True\n"
          ]
        }
      ]
    },
    {
      "cell_type": "markdown",
      "source": [
        "### Question 73: Frozenset\n",
        "\n",
        "Create a frozenset with the first 5 positive integers. Print the frozenset."
      ],
      "metadata": {
        "id": "QrJJM2S8eVOQ"
      }
    },
    {
      "cell_type": "code",
      "source": [
        "fs = frozenset(range(1, 6))\n",
        "print(fs)"
      ],
      "metadata": {
        "colab": {
          "base_uri": "https://localhost:8080/"
        },
        "id": "DDBK8phweTmh",
        "outputId": "204338af-32b3-4b4c-c475-c9393e111d6a"
      },
      "execution_count": null,
      "outputs": [
        {
          "output_type": "stream",
          "name": "stdout",
          "text": [
            "frozenset({1, 2, 3, 4, 5})\n"
          ]
        }
      ]
    },
    {
      "cell_type": "markdown",
      "source": [
        "### Question 74: Set and List Conversion\n",
        "\n",
        "Create a set with the first 5 positive integers. Convert it to a list, append the number 6, and convert it back to a set. Print the resulting set."
      ],
      "metadata": {
        "id": "9vo5PhA1ebDY"
      }
    },
    {
      "cell_type": "code",
      "source": [
        "s = set(range(1, 6))\n",
        "lst = list(s)\n",
        "lst.append(6)\n",
        "s = set(lst)\n",
        "print(s)"
      ],
      "metadata": {
        "colab": {
          "base_uri": "https://localhost:8080/"
        },
        "id": "HF2ghG42eZ95",
        "outputId": "d8084466-bdb4-444e-ef00-ba81fb22c3c1"
      },
      "execution_count": null,
      "outputs": [
        {
          "output_type": "stream",
          "name": "stdout",
          "text": [
            "{1, 2, 3, 4, 5, 6}\n"
          ]
        }
      ]
    },
    {
      "cell_type": "markdown",
      "source": [
        "### Question 75: Set and Dictionary\n",
        "\n",
        "Create a dictionary with set keys and integer values. Print the dictionary."
      ],
      "metadata": {
        "id": "3VXq_i0Xehej"
      }
    },
    {
      "cell_type": "code",
      "source": [
        "d = {\n",
        "    frozenset({1, 2}): 3,\n",
        "    frozenset({3, 4}): 7,\n",
        "    frozenset({5, 6}): 11\n",
        "}\n",
        "print(d)"
      ],
      "metadata": {
        "colab": {
          "base_uri": "https://localhost:8080/"
        },
        "id": "WZWDDMQzeg2f",
        "outputId": "2b54cb26-2a7a-4b80-db96-7c17192eee5e"
      },
      "execution_count": null,
      "outputs": [
        {
          "output_type": "stream",
          "name": "stdout",
          "text": [
            "{frozenset({1, 2}): 3, frozenset({3, 4}): 7, frozenset({5, 6}): 11}\n"
          ]
        }
      ]
    },
    {
      "cell_type": "markdown",
      "source": [
        "### Question 76: Iterating Over Sets\n",
        "\n",
        "Create a set and iterate over the elements, printing each element."
      ],
      "metadata": {
        "id": "0grDzN8texqI"
      }
    },
    {
      "cell_type": "code",
      "source": [
        "s = set(range(1, 6))\n",
        "for elem in s:\n",
        "    print(elem)"
      ],
      "metadata": {
        "colab": {
          "base_uri": "https://localhost:8080/"
        },
        "id": "b66TtiLRemsg",
        "outputId": "6ac3d70f-1076-4f1a-8d31-39a76faf0320"
      },
      "execution_count": null,
      "outputs": [
        {
          "output_type": "stream",
          "name": "stdout",
          "text": [
            "1\n",
            "2\n",
            "3\n",
            "4\n",
            "5\n"
          ]
        }
      ]
    },
    {
      "cell_type": "markdown",
      "source": [
        "### Question 77: Removing Elements from Sets\n",
        "\n",
        "Create a set and remove elements from it until it is empty. Print the set after each removal."
      ],
      "metadata": {
        "id": "9mYcI_j4e315"
      }
    },
    {
      "cell_type": "code",
      "source": [
        "s = set(range(1, 6))\n",
        "while s:\n",
        "    s.pop()\n",
        "    print(s)"
      ],
      "metadata": {
        "colab": {
          "base_uri": "https://localhost:8080/"
        },
        "id": "mLwOTly0e1zy",
        "outputId": "d601414f-c085-4d55-85e4-0dc2c4aded11"
      },
      "execution_count": null,
      "outputs": [
        {
          "output_type": "stream",
          "name": "stdout",
          "text": [
            "{2, 3, 4, 5}\n",
            "{3, 4, 5}\n",
            "{4, 5}\n",
            "{5}\n",
            "set()\n"
          ]
        }
      ]
    },
    {
      "cell_type": "markdown",
      "source": [
        "### Question 78: Set Symmetric Difference Update\n",
        "\n",
        "Create two sets and update the first set with the symmetric difference of the two sets. Print the modified first set."
      ],
      "metadata": {
        "id": "PUXxYvPCe-AR"
      }
    },
    {
      "cell_type": "code",
      "source": [
        "set1 = {1, 2, 3}\n",
        "set2 = {3, 4, 5}\n",
        "set1.symmetric_difference_update(set2)\n",
        "print(set1)"
      ],
      "metadata": {
        "colab": {
          "base_uri": "https://localhost:8080/"
        },
        "id": "lPbJtkpqe8Vt",
        "outputId": "852e406d-79d8-4757-bc70-96609fe20edf"
      },
      "execution_count": null,
      "outputs": [
        {
          "output_type": "stream",
          "name": "stdout",
          "text": [
            "{1, 2, 4, 5}\n"
          ]
        }
      ]
    },
    {
      "cell_type": "markdown",
      "source": [
        "### Question 79: Set Membership Testing\n",
        "\n",
        "Create a set and test if certain elements are present in the set. Print the results."
      ],
      "metadata": {
        "id": "3n1KlhxgfH3h"
      }
    },
    {
      "cell_type": "code",
      "source": [
        "s = set(range(1, 6))\n",
        "print(3 in s)\n",
        "print(6 in s)"
      ],
      "metadata": {
        "colab": {
          "base_uri": "https://localhost:8080/"
        },
        "id": "k-p3jq8kfCHk",
        "outputId": "8da02de0-242f-4007-8e9f-bbdec0a5aa8b"
      },
      "execution_count": null,
      "outputs": [
        {
          "output_type": "stream",
          "name": "stdout",
          "text": [
            "True\n",
            "False\n"
          ]
        }
      ]
    },
    {
      "cell_type": "markdown",
      "source": [
        "### Question 80: Set of Tuples\n",
        "\n",
        "Create a set containing tuples, where each tuple contains two elements. Print the set."
      ],
      "metadata": {
        "id": "JrNkU4U9fL7e"
      }
    },
    {
      "cell_type": "code",
      "source": [
        "s = { (1, 2), (3, 4), (5, 6) }\n",
        "print(s)"
      ],
      "metadata": {
        "colab": {
          "base_uri": "https://localhost:8080/"
        },
        "id": "5Oh-ZkZhfLM6",
        "outputId": "b4399b2d-3c3c-4aff-a86e-ce687f688a9d"
      },
      "execution_count": null,
      "outputs": [
        {
          "output_type": "stream",
          "name": "stdout",
          "text": [
            "{(1, 2), (3, 4), (5, 6)}\n"
          ]
        }
      ]
    },
    {
      "cell_type": "markdown",
      "source": [
        "## **Dictionaries**\n",
        "### Question 81: Creating and Accessing Dictionaries\n",
        "\n",
        "Create a dictionary with the first 10 positive integers as keys and their squares as values. Print the dictionary."
      ],
      "metadata": {
        "id": "JlVAtqswfeqS"
      }
    },
    {
      "cell_type": "code",
      "source": [
        "d = {i: i**2 for i in range(1, 11)}\n",
        "print(d)"
      ],
      "metadata": {
        "colab": {
          "base_uri": "https://localhost:8080/"
        },
        "id": "f0-DF8x8fQXn",
        "outputId": "3d54724a-e1f5-4fb8-edca-9fa82755dfe3"
      },
      "execution_count": null,
      "outputs": [
        {
          "output_type": "stream",
          "name": "stdout",
          "text": [
            "{1: 1, 2: 4, 3: 9, 4: 16, 5: 25, 6: 36, 7: 49, 8: 64, 9: 81, 10: 100}\n"
          ]
        }
      ]
    },
    {
      "cell_type": "markdown",
      "source": [
        "### Question 82: Accessing Dictionary Elements\n",
        "\n",
        "Print the value of the key 5 and the keys of the dictionary created in Question 81."
      ],
      "metadata": {
        "id": "nC8oP2OrfoIX"
      }
    },
    {
      "cell_type": "code",
      "source": [
        "print(f\"Value of key 5: {d[5]}\")\n",
        "print(f\"Keys: {list(d.keys())}\")"
      ],
      "metadata": {
        "colab": {
          "base_uri": "https://localhost:8080/"
        },
        "id": "gsfsy3a_fmNV",
        "outputId": "d372aa58-efc6-41b9-f1ff-49d8ec818f02"
      },
      "execution_count": null,
      "outputs": [
        {
          "output_type": "stream",
          "name": "stdout",
          "text": [
            "Value of key 5: 25\n",
            "Keys: [1, 2, 3, 4, 5, 6, 7, 8, 9, 10]\n"
          ]
        }
      ]
    },
    {
      "cell_type": "markdown",
      "source": [
        "### Question 83: Dictionary Methods\n",
        "\n",
        "Add a new key-value pair (11, 121) to the dictionary created in Question 81 and then remove the key-value pair with key 1. Print the modified dictionary."
      ],
      "metadata": {
        "id": "jFH1HMtffyg8"
      }
    },
    {
      "cell_type": "code",
      "source": [
        "d[11] = 121\n",
        "d.pop(1)\n",
        "print(d)"
      ],
      "metadata": {
        "colab": {
          "base_uri": "https://localhost:8080/"
        },
        "id": "Prc7jLUHfsI4",
        "outputId": "96e928ca-4a41-4881-acca-6c158c36bbbd"
      },
      "execution_count": null,
      "outputs": [
        {
          "output_type": "stream",
          "name": "stdout",
          "text": [
            "{2: 4, 3: 9, 4: 16, 5: 25, 6: 36, 7: 49, 8: 64, 9: 81, 10: 100, 11: 121}\n"
          ]
        }
      ]
    },
    {
      "cell_type": "markdown",
      "source": [
        "### Question 84: Iterating Over Dictionaries\n",
        "\n",
        "Iterate over the dictionary created in Question 81 and print each key-value pair."
      ],
      "metadata": {
        "id": "aM88VoeTf-Yt"
      }
    },
    {
      "cell_type": "code",
      "source": [
        "for key, value in d.items():\n",
        "    print(f\"{key}: {value}\")"
      ],
      "metadata": {
        "colab": {
          "base_uri": "https://localhost:8080/"
        },
        "id": "v-jsNaoUf6ud",
        "outputId": "60b8db21-5497-44b0-bf17-6b2c5215e532"
      },
      "execution_count": null,
      "outputs": [
        {
          "output_type": "stream",
          "name": "stdout",
          "text": [
            "2: 4\n",
            "3: 9\n",
            "4: 16\n",
            "5: 25\n",
            "6: 36\n",
            "7: 49\n",
            "8: 64\n",
            "9: 81\n",
            "10: 100\n",
            "11: 121\n"
          ]
        }
      ]
    },
    {
      "cell_type": "markdown",
      "source": [
        "### Question 85: Dictionary Comprehensions\n",
        "\n",
        "Create a new dictionary containing the cubes of the first 10 positive integers using a dictionary comprehension. Print the new dictionary."
      ],
      "metadata": {
        "id": "qW5cn5YrgYsR"
      }
    },
    {
      "cell_type": "code",
      "source": [
        "cubes = {i: i**3 for i in range(1, 11)}\n",
        "print(cubes)"
      ],
      "metadata": {
        "colab": {
          "base_uri": "https://localhost:8080/"
        },
        "id": "jTOn4ccXgVCw",
        "outputId": "678f5ef7-6541-4f7c-ea9c-fbee03e6b32c"
      },
      "execution_count": null,
      "outputs": [
        {
          "output_type": "stream",
          "name": "stdout",
          "text": [
            "{1: 1, 2: 8, 3: 27, 4: 64, 5: 125, 6: 216, 7: 343, 8: 512, 9: 729, 10: 1000}\n"
          ]
        }
      ]
    },
    {
      "cell_type": "markdown",
      "source": [
        "### Question 86: Merging Dictionaries\n",
        "\n",
        "Create two dictionaries: one with keys as the first 5 positive integers and values as their squares, and another with keys as the next 5 positive integers and values as their squares. Merge these dictionaries into a single dictionary and print it."
      ],
      "metadata": {
        "id": "rF_EUeSEgegR"
      }
    },
    {
      "cell_type": "code",
      "source": [
        "d1 = {i: i**2 for i in range(1, 6)}\n",
        "d2 = {i: i**2 for i in range(6, 11)}\n",
        "d1.update(d2)\n",
        "print(d1)"
      ],
      "metadata": {
        "colab": {
          "base_uri": "https://localhost:8080/"
        },
        "id": "Kn9r4cnLgdAr",
        "outputId": "2731d624-cc83-4ea1-bbfd-5a2cc7add730"
      },
      "execution_count": null,
      "outputs": [
        {
          "output_type": "stream",
          "name": "stdout",
          "text": [
            "{1: 1, 2: 4, 3: 9, 4: 16, 5: 25, 6: 36, 7: 49, 8: 64, 9: 81, 10: 100}\n"
          ]
        }
      ]
    },
    {
      "cell_type": "markdown",
      "source": [
        "### Question 87: Nested Dictionaries\n",
        "\n",
        "Create a nested dictionary representing a student with keys 'name', 'age', 'grades', where 'grades' is another dictionary with keys 'math', 'science', and 'english'. Print the nested dictionary."
      ],
      "metadata": {
        "id": "iDJwB3wBgkK3"
      }
    },
    {
      "cell_type": "code",
      "source": [
        "student = {\n",
        "    'name': 'sanad singh',\n",
        "    'age': 24,\n",
        "    'grades': {\n",
        "        'math': 83,\n",
        "        'science': 79,\n",
        "        'english': 88\n",
        "    }\n",
        "}\n",
        "print(student)"
      ],
      "metadata": {
        "colab": {
          "base_uri": "https://localhost:8080/"
        },
        "id": "_ZwjyZ9tgi00",
        "outputId": "f681974a-eebb-4c69-d236-8d4476ce3eb6"
      },
      "execution_count": null,
      "outputs": [
        {
          "output_type": "stream",
          "name": "stdout",
          "text": [
            "{'name': 'sanad singh', 'age': 24, 'grades': {'math': 83, 'science': 79, 'english': 88}}\n"
          ]
        }
      ]
    },
    {
      "cell_type": "markdown",
      "source": [
        "### Question 88: Dictionary of Lists\n",
        "\n",
        "Create a dictionary where the keys are the first 5 positive integers and the values are lists containing the first 5 multiples of the key. Print the dictionary."
      ],
      "metadata": {
        "id": "ozMvenkHgyzf"
      }
    },
    {
      "cell_type": "code",
      "source": [
        "multiples = {i: [i * j for j in range(1, 6)] for i in range(1, 6)}\n",
        "print(multiples)"
      ],
      "metadata": {
        "colab": {
          "base_uri": "https://localhost:8080/"
        },
        "id": "dna_qO6ygxOl",
        "outputId": "fdcd8d6c-0411-4306-b738-79c619862067"
      },
      "execution_count": null,
      "outputs": [
        {
          "output_type": "stream",
          "name": "stdout",
          "text": [
            "{1: [1, 2, 3, 4, 5], 2: [2, 4, 6, 8, 10], 3: [3, 6, 9, 12, 15], 4: [4, 8, 12, 16, 20], 5: [5, 10, 15, 20, 25]}\n"
          ]
        }
      ]
    },
    {
      "cell_type": "markdown",
      "source": [
        "### Question 89: Dictionary of Tuples\n",
        "\n",
        "Create a dictionary where the keys are the first 5 positive integers and the values are tuples containing the key and its square. Print the dictionary."
      ],
      "metadata": {
        "id": "Dk77uresg96q"
      }
    },
    {
      "cell_type": "code",
      "source": [
        "tuple_dict = {i: (i, i**2) for i in range(1, 6)}\n",
        "print(tuple_dict)"
      ],
      "metadata": {
        "colab": {
          "base_uri": "https://localhost:8080/"
        },
        "id": "Bz9-vYAog0S8",
        "outputId": "f677b3be-b3f3-49b9-8d71-775641717e98"
      },
      "execution_count": null,
      "outputs": [
        {
          "output_type": "stream",
          "name": "stdout",
          "text": [
            "{1: (1, 1), 2: (2, 4), 3: (3, 9), 4: (4, 16), 5: (5, 25)}\n"
          ]
        }
      ]
    },
    {
      "cell_type": "markdown",
      "source": [
        "### Question 90: Dictionary and List Conversion\n",
        "\n",
        "Create a dictionary with the first 5 positive integers as keys and their squares as values. Convert the dictionary to a list of tuples and print it."
      ],
      "metadata": {
        "id": "JIJLwCp1hEYU"
      }
    },
    {
      "cell_type": "code",
      "source": [
        "d = {i: i**2 for i in range(1, 6)}\n",
        "list_of_tuples = list(d.items())\n",
        "print(list_of_tuples)"
      ],
      "metadata": {
        "colab": {
          "base_uri": "https://localhost:8080/"
        },
        "id": "IIff9xgRhClW",
        "outputId": "ff931b31-e20e-4be3-b7b2-37085ee2e7bd"
      },
      "execution_count": null,
      "outputs": [
        {
          "output_type": "stream",
          "name": "stdout",
          "text": [
            "[(1, 1), (2, 4), (3, 9), (4, 16), (5, 25)]\n"
          ]
        }
      ]
    },
    {
      "cell_type": "markdown",
      "source": [
        "### Question 91: Dictionary Filtering\n",
        "\n",
        "Create a dictionary with the first 10 positive integers as keys and their squares as values. Create a new dictionary containing only the key-value pairs where the key is even. Print the new dictionary."
      ],
      "metadata": {
        "id": "xJjm8lMKhKZN"
      }
    },
    {
      "cell_type": "code",
      "source": [
        "d = {i: i**2 for i in range(1, 11)}\n",
        "even_dict = {k: v for k, v in d.items() if k % 2 == 0}\n",
        "print(even_dict)"
      ],
      "metadata": {
        "colab": {
          "base_uri": "https://localhost:8080/"
        },
        "id": "x-LCY-66hJUw",
        "outputId": "a40671c2-bbfb-48ac-f57c-e77f995acc53"
      },
      "execution_count": null,
      "outputs": [
        {
          "output_type": "stream",
          "name": "stdout",
          "text": [
            "{2: 4, 4: 16, 6: 36, 8: 64, 10: 100}\n"
          ]
        }
      ]
    },
    {
      "cell_type": "markdown",
      "source": [
        "### Question 92: Dictionary Key and Value Transformation\n",
        "\n",
        "Create a dictionary with the first 5 positive integers as keys and their squares as values. Create a new dictionary with keys and values swapped. Print the new dictionary."
      ],
      "metadata": {
        "id": "-GLe4539hSKt"
      }
    },
    {
      "cell_type": "code",
      "source": [
        "d = {i: i**2 for i in range(1, 6)}\n",
        "swapped_dict = {v: k for k, v in d.items()}\n",
        "print(swapped_dict)"
      ],
      "metadata": {
        "colab": {
          "base_uri": "https://localhost:8080/"
        },
        "id": "GpyCbon3hPv4",
        "outputId": "4aeaaa35-947d-4900-de94-ff93129f0534"
      },
      "execution_count": null,
      "outputs": [
        {
          "output_type": "stream",
          "name": "stdout",
          "text": [
            "{1: 1, 4: 2, 9: 3, 16: 4, 25: 5}\n"
          ]
        }
      ]
    },
    {
      "cell_type": "markdown",
      "source": [
        "### Question 93: Default Dictionary\n",
        "\n",
        "Create a default dictionary where each key has a default value of an empty list. Add some elements to the lists and print the dictionary."
      ],
      "metadata": {
        "id": "PhmQj_uvhaKb"
      }
    },
    {
      "cell_type": "code",
      "source": [
        "from collections import defaultdict\n",
        "\n",
        "default_dict = defaultdict(list)\n",
        "default_dict['a'].append(1)\n",
        "default_dict['a'].append(2)\n",
        "default_dict['b'].append(3)\n",
        "print(default_dict)"
      ],
      "metadata": {
        "colab": {
          "base_uri": "https://localhost:8080/"
        },
        "id": "hh6GQ73DhXnM",
        "outputId": "1c4333fc-1d22-402c-9024-8c3afc2eb27b"
      },
      "execution_count": null,
      "outputs": [
        {
          "output_type": "stream",
          "name": "stdout",
          "text": [
            "defaultdict(<class 'list'>, {'a': [1, 2], 'b': [3]})\n"
          ]
        }
      ]
    },
    {
      "cell_type": "markdown",
      "source": [
        "### Question 94: Counting with Dictionaries\n",
        "\n",
        "Write a function that takes a string and returns a dictionary with the count of each character in the string. Print the dictionary."
      ],
      "metadata": {
        "id": "3YFC00eSheqD"
      }
    },
    {
      "cell_type": "code",
      "source": [
        "def count_chars(s):\n",
        "    count_dict = {}\n",
        "    for char in s:\n",
        "        count_dict[char] = count_dict.get(char, 0) + 1\n",
        "    return count_dict\n",
        "\n",
        "string = \"hello world\"\n",
        "print(count_chars(string))"
      ],
      "metadata": {
        "colab": {
          "base_uri": "https://localhost:8080/"
        },
        "id": "7QdbKAzPhdig",
        "outputId": "507be7cd-baf1-4441-fa4e-a702e07abeca"
      },
      "execution_count": null,
      "outputs": [
        {
          "output_type": "stream",
          "name": "stdout",
          "text": [
            "{'h': 1, 'e': 1, 'l': 3, 'o': 2, ' ': 1, 'w': 1, 'r': 1, 'd': 1}\n"
          ]
        }
      ]
    },
    {
      "cell_type": "markdown",
      "source": [
        "### Question 95: Dictionary and JSON\n",
        "\n",
        "Create a dictionary representing a book with keys 'title', 'author', 'year', and 'genre'. Convert the dictionary to a JSON string and print it."
      ],
      "metadata": {
        "id": "ai8Mu26BiT8k"
      }
    },
    {
      "cell_type": "code",
      "source": [
        "import json\n",
        "\n",
        "book = {\n",
        "    'title': 'To Kill Mr Fury',\n",
        "    'author': 'xyz',\n",
        "    'year': 2050,\n",
        "    'genre': 'Fiction'\n",
        "}\n",
        "book_json = json.dumps(book)\n",
        "print(book_json)"
      ],
      "metadata": {
        "id": "Q_sk3roIhk3G",
        "colab": {
          "base_uri": "https://localhost:8080/"
        },
        "outputId": "32b58fdf-483e-4998-874c-14d2351d072f"
      },
      "execution_count": 121,
      "outputs": [
        {
          "output_type": "stream",
          "name": "stdout",
          "text": [
            "{\"title\": \"To Kill Mr Fury\", \"author\": \"xyz\", \"year\": 2050, \"genre\": \"Fiction\"}\n"
          ]
        }
      ]
    },
    {
      "cell_type": "markdown",
      "source": [
        "# **Functions**\n",
        "##Defining Functions\n",
        "### Question 96: Simple Function\n",
        "\n",
        "Define a function that takes a single integer as input and returns its square. Test the function with different inputs."
      ],
      "metadata": {
        "id": "-eZfjM7ri1Vs"
      }
    },
    {
      "cell_type": "code",
      "source": [
        "def square(x):\n",
        "    return x ** 2\n",
        "\n",
        "# Test\n",
        "print(square(2))  # 4\n",
        "print(square(5))  # 25"
      ],
      "metadata": {
        "colab": {
          "base_uri": "https://localhost:8080/"
        },
        "id": "hidgZ4v2iZnT",
        "outputId": "647be2c3-bd15-4e9b-8fc7-c5a88f7d21d7"
      },
      "execution_count": 122,
      "outputs": [
        {
          "output_type": "stream",
          "name": "stdout",
          "text": [
            "4\n",
            "25\n"
          ]
        }
      ]
    },
    {
      "cell_type": "markdown",
      "source": [
        "### Question 97: Multiple Arguments\n",
        "\n",
        "Define a function that takes two integers as input and returns their sum. Test the function with different inputs."
      ],
      "metadata": {
        "id": "VN3IAhzWjGrw"
      }
    },
    {
      "cell_type": "code",
      "source": [
        "def add(x, y):\n",
        "    return x + y\n",
        "\n",
        "# Test\n",
        "print(add(2, 3))  # 5\n",
        "print(add(10, 20))  # 30"
      ],
      "metadata": {
        "colab": {
          "base_uri": "https://localhost:8080/"
        },
        "id": "wCF76D_pjEum",
        "outputId": "71728f71-8218-47a0-e6ab-dedd06afc04f"
      },
      "execution_count": 123,
      "outputs": [
        {
          "output_type": "stream",
          "name": "stdout",
          "text": [
            "5\n",
            "30\n"
          ]
        }
      ]
    },
    {
      "cell_type": "markdown",
      "source": [
        "### Question 98: Default Arguments\n",
        "\n",
        "Define a function that takes two integers as input and returns their sum. The second integer should have a default value of 5. Test the function with different inputs."
      ],
      "metadata": {
        "id": "iSs3ADa2jMRV"
      }
    },
    {
      "cell_type": "code",
      "source": [
        "def add(x, y=5):\n",
        "    return x + y\n",
        "\n",
        "# Test\n",
        "print(add(2))  # 7\n",
        "print(add(10, 20))  # 30"
      ],
      "metadata": {
        "colab": {
          "base_uri": "https://localhost:8080/"
        },
        "id": "SiBRp2FljLka",
        "outputId": "dac73215-47bb-4c63-804d-b2ee8bb5085f"
      },
      "execution_count": 124,
      "outputs": [
        {
          "output_type": "stream",
          "name": "stdout",
          "text": [
            "7\n",
            "30\n"
          ]
        }
      ]
    },
    {
      "cell_type": "markdown",
      "source": [
        "### Question 99: Keyword Arguments\n",
        "\n",
        "Define a function that takes three named arguments: first_name, last_name, and age, and returns a formatted string. Test the function with different inputs."
      ],
      "metadata": {
        "id": "zxEJsx2MjUQA"
      }
    },
    {
      "cell_type": "code",
      "source": [
        "def format_person(first_name, last_name, age):\n",
        "    return f\"{first_name} {last_name} is {age} years old.\"\n",
        "print(format_person(first_name=\"Sanad\", last_name=\"Singh\", age=30))\n",
        "print(format_person(age=24, first_name=\"Shiv\", last_name=\"Singh\"))"
      ],
      "metadata": {
        "colab": {
          "base_uri": "https://localhost:8080/"
        },
        "id": "1r9Tl8m_jRsq",
        "outputId": "4a35ba1f-5413-4bdf-b1a7-eab7198f6e44"
      },
      "execution_count": 126,
      "outputs": [
        {
          "output_type": "stream",
          "name": "stdout",
          "text": [
            "Sanad Singh is 30 years old.\n",
            "Shiv Singh is 24 years old.\n"
          ]
        }
      ]
    },
    {
      "cell_type": "markdown",
      "source": [
        "### Question 100: Variable-length Arguments\n",
        "\n",
        "Define a function that takes a variable number of integer arguments and returns their product. Test the function with different inputs."
      ],
      "metadata": {
        "id": "fWpFpA7yjhmh"
      }
    },
    {
      "cell_type": "code",
      "source": [
        "def multiply(*args):\n",
        "    product = 1\n",
        "    for num in args:\n",
        "        product *= num\n",
        "    return product\n",
        "\n",
        "# Test\n",
        "print(multiply(2, 3, 4))  # 24\n",
        "print(multiply(1, 2, 3, 4, 5))  # 120"
      ],
      "metadata": {
        "colab": {
          "base_uri": "https://localhost:8080/"
        },
        "id": "-nY5GsXRjeJf",
        "outputId": "57445fdf-5aea-4ea9-c444-7be4513aceb3"
      },
      "execution_count": 127,
      "outputs": [
        {
          "output_type": "stream",
          "name": "stdout",
          "text": [
            "24\n",
            "120\n"
          ]
        }
      ]
    },
    {
      "cell_type": "markdown",
      "source": [
        "### Question 101: Nested Functions\n",
        "\n",
        "Define a function that contains another function inside it. The outer function should take two integers as input and return the result of the inner function, which multiplies the two integers. Test the function with different inputs."
      ],
      "metadata": {
        "id": "PRle2GVBjpMZ"
      }
    },
    {
      "cell_type": "code",
      "source": [
        "def outer_function(x, y):\n",
        "    def inner_function(a, b):\n",
        "        return a * b\n",
        "    return inner_function(x, y)\n",
        "\n",
        "print(outer_function(2, 3))  # 6\n",
        "print(outer_function(4, 5))  # 20"
      ],
      "metadata": {
        "colab": {
          "base_uri": "https://localhost:8080/"
        },
        "id": "0mWd-z-vjmsg",
        "outputId": "6b25e55f-a22e-45d9-a31d-af51e48ce714"
      },
      "execution_count": 128,
      "outputs": [
        {
          "output_type": "stream",
          "name": "stdout",
          "text": [
            "6\n",
            "20\n"
          ]
        }
      ]
    },
    {
      "cell_type": "markdown",
      "source": [
        "### Question 102: Returning Multiple Values\n",
        "\n",
        "Define a function that takes a single integer as input and returns the integer squared, cubed, and raised to the power of four. Test the function with different inputs."
      ],
      "metadata": {
        "id": "DHljLDCljvE9"
      }
    },
    {
      "cell_type": "code",
      "source": [
        "def powers(x):\n",
        "    return x ** 2, x ** 3, x ** 4\n",
        "\n",
        "print(powers(2))  # (4, 8, 16)\n",
        "print(powers(3))  # (9, 27, 81)"
      ],
      "metadata": {
        "colab": {
          "base_uri": "https://localhost:8080/"
        },
        "id": "9wEz__yYjtWc",
        "outputId": "ded7caa1-eb1d-44be-b3ed-61210ab349c3"
      },
      "execution_count": 129,
      "outputs": [
        {
          "output_type": "stream",
          "name": "stdout",
          "text": [
            "(4, 8, 16)\n",
            "(9, 27, 81)\n"
          ]
        }
      ]
    },
    {
      "cell_type": "markdown",
      "source": [
        "### Question 103: Recursive Function\n",
        "\n",
        "Define a recursive function that calculates the factorial of a given number. Test the function with different inputs."
      ],
      "metadata": {
        "id": "B3LJlvY4j233"
      }
    },
    {
      "cell_type": "code",
      "source": [
        "def factorial(n):\n",
        "    if n == 0:\n",
        "        return 1\n",
        "    else:\n",
        "        return n * factorial(n - 1)\n",
        "\n",
        "print(factorial(5))  # 120\n",
        "print(factorial(6))  # 720"
      ],
      "metadata": {
        "colab": {
          "base_uri": "https://localhost:8080/"
        },
        "id": "o1DENIn8j11S",
        "outputId": "c29ea0c9-4ed8-4d2f-f1eb-56936f4c254e"
      },
      "execution_count": 130,
      "outputs": [
        {
          "output_type": "stream",
          "name": "stdout",
          "text": [
            "120\n",
            "720\n"
          ]
        }
      ]
    },
    {
      "cell_type": "markdown",
      "source": [
        "### Question 104: Lambda Function\n",
        "\n",
        "Define a lambda function that takes two integers as input and returns their sum. Test the lambda function with different inputs."
      ],
      "metadata": {
        "id": "6hFZSy-Hj8yw"
      }
    },
    {
      "cell_type": "code",
      "source": [
        "add = lambda x, y: x + y\n",
        "\n",
        "print(add(2, 3))  # 5\n",
        "print(add(10, 20))  # 30"
      ],
      "metadata": {
        "colab": {
          "base_uri": "https://localhost:8080/"
        },
        "id": "1fNeOSb_j7a7",
        "outputId": "9f354f1d-4200-4df6-e66c-b81fd384596b"
      },
      "execution_count": 131,
      "outputs": [
        {
          "output_type": "stream",
          "name": "stdout",
          "text": [
            "5\n",
            "30\n"
          ]
        }
      ]
    },
    {
      "cell_type": "markdown",
      "source": [
        "### Question 105: Map Function\n",
        "\n",
        "Use the map function to apply a lambda function that squares each number in a list of integers. Test with different lists."
      ],
      "metadata": {
        "id": "7uAx5u4GkDOB"
      }
    },
    {
      "cell_type": "code",
      "source": [
        "numbers = [1, 2, 3, 4, 5]\n",
        "squared_numbers = list(map(lambda x: x ** 2, numbers))\n",
        "print(squared_numbers)  # [1, 4, 9, 16, 25]"
      ],
      "metadata": {
        "colab": {
          "base_uri": "https://localhost:8080/"
        },
        "id": "BSSDijM9kBaX",
        "outputId": "2a26e0f3-ade0-4dac-b20e-bf0bee2583e2"
      },
      "execution_count": 132,
      "outputs": [
        {
          "output_type": "stream",
          "name": "stdout",
          "text": [
            "[1, 4, 9, 16, 25]\n"
          ]
        }
      ]
    },
    {
      "cell_type": "markdown",
      "source": [
        "### Question 106: Filter Function\n",
        "\n",
        "Use the filter function to filter out all odd numbers from a list of integers. Test with different lists."
      ],
      "metadata": {
        "id": "lauYB1wbkJ3V"
      }
    },
    {
      "cell_type": "code",
      "source": [
        "numbers = [1, 2, 3, 4, 5, 6, 7, 8, 9, 10]\n",
        "even_numbers = list(filter(lambda x: x % 2 == 0, numbers))\n",
        "print(even_numbers)  # [2, 4, 6, 8, 10]"
      ],
      "metadata": {
        "colab": {
          "base_uri": "https://localhost:8080/"
        },
        "id": "20-214JakI8h",
        "outputId": "83e33e32-06f1-44da-ae82-4c93d29caf18"
      },
      "execution_count": 133,
      "outputs": [
        {
          "output_type": "stream",
          "name": "stdout",
          "text": [
            "[2, 4, 6, 8, 10]\n"
          ]
        }
      ]
    },
    {
      "cell_type": "markdown",
      "source": [
        "### Question 107: Function Decorator\n",
        "\n",
        "Define a decorator function that prints 'Executing function...' before executing a function and 'Function executed.' after executing it. Apply this decorator to a function that takes a list of integers and returns their sum. Test the decorated function with different lists."
      ],
      "metadata": {
        "id": "fHcdzDFZkRr6"
      }
    },
    {
      "cell_type": "code",
      "source": [
        "def my_decorator(func):\n",
        "    def wrapper(*args, **kwargs):\n",
        "        print('Executing function...')\n",
        "        result = func(*args, **kwargs)\n",
        "        print('Function executed.')\n",
        "        return result\n",
        "    return wrapper\n",
        "\n",
        "@my_decorator\n",
        "def sum_list(lst):\n",
        "    return sum(lst)\n",
        "print(sum_list([1, 2, 3, 4, 5]))  # 15"
      ],
      "metadata": {
        "colab": {
          "base_uri": "https://localhost:8080/"
        },
        "id": "lbWx90NLkO8w",
        "outputId": "afda2dff-f9ce-458b-d1a9-4cd72d005014"
      },
      "execution_count": 134,
      "outputs": [
        {
          "output_type": "stream",
          "name": "stdout",
          "text": [
            "Executing function...\n",
            "Function executed.\n",
            "15\n"
          ]
        }
      ]
    },
    {
      "cell_type": "markdown",
      "source": [
        "### Question 108: Function with ( * args and **kwargs)\n",
        "\n",
        "Define a function that takes variable-length arguments and keyword arguments and prints them. Test the function with different inputs."
      ],
      "metadata": {
        "id": "4VmdK87WkX1N"
      }
    },
    {
      "cell_type": "code",
      "source": [
        "def print_args_kwargs(*args, **kwargs):\n",
        "    print('args:', args)\n",
        "    print('kwargs:', kwargs)\n",
        "\n",
        "# Test\n",
        "print_args_kwargs(1, 2, 3, a='apple', b='banana')\n",
        "print_args_kwargs('hello', 'world', x=10, y=20)"
      ],
      "metadata": {
        "colab": {
          "base_uri": "https://localhost:8080/"
        },
        "id": "AKBbA-3dkVIx",
        "outputId": "08005dd9-cd04-4234-95ee-77f5fbf99dbd"
      },
      "execution_count": 135,
      "outputs": [
        {
          "output_type": "stream",
          "name": "stdout",
          "text": [
            "args: (1, 2, 3)\n",
            "kwargs: {'a': 'apple', 'b': 'banana'}\n",
            "args: ('hello', 'world')\n",
            "kwargs: {'x': 10, 'y': 20}\n"
          ]
        }
      ]
    },
    {
      "cell_type": "markdown",
      "source": [
        "### Question 109: Higher-Order Function\n",
        "\n",
        "Define a higher-order function that takes a function and a list of integers as arguments, and applies the function to each integer in the list. Test with different functions and lists."
      ],
      "metadata": {
        "id": "bo5Lc_2dksFP"
      }
    },
    {
      "cell_type": "code",
      "source": [
        "def apply_function(func, lst):\n",
        "    return [func(x) for x in lst]\n",
        "\n",
        "# Test\n",
        "print(apply_function(lambda x: x ** 2, [1, 2, 3, 4, 5]))  # [1, 4, 9, 16, 25]\n",
        "print(apply_function(lambda x: x + 1, [1, 2, 3, 4, 5]))  # [2, 3, 4, 5, 6]"
      ],
      "metadata": {
        "colab": {
          "base_uri": "https://localhost:8080/"
        },
        "id": "25O1PQsDkdcM",
        "outputId": "e672906b-aa61-4144-91ee-e50432833db4"
      },
      "execution_count": 136,
      "outputs": [
        {
          "output_type": "stream",
          "name": "stdout",
          "text": [
            "[1, 4, 9, 16, 25]\n",
            "[2, 3, 4, 5, 6]\n"
          ]
        }
      ]
    },
    {
      "cell_type": "markdown",
      "source": [
        "### Question 110: Function Documentation\n",
        "\n",
        "Define a function with a docstring that explains what the function does, its parameters, and its return value. Print the function's docstring."
      ],
      "metadata": {
        "id": "Z4S-OWPTkzhp"
      }
    },
    {
      "cell_type": "code",
      "source": [
        "def example_function(x, y):\n",
        "    \"\"\"\n",
        "    This function takes two integers and returns their sum.\n",
        "\n",
        "    Parameters:\n",
        "    x: The first integer.\n",
        "    y: The second integer.\n",
        "\n",
        "    Returns:\n",
        "    int: The sum of the two integers.\n",
        "    \"\"\"\n",
        "    return x + y\n",
        "\n",
        "# Print docstring\n",
        "print(example_function.__doc__)"
      ],
      "metadata": {
        "colab": {
          "base_uri": "https://localhost:8080/"
        },
        "id": "5shNIKSNkwsL",
        "outputId": "58d73ff1-27b7-42c0-dbaf-f2ba8d7a4e4e"
      },
      "execution_count": 137,
      "outputs": [
        {
          "output_type": "stream",
          "name": "stdout",
          "text": [
            "\n",
            "    This function takes two integers and returns their sum.\n",
            "\n",
            "    Parameters:\n",
            "    x (int): The first integer.\n",
            "    y (int): The second integer.\n",
            "\n",
            "    Returns:\n",
            "    int: The sum of the two integers.\n",
            "    \n"
          ]
        }
      ]
    },
    {
      "cell_type": "markdown",
      "source": [
        "#### Functions Examples\n",
        "\n",
        "\n",
        "#### Example 1: Temperature Conversion"
      ],
      "metadata": {
        "id": "Jfpu3CpklFsb"
      }
    },
    {
      "cell_type": "code",
      "source": [
        "def convert_temperature(temp,unit):\n",
        "    \"\"\"This function converts temperature between Celsius and Fahrenheit\"\"\"\n",
        "    if unit=='C':\n",
        "        return temp * 9/5 + 32  ## Celsius To Fahrenheit\n",
        "    elif unit==\"F\":\n",
        "        return (temp-32)*5/9 ## Fahrenheit to celsius\n",
        "    else:\n",
        "        return None\n",
        "\n",
        "print(convert_temperature(25,'C'))\n",
        "print(convert_temperature(77,'F'))"
      ],
      "metadata": {
        "colab": {
          "base_uri": "https://localhost:8080/"
        },
        "id": "EaQDeB2kk3ER",
        "outputId": "1fae777d-30fc-41b0-e9b3-5414cf70e18e"
      },
      "execution_count": 138,
      "outputs": [
        {
          "output_type": "stream",
          "name": "stdout",
          "text": [
            "77.0\n",
            "25.0\n"
          ]
        }
      ]
    },
    {
      "cell_type": "markdown",
      "source": [
        "##### Example 2: Password Strength Checker"
      ],
      "metadata": {
        "id": "xOxKyMCblNQn"
      }
    },
    {
      "cell_type": "code",
      "source": [
        "def is_strong_password(password):\n",
        "    \"\"\"This function checks if the password is strong or not\"\"\"\n",
        "    if len(password)<8:\n",
        "        return False\n",
        "    if not any(char.isdigit() for char in password):\n",
        "        return False\n",
        "    if not any(char.islower() for char in password):\n",
        "        return False\n",
        "    if not any(char.isupper() for char in password):\n",
        "        return False\n",
        "    if not any(char in '!@#$%^&*()_+' for char in password):\n",
        "        return False\n",
        "    return True\n",
        "\n",
        "## calling the function\n",
        "print(is_strong_password(\"WeakPwd\"))\n",
        "print(is_strong_password(\"Str0ngPwd!\"))\n",
        ""
      ],
      "metadata": {
        "colab": {
          "base_uri": "https://localhost:8080/"
        },
        "id": "HxIXR5eQlKtV",
        "outputId": "f015f871-4d61-4c1f-f87b-9b58168e0b71"
      },
      "execution_count": 139,
      "outputs": [
        {
          "output_type": "stream",
          "name": "stdout",
          "text": [
            "False\n",
            "True\n"
          ]
        }
      ]
    },
    {
      "cell_type": "markdown",
      "source": [
        "##### Example 3: Calculate the Total Cost Of Items In a Shopping Cart"
      ],
      "metadata": {
        "id": "--LZMDiplRUM"
      }
    },
    {
      "cell_type": "code",
      "source": [
        "def calculate_total_cost(cart):\n",
        "    total_cost=0\n",
        "    for item in cart:\n",
        "        total_cost+=item['price']* item['quantity']\n",
        "\n",
        "    return total_cost\n",
        "\n",
        "cart=[\n",
        "    {'name':'Apple','price':0.5,'quantity':4},\n",
        "    {'name':'Banana','price':0.3,'quantity':6},\n",
        "    {'name':'Orange','price':0.7,'quantity':3}\n",
        "\n",
        "]\n",
        "\n",
        "total_cost=calculate_total_cost(cart)\n",
        "print(total_cost)"
      ],
      "metadata": {
        "colab": {
          "base_uri": "https://localhost:8080/"
        },
        "id": "NHsvjIrBlPVm",
        "outputId": "d40f2942-3719-47e6-ed67-59c79a46d76d"
      },
      "execution_count": 140,
      "outputs": [
        {
          "output_type": "stream",
          "name": "stdout",
          "text": [
            "5.8999999999999995\n"
          ]
        }
      ]
    },
    {
      "cell_type": "markdown",
      "source": [
        "##### Example 4: Check IF a String Is Palindrome"
      ],
      "metadata": {
        "id": "PUcvIqUHlXod"
      }
    },
    {
      "cell_type": "code",
      "source": [
        "def is_palindrome(s):\n",
        "    s=s.lower().replace(\" \",\"\")\n",
        "    return s==s[::-1]\n",
        "\n",
        "print(is_palindrome(\"A man a plan a canal Panama\"))\n",
        "print(is_palindrome(\"Hello\"))"
      ],
      "metadata": {
        "colab": {
          "base_uri": "https://localhost:8080/"
        },
        "id": "z_z-5JZVlVd3",
        "outputId": "59219219-e701-43e5-ef9d-8a539b3f595e"
      },
      "execution_count": 141,
      "outputs": [
        {
          "output_type": "stream",
          "name": "stdout",
          "text": [
            "True\n",
            "False\n"
          ]
        }
      ]
    },
    {
      "cell_type": "markdown",
      "source": [
        "##### Example 5: Calculate the factorials of a number using recursion"
      ],
      "metadata": {
        "id": "Cm8xirodla-u"
      }
    },
    {
      "cell_type": "code",
      "source": [
        "def factorial(n):\n",
        "    if n==0:\n",
        "        return 1\n",
        "    else:\n",
        "        return n * factorial(n-1)\n",
        "\n",
        "print(factorial(6))"
      ],
      "metadata": {
        "colab": {
          "base_uri": "https://localhost:8080/"
        },
        "id": "cBILQisylZ2m",
        "outputId": "47e82083-4eb7-4006-ef0f-bd0b729ad120"
      },
      "execution_count": 142,
      "outputs": [
        {
          "output_type": "stream",
          "name": "stdout",
          "text": [
            "720\n"
          ]
        }
      ]
    },
    {
      "cell_type": "markdown",
      "source": [
        "##### Example 6: Validate Email Address"
      ],
      "metadata": {
        "id": "nVe7DluPlpWz"
      }
    },
    {
      "cell_type": "code",
      "source": [
        "import re\n",
        "\n",
        "# Email validation function\n",
        "def is_valid_email(email):\n",
        "    \"\"\"This function checks if the email is valid.\"\"\"\n",
        "    pattern = r'^[a-zA-Z0-9_.+-]+@[a-zA-Z0-9-]+\\.[a-zA-Z0-9-.]+$'\n",
        "    return re.match(pattern, email) is not None\n",
        "\n",
        "# Calling the function\n",
        "print(is_valid_email(\"test@example.com\"))  # Output: True\n",
        "print(is_valid_email(\"invalid-email\"))  # Output: False"
      ],
      "metadata": {
        "colab": {
          "base_uri": "https://localhost:8080/"
        },
        "id": "JpMbOS-IljIs",
        "outputId": "9fc74ef0-39dc-4b56-86ce-a0660d9f9a3d"
      },
      "execution_count": 144,
      "outputs": [
        {
          "output_type": "stream",
          "name": "stdout",
          "text": [
            "True\n",
            "False\n"
          ]
        }
      ]
    },
    {
      "cell_type": "code",
      "source": [],
      "metadata": {
        "id": "CC1Bnb8hlvOK"
      },
      "execution_count": null,
      "outputs": []
    }
  ]
}