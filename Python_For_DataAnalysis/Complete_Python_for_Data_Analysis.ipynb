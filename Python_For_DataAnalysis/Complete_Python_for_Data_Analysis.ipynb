{
  "nbformat": 4,
  "nbformat_minor": 0,
  "metadata": {
    "colab": {
      "provenance": []
    },
    "kernelspec": {
      "name": "python3",
      "display_name": "Python 3"
    },
    "language_info": {
      "name": "python"
    }
  },
  "cells": [
    {
      "cell_type": "markdown",
      "source": [
        "### **Python Tutorial**"
      ],
      "metadata": {
        "id": "PVRqSpCFHE4Y"
      }
    },
    {
      "cell_type": "markdown",
      "source": [
        "### Syntax and Semantics in Python\n",
        "\n",
        "- Single line Comments and multiline comments\n",
        "- Definition of Syntax and Semantics\n",
        "- Basic Syntax Rules in Python\n",
        "- Understanding Semantics in Python\n",
        "- Common Syntax Errors and How to Avoid Them\n",
        "- Practical Code Examples"
      ],
      "metadata": {
        "id": "67axeiaX8T3W"
      }
    },
    {
      "cell_type": "markdown",
      "source": [
        "Syntax refers to the set of rules that defines the combinations of symbols that are considered to be correctly structured programs in a language. In simpler terms, syntax is about the correct arrangement of words and symbols in a code.\n",
        "\n",
        "Semantics refers to the meaning or the interpretation of the symbols, characters, and commands in a language. It is about what the code is supposed to do when it runs."
      ],
      "metadata": {
        "id": "CH0PZHR18bTm"
      }
    },
    {
      "cell_type": "code",
      "source": [
        "## Basic Syntax Rules In Python\n",
        "## Case sensitivity- Python is case sensitive\n",
        "\n",
        "name=\"Sanad\"\n",
        "Name=\"Singh\"\n",
        "\n",
        "print(name)\n",
        "print(Name)"
      ],
      "metadata": {
        "colab": {
          "base_uri": "https://localhost:8080/"
        },
        "id": "nDu6AQVo8aaC",
        "outputId": "819782fc-e089-493d-9ffe-7df5133822f6"
      },
      "execution_count": null,
      "outputs": [
        {
          "output_type": "stream",
          "name": "stdout",
          "text": [
            "Sanad\n",
            "Singh\n"
          ]
        }
      ]
    },
    {
      "cell_type": "markdown",
      "source": [
        "### Indentation\n",
        "\n",
        "Indentation in Python is used to define the structure and hierarchy of the code.\n",
        "\n",
        "Unlike many other programming languages that use braces {} to delimit blocks of code, Python uses indentation to determine the grouping of statements. This means that all the statements within a block must be indented at the same level."
      ],
      "metadata": {
        "id": "Q38MHPFP8j7D"
      }
    },
    {
      "cell_type": "code",
      "source": [
        "## Indentation\n",
        "## Python uses indentation to define blocks of code. Consistent use of spaces (commonly 4) or a tab is required.\n",
        "\n",
        "\n",
        "age=32\n",
        "if age>30:\n",
        "  print(age)\n",
        "print(age)\n"
      ],
      "metadata": {
        "colab": {
          "base_uri": "https://localhost:8080/"
        },
        "id": "FKdAv6MN8iK2",
        "outputId": "d33e7736-5f04-4dbc-ab13-901c20e87d4f"
      },
      "execution_count": null,
      "outputs": [
        {
          "output_type": "stream",
          "name": "stdout",
          "text": [
            "32\n",
            "32\n"
          ]
        }
      ]
    },
    {
      "cell_type": "code",
      "source": [
        "## This is a single line comment\n",
        "print(\"Hello World\")"
      ],
      "metadata": {
        "colab": {
          "base_uri": "https://localhost:8080/"
        },
        "id": "rIjNLp_d88IS",
        "outputId": "9eb69897-8bd8-4cea-8702-22986f734797"
      },
      "execution_count": null,
      "outputs": [
        {
          "output_type": "stream",
          "name": "stdout",
          "text": [
            "Hello World\n"
          ]
        }
      ]
    },
    {
      "cell_type": "code",
      "source": [
        "## Line Continuation\n",
        "\n",
        "##Use a backslash (\\) to continue a statement to the next line\n",
        "\n",
        "total=1+2+3+4+5+6+7+\\\n",
        "4+5+6\n",
        "\n",
        "print(total)"
      ],
      "metadata": {
        "colab": {
          "base_uri": "https://localhost:8080/"
        },
        "id": "Ea71ZZxU893s",
        "outputId": "f8769432-a3fb-4857-b85e-59c703499533"
      },
      "execution_count": null,
      "outputs": [
        {
          "output_type": "stream",
          "name": "stdout",
          "text": [
            "43\n"
          ]
        }
      ]
    },
    {
      "cell_type": "code",
      "source": [
        "## Multiple Statements on a single line\n",
        "x=5;y=10;z=x+y\n",
        "print(z)"
      ],
      "metadata": {
        "colab": {
          "base_uri": "https://localhost:8080/"
        },
        "id": "x0qrTRDu8_ka",
        "outputId": "ab9ab60f-7b0b-45ad-d31f-ebf0c7700ef7"
      },
      "execution_count": null,
      "outputs": [
        {
          "output_type": "stream",
          "name": "stdout",
          "text": [
            "15\n"
          ]
        }
      ]
    },
    {
      "cell_type": "code",
      "source": [
        "##Understand  Semnatics In Python\n",
        "# variable assignment\n",
        "\n",
        "age=25 ## integer\n",
        "name=\"Sanad\" ## string"
      ],
      "metadata": {
        "id": "U1x1C_Jb9Bk8"
      },
      "execution_count": null,
      "outputs": []
    },
    {
      "cell_type": "code",
      "source": [
        "type(age)"
      ],
      "metadata": {
        "colab": {
          "base_uri": "https://localhost:8080/"
        },
        "id": "wrIrKktN9K7X",
        "outputId": "014a60bf-4857-42d6-ba9f-8e881474738b"
      },
      "execution_count": null,
      "outputs": [
        {
          "output_type": "execute_result",
          "data": {
            "text/plain": [
              "int"
            ]
          },
          "metadata": {},
          "execution_count": 59
        }
      ]
    },
    {
      "cell_type": "code",
      "source": [
        "type(name)"
      ],
      "metadata": {
        "colab": {
          "base_uri": "https://localhost:8080/"
        },
        "id": "an-dzlns9NB7",
        "outputId": "2b9e4d2d-dd29-4ca9-d648-275f40feae2b"
      },
      "execution_count": null,
      "outputs": [
        {
          "output_type": "execute_result",
          "data": {
            "text/plain": [
              "str"
            ]
          },
          "metadata": {},
          "execution_count": 60
        }
      ]
    },
    {
      "cell_type": "code",
      "source": [
        "## Type Inference\n",
        "var=10\n",
        "print(type(var))\n",
        "var=\"Sanad\"\n",
        "print(type(var))"
      ],
      "metadata": {
        "colab": {
          "base_uri": "https://localhost:8080/"
        },
        "id": "XGlzvxv69Pdw",
        "outputId": "a0f61c84-c3f2-4594-a310-2ddf4713757b"
      },
      "execution_count": null,
      "outputs": [
        {
          "output_type": "stream",
          "name": "stdout",
          "text": [
            "<class 'int'>\n",
            "<class 'str'>\n"
          ]
        }
      ]
    },
    {
      "cell_type": "code",
      "source": [
        "age=32\n",
        "if age>30:\n",
        "    print(age)"
      ],
      "metadata": {
        "colab": {
          "base_uri": "https://localhost:8080/"
        },
        "id": "Xz-kea339X-K",
        "outputId": "cbc64abc-0c5c-4705-e6d5-cb142f07be17"
      },
      "execution_count": null,
      "outputs": [
        {
          "output_type": "stream",
          "name": "stdout",
          "text": [
            "32\n"
          ]
        }
      ]
    },
    {
      "cell_type": "markdown",
      "source": [
        "# Errors"
      ],
      "metadata": {
        "id": "P1rB-rAH9gtb"
      }
    },
    {
      "cell_type": "code",
      "source": [
        "## Name Error\n",
        "a=b"
      ],
      "metadata": {
        "id": "3Nd3pNXz9agY"
      },
      "execution_count": null,
      "outputs": []
    },
    {
      "cell_type": "code",
      "source": [
        "## Code exmaples of indentation\n",
        "if True:\n",
        "    print(\"Correct Indentation\")\n",
        "    if False:\n",
        "        print(\"This will not print\")\n",
        "    print(\"This will print\")\n",
        "print(\"Outside the if block\")"
      ],
      "metadata": {
        "colab": {
          "base_uri": "https://localhost:8080/"
        },
        "id": "HGd88va19jGu",
        "outputId": "9359c8c0-1e55-4a3a-d8df-4cdfba3e82c8"
      },
      "execution_count": null,
      "outputs": [
        {
          "output_type": "stream",
          "name": "stdout",
          "text": [
            "Correct Indentation\n",
            "This will print\n",
            "Outside the if block\n"
          ]
        }
      ]
    },
    {
      "cell_type": "markdown",
      "source": [
        "### Key Points:\n",
        "\n",
        "Understanding the syntax and semantics of Python is crucial for writing correct and meaningful programs.\n",
        "\n",
        "Syntax ensures the code is properly structured, while semantics ensures the code behaves as expected. Mastering these concepts will help in writing efficient and error-free Python code."
      ],
      "metadata": {
        "id": "rYCg8m1c93Gt"
      }
    },
    {
      "cell_type": "markdown",
      "source": [
        "### **Variables**\n",
        "\n",
        "Variables are fundamental elements in programming used to store data that can be referenced and manipulated in a program.\n",
        "\n",
        "In Python, variables are created when you assign a value to them, and they do not need explicit declaration to reserve memory space.\n",
        "\n",
        "The declaration happens automatically when you assign a value to a variable.\n",
        "\n",
        "\n",
        "- Declaring and Assigning Variables\n",
        "- Naming Conventions\n",
        "- Understanding Variable Types\n",
        "- Type Checking and Conversion\n",
        "- Dynamic Typing\n",
        "- Examples and Common Errors"
      ],
      "metadata": {
        "id": "GOXbL2k7-NiF"
      }
    },
    {
      "cell_type": "code",
      "source": [
        "## Declaring And Assigning Variables\n",
        "\n",
        "name=\"Sanad\"\n",
        "age=25\n",
        "height=5.5\n",
        "student=False\n",
        "\n",
        "## printing the variables\n",
        "\n",
        "print(\"Name:\",name)\n",
        "print(\"age :\",age)\n",
        "print(\"Height:\",height)"
      ],
      "metadata": {
        "colab": {
          "base_uri": "https://localhost:8080/"
        },
        "id": "sQkqKV1C9r8J",
        "outputId": "c2ae774e-b816-4968-8731-6fbffb542476"
      },
      "execution_count": null,
      "outputs": [
        {
          "output_type": "stream",
          "name": "stdout",
          "text": [
            "Name: Sanad\n",
            "age : 25\n",
            "Height: 5.5\n"
          ]
        }
      ]
    },
    {
      "cell_type": "code",
      "source": [
        "## Naming Conventions\n",
        "## Variable names should be descriptive\n",
        "## They must start with a letter or an '_' and contains letter,numbers and underscores\n",
        "## variables names case sensitive\n",
        "\n",
        "#valid variable names\n",
        "\n",
        "first_name=\"Sanad\"\n",
        "last_name=\"Singh\""
      ],
      "metadata": {
        "id": "HImpnPPH-0G_"
      },
      "execution_count": null,
      "outputs": []
    },
    {
      "cell_type": "code",
      "source": [
        "print(first_name,\"\",last_name)"
      ],
      "metadata": {
        "colab": {
          "base_uri": "https://localhost:8080/"
        },
        "id": "YMv3sA2k-8fh",
        "outputId": "72dfdee6-50b3-44c8-9407-62b2169c9e0d"
      },
      "execution_count": null,
      "outputs": [
        {
          "output_type": "stream",
          "name": "stdout",
          "text": [
            "Sanad  Singh\n"
          ]
        }
      ]
    },
    {
      "cell_type": "markdown",
      "source": [
        "# Invalid variable names\n",
        "\n",
        "2age=30\n",
        "\n",
        "first-name=\"sanad\"\n",
        "\n",
        "@name=\"singh\""
      ],
      "metadata": {
        "id": "cnuRpYhW_sm7"
      }
    },
    {
      "cell_type": "code",
      "source": [
        "2age=30"
      ],
      "metadata": {
        "colab": {
          "base_uri": "https://localhost:8080/",
          "height": 110
        },
        "id": "HYNvB9Kr_Bin",
        "outputId": "0172b4e2-87cd-413d-f5b6-806de2b5b2ba"
      },
      "execution_count": null,
      "outputs": [
        {
          "output_type": "error",
          "ename": "SyntaxError",
          "evalue": "invalid decimal literal (<ipython-input-108-b94744f93b18>, line 1)",
          "traceback": [
            "\u001b[0;36m  File \u001b[0;32m\"<ipython-input-108-b94744f93b18>\"\u001b[0;36m, line \u001b[0;32m1\u001b[0m\n\u001b[0;31m    2age=30\u001b[0m\n\u001b[0m    ^\u001b[0m\n\u001b[0;31mSyntaxError\u001b[0m\u001b[0;31m:\u001b[0m invalid decimal literal\n"
          ]
        }
      ]
    },
    {
      "cell_type": "code",
      "source": [
        "first-name=\"sanad\""
      ],
      "metadata": {
        "colab": {
          "base_uri": "https://localhost:8080/",
          "height": 110
        },
        "id": "RGFnNXE4_2GZ",
        "outputId": "5234f435-77bc-4f4c-be83-1b1d1d29ede3"
      },
      "execution_count": null,
      "outputs": [
        {
          "output_type": "error",
          "ename": "SyntaxError",
          "evalue": "cannot assign to expression here. Maybe you meant '==' instead of '='? (<ipython-input-109-6c7a5ab5d29b>, line 1)",
          "traceback": [
            "\u001b[0;36m  File \u001b[0;32m\"<ipython-input-109-6c7a5ab5d29b>\"\u001b[0;36m, line \u001b[0;32m1\u001b[0m\n\u001b[0;31m    first-name=\"sanad\"\u001b[0m\n\u001b[0m    ^\u001b[0m\n\u001b[0;31mSyntaxError\u001b[0m\u001b[0;31m:\u001b[0m cannot assign to expression here. Maybe you meant '==' instead of '='?\n"
          ]
        }
      ]
    },
    {
      "cell_type": "code",
      "source": [
        "@name=\"singh\""
      ],
      "metadata": {
        "colab": {
          "base_uri": "https://localhost:8080/",
          "height": 110
        },
        "id": "6U3q_Mmp_3X8",
        "outputId": "e4f496ed-c78a-491f-88da-7eff7bca5220"
      },
      "execution_count": null,
      "outputs": [
        {
          "output_type": "error",
          "ename": "SyntaxError",
          "evalue": "invalid syntax. Maybe you meant '==' or ':=' instead of '='? (<ipython-input-110-6ed4f45cfbc3>, line 1)",
          "traceback": [
            "\u001b[0;36m  File \u001b[0;32m\"<ipython-input-110-6ed4f45cfbc3>\"\u001b[0;36m, line \u001b[0;32m1\u001b[0m\n\u001b[0;31m    @name=\"singh\"\u001b[0m\n\u001b[0m     ^\u001b[0m\n\u001b[0;31mSyntaxError\u001b[0m\u001b[0;31m:\u001b[0m invalid syntax. Maybe you meant '==' or ':=' instead of '='?\n"
          ]
        }
      ]
    },
    {
      "cell_type": "code",
      "source": [
        "## Understnading Variable types\n",
        "## Python is dynamically typed,type of a variable is determined at runtime\n",
        "\n",
        "name=\"Sanad\" #str\n",
        "age=25 #int\n",
        "height=5.5 #float\n",
        "student=False #bool\n",
        "\n",
        "print(type(name))\n",
        "type(height)"
      ],
      "metadata": {
        "colab": {
          "base_uri": "https://localhost:8080/"
        },
        "id": "3htWpAUn_5OP",
        "outputId": "2c49c3fd-e6d5-44a8-bacf-71ec16a71777"
      },
      "execution_count": null,
      "outputs": [
        {
          "output_type": "stream",
          "name": "stdout",
          "text": [
            "<class 'str'>\n"
          ]
        },
        {
          "output_type": "execute_result",
          "data": {
            "text/plain": [
              "float"
            ]
          },
          "metadata": {},
          "execution_count": 111
        }
      ]
    },
    {
      "cell_type": "markdown",
      "source": [
        "# Type conversion"
      ],
      "metadata": {
        "id": "UBtBq67EAv1L"
      }
    },
    {
      "cell_type": "code",
      "source": [
        "age=25\n",
        "print(type(age))"
      ],
      "metadata": {
        "colab": {
          "base_uri": "https://localhost:8080/"
        },
        "id": "nfog_hM1Agex",
        "outputId": "19d82a13-014b-423a-c768-09ee24b7585d"
      },
      "execution_count": null,
      "outputs": [
        {
          "output_type": "stream",
          "name": "stdout",
          "text": [
            "<class 'int'>\n"
          ]
        }
      ]
    },
    {
      "cell_type": "code",
      "source": [
        "age_str=str(age)\n",
        "\n",
        "print(age_str)\n",
        "\n",
        "print(type(age_str))"
      ],
      "metadata": {
        "colab": {
          "base_uri": "https://localhost:8080/"
        },
        "id": "VlSv7tKwAyor",
        "outputId": "7d90cb6f-40aa-4ed0-ed7a-258058a03746"
      },
      "execution_count": null,
      "outputs": [
        {
          "output_type": "stream",
          "name": "stdout",
          "text": [
            "25\n",
            "<class 'str'>\n"
          ]
        }
      ]
    },
    {
      "cell_type": "code",
      "source": [
        "age='25'\n",
        "print(type(int(age)))"
      ],
      "metadata": {
        "colab": {
          "base_uri": "https://localhost:8080/"
        },
        "id": "xXfBnuk9A2mY",
        "outputId": "b4491922-d713-4ae3-dbfa-5a0d173db1b0"
      },
      "execution_count": null,
      "outputs": [
        {
          "output_type": "stream",
          "name": "stdout",
          "text": [
            "<class 'int'>\n"
          ]
        }
      ]
    },
    {
      "cell_type": "code",
      "source": [
        "name=\"Sam\"\n",
        "int(name)"
      ],
      "metadata": {
        "colab": {
          "base_uri": "https://localhost:8080/",
          "height": 164
        },
        "id": "gAm-wUvyA6J9",
        "outputId": "f539b713-3413-4f73-f54e-4be34acb5c7d"
      },
      "execution_count": null,
      "outputs": [
        {
          "output_type": "error",
          "ename": "ValueError",
          "evalue": "invalid literal for int() with base 10: 'Sam'",
          "traceback": [
            "\u001b[0;31m---------------------------------------------------------------------------\u001b[0m",
            "\u001b[0;31mValueError\u001b[0m                                Traceback (most recent call last)",
            "\u001b[0;32m<ipython-input-115-5a332d30caa1>\u001b[0m in \u001b[0;36m<cell line: 2>\u001b[0;34m()\u001b[0m\n\u001b[1;32m      1\u001b[0m \u001b[0mname\u001b[0m\u001b[0;34m=\u001b[0m\u001b[0;34m\"Sam\"\u001b[0m\u001b[0;34m\u001b[0m\u001b[0;34m\u001b[0m\u001b[0m\n\u001b[0;32m----> 2\u001b[0;31m \u001b[0mint\u001b[0m\u001b[0;34m(\u001b[0m\u001b[0mname\u001b[0m\u001b[0;34m)\u001b[0m\u001b[0;34m\u001b[0m\u001b[0;34m\u001b[0m\u001b[0m\n\u001b[0m",
            "\u001b[0;31mValueError\u001b[0m: invalid literal for int() with base 10: 'Sam'"
          ]
        }
      ]
    },
    {
      "cell_type": "code",
      "source": [
        "height=5.11\n",
        "type(height)"
      ],
      "metadata": {
        "colab": {
          "base_uri": "https://localhost:8080/"
        },
        "id": "2XiJLNV7A_yG",
        "outputId": "78363d7a-2753-4a5b-8a12-1b9e674ca223"
      },
      "execution_count": null,
      "outputs": [
        {
          "output_type": "execute_result",
          "data": {
            "text/plain": [
              "float"
            ]
          },
          "metadata": {},
          "execution_count": 116
        }
      ]
    },
    {
      "cell_type": "code",
      "source": [
        "float(int(height))"
      ],
      "metadata": {
        "colab": {
          "base_uri": "https://localhost:8080/"
        },
        "id": "1rVOk7XNBCjC",
        "outputId": "7e2c3b6b-c5bb-483d-b5ec-2dc55cc25331"
      },
      "execution_count": null,
      "outputs": [
        {
          "output_type": "execute_result",
          "data": {
            "text/plain": [
              "5.0"
            ]
          },
          "metadata": {},
          "execution_count": 117
        }
      ]
    },
    {
      "cell_type": "code",
      "source": [
        "## Dynamic Typing\n",
        "## During program execution, python allows to change the type of a variable\n",
        "\n",
        "var=102 #int\n",
        "print(var,type(var))\n",
        "\n",
        "var=\"Rambo\"\n",
        "print(var,type(var))\n",
        "\n",
        "var=3.14\n",
        "print(var,type(var))"
      ],
      "metadata": {
        "colab": {
          "base_uri": "https://localhost:8080/"
        },
        "id": "Pmm9NPZMBDzg",
        "outputId": "e2b2c8b1-655a-4c58-fb61-cbbcf5abfc8b"
      },
      "execution_count": null,
      "outputs": [
        {
          "output_type": "stream",
          "name": "stdout",
          "text": [
            "102 <class 'int'>\n",
            "Rambo <class 'str'>\n",
            "3.14 <class 'float'>\n"
          ]
        }
      ]
    },
    {
      "cell_type": "code",
      "source": [
        "## input\n",
        "\n",
        "age=int(input(\"What is the age\"))\n",
        "print(age,type(age))"
      ],
      "metadata": {
        "colab": {
          "base_uri": "https://localhost:8080/"
        },
        "id": "XUgdUnwkBdg1",
        "outputId": "0d5ca92f-7110-4d5d-88e3-242621652ea5"
      },
      "execution_count": null,
      "outputs": [
        {
          "output_type": "stream",
          "name": "stdout",
          "text": [
            "What is the age20\n",
            "20 <class 'int'>\n"
          ]
        }
      ]
    },
    {
      "cell_type": "markdown",
      "source": [
        "### Simple Calculator using basic Arithmetic operations such as\n",
        "\n",
        "- addition\n",
        "\n",
        "- subtraction\n",
        "\n",
        "- multiplication\n",
        "\n",
        "- division"
      ],
      "metadata": {
        "id": "kHOlc6-lBpD1"
      }
    },
    {
      "cell_type": "code",
      "source": [
        "### Simple calculator\n",
        "num1 = float(input(\"Enter first number: \"))\n",
        "num2 = float(input(\"Enter second number: \"))\n",
        "\n",
        "sum = num1 + num2\n",
        "difference = num1 - num2\n",
        "product = num1 * num2\n",
        "quotient = num1 / num2\n",
        "\n",
        "print(\"Sum:\", sum)\n",
        "print(\"Difference:\", difference)\n",
        "print(\"Product:\", product)\n",
        "print(\"Quotient:\", quotient)"
      ],
      "metadata": {
        "colab": {
          "base_uri": "https://localhost:8080/"
        },
        "id": "zLs_AmH2Bkq5",
        "outputId": "c9659115-69ab-4a6a-b0bf-1e2f39867402"
      },
      "execution_count": null,
      "outputs": [
        {
          "output_type": "stream",
          "name": "stdout",
          "text": [
            "Enter first number: 50\n",
            "Enter second number: 50\n",
            "Sum: 100.0\n",
            "Difference: 0.0\n",
            "Product: 2500.0\n",
            "Quotient: 1.0\n"
          ]
        }
      ]
    },
    {
      "cell_type": "markdown",
      "source": [
        "### KKB (Kaam ki Baat):\n",
        "\n",
        "- Variables are essential in Python programming for storing and manipulating data.\n",
        "- Understanding how to declare, assign, and use variables effectively is crucial for writing functional and efficient code.\n",
        "- Following proper naming conventions and understanding variable types will help in maintaining readability and consistency in your code."
      ],
      "metadata": {
        "id": "QIl_gpXiCTaV"
      }
    },
    {
      "cell_type": "markdown",
      "source": [
        "\n",
        "## **DataTypes**\n",
        "#### 1. **Definition**:\n",
        "\n",
        "- Data types are a classification of data which tell the compiler or interpreter how the programmer intends to use the data.\n",
        "- They determine the type of operations that can be performed on the data, the values that the data can take, and the amount of memory needed to store the data.\n",
        "\n",
        "#### 2. ***Importance of Data Types in Programming***\n",
        "**Explanation:**\n",
        "\n",
        "- Data types ensure that data is stored in an efficient way.\n",
        "- They help in performing correct operations on data.\n",
        "- Proper use of data types can prevent errors and bugs in the program.\n",
        "\n",
        "\n",
        "**Basic Data Types**\n",
        "   - Integers\n",
        "   - Floating-point numbers\n",
        "   - Strings\n",
        "   - Booleans\n",
        "\n",
        "**Advanced Data Types**\n",
        "   - Lists\n",
        "   - Tuples\n",
        "   - Sets\n",
        "   - Dictionaries\n",
        "\n",
        "**Type Conversion**\n"
      ],
      "metadata": {
        "id": "Rz4XtoDQDNby"
      }
    },
    {
      "cell_type": "code",
      "source": [
        "## Integer Example\n",
        "age=28\n",
        "type(age)"
      ],
      "metadata": {
        "colab": {
          "base_uri": "https://localhost:8080/"
        },
        "id": "e7xgsdc4CNzF",
        "outputId": "b5d1cc66-3953-45bf-ea0a-865690748019"
      },
      "execution_count": null,
      "outputs": [
        {
          "output_type": "execute_result",
          "data": {
            "text/plain": [
              "int"
            ]
          },
          "metadata": {},
          "execution_count": 121
        }
      ]
    },
    {
      "cell_type": "code",
      "source": [
        "##floating point datatype\n",
        "height=5.6\n",
        "print(height)\n",
        "print(type(height))"
      ],
      "metadata": {
        "colab": {
          "base_uri": "https://localhost:8080/"
        },
        "id": "unfvUDUJD8V1",
        "outputId": "27c37fa6-5f99-4367-894b-89afa29a0aba"
      },
      "execution_count": null,
      "outputs": [
        {
          "output_type": "stream",
          "name": "stdout",
          "text": [
            "5.6\n",
            "<class 'float'>\n"
          ]
        }
      ]
    },
    {
      "cell_type": "code",
      "source": [
        "## string datatype example\n",
        "name=\"Sanad\"\n",
        "print(name)\n",
        "print(type(name))"
      ],
      "metadata": {
        "colab": {
          "base_uri": "https://localhost:8080/"
        },
        "id": "ynBrc6HyD-I3",
        "outputId": "30af386e-ca51-4c4c-8fec-c8ab111505b7"
      },
      "execution_count": null,
      "outputs": [
        {
          "output_type": "stream",
          "name": "stdout",
          "text": [
            "Sanad\n",
            "<class 'str'>\n"
          ]
        }
      ]
    },
    {
      "cell_type": "code",
      "source": [
        "## boolean datatype\n",
        "is_true=True\n",
        "type(is_true)"
      ],
      "metadata": {
        "colab": {
          "base_uri": "https://localhost:8080/"
        },
        "id": "yaXpANEhEG5i",
        "outputId": "6b33c9df-0fb8-44a5-aaa1-aecbc07ff50a"
      },
      "execution_count": null,
      "outputs": [
        {
          "output_type": "execute_result",
          "data": {
            "text/plain": [
              "bool"
            ]
          },
          "metadata": {},
          "execution_count": 124
        }
      ]
    },
    {
      "cell_type": "code",
      "source": [
        "a=10\n",
        "b=10\n",
        "type(a==b)"
      ],
      "metadata": {
        "colab": {
          "base_uri": "https://localhost:8080/"
        },
        "id": "Etgi7M57EH8w",
        "outputId": "e8c2fa99-6a03-4f34-e832-e6b6617f145b"
      },
      "execution_count": null,
      "outputs": [
        {
          "output_type": "execute_result",
          "data": {
            "text/plain": [
              "bool"
            ]
          },
          "metadata": {},
          "execution_count": 125
        }
      ]
    },
    {
      "cell_type": "code",
      "source": [
        "## common errors\n",
        "\n",
        "result=\"Hello\" + 5"
      ],
      "metadata": {
        "colab": {
          "base_uri": "https://localhost:8080/",
          "height": 183
        },
        "id": "E5YM9k5OEJVJ",
        "outputId": "d69d8d65-ba5b-48a0-877d-25297334f3d7"
      },
      "execution_count": null,
      "outputs": [
        {
          "output_type": "error",
          "ename": "TypeError",
          "evalue": "can only concatenate str (not \"int\") to str",
          "traceback": [
            "\u001b[0;31m---------------------------------------------------------------------------\u001b[0m",
            "\u001b[0;31mTypeError\u001b[0m                                 Traceback (most recent call last)",
            "\u001b[0;32m<ipython-input-126-3a0769e33931>\u001b[0m in \u001b[0;36m<cell line: 3>\u001b[0;34m()\u001b[0m\n\u001b[1;32m      1\u001b[0m \u001b[0;31m## common errors\u001b[0m\u001b[0;34m\u001b[0m\u001b[0;34m\u001b[0m\u001b[0m\n\u001b[1;32m      2\u001b[0m \u001b[0;34m\u001b[0m\u001b[0m\n\u001b[0;32m----> 3\u001b[0;31m \u001b[0mresult\u001b[0m\u001b[0;34m=\u001b[0m\u001b[0;34m\"Hello\"\u001b[0m \u001b[0;34m+\u001b[0m \u001b[0;36m5\u001b[0m\u001b[0;34m\u001b[0m\u001b[0;34m\u001b[0m\u001b[0m\n\u001b[0m",
            "\u001b[0;31mTypeError\u001b[0m: can only concatenate str (not \"int\") to str"
          ]
        }
      ]
    },
    {
      "cell_type": "code",
      "source": [
        "result=\"Hello\" + str(5)\n",
        "print(result)"
      ],
      "metadata": {
        "colab": {
          "base_uri": "https://localhost:8080/"
        },
        "id": "BRL4eVQHEN12",
        "outputId": "d20f539f-a706-40fd-c118-00bf407cd576"
      },
      "execution_count": null,
      "outputs": [
        {
          "output_type": "stream",
          "name": "stdout",
          "text": [
            "Hello5\n"
          ]
        }
      ]
    },
    {
      "cell_type": "markdown",
      "source": [
        "## **Deep Dive into Operators**\n",
        "\n",
        "**Arithmetic Operators**\n",
        "   - Addition\n",
        "   - Subtraction\n",
        "   - Multiplication\n",
        "   - Division\n",
        "   - Floor Division\n",
        "   - Modulus\n",
        "   - Exponentiation\n",
        "\n",
        "**Comparison Operators**\n",
        "   - Equal to\n",
        "   - Not equal to\n",
        "   - Greater than\n",
        "   - Less than\n",
        "   - Greater than or equal to\n",
        "   - Less than or equal to\n",
        "\n",
        "**Logical Operators**\n",
        "   - AND\n",
        "   - OR\n",
        "   - NOT\n",
        "\n",
        "Practical Examples and Common Errors\n",
        "\n"
      ],
      "metadata": {
        "id": "9ROKuZ2sFEe7"
      }
    },
    {
      "cell_type": "code",
      "source": [
        "## Arithmethic Operation\n",
        "\n",
        "a= 200\n",
        "b = 12\n",
        "\n",
        "add=a+b  #addiiton\n",
        "sub=a-b  #substraction\n",
        "mult=a*b #multiplication\n",
        "div=a/b  #division\n",
        "floor_div=a//b ## floor division\n",
        "modulus=a%b #modulus operation\n",
        "\n",
        "exponent=a**b ## Exponentiation\n",
        "\n",
        "print(add)\n",
        "print(sub)\n",
        "print(mult)\n",
        "print(div)\n",
        "print(floor_div)\n",
        "print(modulus)\n",
        "print(exponent)"
      ],
      "metadata": {
        "colab": {
          "base_uri": "https://localhost:8080/"
        },
        "id": "DG3Pat6TEPQb",
        "outputId": "efe2f604-4c2e-4034-8464-cb49fb5c4c07"
      },
      "execution_count": null,
      "outputs": [
        {
          "output_type": "stream",
          "name": "stdout",
          "text": [
            "212\n",
            "188\n",
            "2400\n",
            "16.666666666666668\n",
            "16\n",
            "8\n",
            "4096000000000000000000000000\n"
          ]
        }
      ]
    },
    {
      "cell_type": "code",
      "source": [
        "print(1035/5)\n",
        "print(210/5)\n",
        "print(216//5)"
      ],
      "metadata": {
        "colab": {
          "base_uri": "https://localhost:8080/"
        },
        "id": "6XS7kONcFrAP",
        "outputId": "4b1c12ad-ccf7-4b08-fbcf-779e542911cb"
      },
      "execution_count": null,
      "outputs": [
        {
          "output_type": "stream",
          "name": "stdout",
          "text": [
            "207.0\n",
            "42.0\n",
            "43\n"
          ]
        }
      ]
    },
    {
      "cell_type": "markdown",
      "source": [
        "#### **Comparison Operators**"
      ],
      "metadata": {
        "id": "j66s13SAGKf4"
      }
    },
    {
      "cell_type": "code",
      "source": [
        "## Comparison Operators\n",
        "## == Equal to\n",
        "a=10\n",
        "b=10\n",
        "\n",
        "a==b"
      ],
      "metadata": {
        "colab": {
          "base_uri": "https://localhost:8080/"
        },
        "id": "vIMvkL7EGCTt",
        "outputId": "a097df49-e521-4235-ba91-8c697417dabb"
      },
      "execution_count": null,
      "outputs": [
        {
          "output_type": "execute_result",
          "data": {
            "text/plain": [
              "True"
            ]
          },
          "metadata": {},
          "execution_count": 130
        }
      ]
    },
    {
      "cell_type": "code",
      "source": [
        "str1=\"Pankaj\"\n",
        "str2=\"Raj\"\n",
        "\n",
        "str1==str2"
      ],
      "metadata": {
        "colab": {
          "base_uri": "https://localhost:8080/"
        },
        "id": "r_xk5N8dGP4A",
        "outputId": "6c4eddbf-a6a5-44c2-8b8d-3245e2e8f221"
      },
      "execution_count": null,
      "outputs": [
        {
          "output_type": "execute_result",
          "data": {
            "text/plain": [
              "False"
            ]
          },
          "metadata": {},
          "execution_count": 131
        }
      ]
    },
    {
      "cell_type": "code",
      "source": [
        "## Not Equal to !=\n",
        "str1!=str2"
      ],
      "metadata": {
        "colab": {
          "base_uri": "https://localhost:8080/"
        },
        "id": "4Idb41GQGV57",
        "outputId": "710d7fb6-4b5b-44b5-eca1-e850189ec321"
      },
      "execution_count": null,
      "outputs": [
        {
          "output_type": "execute_result",
          "data": {
            "text/plain": [
              "True"
            ]
          },
          "metadata": {},
          "execution_count": 132
        }
      ]
    },
    {
      "cell_type": "code",
      "source": [
        "str3=\"Sanad\"\n",
        "str4=\"Sanad\"\n",
        "\n",
        "str3!=str4"
      ],
      "metadata": {
        "colab": {
          "base_uri": "https://localhost:8080/"
        },
        "id": "MqKIlp4RGXSV",
        "outputId": "c0f7927d-2b32-4d2c-8550-63c356473808"
      },
      "execution_count": null,
      "outputs": [
        {
          "output_type": "execute_result",
          "data": {
            "text/plain": [
              "False"
            ]
          },
          "metadata": {},
          "execution_count": 133
        }
      ]
    },
    {
      "cell_type": "code",
      "source": [
        "# greater than >\n",
        "\n",
        "num1=45\n",
        "num2=55\n",
        "\n",
        "num1>num2"
      ],
      "metadata": {
        "colab": {
          "base_uri": "https://localhost:8080/"
        },
        "id": "kHsCB7CLGfQn",
        "outputId": "86233faf-3ff8-4249-c12e-430af18b1eb6"
      },
      "execution_count": null,
      "outputs": [
        {
          "output_type": "execute_result",
          "data": {
            "text/plain": [
              "False"
            ]
          },
          "metadata": {},
          "execution_count": 134
        }
      ]
    },
    {
      "cell_type": "code",
      "source": [
        "## less than <\n",
        "\n",
        "print(num1<num2)\n"
      ],
      "metadata": {
        "colab": {
          "base_uri": "https://localhost:8080/"
        },
        "id": "-3OQHW84Gr7F",
        "outputId": "cd925e0a-93d4-473f-9a0d-f99066072489"
      },
      "execution_count": null,
      "outputs": [
        {
          "output_type": "stream",
          "name": "stdout",
          "text": [
            "True\n"
          ]
        }
      ]
    },
    {
      "cell_type": "code",
      "source": [
        "#greater than or equal to\n",
        "number1=45\n",
        "number2=45\n",
        "\n",
        "print(number1>=number2)"
      ],
      "metadata": {
        "colab": {
          "base_uri": "https://localhost:8080/"
        },
        "id": "Yc0s6_9PGs_o",
        "outputId": "64ac6759-37cb-4386-e72d-7e60252d5558"
      },
      "execution_count": null,
      "outputs": [
        {
          "output_type": "stream",
          "name": "stdout",
          "text": [
            "True\n"
          ]
        }
      ]
    },
    {
      "cell_type": "code",
      "source": [
        "#less than or equal to\n",
        "number1=44\n",
        "number2=45\n",
        "\n",
        "print(number1<=number2)"
      ],
      "metadata": {
        "colab": {
          "base_uri": "https://localhost:8080/"
        },
        "id": "oXMUYZOcGuXr",
        "outputId": "be89d3c7-3e8d-4c08-a50f-2763c9b862c8"
      },
      "execution_count": null,
      "outputs": [
        {
          "output_type": "stream",
          "name": "stdout",
          "text": [
            "True\n"
          ]
        }
      ]
    },
    {
      "cell_type": "markdown",
      "source": [
        "#### **Logical Operators**"
      ],
      "metadata": {
        "id": "_VsCgKkpG42Q"
      }
    },
    {
      "cell_type": "code",
      "source": [
        "## And ,Not,OR\n",
        "X=True\n",
        "Y=True\n",
        "\n",
        "result =X and Y\n",
        "print(result)"
      ],
      "metadata": {
        "colab": {
          "base_uri": "https://localhost:8080/"
        },
        "id": "mI2_seeHG4Hf",
        "outputId": "004d785a-01c6-4b9e-a7fa-23cce474f25d"
      },
      "execution_count": null,
      "outputs": [
        {
          "output_type": "stream",
          "name": "stdout",
          "text": [
            "True\n"
          ]
        }
      ]
    },
    {
      "cell_type": "code",
      "source": [
        "X=False\n",
        "Y=True\n",
        "\n",
        "result =X and Y\n",
        "print(result)"
      ],
      "metadata": {
        "colab": {
          "base_uri": "https://localhost:8080/"
        },
        "id": "OC4OLg7LHAMh",
        "outputId": "c2e4689c-8eb1-485e-c06d-3e29fb8a9930"
      },
      "execution_count": null,
      "outputs": [
        {
          "output_type": "stream",
          "name": "stdout",
          "text": [
            "False\n"
          ]
        }
      ]
    },
    {
      "cell_type": "code",
      "source": [
        "## OR\n",
        "X=False\n",
        "Y=False\n",
        "\n",
        "result =X or Y\n",
        "print(result)"
      ],
      "metadata": {
        "colab": {
          "base_uri": "https://localhost:8080/"
        },
        "id": "hqnJCfkvHBeo",
        "outputId": "658eba4c-633c-412a-9f07-487a9f13203f"
      },
      "execution_count": null,
      "outputs": [
        {
          "output_type": "stream",
          "name": "stdout",
          "text": [
            "False\n"
          ]
        }
      ]
    },
    {
      "cell_type": "code",
      "source": [
        "# Not operator\n",
        "X=False\n",
        "not X"
      ],
      "metadata": {
        "colab": {
          "base_uri": "https://localhost:8080/"
        },
        "id": "PpVr9GHZHDjU",
        "outputId": "07f0008c-6000-4c07-fc2a-4fe803e0145c"
      },
      "execution_count": null,
      "outputs": [
        {
          "output_type": "execute_result",
          "data": {
            "text/plain": [
              "True"
            ]
          },
          "metadata": {},
          "execution_count": 141
        }
      ]
    },
    {
      "cell_type": "code",
      "source": [
        "# Simple calculator using input function\n",
        "\n",
        "num1 = float(input(\"Enter first number: \"))\n",
        "num2 = float(input(\"Enter second number: \"))\n",
        "\n",
        "# Performing arithmetic operations\n",
        "\n",
        "addition = num1 + num2\n",
        "subtraction = num1 - num2\n",
        "multiplication = num1 * num2\n",
        "division = num1 / num2\n",
        "floor_division = num1 // num2\n",
        "modulus = num1 % num2\n",
        "exponentiation = num1 ** num2\n",
        "\n",
        "# Displaying results\n",
        "\n",
        "print(\"Addition:\", addition)\n",
        "print(\"Subtraction:\", subtraction)\n",
        "print(\"Multiplication:\", multiplication)\n",
        "print(\"Division:\", division)\n",
        "print(\"Floor Division:\", floor_division)\n",
        "print(\"Modulus:\", modulus)\n",
        "print(\"Exponentiation:\", exponentiation)"
      ],
      "metadata": {
        "colab": {
          "base_uri": "https://localhost:8080/"
        },
        "id": "5IZS6y9LHLw2",
        "outputId": "e41c7e9d-a413-46df-a73c-cdf90b1c8f0b"
      },
      "execution_count": null,
      "outputs": [
        {
          "output_type": "stream",
          "name": "stdout",
          "text": [
            "Enter first number: 35\n",
            "Enter second number: 10\n",
            "Addition: 45.0\n",
            "Subtraction: 25.0\n",
            "Multiplication: 350.0\n",
            "Division: 3.5\n",
            "Floor Division: 3.0\n",
            "Modulus: 5.0\n",
            "Exponentiation: 2758547353515625.0\n"
          ]
        }
      ]
    },
    {
      "cell_type": "markdown",
      "source": [
        "# Python Strings\n",
        "\n",
        "Strings in python are surrounded by either single quotation marks, or double quotation marks.\n",
        "\n",
        "'hello' is the same as \"hello\""
      ],
      "metadata": {
        "id": "PVjKY-MvWBSw"
      }
    },
    {
      "cell_type": "code",
      "source": [
        "print(\"Hello\")\n",
        "print('Hello')"
      ],
      "metadata": {
        "colab": {
          "base_uri": "https://localhost:8080/"
        },
        "id": "opSql9oTV_ph",
        "outputId": "c29eb3c3-76d4-4aa2-b4e1-ad870af4919f"
      },
      "execution_count": null,
      "outputs": [
        {
          "output_type": "stream",
          "name": "stdout",
          "text": [
            "Hello\n",
            "Hello\n"
          ]
        }
      ]
    },
    {
      "cell_type": "code",
      "source": [
        "a = \"Hello\"   #Assign String to a Variable\n",
        "print(a)"
      ],
      "metadata": {
        "colab": {
          "base_uri": "https://localhost:8080/"
        },
        "id": "XxhdvXRWV_xy",
        "outputId": "dc2f25bb-7c99-4b49-e83f-efdd7b8ddb6a"
      },
      "execution_count": null,
      "outputs": [
        {
          "output_type": "stream",
          "name": "stdout",
          "text": [
            "Hello\n"
          ]
        }
      ]
    },
    {
      "cell_type": "code",
      "source": [
        "b=\"world\"\n",
        "print(b)"
      ],
      "metadata": {
        "colab": {
          "base_uri": "https://localhost:8080/"
        },
        "id": "JTQrAF-sV_0o",
        "outputId": "5937362f-3ce1-46ac-c001-d763b829455b"
      },
      "execution_count": null,
      "outputs": [
        {
          "output_type": "stream",
          "name": "stdout",
          "text": [
            "world\n"
          ]
        }
      ]
    },
    {
      "cell_type": "code",
      "source": [
        "c=a+b  #concatination"
      ],
      "metadata": {
        "id": "mPEHIxQEV_36"
      },
      "execution_count": null,
      "outputs": []
    },
    {
      "cell_type": "code",
      "source": [
        "print(c)"
      ],
      "metadata": {
        "colab": {
          "base_uri": "https://localhost:8080/"
        },
        "id": "STY-hs3SV_7a",
        "outputId": "65a51bde-3be7-496d-c19e-a6c569def00f"
      },
      "execution_count": null,
      "outputs": [
        {
          "output_type": "stream",
          "name": "stdout",
          "text": [
            "Helloworld\n"
          ]
        }
      ]
    },
    {
      "cell_type": "code",
      "source": [
        "#Multiline Strings\n",
        "\n",
        "a = \"\"\"Lorem ipsum dolor sit amet,\n",
        "consectetur adipiscing elit,\n",
        "sed do eiusmod tempor incididunt\n",
        "ut labore et dolore magna aliqua.\"\"\"\n",
        "print(a)"
      ],
      "metadata": {
        "colab": {
          "base_uri": "https://localhost:8080/"
        },
        "id": "vnAiD0rNWPgP",
        "outputId": "3d364711-907a-460f-d0de-0a32947e0463"
      },
      "execution_count": null,
      "outputs": [
        {
          "output_type": "stream",
          "name": "stdout",
          "text": [
            "Lorem ipsum dolor sit amet,\n",
            "consectetur adipiscing elit,\n",
            "sed do eiusmod tempor incididunt\n",
            "ut labore et dolore magna aliqua.\n"
          ]
        }
      ]
    },
    {
      "cell_type": "markdown",
      "source": [
        "## Strings are Arrays\n",
        "\n",
        "- Like many other popular programming languages, strings in Python are arrays of bytes representing unicode characters.\n",
        "\n",
        "- However, Python does not have a character data type, a single character is simply a string with a length of 1."
      ],
      "metadata": {
        "id": "ATrAVmzbWYCT"
      }
    },
    {
      "cell_type": "code",
      "source": [
        "# Get the character at position 1 (remember that the first character has the position 0):\n",
        "\n",
        "a = \"Hello, World!\"\n",
        "print(a[1])"
      ],
      "metadata": {
        "colab": {
          "base_uri": "https://localhost:8080/"
        },
        "id": "5qcNedMxWPjf",
        "outputId": "ab064fa7-e277-4314-8c97-4802f3319a92"
      },
      "execution_count": null,
      "outputs": [
        {
          "output_type": "stream",
          "name": "stdout",
          "text": [
            "e\n"
          ]
        }
      ]
    },
    {
      "cell_type": "code",
      "source": [
        "# get the length of string\n",
        "\n",
        "s=\"spam\"\n",
        "len(s)"
      ],
      "metadata": {
        "colab": {
          "base_uri": "https://localhost:8080/"
        },
        "id": "YVVUw97HWPmr",
        "outputId": "6420f6b7-d366-475d-f3b5-1a9c0f75780a"
      },
      "execution_count": null,
      "outputs": [
        {
          "output_type": "execute_result",
          "data": {
            "text/plain": [
              "4"
            ]
          },
          "metadata": {},
          "execution_count": 150
        }
      ]
    },
    {
      "cell_type": "code",
      "source": [
        "#pull out p, m using indexing\n",
        "\n",
        "print(s[1])\n",
        "\n",
        "print(s[-1])"
      ],
      "metadata": {
        "colab": {
          "base_uri": "https://localhost:8080/"
        },
        "id": "z9HHvNMRWPpz",
        "outputId": "ea04452b-a136-4572-f41f-f2d4486a60a6"
      },
      "execution_count": null,
      "outputs": [
        {
          "output_type": "stream",
          "name": "stdout",
          "text": [
            "p\n",
            "m\n"
          ]
        }
      ]
    },
    {
      "cell_type": "code",
      "source": [
        "s[len(s)-1] #reverse Indexing"
      ],
      "metadata": {
        "colab": {
          "base_uri": "https://localhost:8080/",
          "height": 36
        },
        "id": "V5fdM6DZWPtD",
        "outputId": "97e32607-f7a6-4149-d54d-e6583d661989"
      },
      "execution_count": null,
      "outputs": [
        {
          "output_type": "execute_result",
          "data": {
            "text/plain": [
              "'m'"
            ],
            "application/vnd.google.colaboratory.intrinsic+json": {
              "type": "string"
            }
          },
          "metadata": {},
          "execution_count": 152
        }
      ]
    },
    {
      "cell_type": "code",
      "source": [
        "# pull out pa, pam,spa,spam using slicing\n",
        "\n",
        "print(s[1:3])\n",
        "print(s[1:4])"
      ],
      "metadata": {
        "colab": {
          "base_uri": "https://localhost:8080/"
        },
        "id": "6rXCbF_eWPwR",
        "outputId": "44d8f828-717b-43a1-c8de-f91bee96333f"
      },
      "execution_count": null,
      "outputs": [
        {
          "output_type": "stream",
          "name": "stdout",
          "text": [
            "pa\n",
            "pam\n"
          ]
        }
      ]
    },
    {
      "cell_type": "code",
      "source": [
        "print(s[:-1]) # eliminate the last element of the string\n",
        "print(s[:]) #all character from string"
      ],
      "metadata": {
        "colab": {
          "base_uri": "https://localhost:8080/"
        },
        "id": "UCDcyU9RWPza",
        "outputId": "e20d7275-bbf6-4d16-d817-1b1154372421"
      },
      "execution_count": null,
      "outputs": [
        {
          "output_type": "stream",
          "name": "stdout",
          "text": [
            "spa\n",
            "spam\n"
          ]
        }
      ]
    },
    {
      "cell_type": "markdown",
      "source": [
        "## Concatination (adding of two strings)"
      ],
      "metadata": {
        "id": "fJ7v8Hp1Wqtv"
      }
    },
    {
      "cell_type": "code",
      "source": [
        "s"
      ],
      "metadata": {
        "colab": {
          "base_uri": "https://localhost:8080/",
          "height": 36
        },
        "id": "fd49sxe0WP3B",
        "outputId": "ebb17a7f-fdb4-406f-fc89-57108ffb0fc6"
      },
      "execution_count": null,
      "outputs": [
        {
          "output_type": "execute_result",
          "data": {
            "text/plain": [
              "'spam'"
            ],
            "application/vnd.google.colaboratory.intrinsic+json": {
              "type": "string"
            }
          },
          "metadata": {},
          "execution_count": 155
        }
      ]
    },
    {
      "cell_type": "code",
      "source": [
        "s+ \"email\""
      ],
      "metadata": {
        "colab": {
          "base_uri": "https://localhost:8080/",
          "height": 36
        },
        "id": "5kttIlgTWP6U",
        "outputId": "501e15b7-1e14-4c68-e3f3-229930227de7"
      },
      "execution_count": null,
      "outputs": [
        {
          "output_type": "execute_result",
          "data": {
            "text/plain": [
              "'spamemail'"
            ],
            "application/vnd.google.colaboratory.intrinsic+json": {
              "type": "string"
            }
          },
          "metadata": {},
          "execution_count": 156
        }
      ]
    },
    {
      "cell_type": "code",
      "source": [
        "print(s + \"email\")"
      ],
      "metadata": {
        "colab": {
          "base_uri": "https://localhost:8080/"
        },
        "id": "Bxm5h9HnWP9z",
        "outputId": "e3ff5caf-3746-4b53-db92-6e484caa5cd4"
      },
      "execution_count": null,
      "outputs": [
        {
          "output_type": "stream",
          "name": "stdout",
          "text": [
            "spamemail\n"
          ]
        }
      ]
    },
    {
      "cell_type": "code",
      "source": [
        "s**2   #power operation doen't work in string"
      ],
      "metadata": {
        "colab": {
          "base_uri": "https://localhost:8080/",
          "height": 146
        },
        "id": "qhUOP12FWQBG",
        "outputId": "31835792-393a-4735-d4fa-219ff00b6965"
      },
      "execution_count": null,
      "outputs": [
        {
          "output_type": "error",
          "ename": "TypeError",
          "evalue": "unsupported operand type(s) for ** or pow(): 'str' and 'int'",
          "traceback": [
            "\u001b[0;31m---------------------------------------------------------------------------\u001b[0m",
            "\u001b[0;31mTypeError\u001b[0m                                 Traceback (most recent call last)",
            "\u001b[0;32m<ipython-input-158-a03723da0053>\u001b[0m in \u001b[0;36m<cell line: 1>\u001b[0;34m()\u001b[0m\n\u001b[0;32m----> 1\u001b[0;31m \u001b[0ms\u001b[0m\u001b[0;34m**\u001b[0m\u001b[0;36m2\u001b[0m   \u001b[0;31m#power operation doen't work in string\u001b[0m\u001b[0;34m\u001b[0m\u001b[0;34m\u001b[0m\u001b[0m\n\u001b[0m",
            "\u001b[0;31mTypeError\u001b[0m: unsupported operand type(s) for ** or pow(): 'str' and 'int'"
          ]
        }
      ]
    },
    {
      "cell_type": "code",
      "source": [
        "s[0]='z'"
      ],
      "metadata": {
        "colab": {
          "base_uri": "https://localhost:8080/",
          "height": 146
        },
        "id": "UdRv3MVTWQEb",
        "outputId": "28b52e19-ba8c-4b45-eb2c-7df70cb322ad"
      },
      "execution_count": null,
      "outputs": [
        {
          "output_type": "error",
          "ename": "TypeError",
          "evalue": "'str' object does not support item assignment",
          "traceback": [
            "\u001b[0;31m---------------------------------------------------------------------------\u001b[0m",
            "\u001b[0;31mTypeError\u001b[0m                                 Traceback (most recent call last)",
            "\u001b[0;32m<ipython-input-159-ab471980a0a4>\u001b[0m in \u001b[0;36m<cell line: 1>\u001b[0;34m()\u001b[0m\n\u001b[0;32m----> 1\u001b[0;31m \u001b[0ms\u001b[0m\u001b[0;34m[\u001b[0m\u001b[0;36m0\u001b[0m\u001b[0;34m]\u001b[0m\u001b[0;34m=\u001b[0m\u001b[0;34m'z'\u001b[0m\u001b[0;34m\u001b[0m\u001b[0;34m\u001b[0m\u001b[0m\n\u001b[0m",
            "\u001b[0;31mTypeError\u001b[0m: 'str' object does not support item assignment"
          ]
        }
      ]
    },
    {
      "cell_type": "code",
      "source": [
        "S=\"shruberry\""
      ],
      "metadata": {
        "id": "hYxrGycXWQHW"
      },
      "execution_count": null,
      "outputs": []
    },
    {
      "cell_type": "code",
      "source": [
        "S[1:] + \"c\" #remove s from S and add c within the string"
      ],
      "metadata": {
        "colab": {
          "base_uri": "https://localhost:8080/",
          "height": 36
        },
        "id": "zZgrhcyRWQLF",
        "outputId": "9c7bfebd-1921-4bfe-f14c-79344b6784ab"
      },
      "execution_count": null,
      "outputs": [
        {
          "output_type": "execute_result",
          "data": {
            "text/plain": [
              "'hruberryc'"
            ],
            "application/vnd.google.colaboratory.intrinsic+json": {
              "type": "string"
            }
          },
          "metadata": {},
          "execution_count": 161
        }
      ]
    },
    {
      "cell_type": "code",
      "source": [
        "s[:1]  #pull out s from the string"
      ],
      "metadata": {
        "colab": {
          "base_uri": "https://localhost:8080/",
          "height": 36
        },
        "id": "9_GpkAuPWQOy",
        "outputId": "fb1303a3-7e53-4147-d7bf-2bcd5dac1aeb"
      },
      "execution_count": null,
      "outputs": [
        {
          "output_type": "execute_result",
          "data": {
            "text/plain": [
              "'s'"
            ],
            "application/vnd.google.colaboratory.intrinsic+json": {
              "type": "string"
            }
          },
          "metadata": {},
          "execution_count": 162
        }
      ]
    },
    {
      "cell_type": "code",
      "source": [
        "s[1:2] + \"c\"  #pull p and add c within the string"
      ],
      "metadata": {
        "colab": {
          "base_uri": "https://localhost:8080/",
          "height": 36
        },
        "id": "ICkGM7r2WQSl",
        "outputId": "f705ae4e-4de4-4080-94c5-5aa521cd87af"
      },
      "execution_count": null,
      "outputs": [
        {
          "output_type": "execute_result",
          "data": {
            "text/plain": [
              "'pc'"
            ],
            "application/vnd.google.colaboratory.intrinsic+json": {
              "type": "string"
            }
          },
          "metadata": {},
          "execution_count": 163
        }
      ]
    },
    {
      "cell_type": "code",
      "source": [
        "S[1:2] +\"c\""
      ],
      "metadata": {
        "colab": {
          "base_uri": "https://localhost:8080/",
          "height": 36
        },
        "id": "92h2RYEgWQVk",
        "outputId": "7c82a44a-c121-4c84-ab6e-ce111791f9f9"
      },
      "execution_count": null,
      "outputs": [
        {
          "output_type": "execute_result",
          "data": {
            "text/plain": [
              "'hc'"
            ],
            "application/vnd.google.colaboratory.intrinsic+json": {
              "type": "string"
            }
          },
          "metadata": {},
          "execution_count": 164
        }
      ]
    },
    {
      "cell_type": "code",
      "source": [
        "s[0]+\"c\"+S[2:9] #addition of two string including one seprate string"
      ],
      "metadata": {
        "colab": {
          "base_uri": "https://localhost:8080/",
          "height": 36
        },
        "id": "YsiE43lgXE-f",
        "outputId": "b8fbd1ac-6c3f-48b5-84c7-956ee53e8acf"
      },
      "execution_count": null,
      "outputs": [
        {
          "output_type": "execute_result",
          "data": {
            "text/plain": [
              "'scruberry'"
            ],
            "application/vnd.google.colaboratory.intrinsic+json": {
              "type": "string"
            }
          },
          "metadata": {},
          "execution_count": 165
        }
      ]
    },
    {
      "cell_type": "code",
      "source": [
        "S=\"shruberry\"  #convert sting to list\n",
        "l= list(S)\n",
        "print (l)"
      ],
      "metadata": {
        "colab": {
          "base_uri": "https://localhost:8080/"
        },
        "id": "gHob3PQdXFBS",
        "outputId": "14cba6dc-37f7-448f-d1df-8519677a19d6"
      },
      "execution_count": null,
      "outputs": [
        {
          "output_type": "stream",
          "name": "stdout",
          "text": [
            "['s', 'h', 'r', 'u', 'b', 'e', 'r', 'r', 'y']\n"
          ]
        }
      ]
    },
    {
      "cell_type": "code",
      "source": [
        "#replace h with c within the list S\n",
        "l[1]=\"c\"\n",
        "print(l)"
      ],
      "metadata": {
        "colab": {
          "base_uri": "https://localhost:8080/"
        },
        "id": "zz0e2913XFEZ",
        "outputId": "07d6f1db-1933-4b71-b9e1-bddc4d80071f"
      },
      "execution_count": null,
      "outputs": [
        {
          "output_type": "stream",
          "name": "stdout",
          "text": [
            "['s', 'c', 'r', 'u', 'b', 'e', 'r', 'r', 'y']\n"
          ]
        }
      ]
    },
    {
      "cell_type": "code",
      "source": [
        "# again convert the list to the string using join\n",
        "\n",
        "''.join(l)"
      ],
      "metadata": {
        "colab": {
          "base_uri": "https://localhost:8080/",
          "height": 36
        },
        "id": "gWHVj6IPXFHJ",
        "outputId": "6173927f-178e-4625-f229-296302055e70"
      },
      "execution_count": null,
      "outputs": [
        {
          "output_type": "execute_result",
          "data": {
            "text/plain": [
              "'scruberry'"
            ],
            "application/vnd.google.colaboratory.intrinsic+json": {
              "type": "string"
            }
          },
          "metadata": {},
          "execution_count": 168
        }
      ]
    },
    {
      "cell_type": "code",
      "source": [
        "B=bytearray(b\"hima\")\n",
        "B.extend(b\"nchal\")\n",
        "#print(B)\n",
        "B.decode()"
      ],
      "metadata": {
        "colab": {
          "base_uri": "https://localhost:8080/",
          "height": 36
        },
        "id": "m44mauUuXFJe",
        "outputId": "51f08271-d9c7-494c-a8a5-dc19e16abb9c"
      },
      "execution_count": null,
      "outputs": [
        {
          "output_type": "execute_result",
          "data": {
            "text/plain": [
              "'himanchal'"
            ],
            "application/vnd.google.colaboratory.intrinsic+json": {
              "type": "string"
            }
          },
          "metadata": {},
          "execution_count": 169
        }
      ]
    },
    {
      "cell_type": "code",
      "source": [
        "chr(\"A\")"
      ],
      "metadata": {
        "colab": {
          "base_uri": "https://localhost:8080/",
          "height": 146
        },
        "id": "p4B4_m9eXFMq",
        "outputId": "eee82b0a-5e20-4587-ed98-efb7fa57646e"
      },
      "execution_count": null,
      "outputs": [
        {
          "output_type": "error",
          "ename": "TypeError",
          "evalue": "'str' object cannot be interpreted as an integer",
          "traceback": [
            "\u001b[0;31m---------------------------------------------------------------------------\u001b[0m",
            "\u001b[0;31mTypeError\u001b[0m                                 Traceback (most recent call last)",
            "\u001b[0;32m<ipython-input-170-55562c7d81ed>\u001b[0m in \u001b[0;36m<cell line: 1>\u001b[0;34m()\u001b[0m\n\u001b[0;32m----> 1\u001b[0;31m \u001b[0mchr\u001b[0m\u001b[0;34m(\u001b[0m\u001b[0;34m\"A\"\u001b[0m\u001b[0;34m)\u001b[0m\u001b[0;34m\u001b[0m\u001b[0;34m\u001b[0m\u001b[0m\n\u001b[0m",
            "\u001b[0;31mTypeError\u001b[0m: 'str' object cannot be interpreted as an integer"
          ]
        }
      ]
    },
    {
      "cell_type": "code",
      "source": [
        "chr(\"698\")"
      ],
      "metadata": {
        "colab": {
          "base_uri": "https://localhost:8080/",
          "height": 146
        },
        "id": "4uNsAjpAXFPh",
        "outputId": "8cf72cbe-343b-4767-e450-f484c036248d"
      },
      "execution_count": null,
      "outputs": [
        {
          "output_type": "error",
          "ename": "TypeError",
          "evalue": "'str' object cannot be interpreted as an integer",
          "traceback": [
            "\u001b[0;31m---------------------------------------------------------------------------\u001b[0m",
            "\u001b[0;31mTypeError\u001b[0m                                 Traceback (most recent call last)",
            "\u001b[0;32m<ipython-input-171-ea7c9a6e0dcd>\u001b[0m in \u001b[0;36m<cell line: 1>\u001b[0;34m()\u001b[0m\n\u001b[0;32m----> 1\u001b[0;31m \u001b[0mchr\u001b[0m\u001b[0;34m(\u001b[0m\u001b[0;34m\"698\"\u001b[0m\u001b[0;34m)\u001b[0m\u001b[0;34m\u001b[0m\u001b[0;34m\u001b[0m\u001b[0m\n\u001b[0m",
            "\u001b[0;31mTypeError\u001b[0m: 'str' object cannot be interpreted as an integer"
          ]
        }
      ]
    },
    {
      "cell_type": "code",
      "source": [
        "chr(65)"
      ],
      "metadata": {
        "colab": {
          "base_uri": "https://localhost:8080/",
          "height": 36
        },
        "id": "DV8K2Q5OXFS7",
        "outputId": "559a2a6f-4274-4880-9de4-a1334c360ee0"
      },
      "execution_count": null,
      "outputs": [
        {
          "output_type": "execute_result",
          "data": {
            "text/plain": [
              "'A'"
            ],
            "application/vnd.google.colaboratory.intrinsic+json": {
              "type": "string"
            }
          },
          "metadata": {},
          "execution_count": 172
        }
      ]
    },
    {
      "cell_type": "code",
      "source": [
        "ord ('A')"
      ],
      "metadata": {
        "colab": {
          "base_uri": "https://localhost:8080/"
        },
        "id": "vXLZKVTsWQY4",
        "outputId": "3ed1d6ec-d040-4f10-9005-4a63470d733d"
      },
      "execution_count": null,
      "outputs": [
        {
          "output_type": "execute_result",
          "data": {
            "text/plain": [
              "65"
            ]
          },
          "metadata": {},
          "execution_count": 173
        }
      ]
    },
    {
      "cell_type": "code",
      "source": [
        "chr (32)"
      ],
      "metadata": {
        "colab": {
          "base_uri": "https://localhost:8080/",
          "height": 36
        },
        "id": "jCn64vWpWQcC",
        "outputId": "72813412-e1bd-48d4-d5c3-64cd39ec81f0"
      },
      "execution_count": null,
      "outputs": [
        {
          "output_type": "execute_result",
          "data": {
            "text/plain": [
              "' '"
            ],
            "application/vnd.google.colaboratory.intrinsic+json": {
              "type": "string"
            }
          },
          "metadata": {},
          "execution_count": 174
        }
      ]
    },
    {
      "cell_type": "markdown",
      "source": [
        "# Implement the Loop within the string\n"
      ],
      "metadata": {
        "id": "Y68RxlqKXqCv"
      }
    },
    {
      "cell_type": "code",
      "source": [
        "myjob=\"hacker\"\n",
        "for item in myjob:    #loop syntax how to apply loop answer will be in vertical\n",
        "  print(item)"
      ],
      "metadata": {
        "colab": {
          "base_uri": "https://localhost:8080/"
        },
        "id": "NA5YqfcJWQfL",
        "outputId": "2bca590b-e015-44ee-b12a-475604d13a97"
      },
      "execution_count": null,
      "outputs": [
        {
          "output_type": "stream",
          "name": "stdout",
          "text": [
            "h\n",
            "a\n",
            "c\n",
            "k\n",
            "e\n",
            "r\n"
          ]
        }
      ]
    },
    {
      "cell_type": "code",
      "source": [
        "abc123=\"hello\"  # valid identifier"
      ],
      "metadata": {
        "id": "QtepBCTbXvJS"
      },
      "execution_count": null,
      "outputs": []
    },
    {
      "cell_type": "code",
      "source": [
        "123abc=\"hello\"# invalid identifier"
      ],
      "metadata": {
        "colab": {
          "base_uri": "https://localhost:8080/",
          "height": 110
        },
        "id": "0XBknHLVXvMl",
        "outputId": "3f6cfa7e-297c-43c2-938e-dd74c3df2382"
      },
      "execution_count": null,
      "outputs": [
        {
          "output_type": "error",
          "ename": "SyntaxError",
          "evalue": "invalid decimal literal (<ipython-input-177-c1f7b34dc63e>, line 1)",
          "traceback": [
            "\u001b[0;36m  File \u001b[0;32m\"<ipython-input-177-c1f7b34dc63e>\"\u001b[0;36m, line \u001b[0;32m1\u001b[0m\n\u001b[0;31m    123abc=\"hello\"# invalid identifier\u001b[0m\n\u001b[0m      ^\u001b[0m\n\u001b[0;31mSyntaxError\u001b[0m\u001b[0;31m:\u001b[0m invalid decimal literal\n"
          ]
        }
      ]
    },
    {
      "cell_type": "code",
      "source": [
        "123 abc=\"hello\"  # invalid identifier"
      ],
      "metadata": {
        "colab": {
          "base_uri": "https://localhost:8080/",
          "height": 110
        },
        "id": "y1W_GBLSXvPm",
        "outputId": "8686efb9-7827-47df-da68-894e7bbdf5a7"
      },
      "execution_count": null,
      "outputs": [
        {
          "output_type": "error",
          "ename": "SyntaxError",
          "evalue": "invalid syntax (<ipython-input-178-e58bc21c7d72>, line 1)",
          "traceback": [
            "\u001b[0;36m  File \u001b[0;32m\"<ipython-input-178-e58bc21c7d72>\"\u001b[0;36m, line \u001b[0;32m1\u001b[0m\n\u001b[0;31m    123 abc=\"hello\"  # invalid identifier\u001b[0m\n\u001b[0m        ^\u001b[0m\n\u001b[0;31mSyntaxError\u001b[0m\u001b[0;31m:\u001b[0m invalid syntax\n"
          ]
        }
      ]
    },
    {
      "cell_type": "code",
      "source": [
        "myjob=\"hacker\"\n",
        "for item in myjob:    #loop syntax how to apply loop answer will be in horizontal\n",
        "  print (item,end=\" \")   #attribute on print function end="
      ],
      "metadata": {
        "colab": {
          "base_uri": "https://localhost:8080/"
        },
        "id": "wBdFCdSfX2mN",
        "outputId": "dae6f4db-b57c-4e02-dfa2-9c6af75c4412"
      },
      "execution_count": null,
      "outputs": [
        {
          "output_type": "stream",
          "name": "stdout",
          "text": [
            "h a c k e r "
          ]
        }
      ]
    },
    {
      "cell_type": "code",
      "source": [
        "s=\"spam\" #answer will be in tuple ()\n",
        "\n",
        "s[0],s[1]"
      ],
      "metadata": {
        "colab": {
          "base_uri": "https://localhost:8080/"
        },
        "id": "B4Nvt-6_X2pU",
        "outputId": "055c5ad5-b94f-49a0-b2d1-61b3e5b36c1f"
      },
      "execution_count": null,
      "outputs": [
        {
          "output_type": "execute_result",
          "data": {
            "text/plain": [
              "('s', 'p')"
            ]
          },
          "metadata": {},
          "execution_count": 180
        }
      ]
    },
    {
      "cell_type": "code",
      "source": [
        "s=\"spam\"\n",
        "s[1:3],s[1:4],s[0:3]"
      ],
      "metadata": {
        "colab": {
          "base_uri": "https://localhost:8080/"
        },
        "id": "5YJjQBNPX2vd",
        "outputId": "7229dbf3-07d9-4102-fc67-3a135af2c54f"
      },
      "execution_count": null,
      "outputs": [
        {
          "output_type": "execute_result",
          "data": {
            "text/plain": [
              "('pa', 'pam', 'spa')"
            ]
          },
          "metadata": {},
          "execution_count": 181
        }
      ]
    },
    {
      "cell_type": "code",
      "source": [
        "a=('s', 'p')\n",
        "type(a)"
      ],
      "metadata": {
        "colab": {
          "base_uri": "https://localhost:8080/"
        },
        "id": "d0hmt4rpX2y-",
        "outputId": "714d1ab6-45ad-4b90-b993-79b03bfabb4f"
      },
      "execution_count": null,
      "outputs": [
        {
          "output_type": "execute_result",
          "data": {
            "text/plain": [
              "tuple"
            ]
          },
          "metadata": {},
          "execution_count": 182
        }
      ]
    },
    {
      "cell_type": "code",
      "source": [
        "s=\"abcdefghijklmnop\"\n",
        "s[1]+s[3]+s[5]+s[7]+s[9]"
      ],
      "metadata": {
        "colab": {
          "base_uri": "https://localhost:8080/",
          "height": 36
        },
        "id": "PwE0yPj-XvS0",
        "outputId": "7211d479-d13a-4baf-e78c-14558f0278c4"
      },
      "execution_count": null,
      "outputs": [
        {
          "output_type": "execute_result",
          "data": {
            "text/plain": [
              "'bdfhj'"
            ],
            "application/vnd.google.colaboratory.intrinsic+json": {
              "type": "string"
            }
          },
          "metadata": {},
          "execution_count": 183
        }
      ]
    },
    {
      "cell_type": "code",
      "source": [
        "s=\"abcdefghijklmnop\" #stepping range is defined\n",
        "s[1:10:2]"
      ],
      "metadata": {
        "colab": {
          "base_uri": "https://localhost:8080/",
          "height": 36
        },
        "id": "Cp98IpqBWAFM",
        "outputId": "1400fa5f-9f66-4f4d-8191-de190d3130b9"
      },
      "execution_count": null,
      "outputs": [
        {
          "output_type": "execute_result",
          "data": {
            "text/plain": [
              "'bdfhj'"
            ],
            "application/vnd.google.colaboratory.intrinsic+json": {
              "type": "string"
            }
          },
          "metadata": {},
          "execution_count": 184
        }
      ]
    },
    {
      "cell_type": "code",
      "source": [
        "s=\"abcdefghijklmnop\"  # syntaz [start:end:step]\n",
        "s[0::2]"
      ],
      "metadata": {
        "colab": {
          "base_uri": "https://localhost:8080/",
          "height": 36
        },
        "id": "S_R_DmF2YFBH",
        "outputId": "8206d8c1-9657-4e88-9a1d-e2e05db40428"
      },
      "execution_count": null,
      "outputs": [
        {
          "output_type": "execute_result",
          "data": {
            "text/plain": [
              "'acegikmo'"
            ],
            "application/vnd.google.colaboratory.intrinsic+json": {
              "type": "string"
            }
          },
          "metadata": {},
          "execution_count": 185
        }
      ]
    },
    {
      "cell_type": "code",
      "source": [
        "str1=\"Indian\"   #reverse indexing\n",
        "str1[::-1]"
      ],
      "metadata": {
        "colab": {
          "base_uri": "https://localhost:8080/",
          "height": 36
        },
        "id": "A6uaNl90YFEw",
        "outputId": "562aa762-3ae3-417c-e352-8649632994bc"
      },
      "execution_count": null,
      "outputs": [
        {
          "output_type": "execute_result",
          "data": {
            "text/plain": [
              "'naidnI'"
            ],
            "application/vnd.google.colaboratory.intrinsic+json": {
              "type": "string"
            }
          },
          "metadata": {},
          "execution_count": 186
        }
      ]
    },
    {
      "cell_type": "code",
      "source": [
        "str2=\"abcdefg\"  #reverse indexing along with the stepping\n",
        "str2[-2:-6:-1]"
      ],
      "metadata": {
        "colab": {
          "base_uri": "https://localhost:8080/",
          "height": 36
        },
        "id": "_9nE30ouYFHe",
        "outputId": "84cf55c2-4d5d-436c-fd4f-dc85c5385040"
      },
      "execution_count": null,
      "outputs": [
        {
          "output_type": "execute_result",
          "data": {
            "text/plain": [
              "'fedc'"
            ],
            "application/vnd.google.colaboratory.intrinsic+json": {
              "type": "string"
            }
          },
          "metadata": {},
          "execution_count": 187
        }
      ]
    },
    {
      "cell_type": "code",
      "source": [
        " int(\"42\"), str(42)"
      ],
      "metadata": {
        "colab": {
          "base_uri": "https://localhost:8080/"
        },
        "id": "tmH7wcPjYFKb",
        "outputId": "6776bf83-7515-4515-a88d-dda3726f3344"
      },
      "execution_count": null,
      "outputs": [
        {
          "output_type": "execute_result",
          "data": {
            "text/plain": [
              "(42, '42')"
            ]
          },
          "metadata": {},
          "execution_count": 188
        }
      ]
    },
    {
      "cell_type": "code",
      "source": [
        "float(\"42\"), str(42)"
      ],
      "metadata": {
        "colab": {
          "base_uri": "https://localhost:8080/"
        },
        "id": "oWQsYWebYFNf",
        "outputId": "11ab4121-7624-4406-aa6b-3d1b40ba3754"
      },
      "execution_count": null,
      "outputs": [
        {
          "output_type": "execute_result",
          "data": {
            "text/plain": [
              "(42.0, '42')"
            ]
          },
          "metadata": {},
          "execution_count": 189
        }
      ]
    },
    {
      "cell_type": "code",
      "source": [
        "s=\"spam\"\n",
        "s+\"email!\""
      ],
      "metadata": {
        "colab": {
          "base_uri": "https://localhost:8080/",
          "height": 36
        },
        "id": "bwGnrDqsYFQ6",
        "outputId": "90f27952-0473-47e2-9956-2be9d66f5793"
      },
      "execution_count": null,
      "outputs": [
        {
          "output_type": "execute_result",
          "data": {
            "text/plain": [
              "'spamemail!'"
            ],
            "application/vnd.google.colaboratory.intrinsic+json": {
              "type": "string"
            }
          },
          "metadata": {},
          "execution_count": 190
        }
      ]
    },
    {
      "cell_type": "code",
      "source": [
        "s=\"spamemail!\"        #replace syntax  replacing old substring with new sub string\n",
        "s.replace (\"email\",\"hamburger\")"
      ],
      "metadata": {
        "colab": {
          "base_uri": "https://localhost:8080/",
          "height": 36
        },
        "id": "cA-dSU0kYUUM",
        "outputId": "9e9aae97-63dd-46c1-a09d-f1f48538a442"
      },
      "execution_count": null,
      "outputs": [
        {
          "output_type": "execute_result",
          "data": {
            "text/plain": [
              "'spamhamburger!'"
            ],
            "application/vnd.google.colaboratory.intrinsic+json": {
              "type": "string"
            }
          },
          "metadata": {},
          "execution_count": 191
        }
      ]
    },
    {
      "cell_type": "code",
      "source": [
        "print(\"that is %d %s bird!\" % (100, \"dead\")) #formatting"
      ],
      "metadata": {
        "colab": {
          "base_uri": "https://localhost:8080/"
        },
        "id": "pPFhr5ttYUXh",
        "outputId": "e1dcc423-b196-4503-e362-81c8f2699048"
      },
      "execution_count": null,
      "outputs": [
        {
          "output_type": "stream",
          "name": "stdout",
          "text": [
            "that is 100 dead bird!\n"
          ]
        }
      ]
    },
    {
      "cell_type": "code",
      "source": [
        "print (\"that is {0} {1} {2}!\".format(100, \"dead\",\"bird\"))"
      ],
      "metadata": {
        "colab": {
          "base_uri": "https://localhost:8080/"
        },
        "id": "W3fkoCpUYUax",
        "outputId": "5b6b49ab-862b-4df4-9af1-819839cac6c9"
      },
      "execution_count": null,
      "outputs": [
        {
          "output_type": "stream",
          "name": "stdout",
          "text": [
            "that is 100 dead bird!\n"
          ]
        }
      ]
    },
    {
      "cell_type": "markdown",
      "source": [
        "#### Conditional Statements (if, elif, else)\n",
        "\n",
        "- if Statement\n",
        "- else Statement\n",
        "- elif Statement\n",
        "- Nested Conditional Statements\n",
        "- Practical Examples\n",
        "- Common Errors and Best Practices"
      ],
      "metadata": {
        "id": "qjS685xOIeyy"
      }
    },
    {
      "cell_type": "code",
      "source": [
        "## if statement\n",
        "age=20\n",
        "\n",
        "if age>=18:\n",
        "    print(\"You are allowed to vote in the elections\")\n",
        "\n",
        "age>=18"
      ],
      "metadata": {
        "colab": {
          "base_uri": "https://localhost:8080/"
        },
        "id": "9xhGUCyxHbws",
        "outputId": "23f149fc-0490-49ca-981b-63e4cb19a5ad"
      },
      "execution_count": null,
      "outputs": [
        {
          "output_type": "stream",
          "name": "stdout",
          "text": [
            "You are allowed to vote in the elections\n"
          ]
        },
        {
          "output_type": "execute_result",
          "data": {
            "text/plain": [
              "True"
            ]
          },
          "metadata": {},
          "execution_count": 194
        }
      ]
    },
    {
      "cell_type": "code",
      "source": [
        "## if statement\n",
        "age=float(input(\"Enter the age\"))\n",
        "\n",
        "if age>=18:\n",
        "    print(\"You are allowed to vote in the elections\")"
      ],
      "metadata": {
        "colab": {
          "base_uri": "https://localhost:8080/"
        },
        "id": "mgJBph6ZItda",
        "outputId": "fdde24e5-5b76-49ee-84f7-6a9724c1c41c"
      },
      "execution_count": null,
      "outputs": [
        {
          "output_type": "stream",
          "name": "stdout",
          "text": [
            "Enter the age18.2\n",
            "You are allowed to vote in the elections\n"
          ]
        }
      ]
    },
    {
      "cell_type": "markdown",
      "source": [
        "## ELSE\n",
        "\n",
        "The else statement executes a block of code if the condition in the if statement is False."
      ],
      "metadata": {
        "id": "iBa4H0sbI5f1"
      }
    },
    {
      "cell_type": "code",
      "source": [
        "age=16\n",
        "\n",
        "if age>=18:\n",
        "    print(\"You are eligible for voting\")\n",
        "else:\n",
        "    print(\"You are a minor\")"
      ],
      "metadata": {
        "colab": {
          "base_uri": "https://localhost:8080/"
        },
        "id": "bViXc9O-I11i",
        "outputId": "de9205ba-9443-4735-b71a-508c1dee6153"
      },
      "execution_count": null,
      "outputs": [
        {
          "output_type": "stream",
          "name": "stdout",
          "text": [
            "You are a minor\n"
          ]
        }
      ]
    },
    {
      "cell_type": "code",
      "source": [
        "age=float(input(\"Enter the age\"))\n",
        "\n",
        "if age>=18:\n",
        "    print(\"You are eligible for voting\")\n",
        "else:\n",
        "    print(\"You are a minor\")"
      ],
      "metadata": {
        "colab": {
          "base_uri": "https://localhost:8080/"
        },
        "id": "WYBrN3ofI_VL",
        "outputId": "d31bfce8-a890-42e7-f6d2-5a172c531bcb"
      },
      "execution_count": null,
      "outputs": [
        {
          "output_type": "stream",
          "name": "stdout",
          "text": [
            "Enter the age20\n",
            "You are eligible for voting\n"
          ]
        }
      ]
    },
    {
      "cell_type": "code",
      "source": [
        "age=float(input(\"Enter the age\"))\n",
        "\n",
        "if age>=18:\n",
        "    print(\"You are eligible for voting\")\n",
        "else:\n",
        "    print(\"You are a minor\")"
      ],
      "metadata": {
        "colab": {
          "base_uri": "https://localhost:8080/"
        },
        "id": "VmunMIbEJC92",
        "outputId": "649909a0-ec7b-4a4e-b43b-c585e3f7575a"
      },
      "execution_count": null,
      "outputs": [
        {
          "output_type": "stream",
          "name": "stdout",
          "text": [
            "Enter the age17.9\n",
            "You are a minor\n"
          ]
        }
      ]
    },
    {
      "cell_type": "markdown",
      "source": [
        "## elif\n",
        "\n",
        "The elif statement allows you to check multiple conditions. It stands for \"else if\"\n"
      ],
      "metadata": {
        "id": "dcPMvLgSJXP8"
      }
    },
    {
      "cell_type": "code",
      "source": [
        "age=17\n",
        "\n",
        "if age<13:\n",
        "    print(\"You are a child\")\n",
        "elif age<18:\n",
        "    print(\"You are a teenager\")\n",
        "else:\n",
        "    print(\"You are an adult\")"
      ],
      "metadata": {
        "colab": {
          "base_uri": "https://localhost:8080/"
        },
        "id": "AgBGcKLBJGIa",
        "outputId": "6369113d-663b-400e-f1ec-a195a052cd09"
      },
      "execution_count": null,
      "outputs": [
        {
          "output_type": "stream",
          "name": "stdout",
          "text": [
            "You are a teenager\n"
          ]
        }
      ]
    },
    {
      "cell_type": "code",
      "source": [
        "## Nested Condiitonal Statements\n",
        "\n",
        "# You can place one or more if, elif, or else statements inside another if, elif, or else statement to create nested conditional statements.\n",
        "\n",
        "## number even ,odd,negative\n",
        "\n",
        "num=int(input(\"Enter the number\"))\n",
        "\n",
        "if num>0:\n",
        "    print(\"The number is positive\")\n",
        "    if num%2==0:\n",
        "        print(\"The number is even\")\n",
        "    else:\n",
        "        print(\"The number is odd\")\n",
        "\n",
        "else:\n",
        "    print(\"The number is zero or negative\")"
      ],
      "metadata": {
        "colab": {
          "base_uri": "https://localhost:8080/"
        },
        "id": "0OhhTa2eJl77",
        "outputId": "4ecb0e4a-d0ac-4917-9293-5d54407dcc6e"
      },
      "execution_count": null,
      "outputs": [
        {
          "output_type": "stream",
          "name": "stdout",
          "text": [
            "Enter the number20\n",
            "The number is positive\n",
            "The number is even\n"
          ]
        }
      ]
    },
    {
      "cell_type": "code",
      "source": [
        "## Nested Condiitonal Statements\n",
        "\n",
        "# You can place one or more if, elif, or else statements inside another if, elif, or else statement to create nested conditional statements.\n",
        "\n",
        "## number even ,odd,negative\n",
        "\n",
        "num=int(input(\"Enter the number\"))\n",
        "\n",
        "if num>0:\n",
        "    print(\"The number is positive\")\n",
        "    if num%2==0:\n",
        "        print(\"The number is even\")\n",
        "    else:\n",
        "        print(\"The number is odd\")\n",
        "\n",
        "else:\n",
        "    print(\"The number is zero or negative\")"
      ],
      "metadata": {
        "colab": {
          "base_uri": "https://localhost:8080/"
        },
        "id": "OiXNP4PrJpy5",
        "outputId": "f53a982b-b564-4d0d-8dfd-460c1f6a4ccf"
      },
      "execution_count": null,
      "outputs": [
        {
          "output_type": "stream",
          "name": "stdout",
          "text": [
            "Enter the number41\n",
            "The number is positive\n",
            "The number is odd\n"
          ]
        }
      ]
    },
    {
      "cell_type": "code",
      "source": [
        "## Practical Examples\n",
        "\n",
        "## Determine if a year is a leap year using nested condition statement\n",
        "\n",
        "year=int(input(\"Enter the year\"))\n",
        "\n",
        "if year%4==0:\n",
        "    if year%100==0:\n",
        "        if year%400==0:\n",
        "            print(year,\"is a leap year\")\n",
        "        else:\n",
        "            print(year,\"is not a leap year\")\n",
        "    else:\n",
        "        print(year,\"is a leap year\")\n",
        "\n",
        "else:\n",
        "    print(year,\"is not a leap year\")"
      ],
      "metadata": {
        "colab": {
          "base_uri": "https://localhost:8080/"
        },
        "id": "Jh0IFkgaJy7m",
        "outputId": "ec5c7a1d-d1f8-4f32-98d1-fbd9585ee8b6"
      },
      "execution_count": null,
      "outputs": [
        {
          "output_type": "stream",
          "name": "stdout",
          "text": [
            "Enter the year200\n",
            "200 is not a leap year\n"
          ]
        }
      ]
    },
    {
      "cell_type": "code",
      "source": [
        "## Practical Examples\n",
        "\n",
        "## Determine if a year is a leap year using nested condition statement\n",
        "\n",
        "year=int(input(\"Enter the year\"))\n",
        "\n",
        "if year%4==0:\n",
        "    if year%100==0:\n",
        "        if year%400==0:\n",
        "            print(year,\"is a leap year\")\n",
        "        else:\n",
        "            print(year,\"is not a leap year\")\n",
        "    else:\n",
        "        print(year,\"is a leap year\")\n",
        "\n",
        "else:\n",
        "    print(year,\"is not a leap year\")"
      ],
      "metadata": {
        "colab": {
          "base_uri": "https://localhost:8080/"
        },
        "id": "6M7baQdgKN16",
        "outputId": "637e731c-0284-4c6d-dc34-9f548c3220ca"
      },
      "execution_count": null,
      "outputs": [
        {
          "output_type": "stream",
          "name": "stdout",
          "text": [
            "Enter the year204\n",
            "204 is a leap year\n"
          ]
        }
      ]
    },
    {
      "cell_type": "code",
      "source": [
        "# Simple Calculator program using the conditional statement\n",
        "# Take user input\n",
        "\n",
        "num1 = float(input(\"Enter first number: \"))\n",
        "num2 = float(input(\"Enter second number: \"))\n",
        "operation = input(\"Enter operation (+, -, *, /): \")\n",
        "\n",
        "# Perform the requested operation\n",
        "if operation == '+':\n",
        "    result = num1 + num2\n",
        "elif operation == '-':\n",
        "    result = num1 - num2\n",
        "elif operation == '*':\n",
        "    result = num1 * num2\n",
        "elif operation == '/':\n",
        "    if num2 != 0:\n",
        "        result = num1 / num2\n",
        "    else:\n",
        "        result = \"Error! Division by zero.\"\n",
        "else:\n",
        "    result = \"Invalid operation.\"\n",
        "\n",
        "print(\"Result:\", result)"
      ],
      "metadata": {
        "colab": {
          "base_uri": "https://localhost:8080/"
        },
        "id": "ldrb0N-lKl_n",
        "outputId": "efcf9ffe-c811-4381-fca0-df822edef88c"
      },
      "execution_count": null,
      "outputs": [
        {
          "output_type": "stream",
          "name": "stdout",
          "text": [
            "Enter first number: 10\n",
            "Enter second number: 14\n",
            "Enter operation (+, -, *, /): /\n",
            "Result: 0.7142857142857143\n"
          ]
        }
      ]
    },
    {
      "cell_type": "code",
      "source": [
        "### Determine the ticket price based on age and whether the person is a student.\n",
        "\n",
        "# Ticket pricing based on age and student status\n",
        "\n",
        "# Take user input\n",
        "age = int(input(\"Enter your age: \"))\n",
        "is_student = input(\"Are you a student? (yes/no): \").lower()\n",
        "\n",
        "# Determine ticket price\n",
        "if age < 5:\n",
        "    price = \"Free\"\n",
        "elif age <= 12:\n",
        "    price = \"10\"\n",
        "elif age <= 17:\n",
        "    if is_student == 'yes':\n",
        "        price = \"12\"\n",
        "    else:\n",
        "        price = \"15\"\n",
        "elif age <= 64:\n",
        "    if is_student == 'yes':\n",
        "        price = \"$18\"\n",
        "    else:\n",
        "        price = \"25\"\n",
        "else:\n",
        "    price = \"20\"\n",
        "\n",
        "print(\"Ticket Price:\", price)\n"
      ],
      "metadata": {
        "colab": {
          "base_uri": "https://localhost:8080/"
        },
        "id": "WxbKMvRXK-tu",
        "outputId": "17ae56c6-ddc1-41c7-cd48-a4fbe0ee834d"
      },
      "execution_count": null,
      "outputs": [
        {
          "output_type": "stream",
          "name": "stdout",
          "text": [
            "Enter your age: 20\n",
            "Are you a student? (yes/no): yes\n",
            "Ticket Price: $18\n"
          ]
        }
      ]
    },
    {
      "cell_type": "code",
      "source": [
        "age = int(input(\"Enter your age: \"))\n",
        "is_student = input(\"Are you a student? (yes/no): \").lower()\n",
        "\n",
        "# Determine ticket price\n",
        "if age < 5:\n",
        "    price = \"Free\"\n",
        "elif age <= 12:\n",
        "    price = \"10\"\n",
        "elif age <= 17:\n",
        "    if is_student == 'yes':\n",
        "        price = \"12\"\n",
        "    else:\n",
        "        price = \"15\"\n",
        "elif age <= 64:\n",
        "    if is_student == 'yes':\n",
        "        price = \"$18\"\n",
        "    else:\n",
        "        price = \"25\"\n",
        "else:\n",
        "    price = \"20\"\n",
        "\n",
        "print(\"Ticket Price:\", price)"
      ],
      "metadata": {
        "colab": {
          "base_uri": "https://localhost:8080/"
        },
        "id": "-u6THlMiLbs8",
        "outputId": "0ccaf459-41cd-4e20-f545-6bc639c73527"
      },
      "execution_count": null,
      "outputs": [
        {
          "output_type": "stream",
          "name": "stdout",
          "text": [
            "Enter your age: 10\n",
            "Are you a student? (yes/no): no\n",
            "Ticket Price: 10\n"
          ]
        }
      ]
    },
    {
      "cell_type": "markdown",
      "source": [
        "#### Employee Bonus Calculation\n",
        "\n",
        "Calculate an employee's bonus based on their performance rating and years of service."
      ],
      "metadata": {
        "id": "dG2AsKI6L5Mx"
      }
    },
    {
      "cell_type": "code",
      "source": [
        "# Take user input\n",
        "service = int(input(\"Enter years of service: \"))\n",
        "performance= float(input(\"Enter performance rating (1.0 to 5.0): \"))\n",
        "\n",
        "# Determine bonus percentage\n",
        "if performance >= 4.5:\n",
        "    if service > 10:\n",
        "        bonus_percentage = 20\n",
        "    elif service > 5:\n",
        "        bonus_percentage = 15\n",
        "    else:\n",
        "        bonus_percentage = 10\n",
        "elif performance >= 3.5:\n",
        "    if service > 10:\n",
        "        bonus_percentage = 15\n",
        "    elif service > 5:\n",
        "        bonus_percentage = 10\n",
        "    else:\n",
        "        bonus_percentage = 5\n",
        "else:\n",
        "    bonus_percentage = 0\n",
        "\n",
        "# Calculate bonus amount\n",
        "salary = float(input(\"Enter current salary: \"))\n",
        "bonus_amount = salary * bonus_percentage / 100\n",
        "\n",
        "print(\"Bonus Amount: ${:.2f}\".format(bonus_amount))"
      ],
      "metadata": {
        "colab": {
          "base_uri": "https://localhost:8080/"
        },
        "id": "Ny_bSqIFLozK",
        "outputId": "fab7a279-b212-4848-889f-61b69d953e6e"
      },
      "execution_count": null,
      "outputs": [
        {
          "output_type": "stream",
          "name": "stdout",
          "text": [
            "Enter years of service: 5\n",
            "Enter performance rating (1.0 to 5.0): 4\n",
            "Enter current salary: 2000\n",
            "Bonus Amount: $100.00\n"
          ]
        }
      ]
    },
    {
      "cell_type": "code",
      "source": [
        "service = int(input(\"Enter years of service: \"))\n",
        "performance= float(input(\"Enter performance rating (1.0 to 5.0): \"))\n",
        "\n",
        "# Determine bonus percentage\n",
        "if performance >= 4.5:\n",
        "    if service > 10:\n",
        "        bonus_percentage = 20\n",
        "    elif service > 5:\n",
        "        bonus_percentage = 15\n",
        "    else:\n",
        "        bonus_percentage = 10\n",
        "elif performance >= 3.5:\n",
        "    if service > 10:\n",
        "        bonus_percentage = 15\n",
        "    elif service > 5:\n",
        "        bonus_percentage = 10\n",
        "    else:\n",
        "        bonus_percentage = 5\n",
        "else:\n",
        "    bonus_percentage = 0\n",
        "\n",
        "# Calculate bonus amount\n",
        "salary = float(input(\"Enter current salary: \"))\n",
        "bonus_amount = salary * bonus_percentage / 100\n",
        "\n",
        "print(\"Bonus Amount: ${:.2f}\".format(bonus_amount))"
      ],
      "metadata": {
        "colab": {
          "base_uri": "https://localhost:8080/"
        },
        "id": "SsFs9CEFMfIL",
        "outputId": "b3c2a13b-fc7a-4a9e-991c-1fd4a2af626a"
      },
      "execution_count": null,
      "outputs": [
        {
          "output_type": "stream",
          "name": "stdout",
          "text": [
            "Enter years of service: 6\n",
            "Enter performance rating (1.0 to 5.0): 5\n",
            "Enter current salary: 1000\n",
            "Bonus Amount: $150.00\n"
          ]
        }
      ]
    },
    {
      "cell_type": "markdown",
      "source": [
        "##  User Login System\n",
        "\n",
        "A simple user login system that checks the username and password."
      ],
      "metadata": {
        "id": "rC3dQJh4MxGi"
      }
    },
    {
      "cell_type": "code",
      "source": [
        "# User login system\n",
        "\n",
        "# Predefined username and password\n",
        "stored_username = \"admin\"\n",
        "stored_password = \"password123\"\n",
        "\n",
        "# Take user input\n",
        "username = input(\"Enter username: \")\n",
        "password = input(\"Enter password: \")\n",
        "\n",
        "# Check login credentials\n",
        "if username == stored_username:\n",
        "    if password == stored_password:\n",
        "        print(\"Login successful!\")\n",
        "    else:\n",
        "        print(\"Incorrect password.\")\n",
        "else:\n",
        "    print(\"Username not found.\")"
      ],
      "metadata": {
        "colab": {
          "base_uri": "https://localhost:8080/"
        },
        "id": "cYsFF01GMlWw",
        "outputId": "95bdd778-8247-4bed-caa8-53c5dae5e90b"
      },
      "execution_count": null,
      "outputs": [
        {
          "output_type": "stream",
          "name": "stdout",
          "text": [
            "Enter username: sanad\n",
            "Enter password: singh\n",
            "Username not found.\n"
          ]
        }
      ]
    },
    {
      "cell_type": "code",
      "source": [
        "stored_username = \"admin\"\n",
        "stored_password = \"password123\"\n",
        "\n",
        "# Take user input\n",
        "username = input(\"Enter username: \")\n",
        "password = input(\"Enter password: \")\n",
        "\n",
        "# Check login credentials\n",
        "if username == stored_username:\n",
        "    if password == stored_password:\n",
        "        print(\"Login successful!\")\n",
        "    else:\n",
        "        print(\"Incorrect password.\")\n",
        "else:\n",
        "    print(\"Username not found.\")"
      ],
      "metadata": {
        "colab": {
          "base_uri": "https://localhost:8080/"
        },
        "id": "mt0KPdO4M1i0",
        "outputId": "8a390db8-d45b-4655-ba1a-8d15a7a6492f"
      },
      "execution_count": null,
      "outputs": [
        {
          "output_type": "stream",
          "name": "stdout",
          "text": [
            "Enter username: admin\n",
            "Enter password: password123\n",
            "Login successful!\n"
          ]
        }
      ]
    },
    {
      "cell_type": "markdown",
      "source": [
        "#### **Loops**\n",
        "\n",
        "**for Loop**\n",
        "   - Iterating over a range\n",
        "   - Iterating over a string\n",
        "\n",
        "**while Loop**\n",
        "\n",
        "**Loop Control Statements**\n",
        "\n",
        "    - break\n",
        "    - continue\n",
        "    - pass\n",
        "\n",
        "**Nested Loops**"
      ],
      "metadata": {
        "id": "ywJl8D45OJKl"
      }
    },
    {
      "cell_type": "code",
      "source": [
        "range(5)\n",
        "\n",
        "## for loop\n",
        "\n",
        "for i in range(5):\n",
        "    print(i)"
      ],
      "metadata": {
        "colab": {
          "base_uri": "https://localhost:8080/"
        },
        "id": "6BdsuvQaM8wu",
        "outputId": "edd301b9-78ed-43b5-b71a-f8018e2c7ffb"
      },
      "execution_count": null,
      "outputs": [
        {
          "output_type": "stream",
          "name": "stdout",
          "text": [
            "0\n",
            "1\n",
            "2\n",
            "3\n",
            "4\n"
          ]
        }
      ]
    },
    {
      "cell_type": "code",
      "source": [
        "for i in range(1,6):\n",
        "    print(i)"
      ],
      "metadata": {
        "colab": {
          "base_uri": "https://localhost:8080/"
        },
        "id": "V1lLK8cuOoXS",
        "outputId": "3e63aa16-28a8-490d-c6e3-0b5e9a8975d8"
      },
      "execution_count": null,
      "outputs": [
        {
          "output_type": "stream",
          "name": "stdout",
          "text": [
            "1\n",
            "2\n",
            "3\n",
            "4\n",
            "5\n"
          ]
        }
      ]
    },
    {
      "cell_type": "code",
      "source": [
        "for i in range(1,10,2): #Start:End:Step\n",
        "    print(i)"
      ],
      "metadata": {
        "colab": {
          "base_uri": "https://localhost:8080/"
        },
        "id": "P2sVqMD2OpT_",
        "outputId": "69b634ef-eb7d-4582-97de-811d20f19ae1"
      },
      "execution_count": null,
      "outputs": [
        {
          "output_type": "stream",
          "name": "stdout",
          "text": [
            "1\n",
            "3\n",
            "5\n",
            "7\n",
            "9\n"
          ]
        }
      ]
    },
    {
      "cell_type": "code",
      "source": [
        "for i in range(10,1,-1): #reverse stepping\n",
        "    print(i)"
      ],
      "metadata": {
        "colab": {
          "base_uri": "https://localhost:8080/"
        },
        "id": "Chv5I8E6OqyI",
        "outputId": "aa0cbf2d-61ee-4992-f50c-0f229803854c"
      },
      "execution_count": null,
      "outputs": [
        {
          "output_type": "stream",
          "name": "stdout",
          "text": [
            "10\n",
            "9\n",
            "8\n",
            "7\n",
            "6\n",
            "5\n",
            "4\n",
            "3\n",
            "2\n"
          ]
        }
      ]
    },
    {
      "cell_type": "code",
      "source": [
        "for i in range(10,1,-2): #reverse stepping\n",
        "    print(i)"
      ],
      "metadata": {
        "colab": {
          "base_uri": "https://localhost:8080/"
        },
        "id": "wH674UjnOyxQ",
        "outputId": "226d381a-7e98-4345-c2de-6165d86e6da1"
      },
      "execution_count": null,
      "outputs": [
        {
          "output_type": "stream",
          "name": "stdout",
          "text": [
            "10\n",
            "8\n",
            "6\n",
            "4\n",
            "2\n"
          ]
        }
      ]
    },
    {
      "cell_type": "code",
      "source": [
        "## strings\n",
        "\n",
        "str=\"Sanad Kumar Singh\"\n",
        "\n",
        "for i in str:\n",
        "    print(i)"
      ],
      "metadata": {
        "colab": {
          "base_uri": "https://localhost:8080/"
        },
        "id": "3ug23aOuPA4h",
        "outputId": "55af9338-e42a-4315-c59f-2f65c5086376"
      },
      "execution_count": null,
      "outputs": [
        {
          "output_type": "stream",
          "name": "stdout",
          "text": [
            "S\n",
            "a\n",
            "n\n",
            "a\n",
            "d\n",
            " \n",
            "K\n",
            "u\n",
            "m\n",
            "a\n",
            "r\n",
            " \n",
            "S\n",
            "i\n",
            "n\n",
            "g\n",
            "h\n"
          ]
        }
      ]
    },
    {
      "cell_type": "code",
      "source": [
        "## while loop\n",
        "\n",
        "## The while loop continues to execute as long as the condition is True.\n",
        "\n",
        "count=0\n",
        "\n",
        "while count<5:\n",
        "    print(count)\n",
        "    count=count+1"
      ],
      "metadata": {
        "colab": {
          "base_uri": "https://localhost:8080/"
        },
        "id": "0nuW6QswPI_s",
        "outputId": "e62ef316-e7e5-42bb-86d2-02fd1658dd21"
      },
      "execution_count": null,
      "outputs": [
        {
          "output_type": "stream",
          "name": "stdout",
          "text": [
            "0\n",
            "1\n",
            "2\n",
            "3\n",
            "4\n"
          ]
        }
      ]
    },
    {
      "cell_type": "markdown",
      "source": [
        "## Loop Control Statements"
      ],
      "metadata": {
        "id": "o5Ekp2nXTqEC"
      }
    },
    {
      "cell_type": "code",
      "source": [
        "## break\n",
        "## The break statement exits the loop permaturely\n",
        "\n",
        "## break sstatement\n",
        "\n",
        "for i in range(10):\n",
        "    if i==5:\n",
        "        break\n",
        "    print(i)"
      ],
      "metadata": {
        "colab": {
          "base_uri": "https://localhost:8080/"
        },
        "id": "zospbaqBPN97",
        "outputId": "7f387f45-ae4b-4cbe-8256-fd69434f6447"
      },
      "execution_count": null,
      "outputs": [
        {
          "output_type": "stream",
          "name": "stdout",
          "text": [
            "0\n",
            "1\n",
            "2\n",
            "3\n",
            "4\n"
          ]
        }
      ]
    },
    {
      "cell_type": "markdown",
      "source": [
        "## Continue"
      ],
      "metadata": {
        "id": "3pmM-2IWT0UB"
      }
    },
    {
      "cell_type": "code",
      "source": [
        "## The continue statement skips the current iteration and continues with the next.\n",
        "\n",
        "for i in range(10):\n",
        "    if i%2==0:\n",
        "        continue\n",
        "    print(i)"
      ],
      "metadata": {
        "colab": {
          "base_uri": "https://localhost:8080/"
        },
        "id": "uHfHzyTKTspG",
        "outputId": "46e78453-7e52-4a32-8133-a9ba0151fc49"
      },
      "execution_count": null,
      "outputs": [
        {
          "output_type": "stream",
          "name": "stdout",
          "text": [
            "1\n",
            "3\n",
            "5\n",
            "7\n",
            "9\n"
          ]
        }
      ]
    },
    {
      "cell_type": "markdown",
      "source": [
        "## Pass"
      ],
      "metadata": {
        "id": "TrC-PRFpUGbD"
      }
    },
    {
      "cell_type": "code",
      "source": [
        "## The pass statement is a null operation; it does nothing.\n",
        "\n",
        "for i in range(5):\n",
        "    if i==3:\n",
        "        pass\n",
        "    print(i)"
      ],
      "metadata": {
        "colab": {
          "base_uri": "https://localhost:8080/"
        },
        "id": "3WKjiSn5UEQH",
        "outputId": "0d161d45-bf36-4c70-99ee-18a58e43b1f2"
      },
      "execution_count": null,
      "outputs": [
        {
          "output_type": "stream",
          "name": "stdout",
          "text": [
            "0\n",
            "1\n",
            "2\n",
            "3\n",
            "4\n"
          ]
        }
      ]
    },
    {
      "cell_type": "code",
      "source": [
        "## Nested loopss\n",
        "## a loop inside a loop\n",
        "\n",
        "for i in range(3):\n",
        "    for j in range(2):\n",
        "        print(f\"i:{i} and j:{j}\")"
      ],
      "metadata": {
        "colab": {
          "base_uri": "https://localhost:8080/"
        },
        "id": "sXiJanaJUPHy",
        "outputId": "8de483f2-df49-401f-98a8-414f8b5bfe64"
      },
      "execution_count": null,
      "outputs": [
        {
          "output_type": "stream",
          "name": "stdout",
          "text": [
            "i:0 and j:0\n",
            "i:0 and j:1\n",
            "i:1 and j:0\n",
            "i:1 and j:1\n",
            "i:2 and j:0\n",
            "i:2 and j:1\n"
          ]
        }
      ]
    },
    {
      "cell_type": "markdown",
      "source": [
        "## Calculate the sum of first N natural numbers using a while and for loop\n"
      ],
      "metadata": {
        "id": "WZABsi2bUefN"
      }
    },
    {
      "cell_type": "code",
      "source": [
        "## while loop\n",
        "\n",
        "n=10\n",
        "sum=0\n",
        "count=1\n",
        "\n",
        "while count<=n:\n",
        "    sum=sum+count\n",
        "    count=count+1\n",
        "\n",
        "print(\"Sum of first 10 natural number:\",sum)"
      ],
      "metadata": {
        "colab": {
          "base_uri": "https://localhost:8080/"
        },
        "id": "cczTide-UTxH",
        "outputId": "a329d317-9559-4840-89c5-8dc196f48408"
      },
      "execution_count": null,
      "outputs": [
        {
          "output_type": "stream",
          "name": "stdout",
          "text": [
            "Sum of first 10 natural number: 55\n"
          ]
        }
      ]
    },
    {
      "cell_type": "code",
      "source": [
        "n=10\n",
        "sum=0\n",
        "for i in range(11):\n",
        "    sum=sum+i\n",
        "\n",
        "print(sum)"
      ],
      "metadata": {
        "colab": {
          "base_uri": "https://localhost:8080/"
        },
        "id": "bMUEuPCZUk-h",
        "outputId": "c7769ae7-a02f-4742-cb67-c067051a6d7c"
      },
      "execution_count": null,
      "outputs": [
        {
          "output_type": "stream",
          "name": "stdout",
          "text": [
            "55\n"
          ]
        }
      ]
    },
    {
      "cell_type": "markdown",
      "source": [
        "## Prime numbers between 1 and 100"
      ],
      "metadata": {
        "id": "lGQEuHnPUydY"
      }
    },
    {
      "cell_type": "code",
      "source": [
        "for num in range(1,101):\n",
        "    if num>1:\n",
        "        for i in range(2,num):\n",
        "            if num%i==0:\n",
        "                break\n",
        "        else:\n",
        "            print(num)"
      ],
      "metadata": {
        "colab": {
          "base_uri": "https://localhost:8080/"
        },
        "id": "KNCsGplcUrQ9",
        "outputId": "bc5d1a7a-0ebd-4788-c526-2e79e6dcd3bb"
      },
      "execution_count": null,
      "outputs": [
        {
          "output_type": "stream",
          "name": "stdout",
          "text": [
            "2\n",
            "3\n",
            "5\n",
            "7\n",
            "11\n",
            "13\n",
            "17\n",
            "19\n",
            "23\n",
            "29\n",
            "31\n",
            "37\n",
            "41\n",
            "43\n",
            "47\n",
            "53\n",
            "59\n",
            "61\n",
            "67\n",
            "71\n",
            "73\n",
            "79\n",
            "83\n",
            "89\n",
            "97\n"
          ]
        }
      ]
    },
    {
      "cell_type": "markdown",
      "source": [
        "#### KKB :\n",
        "\n",
        "Loops are powerful constructs in Python that allow you to execute a block of code multiple times.\n",
        "\n",
        "By understanding and using for and while loops, along with loop control statements like break, continue, and pass, you can handle a wide range of programming tasks efficiently."
      ],
      "metadata": {
        "id": "sJyt8jtfU470"
      }
    },
    {
      "cell_type": "markdown",
      "source": [
        "#### Introduction To Lists\n",
        "\n",
        "- Lists are ordered, mutable collections of items.\n",
        "- They can contain items of different data types."
      ],
      "metadata": {
        "id": "2EjwIGLYV5i-"
      }
    },
    {
      "cell_type": "markdown",
      "source": [
        "1. Introduction to Lists\n",
        "2. Creating Lists\n",
        "3. Accessing List Elements\n",
        "4. Modifying List Elements\n",
        "5. List Methods\n",
        "6. Slicing Lists\n",
        "7. Iterating Over Lists\n",
        "8. List Comprehensions\n",
        "9. Nested Lists\n",
        "10. Practical Examples and Common Errors"
      ],
      "metadata": {
        "id": "i-9FP8quWYIs"
      }
    },
    {
      "cell_type": "code",
      "source": [
        "lst=[]\n",
        "print(type(lst))"
      ],
      "metadata": {
        "colab": {
          "base_uri": "https://localhost:8080/"
        },
        "id": "OQtXDWycU0cx",
        "outputId": "87e5c899-7b36-48ef-de09-01336d7605d0"
      },
      "execution_count": null,
      "outputs": [
        {
          "output_type": "stream",
          "name": "stdout",
          "text": [
            "<class 'list'>\n"
          ]
        }
      ]
    },
    {
      "cell_type": "code",
      "source": [
        "names=[\"Sanad\",\"Singh\",\"RAJ\",1,2,3,4,5]\n",
        "print(names)"
      ],
      "metadata": {
        "colab": {
          "base_uri": "https://localhost:8080/"
        },
        "id": "B7JA5nu3WkuN",
        "outputId": "fb414bff-46c0-4558-8948-44ee1741f0fc"
      },
      "execution_count": null,
      "outputs": [
        {
          "output_type": "stream",
          "name": "stdout",
          "text": [
            "['Sanad', 'Singh', 'RAJ', 1, 2, 3, 4, 5]\n"
          ]
        }
      ]
    },
    {
      "cell_type": "code",
      "source": [
        "mixed_list=[1,\"Hello\",3.14,True,\"World\"]\n",
        "print(mixed_list)"
      ],
      "metadata": {
        "colab": {
          "base_uri": "https://localhost:8080/"
        },
        "id": "XDVrfXDAWsP7",
        "outputId": "89c9aec2-95cd-477e-cea2-2a827ad9b79e"
      },
      "execution_count": null,
      "outputs": [
        {
          "output_type": "stream",
          "name": "stdout",
          "text": [
            "[1, 'Hello', 3.14, True, 'World']\n"
          ]
        }
      ]
    },
    {
      "cell_type": "code",
      "source": [
        "### Accessing List Elements Using Indexing, reverse indexing And Slicing\n",
        "\n",
        "fruits=[\"apple\",\"banana\",\"cherry\",\"kiwi\",\"gauva\"]"
      ],
      "metadata": {
        "id": "-r_Qzx-nWwkW"
      },
      "execution_count": null,
      "outputs": []
    },
    {
      "cell_type": "code",
      "source": [
        "print(fruits[0])\n",
        "print(fruits[2])\n",
        "print(fruits[4])\n",
        "print(fruits[-1])"
      ],
      "metadata": {
        "colab": {
          "base_uri": "https://localhost:8080/"
        },
        "id": "HWpXjPWhWyYg",
        "outputId": "93f4f63a-ccf4-4e7d-b976-bac6ba8752b6"
      },
      "execution_count": null,
      "outputs": [
        {
          "output_type": "stream",
          "name": "stdout",
          "text": [
            "apple\n",
            "cherry\n",
            "gauva\n",
            "gauva\n"
          ]
        }
      ]
    },
    {
      "cell_type": "code",
      "source": [
        "print(fruits[1:])\n",
        "print(fruits[1:3])"
      ],
      "metadata": {
        "colab": {
          "base_uri": "https://localhost:8080/"
        },
        "id": "N0yjZHdFWz1B",
        "outputId": "8131ea59-3cb7-4226-f54d-da0602e3b7ae"
      },
      "execution_count": null,
      "outputs": [
        {
          "output_type": "stream",
          "name": "stdout",
          "text": [
            "['banana', 'cherry', 'kiwi', 'gauva']\n",
            "['banana', 'cherry']\n"
          ]
        }
      ]
    },
    {
      "cell_type": "code",
      "source": [
        "## Modifying The List elements\n",
        "fruits\n",
        "fruits[1]=\"watermelon\"\n",
        "print(fruits)"
      ],
      "metadata": {
        "colab": {
          "base_uri": "https://localhost:8080/"
        },
        "id": "FbDEPc7cW5OA",
        "outputId": "300bc4c5-ce24-404f-90c5-26f2b4ac0309"
      },
      "execution_count": null,
      "outputs": [
        {
          "output_type": "stream",
          "name": "stdout",
          "text": [
            "['apple', 'watermelon', 'cherry', 'kiwi', 'gauva']\n"
          ]
        }
      ]
    },
    {
      "cell_type": "code",
      "source": [
        "fruits[1:]=\"watermelon\"\n",
        "fruits"
      ],
      "metadata": {
        "colab": {
          "base_uri": "https://localhost:8080/"
        },
        "id": "c13I6Aa3W_Yt",
        "outputId": "111921de-773c-493f-f8db-76536b06ae5c"
      },
      "execution_count": null,
      "outputs": [
        {
          "output_type": "execute_result",
          "data": {
            "text/plain": [
              "['apple', 'w', 'a', 't', 'e', 'r', 'm', 'e', 'l', 'o', 'n']"
            ]
          },
          "metadata": {},
          "execution_count": 234
        }
      ]
    },
    {
      "cell_type": "code",
      "source": [
        "fruits=[\"apple\",\"banana\",\"cherry\",\"kiwi\",\"gauva\"]"
      ],
      "metadata": {
        "id": "gsyur2HdXFPV"
      },
      "execution_count": null,
      "outputs": []
    },
    {
      "cell_type": "code",
      "source": [
        "## List Methods\n",
        "\n",
        "fruits.append(\"orange\") ## Add an item to the end\n",
        "print(fruits)"
      ],
      "metadata": {
        "colab": {
          "base_uri": "https://localhost:8080/"
        },
        "id": "1v7hdzJoXIf2",
        "outputId": "dfcdb3e2-3b0a-47a2-d41e-67cf8aeb8f3e"
      },
      "execution_count": null,
      "outputs": [
        {
          "output_type": "stream",
          "name": "stdout",
          "text": [
            "['apple', 'banana', 'cherry', 'kiwi', 'gauva', 'orange']\n"
          ]
        }
      ]
    },
    {
      "cell_type": "code",
      "source": [
        "fruits.insert(1,\"watermelon\") ## Inserting new data at index no. 1\n",
        "print(fruits)"
      ],
      "metadata": {
        "colab": {
          "base_uri": "https://localhost:8080/"
        },
        "id": "wdjRe0AAXJf4",
        "outputId": "d243e064-8639-4371-a211-70f0076162bb"
      },
      "execution_count": null,
      "outputs": [
        {
          "output_type": "stream",
          "name": "stdout",
          "text": [
            "['apple', 'watermelon', 'banana', 'cherry', 'kiwi', 'gauva', 'orange']\n"
          ]
        }
      ]
    },
    {
      "cell_type": "code",
      "source": [
        "fruits.remove(\"banana\") ## Removing the first occurance of an item\n",
        "print(fruits)"
      ],
      "metadata": {
        "colab": {
          "base_uri": "https://localhost:8080/"
        },
        "id": "UQIVIU4XXQYC",
        "outputId": "a0f19455-1af1-4cfb-d30b-04cf4a606680"
      },
      "execution_count": null,
      "outputs": [
        {
          "output_type": "stream",
          "name": "stdout",
          "text": [
            "['apple', 'watermelon', 'cherry', 'kiwi', 'gauva', 'orange']\n"
          ]
        }
      ]
    },
    {
      "cell_type": "code",
      "source": [
        "## Remove and return the last element\n",
        "popped_fruits=fruits.pop()\n",
        "print(popped_fruits)\n",
        "print(fruits)"
      ],
      "metadata": {
        "colab": {
          "base_uri": "https://localhost:8080/"
        },
        "id": "Fu8c45ZgXSUH",
        "outputId": "189925fa-ba7e-4919-f35c-17def697b1c5"
      },
      "execution_count": null,
      "outputs": [
        {
          "output_type": "stream",
          "name": "stdout",
          "text": [
            "orange\n",
            "['apple', 'watermelon', 'cherry', 'kiwi', 'gauva']\n"
          ]
        }
      ]
    },
    {
      "cell_type": "code",
      "source": [
        "index=fruits.index(\"cherry\")\n",
        "print(index)"
      ],
      "metadata": {
        "colab": {
          "base_uri": "https://localhost:8080/"
        },
        "id": "GRURn6TgXg61",
        "outputId": "b2389121-e2be-4267-83df-4ecdb34eac50"
      },
      "execution_count": null,
      "outputs": [
        {
          "output_type": "stream",
          "name": "stdout",
          "text": [
            "2\n"
          ]
        }
      ]
    },
    {
      "cell_type": "code",
      "source": [
        "fruits.insert(2,\"banana\")\n",
        "print(fruits.count(\"banana\"))"
      ],
      "metadata": {
        "colab": {
          "base_uri": "https://localhost:8080/"
        },
        "id": "_9QJ7-cUXjrF",
        "outputId": "6f6d74de-88eb-4bd9-bd6e-7c7e512f2e8f"
      },
      "execution_count": null,
      "outputs": [
        {
          "output_type": "stream",
          "name": "stdout",
          "text": [
            "1\n"
          ]
        }
      ]
    },
    {
      "cell_type": "code",
      "source": [
        "fruits"
      ],
      "metadata": {
        "colab": {
          "base_uri": "https://localhost:8080/"
        },
        "id": "8lJaQPlCXoN4",
        "outputId": "5319db4f-6abe-47a5-b317-32fd5887a853"
      },
      "execution_count": null,
      "outputs": [
        {
          "output_type": "execute_result",
          "data": {
            "text/plain": [
              "['apple', 'watermelon', 'banana', 'cherry', 'kiwi', 'gauva']"
            ]
          },
          "metadata": {},
          "execution_count": 242
        }
      ]
    },
    {
      "cell_type": "code",
      "source": [
        "fruits.sort() ## SSorts the list in ascending order"
      ],
      "metadata": {
        "id": "r6cjz0eMXpt6"
      },
      "execution_count": null,
      "outputs": []
    },
    {
      "cell_type": "code",
      "source": [
        "fruits"
      ],
      "metadata": {
        "colab": {
          "base_uri": "https://localhost:8080/"
        },
        "id": "-T4t6yQgXtPI",
        "outputId": "7a23559a-ce28-4d53-9116-555e5648e71b"
      },
      "execution_count": null,
      "outputs": [
        {
          "output_type": "execute_result",
          "data": {
            "text/plain": [
              "['apple', 'banana', 'cherry', 'gauva', 'kiwi', 'watermelon']"
            ]
          },
          "metadata": {},
          "execution_count": 244
        }
      ]
    },
    {
      "cell_type": "code",
      "source": [
        "fruits.reverse() ## Reverse the list"
      ],
      "metadata": {
        "id": "XJOqDiq5XvFw"
      },
      "execution_count": null,
      "outputs": []
    },
    {
      "cell_type": "code",
      "source": [
        "fruits"
      ],
      "metadata": {
        "colab": {
          "base_uri": "https://localhost:8080/"
        },
        "id": "km4E-CQcXxlx",
        "outputId": "4278b1c6-df75-4292-d5bf-e2892132b9f8"
      },
      "execution_count": null,
      "outputs": [
        {
          "output_type": "execute_result",
          "data": {
            "text/plain": [
              "['watermelon', 'kiwi', 'gauva', 'cherry', 'banana', 'apple']"
            ]
          },
          "metadata": {},
          "execution_count": 246
        }
      ]
    },
    {
      "cell_type": "code",
      "source": [
        "fruits.clear() ## Remove all items from the list\n",
        "\n",
        "print(fruits)"
      ],
      "metadata": {
        "colab": {
          "base_uri": "https://localhost:8080/"
        },
        "id": "c-pPYjEbX22J",
        "outputId": "9072945d-e86b-4309-c852-85a474fe4352"
      },
      "execution_count": null,
      "outputs": [
        {
          "output_type": "stream",
          "name": "stdout",
          "text": [
            "[]\n"
          ]
        }
      ]
    },
    {
      "cell_type": "code",
      "source": [
        "## Slicing List\n",
        "numbers = [1, 2, 3, 4, 5, 6, 7, 8, 9, 10]\n",
        "print(numbers[2:5])\n",
        "print(numbers[:5])\n",
        "print(numbers[5:])\n",
        "print(numbers[::2])\n",
        "print(numbers[::-1])"
      ],
      "metadata": {
        "colab": {
          "base_uri": "https://localhost:8080/"
        },
        "id": "NW6B6UL5X5Sz",
        "outputId": "b4b29031-e555-4573-a084-8f566cb16d73"
      },
      "execution_count": null,
      "outputs": [
        {
          "output_type": "stream",
          "name": "stdout",
          "text": [
            "[3, 4, 5]\n",
            "[1, 2, 3, 4, 5]\n",
            "[6, 7, 8, 9, 10]\n",
            "[1, 3, 5, 7, 9]\n",
            "[10, 9, 8, 7, 6, 5, 4, 3, 2, 1]\n"
          ]
        }
      ]
    },
    {
      "cell_type": "code",
      "source": [
        "numbers[::3]"
      ],
      "metadata": {
        "colab": {
          "base_uri": "https://localhost:8080/"
        },
        "id": "yhijwBK4X-Za",
        "outputId": "93db841c-204c-478c-f28a-a3856522be9f"
      },
      "execution_count": null,
      "outputs": [
        {
          "output_type": "execute_result",
          "data": {
            "text/plain": [
              "[1, 4, 7, 10]"
            ]
          },
          "metadata": {},
          "execution_count": 249
        }
      ]
    },
    {
      "cell_type": "code",
      "source": [
        "numbers[::-2]"
      ],
      "metadata": {
        "colab": {
          "base_uri": "https://localhost:8080/"
        },
        "id": "1KIOQWRDYBFI",
        "outputId": "8a28eba2-fd51-469b-ea22-0721e2e77051"
      },
      "execution_count": null,
      "outputs": [
        {
          "output_type": "execute_result",
          "data": {
            "text/plain": [
              "[10, 8, 6, 4, 2]"
            ]
          },
          "metadata": {},
          "execution_count": 250
        }
      ]
    },
    {
      "cell_type": "code",
      "source": [
        "### Iterating Over List using for loop\n",
        "\n",
        "for number in numbers:\n",
        "    print(number)"
      ],
      "metadata": {
        "colab": {
          "base_uri": "https://localhost:8080/"
        },
        "id": "tMdilBbmYCG3",
        "outputId": "ebf9f1c9-6173-4a0e-c38b-b81e8eac6df3"
      },
      "execution_count": null,
      "outputs": [
        {
          "output_type": "stream",
          "name": "stdout",
          "text": [
            "1\n",
            "2\n",
            "3\n",
            "4\n",
            "5\n",
            "6\n",
            "7\n",
            "8\n",
            "9\n",
            "10\n"
          ]
        }
      ]
    },
    {
      "cell_type": "code",
      "source": [
        "## Iterating with index\n",
        "for index,number in enumerate(numbers):\n",
        "    print(index,number)"
      ],
      "metadata": {
        "colab": {
          "base_uri": "https://localhost:8080/"
        },
        "id": "vqywNvNjYGlz",
        "outputId": "502ce3b1-ab44-4e87-a3fc-483406c816d2"
      },
      "execution_count": null,
      "outputs": [
        {
          "output_type": "stream",
          "name": "stdout",
          "text": [
            "0 1\n",
            "1 2\n",
            "2 3\n",
            "3 4\n",
            "4 5\n",
            "5 6\n",
            "6 7\n",
            "7 8\n",
            "8 9\n",
            "9 10\n"
          ]
        }
      ]
    },
    {
      "cell_type": "code",
      "source": [
        "## List comprehension\n",
        "lst=[]\n",
        "for x in range(10):\n",
        "    lst.append(x**2)\n",
        "\n",
        "print(lst)"
      ],
      "metadata": {
        "colab": {
          "base_uri": "https://localhost:8080/"
        },
        "id": "2MAaV9ksYIQW",
        "outputId": "146735ca-3c90-4b42-c927-a12e19ad8e99"
      },
      "execution_count": null,
      "outputs": [
        {
          "output_type": "stream",
          "name": "stdout",
          "text": [
            "[0, 1, 4, 9, 16, 25, 36, 49, 64, 81]\n"
          ]
        }
      ]
    },
    {
      "cell_type": "code",
      "source": [
        "[x**2 for x in range(10)]"
      ],
      "metadata": {
        "colab": {
          "base_uri": "https://localhost:8080/"
        },
        "id": "8seJOkTdYM8f",
        "outputId": "9b6ee0e7-303f-407d-f3c6-722255b2575b"
      },
      "execution_count": null,
      "outputs": [
        {
          "output_type": "execute_result",
          "data": {
            "text/plain": [
              "[0, 1, 4, 9, 16, 25, 36, 49, 64, 81]"
            ]
          },
          "metadata": {},
          "execution_count": 254
        }
      ]
    },
    {
      "cell_type": "markdown",
      "source": [
        "##### List Comprehension\n",
        "\n",
        "- Basics Syantax---------[expression for item in iterable]\n",
        "\n",
        "- with conditional logic---------[expression for item in iterable if condition]\n",
        "\n",
        "- Nested List Comprehension--------[expression for item1 in iterable1 for item2 in iterable2]"
      ],
      "metadata": {
        "id": "kG3ajwjpYYGx"
      }
    },
    {
      "cell_type": "code",
      "source": [
        "### Basic List Comphrension\n",
        "\n",
        "sqaure=[num**2 for num in range(10)]\n",
        "print(sqaure)"
      ],
      "metadata": {
        "colab": {
          "base_uri": "https://localhost:8080/"
        },
        "id": "nnzcmB8LYWV-",
        "outputId": "5af70a46-022b-475c-d203-d4c17ff719d7"
      },
      "execution_count": null,
      "outputs": [
        {
          "output_type": "stream",
          "name": "stdout",
          "text": [
            "[0, 1, 4, 9, 16, 25, 36, 49, 64, 81]\n"
          ]
        }
      ]
    },
    {
      "cell_type": "code",
      "source": [
        "### List Comprehension with Condition\n",
        "lst=[]\n",
        "for i in range(10):\n",
        "    if i%2==0:\n",
        "        lst.append(i)\n",
        "\n",
        "print(lst)"
      ],
      "metadata": {
        "colab": {
          "base_uri": "https://localhost:8080/"
        },
        "id": "0XzPLFuLYuK1",
        "outputId": "724528f6-5d6a-4a6c-8e69-26cecca38e76"
      },
      "execution_count": null,
      "outputs": [
        {
          "output_type": "stream",
          "name": "stdout",
          "text": [
            "[0, 2, 4, 6, 8]\n"
          ]
        }
      ]
    },
    {
      "cell_type": "code",
      "source": [
        "even_numbers=[num for num in range(10) if num%2==0]\n",
        "print(even_numbers)"
      ],
      "metadata": {
        "colab": {
          "base_uri": "https://localhost:8080/"
        },
        "id": "IwMYDNHgYyRt",
        "outputId": "d40d574e-cb15-48b1-c28b-945a1ba1b20d"
      },
      "execution_count": null,
      "outputs": [
        {
          "output_type": "stream",
          "name": "stdout",
          "text": [
            "[0, 2, 4, 6, 8]\n"
          ]
        }
      ]
    },
    {
      "cell_type": "code",
      "source": [
        "## Nested List Comphrension\n",
        "\n",
        "lst1=[1,2,3,4]\n",
        "lst2=['a','b','c','d']\n",
        "\n",
        "pair=[[i,j] for i in lst1 for j in lst2]\n",
        "\n",
        "print(pair)"
      ],
      "metadata": {
        "colab": {
          "base_uri": "https://localhost:8080/"
        },
        "id": "CANiKmMfY04G",
        "outputId": "8929c281-a17b-43ea-ddad-68787013ebb4"
      },
      "execution_count": null,
      "outputs": [
        {
          "output_type": "stream",
          "name": "stdout",
          "text": [
            "[[1, 'a'], [1, 'b'], [1, 'c'], [1, 'd'], [2, 'a'], [2, 'b'], [2, 'c'], [2, 'd'], [3, 'a'], [3, 'b'], [3, 'c'], [3, 'd'], [4, 'a'], [4, 'b'], [4, 'c'], [4, 'd']]\n"
          ]
        }
      ]
    },
    {
      "cell_type": "code",
      "source": [
        "## List Comprehension with function calls\n",
        "words = [\"hello\", \"world\", \"python\", \"list\", \"comprehension\"]\n",
        "lengths = [len(word) for word in words]\n",
        "print(lengths)  # Output: [5, 5, 6, 4, 13]"
      ],
      "metadata": {
        "colab": {
          "base_uri": "https://localhost:8080/"
        },
        "id": "2QVpaFF2Y3zs",
        "outputId": "bc0e130e-645f-42ec-c485-a4a4971e72e7"
      },
      "execution_count": null,
      "outputs": [
        {
          "output_type": "stream",
          "name": "stdout",
          "text": [
            "[5, 5, 6, 4, 13]\n"
          ]
        }
      ]
    },
    {
      "cell_type": "markdown",
      "source": [
        "#### KKB\n",
        "- List comprehensions are a powerful and concise way to create lists in Python.\n",
        "\n",
        "- They are syntactically compact and can replace more verbose looping constructs.\n",
        "\n",
        "- Understanding the syntax of list comprehensions will help you write cleaner and more efficient Python code."
      ],
      "metadata": {
        "id": "yQizdGGNZGQd"
      }
    },
    {
      "cell_type": "markdown",
      "source": [
        "##### **Introduction to Tuples**\n",
        "\n",
        "**Explanation:**\n",
        "\n",
        "- Tuples are ordered collections of items that are immutable.\n",
        "\n",
        "- They are similar to lists, but their immutability makes them different.\n",
        "\n",
        "### **Things to learn**\n",
        "- Creating Tuples\n",
        "- Accessing Tuple Elements\n",
        "- Tuple Operations\n",
        "- Immutable Nature of Tuples\n",
        "- Tuple Methods\n",
        "- Packing and Unpacking Tuples\n",
        "- Nested Tuples"
      ],
      "metadata": {
        "id": "XaT7Kx2YZqEh"
      }
    },
    {
      "cell_type": "code",
      "source": [
        "## creating a tuple\n",
        "empty_tuple=()\n",
        "print(empty_tuple)\n",
        "print(type(empty_tuple))"
      ],
      "metadata": {
        "colab": {
          "base_uri": "https://localhost:8080/"
        },
        "id": "ef7CeS7cY8ok",
        "outputId": "c864553e-d5fe-450a-e3ac-af9bc13aa1dd"
      },
      "execution_count": null,
      "outputs": [
        {
          "output_type": "stream",
          "name": "stdout",
          "text": [
            "()\n",
            "<class 'tuple'>\n"
          ]
        }
      ]
    },
    {
      "cell_type": "code",
      "source": [
        "lst=list()\n",
        "print(type(lst))\n",
        "tpl=tuple()\n",
        "print(type(tpl))"
      ],
      "metadata": {
        "colab": {
          "base_uri": "https://localhost:8080/"
        },
        "id": "cdlN1cK2aNsT",
        "outputId": "c0761245-4f0a-4c45-be1c-0125ef315757"
      },
      "execution_count": null,
      "outputs": [
        {
          "output_type": "stream",
          "name": "stdout",
          "text": [
            "<class 'list'>\n",
            "<class 'tuple'>\n"
          ]
        }
      ]
    },
    {
      "cell_type": "code",
      "source": [
        "numbers=tuple([1,2,3,4,5,6])\n",
        "numbers"
      ],
      "metadata": {
        "colab": {
          "base_uri": "https://localhost:8080/"
        },
        "id": "fF4Hlz5eaO4_",
        "outputId": "d0ce63ce-9455-4982-d60a-2abf33f585b9"
      },
      "execution_count": null,
      "outputs": [
        {
          "output_type": "execute_result",
          "data": {
            "text/plain": [
              "(1, 2, 3, 4, 5, 6)"
            ]
          },
          "metadata": {},
          "execution_count": 262
        }
      ]
    },
    {
      "cell_type": "code",
      "source": [
        "list((1,2,3,4,5,6))"
      ],
      "metadata": {
        "colab": {
          "base_uri": "https://localhost:8080/"
        },
        "id": "hZnsHVu3aQt_",
        "outputId": "a1850125-3adc-4c94-b874-515312d5367a"
      },
      "execution_count": null,
      "outputs": [
        {
          "output_type": "execute_result",
          "data": {
            "text/plain": [
              "[1, 2, 3, 4, 5, 6]"
            ]
          },
          "metadata": {},
          "execution_count": 263
        }
      ]
    },
    {
      "cell_type": "code",
      "source": [
        "mixed_tuple=(1,\"Hello World\",3.14, True)\n",
        "print(mixed_tuple)"
      ],
      "metadata": {
        "colab": {
          "base_uri": "https://localhost:8080/"
        },
        "id": "0pCFp-2qaR2R",
        "outputId": "722065c5-5e2d-42b3-d6c0-a8ba22a69580"
      },
      "execution_count": null,
      "outputs": [
        {
          "output_type": "stream",
          "name": "stdout",
          "text": [
            "(1, 'Hello World', 3.14, True)\n"
          ]
        }
      ]
    },
    {
      "cell_type": "markdown",
      "source": [
        "## Accessing Tuple Elements"
      ],
      "metadata": {
        "id": "KEV56lmIaW-z"
      }
    },
    {
      "cell_type": "code",
      "source": [
        "numbers"
      ],
      "metadata": {
        "colab": {
          "base_uri": "https://localhost:8080/"
        },
        "id": "hNp1EUetaUdg",
        "outputId": "9daff85c-6130-48c7-e379-b50820781616"
      },
      "execution_count": null,
      "outputs": [
        {
          "output_type": "execute_result",
          "data": {
            "text/plain": [
              "(1, 2, 3, 4, 5, 6)"
            ]
          },
          "metadata": {},
          "execution_count": 265
        }
      ]
    },
    {
      "cell_type": "code",
      "source": [
        "print(numbers[2])\n",
        "print(numbers[-1])"
      ],
      "metadata": {
        "colab": {
          "base_uri": "https://localhost:8080/"
        },
        "id": "A7TCGqoYaY8x",
        "outputId": "e8f5632c-e381-40a0-c53f-34f046ef52aa"
      },
      "execution_count": null,
      "outputs": [
        {
          "output_type": "stream",
          "name": "stdout",
          "text": [
            "3\n",
            "6\n"
          ]
        }
      ]
    },
    {
      "cell_type": "code",
      "source": [
        "numbers[0:4]"
      ],
      "metadata": {
        "colab": {
          "base_uri": "https://localhost:8080/"
        },
        "id": "cx8EUSddaZ_B",
        "outputId": "6d136783-921a-4b23-bea8-088745384171"
      },
      "execution_count": null,
      "outputs": [
        {
          "output_type": "execute_result",
          "data": {
            "text/plain": [
              "(1, 2, 3, 4)"
            ]
          },
          "metadata": {},
          "execution_count": 267
        }
      ]
    },
    {
      "cell_type": "code",
      "source": [
        "numbers[::-1]"
      ],
      "metadata": {
        "colab": {
          "base_uri": "https://localhost:8080/"
        },
        "id": "UEtSN9eeaccq",
        "outputId": "fe1fcc48-be16-4452-8835-2fde2852eb77"
      },
      "execution_count": null,
      "outputs": [
        {
          "output_type": "execute_result",
          "data": {
            "text/plain": [
              "(6, 5, 4, 3, 2, 1)"
            ]
          },
          "metadata": {},
          "execution_count": 268
        }
      ]
    },
    {
      "cell_type": "code",
      "source": [
        "## Tuple Operations\n",
        "\n",
        "concatenation_tuple=numbers + mixed_tuple\n",
        "print(concatenation_tuple)"
      ],
      "metadata": {
        "colab": {
          "base_uri": "https://localhost:8080/"
        },
        "id": "ohxQ5lF5ae0A",
        "outputId": "8055073a-5d3a-4269-ed3c-a2dc2fe24f15"
      },
      "execution_count": null,
      "outputs": [
        {
          "output_type": "stream",
          "name": "stdout",
          "text": [
            "(1, 2, 3, 4, 5, 6, 1, 'Hello World', 3.14, True)\n"
          ]
        }
      ]
    },
    {
      "cell_type": "code",
      "source": [
        "mixed_tuple * 3"
      ],
      "metadata": {
        "colab": {
          "base_uri": "https://localhost:8080/"
        },
        "id": "YYpDfpynbYO0",
        "outputId": "ccccddba-6b50-4e56-97c6-d4f625424ae8"
      },
      "execution_count": null,
      "outputs": [
        {
          "output_type": "execute_result",
          "data": {
            "text/plain": [
              "(1,\n",
              " 'Hello World',\n",
              " 3.14,\n",
              " True,\n",
              " 1,\n",
              " 'Hello World',\n",
              " 3.14,\n",
              " True,\n",
              " 1,\n",
              " 'Hello World',\n",
              " 3.14,\n",
              " True)"
            ]
          },
          "metadata": {},
          "execution_count": 270
        }
      ]
    },
    {
      "cell_type": "code",
      "source": [
        "numbers *3"
      ],
      "metadata": {
        "colab": {
          "base_uri": "https://localhost:8080/"
        },
        "id": "xaGIVfV0bdIP",
        "outputId": "66a58887-d8d9-4ab0-98e6-c0fa62382300"
      },
      "execution_count": null,
      "outputs": [
        {
          "output_type": "execute_result",
          "data": {
            "text/plain": [
              "(1, 2, 3, 4, 5, 6, 1, 2, 3, 4, 5, 6, 1, 2, 3, 4, 5, 6)"
            ]
          },
          "metadata": {},
          "execution_count": 271
        }
      ]
    },
    {
      "cell_type": "code",
      "source": [
        "## Immutable Nature Of Tuples\n",
        "## Tuples are immutable, meaning their elements cannot be changed once assigned.\n",
        "\n",
        "lst=[1,2,3,4,5]\n",
        "print(lst)\n",
        "\n",
        "lst[1]=\"SANAD\"\n",
        "print(lst)"
      ],
      "metadata": {
        "colab": {
          "base_uri": "https://localhost:8080/"
        },
        "id": "NgMFZUI5bfJi",
        "outputId": "858ce46e-07b2-49b0-d719-f9bbb89b8a30"
      },
      "execution_count": null,
      "outputs": [
        {
          "output_type": "stream",
          "name": "stdout",
          "text": [
            "[1, 2, 3, 4, 5]\n",
            "[1, 'SANAD', 3, 4, 5]\n"
          ]
        }
      ]
    },
    {
      "cell_type": "code",
      "source": [
        "numbers[1]=\"Singh\""
      ],
      "metadata": {
        "colab": {
          "base_uri": "https://localhost:8080/",
          "height": 146
        },
        "id": "4A3MMzZubjNm",
        "outputId": "9b103c00-b99e-4b77-dfef-8dada15875cf"
      },
      "execution_count": null,
      "outputs": [
        {
          "output_type": "error",
          "ename": "TypeError",
          "evalue": "'tuple' object does not support item assignment",
          "traceback": [
            "\u001b[0;31m---------------------------------------------------------------------------\u001b[0m",
            "\u001b[0;31mTypeError\u001b[0m                                 Traceback (most recent call last)",
            "\u001b[0;32m<ipython-input-273-9c65f92b66ef>\u001b[0m in \u001b[0;36m<cell line: 1>\u001b[0;34m()\u001b[0m\n\u001b[0;32m----> 1\u001b[0;31m \u001b[0mnumbers\u001b[0m\u001b[0;34m[\u001b[0m\u001b[0;36m1\u001b[0m\u001b[0;34m]\u001b[0m\u001b[0;34m=\u001b[0m\u001b[0;34m\"Singh\"\u001b[0m\u001b[0;34m\u001b[0m\u001b[0;34m\u001b[0m\u001b[0m\n\u001b[0m",
            "\u001b[0;31mTypeError\u001b[0m: 'tuple' object does not support item assignment"
          ]
        }
      ]
    },
    {
      "cell_type": "code",
      "source": [
        "numbers"
      ],
      "metadata": {
        "colab": {
          "base_uri": "https://localhost:8080/"
        },
        "id": "IajwyBOYblhI",
        "outputId": "ac12e53f-3039-4291-d83a-78b3fe025bd2"
      },
      "execution_count": null,
      "outputs": [
        {
          "output_type": "execute_result",
          "data": {
            "text/plain": [
              "(1, 2, 3, 4, 5, 6)"
            ]
          },
          "metadata": {},
          "execution_count": 274
        }
      ]
    },
    {
      "cell_type": "code",
      "source": [
        "## Tuple Methods\n",
        "print(numbers.count(1))\n",
        "print(numbers.index(3))"
      ],
      "metadata": {
        "colab": {
          "base_uri": "https://localhost:8080/"
        },
        "id": "C4R9EpNNboTN",
        "outputId": "35a3a60a-dbfa-4626-f61d-903632118b4f"
      },
      "execution_count": null,
      "outputs": [
        {
          "output_type": "stream",
          "name": "stdout",
          "text": [
            "1\n",
            "2\n"
          ]
        }
      ]
    },
    {
      "cell_type": "code",
      "source": [
        "## Packing and Unpacking tuple\n",
        "## packing\n",
        "packed_tuple=1,\"Hello\",3.14\n",
        "print(packed_tuple)"
      ],
      "metadata": {
        "colab": {
          "base_uri": "https://localhost:8080/"
        },
        "id": "3JDUkhoWboxg",
        "outputId": "009c3a9e-092f-451b-933d-2d23f4d3135e"
      },
      "execution_count": null,
      "outputs": [
        {
          "output_type": "stream",
          "name": "stdout",
          "text": [
            "(1, 'Hello', 3.14)\n"
          ]
        }
      ]
    },
    {
      "cell_type": "code",
      "source": [
        "##unpacking a tuple\n",
        "a,b,c=packed_tuple\n",
        "\n",
        "print(a)\n",
        "print(b)\n",
        "print(c)"
      ],
      "metadata": {
        "colab": {
          "base_uri": "https://localhost:8080/"
        },
        "id": "9Ydtv3zEbqus",
        "outputId": "4868a973-c20a-4ef5-ab1e-e95ac7ee114e"
      },
      "execution_count": null,
      "outputs": [
        {
          "output_type": "stream",
          "name": "stdout",
          "text": [
            "1\n",
            "Hello\n",
            "3.14\n"
          ]
        }
      ]
    },
    {
      "cell_type": "code",
      "source": [
        "## Unpacking with *\n",
        "numbers=(1,2,3,4,5,6)\n",
        "first,*middle,last=numbers\n",
        "print(first)\n",
        "print(middle)\n",
        "print(last)"
      ],
      "metadata": {
        "colab": {
          "base_uri": "https://localhost:8080/"
        },
        "id": "XTHIcX3Vbr79",
        "outputId": "46c6b93e-1397-4e4d-e768-035e3a89764d"
      },
      "execution_count": null,
      "outputs": [
        {
          "output_type": "stream",
          "name": "stdout",
          "text": [
            "1\n",
            "[2, 3, 4, 5]\n",
            "6\n"
          ]
        }
      ]
    },
    {
      "cell_type": "code",
      "source": [
        "## Nested Tuple\n",
        "## Nested List\n",
        "lst=[[1,2,3,4],[6,7,8,9],[1,\"Hello\",3.14,\"c\"]]\n",
        "lst[0][0:3]"
      ],
      "metadata": {
        "colab": {
          "base_uri": "https://localhost:8080/"
        },
        "id": "wtDMO0nIbuj3",
        "outputId": "777cb66b-7a5f-47c9-df17-adeee9cda109"
      },
      "execution_count": null,
      "outputs": [
        {
          "output_type": "execute_result",
          "data": {
            "text/plain": [
              "[1, 2, 3]"
            ]
          },
          "metadata": {},
          "execution_count": 279
        }
      ]
    },
    {
      "cell_type": "code",
      "source": [
        "nested_tuple = ((1, 2, 3), (\"a\", \"b\", \"c\"), (True, False))\n",
        "\n",
        "## access the elements inside a tuple\n",
        "print(nested_tuple[0])\n",
        "print(nested_tuple[1][2])"
      ],
      "metadata": {
        "colab": {
          "base_uri": "https://localhost:8080/"
        },
        "id": "J6Tiy_GqbyfD",
        "outputId": "4cdd436b-f6f5-47c0-e588-fbcb55d4e3e0"
      },
      "execution_count": null,
      "outputs": [
        {
          "output_type": "stream",
          "name": "stdout",
          "text": [
            "(1, 2, 3)\n",
            "c\n"
          ]
        }
      ]
    },
    {
      "cell_type": "code",
      "source": [
        "## iterating over nested tuples\n",
        "for sub_tuple in nested_tuple:\n",
        "    for item in sub_tuple:\n",
        "        print(item,end=\" \")\n",
        "    print()"
      ],
      "metadata": {
        "colab": {
          "base_uri": "https://localhost:8080/"
        },
        "id": "om3l7KsLb8GQ",
        "outputId": "e462ec89-900e-4ef9-c1b3-2b141099943e"
      },
      "execution_count": null,
      "outputs": [
        {
          "output_type": "stream",
          "name": "stdout",
          "text": [
            "1 2 3 \n",
            "a b c \n",
            "True False \n"
          ]
        }
      ]
    },
    {
      "cell_type": "markdown",
      "source": [
        "### KKB\n",
        "\n",
        "- Tuples are versatile and useful in many real-world scenarios where an immutable and ordered collection of items is required.\n",
        "- They are commonly used in data structures, function arguments and return values, and as dictionary keys.\n",
        "- Understanding how to leverage tuples effectively can improve the efficiency and readability of your Python code."
      ],
      "metadata": {
        "id": "Yd-kzFrjb-yX"
      }
    },
    {
      "cell_type": "markdown",
      "source": [
        "### **Sets**\n",
        "\n",
        "- Sets are a built-in data type in Python used to store collections of unique items.\n",
        "- They are unordered, meaning that the elements do not follow a specific order, and they do not allow duplicate elements.\n",
        "- Sets are useful for membership tests, eliminating duplicate entries, and performing mathematical set operations like union, intersection, difference, and symmetric difference."
      ],
      "metadata": {
        "id": "ROP-B-cTcV4q"
      }
    },
    {
      "cell_type": "code",
      "source": [
        "##create a set\n",
        "my_set={1,2,3,4,5}\n",
        "print(my_set)\n",
        "print(type(my_set))"
      ],
      "metadata": {
        "colab": {
          "base_uri": "https://localhost:8080/"
        },
        "id": "8hRkR_6xb-I6",
        "outputId": "27d6b2c2-9838-418a-8dcd-5a9027520e23"
      },
      "execution_count": null,
      "outputs": [
        {
          "output_type": "stream",
          "name": "stdout",
          "text": [
            "{1, 2, 3, 4, 5}\n",
            "<class 'set'>\n"
          ]
        }
      ]
    },
    {
      "cell_type": "code",
      "source": [
        "empty_set=set()\n",
        "print(type(empty_set))"
      ],
      "metadata": {
        "colab": {
          "base_uri": "https://localhost:8080/"
        },
        "id": "qz1QbEBCcfdj",
        "outputId": "b5e115eb-126c-45b6-a887-2a1ef50580d9"
      },
      "execution_count": null,
      "outputs": [
        {
          "output_type": "stream",
          "name": "stdout",
          "text": [
            "<class 'set'>\n"
          ]
        }
      ]
    },
    {
      "cell_type": "code",
      "source": [
        "my_set=set([1,2,3,4,5,6])\n",
        "print(my_set)"
      ],
      "metadata": {
        "colab": {
          "base_uri": "https://localhost:8080/"
        },
        "id": "7SyBS3cYclDg",
        "outputId": "780e2d43-6e1f-4f49-9b84-396094769f29"
      },
      "execution_count": null,
      "outputs": [
        {
          "output_type": "stream",
          "name": "stdout",
          "text": [
            "{1, 2, 3, 4, 5, 6}\n"
          ]
        }
      ]
    },
    {
      "cell_type": "code",
      "source": [
        "empty_set=set([1,2,3,6,5,4,5,6])\n",
        "print(empty_set)"
      ],
      "metadata": {
        "colab": {
          "base_uri": "https://localhost:8080/"
        },
        "id": "Sf77btdbcmF2",
        "outputId": "1126ceda-0126-4517-b2c2-111596b93ee8"
      },
      "execution_count": null,
      "outputs": [
        {
          "output_type": "stream",
          "name": "stdout",
          "text": [
            "{1, 2, 3, 4, 5, 6}\n"
          ]
        }
      ]
    },
    {
      "cell_type": "code",
      "source": [
        "## Basics Sets Operation\n",
        "## Adiing and Removing Elements\n",
        "my_set.add(7)\n",
        "print(my_set)\n",
        "my_set.add(7)\n",
        "print(my_set)"
      ],
      "metadata": {
        "colab": {
          "base_uri": "https://localhost:8080/"
        },
        "id": "OA-wU-Uscob7",
        "outputId": "24d7c667-4f4c-4460-c971-4c75e07eef58"
      },
      "execution_count": null,
      "outputs": [
        {
          "output_type": "stream",
          "name": "stdout",
          "text": [
            "{1, 2, 3, 4, 5, 6, 7}\n",
            "{1, 2, 3, 4, 5, 6, 7}\n"
          ]
        }
      ]
    },
    {
      "cell_type": "code",
      "source": [
        "## Remove the elements from a set\n",
        "my_set.remove(3)\n",
        "print(my_set)"
      ],
      "metadata": {
        "colab": {
          "base_uri": "https://localhost:8080/"
        },
        "id": "g7LH8BIscrbK",
        "outputId": "623a8f23-7fea-41f0-f897-aef6b1d8aae9"
      },
      "execution_count": null,
      "outputs": [
        {
          "output_type": "stream",
          "name": "stdout",
          "text": [
            "{1, 2, 4, 5, 6, 7}\n"
          ]
        }
      ]
    },
    {
      "cell_type": "code",
      "source": [
        "my_set.remove(10)"
      ],
      "metadata": {
        "colab": {
          "base_uri": "https://localhost:8080/",
          "height": 146
        },
        "id": "czqhTXURcwrU",
        "outputId": "c74de806-1919-4742-ccc8-95fea85acec4"
      },
      "execution_count": null,
      "outputs": [
        {
          "output_type": "error",
          "ename": "KeyError",
          "evalue": "10",
          "traceback": [
            "\u001b[0;31m---------------------------------------------------------------------------\u001b[0m",
            "\u001b[0;31mKeyError\u001b[0m                                  Traceback (most recent call last)",
            "\u001b[0;32m<ipython-input-299-aa5e57d43179>\u001b[0m in \u001b[0;36m<cell line: 1>\u001b[0;34m()\u001b[0m\n\u001b[0;32m----> 1\u001b[0;31m \u001b[0mmy_set\u001b[0m\u001b[0;34m.\u001b[0m\u001b[0mremove\u001b[0m\u001b[0;34m(\u001b[0m\u001b[0;36m10\u001b[0m\u001b[0;34m)\u001b[0m\u001b[0;34m\u001b[0m\u001b[0;34m\u001b[0m\u001b[0m\n\u001b[0m",
            "\u001b[0;31mKeyError\u001b[0m: 10"
          ]
        }
      ]
    },
    {
      "cell_type": "code",
      "source": [
        "my_set.discard(11)\n",
        "print(my_set)"
      ],
      "metadata": {
        "colab": {
          "base_uri": "https://localhost:8080/"
        },
        "id": "vC_4vpsrcyg7",
        "outputId": "76493ad8-3007-456f-915a-9398bab0d5ab"
      },
      "execution_count": null,
      "outputs": [
        {
          "output_type": "stream",
          "name": "stdout",
          "text": [
            "{1, 2, 4, 5, 6, 7}\n"
          ]
        }
      ]
    },
    {
      "cell_type": "code",
      "source": [
        "## pop method\n",
        "removed_element=my_set.pop()\n",
        "print(removed_element)\n",
        "print(my_set)"
      ],
      "metadata": {
        "colab": {
          "base_uri": "https://localhost:8080/"
        },
        "id": "JHyd-hkMc4k1",
        "outputId": "980bca78-0570-4d5b-f471-18c6b531fe94"
      },
      "execution_count": null,
      "outputs": [
        {
          "output_type": "stream",
          "name": "stdout",
          "text": [
            "1\n",
            "{2, 4, 5, 6, 7}\n"
          ]
        }
      ]
    },
    {
      "cell_type": "code",
      "source": [
        "## clear all the elements\n",
        "my_set.clear()\n",
        "print(my_set)"
      ],
      "metadata": {
        "colab": {
          "base_uri": "https://localhost:8080/"
        },
        "id": "NQIPbzSQc6jH",
        "outputId": "00115b22-89dc-4247-f869-bf9dc915fbe0"
      },
      "execution_count": null,
      "outputs": [
        {
          "output_type": "stream",
          "name": "stdout",
          "text": [
            "set()\n"
          ]
        }
      ]
    },
    {
      "cell_type": "code",
      "source": [
        "## Set Memebership test\n",
        "my_set={1,2,3,4,5}\n",
        "print(3 in my_set)\n",
        "print(10 in my_set)"
      ],
      "metadata": {
        "colab": {
          "base_uri": "https://localhost:8080/"
        },
        "id": "RqoI7oAXdAIp",
        "outputId": "2c52e62e-fcba-4f70-9d25-e81bfc36fe24"
      },
      "execution_count": null,
      "outputs": [
        {
          "output_type": "stream",
          "name": "stdout",
          "text": [
            "True\n",
            "False\n"
          ]
        }
      ]
    },
    {
      "cell_type": "code",
      "source": [
        "## MAthematical Operation\n",
        "set1={1,2,3,4,5,6}\n",
        "set2={4,5,6,7,8,9}\n",
        "\n",
        "### Union\n",
        "union_set=set1.union(set2)\n",
        "print(union_set)\n",
        "\n",
        "## Intersection\n",
        "intersection_set=set1.intersection(set2)\n",
        "print(intersection_set)\n",
        "\n",
        "set1.intersection_update(set2)\n",
        "print(set1)"
      ],
      "metadata": {
        "colab": {
          "base_uri": "https://localhost:8080/"
        },
        "id": "tm_5YTYQdBYS",
        "outputId": "6c7600b1-ab86-4eb9-de03-e8ba69f238a7"
      },
      "execution_count": null,
      "outputs": [
        {
          "output_type": "stream",
          "name": "stdout",
          "text": [
            "{1, 2, 3, 4, 5, 6, 7, 8, 9}\n",
            "{4, 5, 6}\n",
            "{4, 5, 6}\n"
          ]
        }
      ]
    },
    {
      "cell_type": "code",
      "source": [
        "set1={1,2,3,4,5,6}\n",
        "set2={4,5,6,7,8,9}\n",
        "\n",
        "## Difference\n",
        "print(set1.difference(set2))"
      ],
      "metadata": {
        "colab": {
          "base_uri": "https://localhost:8080/"
        },
        "id": "DuBLebkwdDiD",
        "outputId": "edc1152b-4acf-4364-b4c2-e4d41e691e94"
      },
      "execution_count": null,
      "outputs": [
        {
          "output_type": "stream",
          "name": "stdout",
          "text": [
            "{1, 2, 3}\n"
          ]
        }
      ]
    },
    {
      "cell_type": "code",
      "source": [
        "set1"
      ],
      "metadata": {
        "colab": {
          "base_uri": "https://localhost:8080/"
        },
        "id": "jttOoJpjdP0w",
        "outputId": "403e1c55-5b50-41cf-e91d-b03c0344b13e"
      },
      "execution_count": null,
      "outputs": [
        {
          "output_type": "execute_result",
          "data": {
            "text/plain": [
              "{1, 2, 3, 4, 5, 6}"
            ]
          },
          "metadata": {},
          "execution_count": 306
        }
      ]
    },
    {
      "cell_type": "code",
      "source": [
        "set2.difference(set1)"
      ],
      "metadata": {
        "colab": {
          "base_uri": "https://localhost:8080/"
        },
        "id": "SmW4hK-AdQ81",
        "outputId": "27fdb210-9e84-46f9-eb80-31467d4e1335"
      },
      "execution_count": null,
      "outputs": [
        {
          "output_type": "execute_result",
          "data": {
            "text/plain": [
              "{7, 8, 9}"
            ]
          },
          "metadata": {},
          "execution_count": 307
        }
      ]
    },
    {
      "cell_type": "code",
      "source": [
        "## Symmetric Difference\n",
        "set1.symmetric_difference(set2)"
      ],
      "metadata": {
        "colab": {
          "base_uri": "https://localhost:8080/"
        },
        "id": "1uA_bkVbdS08",
        "outputId": "cd211191-8442-40a3-e9fa-c22daf352b87"
      },
      "execution_count": null,
      "outputs": [
        {
          "output_type": "execute_result",
          "data": {
            "text/plain": [
              "{1, 2, 3, 7, 8, 9}"
            ]
          },
          "metadata": {},
          "execution_count": 308
        }
      ]
    },
    {
      "cell_type": "code",
      "source": [
        "## Sets Methods\n",
        "set1={1,2,3,4,5}\n",
        "set2={3,4,5}\n",
        "\n",
        "## is subset\n",
        "print(set1.issubset(set2))\n",
        "\n",
        "print(set1.issuperset(set2))"
      ],
      "metadata": {
        "colab": {
          "base_uri": "https://localhost:8080/"
        },
        "id": "XOrtKpqwdTwP",
        "outputId": "81e4b31d-8387-46ea-ae0e-7da823380785"
      },
      "execution_count": null,
      "outputs": [
        {
          "output_type": "stream",
          "name": "stdout",
          "text": [
            "False\n",
            "True\n"
          ]
        }
      ]
    },
    {
      "cell_type": "code",
      "source": [
        "lst=[1,2,2,3,4,4,5]\n",
        "set(lst)"
      ],
      "metadata": {
        "colab": {
          "base_uri": "https://localhost:8080/"
        },
        "id": "wKKiKwOvdVs1",
        "outputId": "fb87abf3-fdbe-4889-ef44-ef6f7659dcd1"
      },
      "execution_count": null,
      "outputs": [
        {
          "output_type": "execute_result",
          "data": {
            "text/plain": [
              "{1, 2, 3, 4, 5}"
            ]
          },
          "metadata": {},
          "execution_count": 310
        }
      ]
    },
    {
      "cell_type": "code",
      "source": [
        "### Counting Unique words in text\n",
        "\n",
        "text=\"I an working a data science intern\"\n",
        "words=text.split()\n",
        "\n",
        "## convert list of words to set to get unique words\n",
        "\n",
        "unique_words=set(words)\n",
        "print(unique_words)\n",
        "print(len(unique_words))"
      ],
      "metadata": {
        "colab": {
          "base_uri": "https://localhost:8080/"
        },
        "id": "5bhYUT_ZdXXb",
        "outputId": "6ad6cb4f-60e6-431f-ff06-8a862b952ffc"
      },
      "execution_count": null,
      "outputs": [
        {
          "output_type": "stream",
          "name": "stdout",
          "text": [
            "{'a', 'I', 'science', 'working', 'intern', 'an', 'data'}\n",
            "7\n"
          ]
        }
      ]
    },
    {
      "cell_type": "markdown",
      "source": [
        "#### Key Points\n",
        "\n",
        "- Sets are a powerful and flexible data type in Python that provide a way to store collections of unique elements.\n",
        "\n",
        "- They support various operations such as union, intersection, difference, and symmetric difference, which are useful for mathematical computations.\n",
        "\n",
        "- Understanding how to use sets and their associated methods can help you write more efficient and clean Python code, especially when dealing with unique collections and membership tests."
      ],
      "metadata": {
        "id": "OI_Tqev_eRSl"
      }
    },
    {
      "cell_type": "markdown",
      "source": [
        "##### **Introduction to Dictionaries**\n",
        "\n",
        "- Dictionaries are unordered collections of items.\n",
        "- They store data in key-value pairs.\n",
        "- Keys must be unique and immutable (e.g., strings, numbers, or tuples), while values can be of any type."
      ],
      "metadata": {
        "id": "qtZYqc2LeuxR"
      }
    },
    {
      "cell_type": "code",
      "source": [
        "## Creating Dictionaries\n",
        "empty_dict={}\n",
        "print(type(empty_dict))"
      ],
      "metadata": {
        "colab": {
          "base_uri": "https://localhost:8080/"
        },
        "id": "UwUFFaSXdY5N",
        "outputId": "88d8642e-ceae-42e7-b18b-10669a9bc9c6"
      },
      "execution_count": null,
      "outputs": [
        {
          "output_type": "stream",
          "name": "stdout",
          "text": [
            "<class 'dict'>\n"
          ]
        }
      ]
    },
    {
      "cell_type": "code",
      "source": [
        "empty_dict=dict()\n",
        "empty_dict"
      ],
      "metadata": {
        "colab": {
          "base_uri": "https://localhost:8080/"
        },
        "id": "JL7dR6zBe3up",
        "outputId": "eefc0283-32fe-4e77-d848-49e1553ad554"
      },
      "execution_count": null,
      "outputs": [
        {
          "output_type": "execute_result",
          "data": {
            "text/plain": [
              "{}"
            ]
          },
          "metadata": {},
          "execution_count": 313
        }
      ]
    },
    {
      "cell_type": "code",
      "source": [
        "student={\"name\":\"sanad\",\"age\":28,\"grade\":12}\n",
        "print(student)\n",
        "print(type(student))"
      ],
      "metadata": {
        "colab": {
          "base_uri": "https://localhost:8080/"
        },
        "id": "TQYMa2cze5Vw",
        "outputId": "6d4618f7-b2ea-4009-c97d-7b6cb158912d"
      },
      "execution_count": null,
      "outputs": [
        {
          "output_type": "stream",
          "name": "stdout",
          "text": [
            "{'name': 'sanad', 'age': 28, 'grade': 12}\n",
            "<class 'dict'>\n"
          ]
        }
      ]
    },
    {
      "cell_type": "code",
      "source": [
        "# Single key is always used\n",
        "student={\"name\":\"Sanad\",\"age\":30,\"name\":12}\n",
        "print(student)"
      ],
      "metadata": {
        "colab": {
          "base_uri": "https://localhost:8080/"
        },
        "id": "3hrMFyizfBh0",
        "outputId": "6c56bcf7-5f9a-49da-87fe-6ab4ccb7bef0"
      },
      "execution_count": null,
      "outputs": [
        {
          "output_type": "stream",
          "name": "stdout",
          "text": [
            "{'name': 12, 'age': 30}\n"
          ]
        }
      ]
    },
    {
      "cell_type": "code",
      "source": [
        "## accessing Dictionary Elements\n",
        "student={\"name\":\"sanad\",\"age\":28,\"grade\":\"A\"}\n",
        "print(student)"
      ],
      "metadata": {
        "colab": {
          "base_uri": "https://localhost:8080/"
        },
        "id": "frvd5RsnfJEq",
        "outputId": "a2d30a93-43c0-48b0-9666-4cf160316f4b"
      },
      "execution_count": null,
      "outputs": [
        {
          "output_type": "stream",
          "name": "stdout",
          "text": [
            "{'name': 'sanad', 'age': 28, 'grade': 'A'}\n"
          ]
        }
      ]
    },
    {
      "cell_type": "code",
      "source": [
        "## Accessing Dictionary elements\n",
        "print(student['grade'])\n",
        "print(student['age'])"
      ],
      "metadata": {
        "colab": {
          "base_uri": "https://localhost:8080/"
        },
        "id": "Ubr27250fYT8",
        "outputId": "c77ae90c-6911-49a1-eced-6b2a15f82e8c"
      },
      "execution_count": null,
      "outputs": [
        {
          "output_type": "stream",
          "name": "stdout",
          "text": [
            "A\n",
            "28\n"
          ]
        }
      ]
    },
    {
      "cell_type": "code",
      "source": [
        "## Accessing using get() method\n",
        "print(student.get('grade'))\n",
        "print(student.get('last_name'))\n",
        "print(student.get('last_name',\"Not Available\"))"
      ],
      "metadata": {
        "colab": {
          "base_uri": "https://localhost:8080/"
        },
        "id": "gYOW9iFnfbGn",
        "outputId": "79e972f4-9d46-411a-a7fd-7326d8290439"
      },
      "execution_count": null,
      "outputs": [
        {
          "output_type": "stream",
          "name": "stdout",
          "text": [
            "A\n",
            "None\n",
            "Not Available\n"
          ]
        }
      ]
    },
    {
      "cell_type": "markdown",
      "source": [
        "- Modifying Dicitonary Elements\n",
        "- Dictionary are mutable,so you can add, update or delete elements"
      ],
      "metadata": {
        "id": "I5GwQLKFfj72"
      }
    },
    {
      "cell_type": "code",
      "source": [
        "print(student)"
      ],
      "metadata": {
        "colab": {
          "base_uri": "https://localhost:8080/"
        },
        "id": "r3EH__l7fc4D",
        "outputId": "add7a785-184f-40e7-f46d-3335a178ff6b"
      },
      "execution_count": null,
      "outputs": [
        {
          "output_type": "stream",
          "name": "stdout",
          "text": [
            "{'name': 'sanad', 'age': 28, 'grade': 'A'}\n"
          ]
        }
      ]
    },
    {
      "cell_type": "code",
      "source": [
        "student[\"age\"]=33  ##update value for the key\n",
        "print(student)\n",
        "student[\"address\"]=\"Uttar Pradesh\" ## added a new key and value\n",
        "print(student)"
      ],
      "metadata": {
        "colab": {
          "base_uri": "https://localhost:8080/"
        },
        "id": "9zJ0GbDsfoUY",
        "outputId": "b319ab71-b482-481f-a1d8-3c09674c81ca"
      },
      "execution_count": null,
      "outputs": [
        {
          "output_type": "stream",
          "name": "stdout",
          "text": [
            "{'name': 'sanad', 'age': 33, 'grade': 'A'}\n",
            "{'name': 'sanad', 'age': 33, 'grade': 'A', 'address': 'Uttar Pradesh'}\n"
          ]
        }
      ]
    },
    {
      "cell_type": "code",
      "source": [
        "del student['grade'] ## delete key and value pair\n",
        "\n",
        "print(student)"
      ],
      "metadata": {
        "colab": {
          "base_uri": "https://localhost:8080/"
        },
        "id": "gfvncZFFfqJC",
        "outputId": "1f40d543-7595-4380-944d-cc5dc8b5d330"
      },
      "execution_count": null,
      "outputs": [
        {
          "output_type": "stream",
          "name": "stdout",
          "text": [
            "{'name': 'sanad', 'age': 33, 'address': 'Uttar Pradesh'}\n"
          ]
        }
      ]
    },
    {
      "cell_type": "code",
      "source": [
        "## Dictionary methods\n",
        "\n",
        "keys=student.keys() ##get all the keys\n",
        "print(keys)"
      ],
      "metadata": {
        "colab": {
          "base_uri": "https://localhost:8080/"
        },
        "id": "XaQhtWQBf0LM",
        "outputId": "2b68e93e-07ac-474f-c9db-fe72dde061b5"
      },
      "execution_count": null,
      "outputs": [
        {
          "output_type": "stream",
          "name": "stdout",
          "text": [
            "dict_keys(['name', 'age', 'address'])\n"
          ]
        }
      ]
    },
    {
      "cell_type": "code",
      "source": [
        "values=student.values() ##get all values\n",
        "print(values)"
      ],
      "metadata": {
        "colab": {
          "base_uri": "https://localhost:8080/"
        },
        "id": "LPuUZQ2Hf8L0",
        "outputId": "95bf12b3-a2d1-447f-9b18-f2f779516a13"
      },
      "execution_count": null,
      "outputs": [
        {
          "output_type": "stream",
          "name": "stdout",
          "text": [
            "dict_values(['sanad', 33, 'Uttar Pradesh'])\n"
          ]
        }
      ]
    },
    {
      "cell_type": "code",
      "source": [
        "items=student.items() ##get all key value pairs\n",
        "print(items)"
      ],
      "metadata": {
        "colab": {
          "base_uri": "https://localhost:8080/"
        },
        "id": "RXDnrcBUf-J9",
        "outputId": "bc0a4433-ca1a-4504-c834-a4b2ac401207"
      },
      "execution_count": null,
      "outputs": [
        {
          "output_type": "stream",
          "name": "stdout",
          "text": [
            "dict_items([('name', 'sanad'), ('age', 33), ('address', 'Uttar Pradesh')])\n"
          ]
        }
      ]
    },
    {
      "cell_type": "code",
      "source": [
        "## shallow copy\n",
        "\n",
        "student_copy=student\n",
        "print(student)\n",
        "print(student_copy)"
      ],
      "metadata": {
        "colab": {
          "base_uri": "https://localhost:8080/"
        },
        "id": "3xJgG4Zxf-pU",
        "outputId": "f8421bcc-3989-4bf6-e545-d80972209587"
      },
      "execution_count": null,
      "outputs": [
        {
          "output_type": "stream",
          "name": "stdout",
          "text": [
            "{'name': 'sanad', 'age': 33, 'address': 'Uttar Pradesh'}\n",
            "{'name': 'sanad', 'age': 33, 'address': 'Uttar Pradesh'}\n"
          ]
        }
      ]
    },
    {
      "cell_type": "code",
      "source": [
        "student[\"name\"]=\"suraj\"\n",
        "print(student)\n",
        "print(student_copy)"
      ],
      "metadata": {
        "colab": {
          "base_uri": "https://localhost:8080/"
        },
        "id": "z24G1-FagD6A",
        "outputId": "6a2a7d0d-073f-4b45-f5d1-3eac846abdc6"
      },
      "execution_count": null,
      "outputs": [
        {
          "output_type": "stream",
          "name": "stdout",
          "text": [
            "{'name': 'suraj', 'age': 33, 'address': 'Uttar Pradesh'}\n",
            "{'name': 'suraj', 'age': 33, 'address': 'Uttar Pradesh'}\n"
          ]
        }
      ]
    },
    {
      "cell_type": "code",
      "source": [
        "student_copy1=student.copy() ## shallow copy\n",
        "\n",
        "print(student_copy1)\n",
        "print(student)"
      ],
      "metadata": {
        "colab": {
          "base_uri": "https://localhost:8080/"
        },
        "id": "Dr5okLHzgHmS",
        "outputId": "6824fbae-ee20-473e-feba-79328fc0b1c9"
      },
      "execution_count": null,
      "outputs": [
        {
          "output_type": "stream",
          "name": "stdout",
          "text": [
            "{'name': 'suraj', 'age': 33, 'address': 'Uttar Pradesh'}\n",
            "{'name': 'suraj', 'age': 33, 'address': 'Uttar Pradesh'}\n"
          ]
        }
      ]
    },
    {
      "cell_type": "code",
      "source": [
        "student[\"name\"]=\"Raj\"\n",
        "print(student_copy1)\n",
        "print(student)"
      ],
      "metadata": {
        "colab": {
          "base_uri": "https://localhost:8080/"
        },
        "id": "0HwGoo6QgORZ",
        "outputId": "1b729bdb-7de6-418a-8ad8-3f332bffb51b"
      },
      "execution_count": null,
      "outputs": [
        {
          "output_type": "stream",
          "name": "stdout",
          "text": [
            "{'name': 'suraj', 'age': 33, 'address': 'Uttar Pradesh'}\n",
            "{'name': 'Raj', 'age': 33, 'address': 'Uttar Pradesh'}\n"
          ]
        }
      ]
    },
    {
      "cell_type": "markdown",
      "source": [
        "- Iterating Over Dictionaries\n",
        "- You can use loops to iterate over dictionatries, keys,values,or items"
      ],
      "metadata": {
        "id": "cVtrg1rxgaQF"
      }
    },
    {
      "cell_type": "code",
      "source": [
        "## Iterating over keys\n",
        "for keys in student.keys():\n",
        "    print(keys)"
      ],
      "metadata": {
        "colab": {
          "base_uri": "https://localhost:8080/"
        },
        "id": "FkcGBkG9gWDd",
        "outputId": "154997ec-ba4a-4f17-f629-8bc9b5522b6f"
      },
      "execution_count": null,
      "outputs": [
        {
          "output_type": "stream",
          "name": "stdout",
          "text": [
            "name\n",
            "age\n",
            "address\n"
          ]
        }
      ]
    },
    {
      "cell_type": "code",
      "source": [
        "## Iterate over values\n",
        "for value in student.values():\n",
        "    print(value)"
      ],
      "metadata": {
        "colab": {
          "base_uri": "https://localhost:8080/"
        },
        "id": "IvodJ583gdgA",
        "outputId": "d14281a7-8e4f-497a-e98e-aae76ec509c4"
      },
      "execution_count": null,
      "outputs": [
        {
          "output_type": "stream",
          "name": "stdout",
          "text": [
            "Raj\n",
            "33\n",
            "Uttar Pradesh\n"
          ]
        }
      ]
    },
    {
      "cell_type": "code",
      "source": [
        "## Iterate over key value pairs\n",
        "for key,value in student.items():\n",
        "    print(f\"{key}:{value}\")"
      ],
      "metadata": {
        "colab": {
          "base_uri": "https://localhost:8080/"
        },
        "id": "jnEm3RhOgzsI",
        "outputId": "7e84508f-dedc-4dc0-c114-dedfd2f29a7d"
      },
      "execution_count": null,
      "outputs": [
        {
          "output_type": "stream",
          "name": "stdout",
          "text": [
            "name:Raj\n",
            "age:33\n",
            "address:Uttar Pradesh\n"
          ]
        }
      ]
    },
    {
      "cell_type": "code",
      "source": [
        "## Nested Disctionaries\n",
        "students={\"student1\":{\"name\":\"Shams\",\"age\":32},\"student2\":{\"name\":\"Peter\",\"age\":35}}\n",
        "\n",
        "print(students)"
      ],
      "metadata": {
        "colab": {
          "base_uri": "https://localhost:8080/"
        },
        "id": "2-PEb6mug12F",
        "outputId": "9a82d35f-5129-4cb1-fb23-4685deb180fe"
      },
      "execution_count": null,
      "outputs": [
        {
          "output_type": "stream",
          "name": "stdout",
          "text": [
            "{'student1': {'name': 'Shams', 'age': 32}, 'student2': {'name': 'Peter', 'age': 35}}\n"
          ]
        }
      ]
    },
    {
      "cell_type": "code",
      "source": [
        "## Access nested dictionaries elementss\n",
        "print(students[\"student2\"][\"name\"])\n",
        "print(students[\"student2\"][\"age\"])"
      ],
      "metadata": {
        "colab": {
          "base_uri": "https://localhost:8080/"
        },
        "id": "eZ6DDWzSg7on",
        "outputId": "6183a4bd-44fe-435f-a94e-50214a13615f"
      },
      "execution_count": null,
      "outputs": [
        {
          "output_type": "stream",
          "name": "stdout",
          "text": [
            "Peter\n",
            "35\n"
          ]
        }
      ]
    },
    {
      "cell_type": "code",
      "source": [
        "print(students[\"student1\"][\"name\"])\n",
        "print(students[\"student1\"][\"age\"])"
      ],
      "metadata": {
        "colab": {
          "base_uri": "https://localhost:8080/"
        },
        "id": "_82nmia-g-Pr",
        "outputId": "884bbf8d-23b9-4fa5-fd04-23bcc8c306fa"
      },
      "execution_count": null,
      "outputs": [
        {
          "output_type": "stream",
          "name": "stdout",
          "text": [
            "Shams\n",
            "32\n"
          ]
        }
      ]
    },
    {
      "cell_type": "code",
      "source": [
        "students.items()"
      ],
      "metadata": {
        "colab": {
          "base_uri": "https://localhost:8080/"
        },
        "id": "OVBFzxbhhCOk",
        "outputId": "482bfd86-23fb-433b-f8aa-44fc4c187511"
      },
      "execution_count": null,
      "outputs": [
        {
          "output_type": "execute_result",
          "data": {
            "text/plain": [
              "dict_items([('student1', {'name': 'Shams', 'age': 32}), ('student2', {'name': 'Peter', 'age': 35})])"
            ]
          },
          "metadata": {},
          "execution_count": 335
        }
      ]
    },
    {
      "cell_type": "code",
      "source": [
        "## Iterating over nested dictionaries\n",
        "for student_id,student_info in students.items():\n",
        "    print(f\"{student_id}:{student_info}\")\n",
        "    for key,value in student_info.items():\n",
        "        print(f\"{key}:{value}\")"
      ],
      "metadata": {
        "colab": {
          "base_uri": "https://localhost:8080/"
        },
        "id": "3btmqoRthJTs",
        "outputId": "3406ecc7-08e0-4112-ba4c-ba6f8b6ae792"
      },
      "execution_count": null,
      "outputs": [
        {
          "output_type": "stream",
          "name": "stdout",
          "text": [
            "student1:{'name': 'Shams', 'age': 32}\n",
            "name:Shams\n",
            "age:32\n",
            "student2:{'name': 'Peter', 'age': 35}\n",
            "name:Peter\n",
            "age:35\n"
          ]
        }
      ]
    },
    {
      "cell_type": "code",
      "source": [
        "## Dictionary Comphrehension\n",
        "squares={x:x**2 for x in range(5)}\n",
        "print(squares)"
      ],
      "metadata": {
        "colab": {
          "base_uri": "https://localhost:8080/"
        },
        "id": "E8KZxnvshMJF",
        "outputId": "dbf0235e-b4a2-43a9-c366-06f7fd322ac8"
      },
      "execution_count": null,
      "outputs": [
        {
          "output_type": "stream",
          "name": "stdout",
          "text": [
            "{0: 0, 1: 1, 2: 4, 3: 9, 4: 16}\n"
          ]
        }
      ]
    },
    {
      "cell_type": "code",
      "source": [
        "## Condition dictionary comprehension\n",
        "evens={x:x**2 for x in range(10) if x%2==0}\n",
        "print(evens)"
      ],
      "metadata": {
        "colab": {
          "base_uri": "https://localhost:8080/"
        },
        "id": "jnfcjp3bhQSw",
        "outputId": "97d2da94-5a79-42e2-cf2d-ba3ac2294971"
      },
      "execution_count": null,
      "outputs": [
        {
          "output_type": "stream",
          "name": "stdout",
          "text": [
            "{0: 0, 2: 4, 4: 16, 6: 36, 8: 64}\n"
          ]
        }
      ]
    },
    {
      "cell_type": "markdown",
      "source": [
        "### Use a dictionary to count he frequency of elements in list"
      ],
      "metadata": {
        "id": "DVcwR6zYhTO3"
      }
    },
    {
      "cell_type": "code",
      "source": [
        "numbers=[1,2,2,3,3,3,4,4,4,4]\n",
        "frequency={}\n",
        "\n",
        "for number in numbers:\n",
        "    if number in frequency:\n",
        "        frequency[number]+=1\n",
        "    else:\n",
        "        frequency[number]=1\n",
        "print(frequency)"
      ],
      "metadata": {
        "colab": {
          "base_uri": "https://localhost:8080/"
        },
        "id": "3WHsWr2MhRPE",
        "outputId": "57b0384e-55d7-40ee-d8d6-4127d0654a5f"
      },
      "execution_count": null,
      "outputs": [
        {
          "output_type": "stream",
          "name": "stdout",
          "text": [
            "{1: 1, 2: 2, 3: 3, 4: 4}\n"
          ]
        }
      ]
    },
    {
      "cell_type": "markdown",
      "source": [
        "## Merge 2 dictionaries into one"
      ],
      "metadata": {
        "id": "BlCZdIJ3hc6E"
      }
    },
    {
      "cell_type": "code",
      "source": [
        "dict1={\"a\":1,\"b\":2}\n",
        "dict2={\"b\":3,\"c\":4}\n",
        "merged_dict={**dict1,**dict2}\n",
        "print(merged_dict)"
      ],
      "metadata": {
        "colab": {
          "base_uri": "https://localhost:8080/"
        },
        "id": "pdkp8O46hW_X",
        "outputId": "719159e7-ac20-4e79-9037-6fb2c97f8286"
      },
      "execution_count": null,
      "outputs": [
        {
          "output_type": "stream",
          "name": "stdout",
          "text": [
            "{'a': 1, 'b': 3, 'c': 4}\n"
          ]
        }
      ]
    },
    {
      "cell_type": "markdown",
      "source": [
        "#### Key Points\n",
        "- Dictionaries are powerful tools in Python for managing key-value pairs.\n",
        "- They are used in a variety of real-world scenarios, such as counting word frequency, grouping data, storing configuration settings, managing phonebooks, tracking inventory, and caching results.\n",
        "- Understanding how to leverage dictionaries effectively can greatly enhance the efficiency and readability of your code."
      ],
      "metadata": {
        "id": "l1xpYXpchi3g"
      }
    },
    {
      "cell_type": "markdown",
      "source": [
        "##### **Introduction to Functions**\n",
        "\n",
        "**Definition:**\n",
        "\n",
        "- A function is a block of code that performs a specific task.\n",
        "\n",
        "- Functions help in organizing code, reusing code, and improving readability."
      ],
      "metadata": {
        "id": "lztFCDXUh4tv"
      }
    },
    {
      "cell_type": "code",
      "source": [
        "## syntax\n",
        "def function_name(parameters):\n",
        "    \"\"\"Docstring\"\"\"\n",
        "    # Function body\n",
        "    return expression"
      ],
      "metadata": {
        "id": "PsDbf6PjhiEd"
      },
      "execution_count": null,
      "outputs": []
    },
    {
      "cell_type": "code",
      "source": [
        "## why functions?\n",
        "num=24\n",
        "if num%2==0:\n",
        "    print(\"the number is even\")\n",
        "else:\n",
        "    print(\"the number is odd\")"
      ],
      "metadata": {
        "colab": {
          "base_uri": "https://localhost:8080/"
        },
        "id": "FQ79KMlriFSo",
        "outputId": "0d4cebe2-79a3-438d-9ded-42c8439d312f"
      },
      "execution_count": null,
      "outputs": [
        {
          "output_type": "stream",
          "name": "stdout",
          "text": [
            "the number is even\n"
          ]
        }
      ]
    },
    {
      "cell_type": "code",
      "source": [
        "def even_or_odd(num):\n",
        "    \"\"\"This function finds even or odd\"\"\"\n",
        "    if num%2==0:\n",
        "        print(\"the number is even\")\n",
        "    else:\n",
        "        print(\"the number is odd\")\n",
        "\n",
        "## Call this function\n",
        "even_or_odd(24)"
      ],
      "metadata": {
        "colab": {
          "base_uri": "https://localhost:8080/"
        },
        "id": "sa41B-MDiIKh",
        "outputId": "948ee9c5-7484-4109-af81-71a1a446dd93"
      },
      "execution_count": null,
      "outputs": [
        {
          "output_type": "stream",
          "name": "stdout",
          "text": [
            "the number is even\n"
          ]
        }
      ]
    },
    {
      "cell_type": "code",
      "source": [
        "def even_or_odd(num):\n",
        "    \"\"\"This function finds even or odd\"\"\"\n",
        "    if num%2==0:\n",
        "        print(\"the number is even\")\n",
        "    else:\n",
        "        print(\"the number is odd\")\n",
        "\n",
        "## Call this function\n",
        "even_or_odd(23)"
      ],
      "metadata": {
        "colab": {
          "base_uri": "https://localhost:8080/"
        },
        "id": "dBWgNB4CiRSl",
        "outputId": "22127787-ba6d-4e8a-9176-a8cf5e6792b4"
      },
      "execution_count": null,
      "outputs": [
        {
          "output_type": "stream",
          "name": "stdout",
          "text": [
            "the number is odd\n"
          ]
        }
      ]
    },
    {
      "cell_type": "code",
      "source": [
        "## function with multiple parameters\n",
        "\n",
        "def add(a,b):\n",
        "    return a+b\n",
        "result=add(2,4)\n",
        "print(result)\n"
      ],
      "metadata": {
        "colab": {
          "base_uri": "https://localhost:8080/"
        },
        "id": "BIcBUh9aiWSB",
        "outputId": "f9548536-8527-4539-c6e9-18b9d7c1c01c"
      },
      "execution_count": null,
      "outputs": [
        {
          "output_type": "stream",
          "name": "stdout",
          "text": [
            "6\n"
          ]
        }
      ]
    },
    {
      "cell_type": "code",
      "source": [
        "## Default Parameters\n",
        "\n",
        "def greet(name):\n",
        "    print(f\"Hello {name} welcome To the world of data\")\n",
        "\n",
        "greet(\"Sanad\")"
      ],
      "metadata": {
        "colab": {
          "base_uri": "https://localhost:8080/"
        },
        "id": "zbY9bwzuib_g",
        "outputId": "aa6262b9-f339-4c4c-835a-f147a8bc5ca6"
      },
      "execution_count": null,
      "outputs": [
        {
          "output_type": "stream",
          "name": "stdout",
          "text": [
            "Hello Sanad welcome To the world of data\n"
          ]
        }
      ]
    },
    {
      "cell_type": "code",
      "source": [
        "def greet(name=\"Guest\"):\n",
        "    print(f\"Hello {name} welcome To the world of data\")\n",
        "\n",
        "greet(\"Sanad\")"
      ],
      "metadata": {
        "colab": {
          "base_uri": "https://localhost:8080/"
        },
        "id": "76NAexAcioIY",
        "outputId": "58644bfc-d3df-4669-ecd2-debe8ff7e914"
      },
      "execution_count": null,
      "outputs": [
        {
          "output_type": "stream",
          "name": "stdout",
          "text": [
            "Hello Sanad welcome To the world of data\n"
          ]
        }
      ]
    },
    {
      "cell_type": "code",
      "source": [
        "### Variable Length Arguments\n",
        "## Positional And Keywords arguments\n",
        "\n",
        "def numbers(*krish):\n",
        "    for number in krish:\n",
        "        print(number)\n",
        "numbers(1,2,3,4,5,6,7,8,\"Sanad\")"
      ],
      "metadata": {
        "colab": {
          "base_uri": "https://localhost:8080/"
        },
        "id": "IrGQfFAijAeZ",
        "outputId": "b6cbfa5d-0268-4be6-fab6-a86f77529561"
      },
      "execution_count": null,
      "outputs": [
        {
          "output_type": "stream",
          "name": "stdout",
          "text": [
            "1\n",
            "2\n",
            "3\n",
            "4\n",
            "5\n",
            "6\n",
            "7\n",
            "8\n",
            "Sanad\n"
          ]
        }
      ]
    },
    {
      "cell_type": "code",
      "source": [
        "## Positional arguments\n",
        "def numbers(*args):\n",
        "    for number in args:\n",
        "        print(number)\n",
        "numbers(1,2,3,4,5,6,7,8,\"Sanad\")"
      ],
      "metadata": {
        "colab": {
          "base_uri": "https://localhost:8080/"
        },
        "id": "GC-btQ3kjPTH",
        "outputId": "33249dbb-b0bd-4556-f8bd-3c0458e82179"
      },
      "execution_count": null,
      "outputs": [
        {
          "output_type": "stream",
          "name": "stdout",
          "text": [
            "1\n",
            "2\n",
            "3\n",
            "4\n",
            "5\n",
            "6\n",
            "7\n",
            "8\n",
            "Sanad\n"
          ]
        }
      ]
    },
    {
      "cell_type": "code",
      "source": [
        "### Keywords Arguments\n",
        "\n",
        "def details(**kwargs):\n",
        "    for key,value in kwargs.items():\n",
        "        print(f\"{key}:{value}\")\n",
        "details(name=\"Sanad\",age=\"28\",country=\"India\")"
      ],
      "metadata": {
        "colab": {
          "base_uri": "https://localhost:8080/"
        },
        "id": "8FtNxSPwjfXq",
        "outputId": "7b874c8c-37fe-4977-f3af-79d586ba4ac0"
      },
      "execution_count": null,
      "outputs": [
        {
          "output_type": "stream",
          "name": "stdout",
          "text": [
            "name:Sanad\n",
            "age:28\n",
            "country:India\n"
          ]
        }
      ]
    },
    {
      "cell_type": "code",
      "source": [
        "def details(*args,**kwargs):\n",
        "    for val in args:\n",
        "        print(f\" Positional arument :{val}\")\n",
        "\n",
        "    for key,value in kwargs.items():\n",
        "        print(f\"{key}:{value}\")\n",
        "\n",
        "details(1,2,3,4,\"Sooraj\",name=\"Sanad\",age=\"28\",country=\"India\")"
      ],
      "metadata": {
        "colab": {
          "base_uri": "https://localhost:8080/"
        },
        "id": "lJWFDgU6jsC4",
        "outputId": "2c8b441e-84d2-49a2-ca66-f58ac29a3f55"
      },
      "execution_count": null,
      "outputs": [
        {
          "output_type": "stream",
          "name": "stdout",
          "text": [
            " Positional arument :1\n",
            " Positional arument :2\n",
            " Positional arument :3\n",
            " Positional arument :4\n",
            " Positional arument :Sooraj\n",
            "name:Sanad\n",
            "age:28\n",
            "country:India\n"
          ]
        }
      ]
    },
    {
      "cell_type": "code",
      "source": [
        "### Return statements\n",
        "def multiply(a,b):\n",
        "    return a*b\n",
        "multiply(2,789)"
      ],
      "metadata": {
        "colab": {
          "base_uri": "https://localhost:8080/"
        },
        "id": "56g0rQSGkDUZ",
        "outputId": "91c4677b-eb22-4c86-f46a-c37625e12f64"
      },
      "execution_count": null,
      "outputs": [
        {
          "output_type": "execute_result",
          "data": {
            "text/plain": [
              "1578"
            ]
          },
          "metadata": {},
          "execution_count": 352
        }
      ]
    },
    {
      "cell_type": "code",
      "source": [
        "### Return multiple parameters\n",
        "def multiply(a,b):\n",
        "    return a*b,a\n",
        "multiply(2,549)"
      ],
      "metadata": {
        "colab": {
          "base_uri": "https://localhost:8080/"
        },
        "id": "R8-NSUo5kGeK",
        "outputId": "8fd85b74-01f8-4f43-d271-2a04db248bbb"
      },
      "execution_count": null,
      "outputs": [
        {
          "output_type": "execute_result",
          "data": {
            "text/plain": [
              "(1098, 2)"
            ]
          },
          "metadata": {},
          "execution_count": 353
        }
      ]
    },
    {
      "cell_type": "markdown",
      "source": [
        "##### **Lambda Functions in Python**\n",
        "\n",
        "\n",
        "- Lambda functions are small anonymous functions defined using the **lambda** keyword.\n",
        "- They can have any number of arguments but only one expression.\n",
        "- They are commonly used for short operations or as arguments to higher-order functions.\n",
        "\n",
        "#**Syntax**\n",
        "\n",
        "lambda arguments: expression"
      ],
      "metadata": {
        "id": "ztiBZx5XlzFZ"
      }
    },
    {
      "cell_type": "code",
      "source": [
        "def addition(a,b):\n",
        "    return a+b\n",
        "addition(2,89)"
      ],
      "metadata": {
        "colab": {
          "base_uri": "https://localhost:8080/"
        },
        "id": "xL2QHSd_kLzw",
        "outputId": "d192adc8-263f-47fe-e333-33a32e1c1931"
      },
      "execution_count": null,
      "outputs": [
        {
          "output_type": "execute_result",
          "data": {
            "text/plain": [
              "91"
            ]
          },
          "metadata": {},
          "execution_count": 354
        }
      ]
    },
    {
      "cell_type": "code",
      "source": [
        "addition=lambda a,b:a+b\n",
        "type(addition)\n",
        "print(addition(5,6))"
      ],
      "metadata": {
        "colab": {
          "base_uri": "https://localhost:8080/"
        },
        "id": "bBfE_n-2mDKi",
        "outputId": "92f9c9d2-e213-4159-897b-8803625d66da"
      },
      "execution_count": null,
      "outputs": [
        {
          "output_type": "stream",
          "name": "stdout",
          "text": [
            "11\n"
          ]
        }
      ]
    },
    {
      "cell_type": "code",
      "source": [
        "def even(num):\n",
        "    if num%2==0:\n",
        "        return True\n",
        "    else:\n",
        "      return False\n",
        "even(24)"
      ],
      "metadata": {
        "colab": {
          "base_uri": "https://localhost:8080/"
        },
        "id": "88oAMJnqmHVJ",
        "outputId": "638f827e-44c0-4336-9e77-62356acb23c4"
      },
      "execution_count": null,
      "outputs": [
        {
          "output_type": "execute_result",
          "data": {
            "text/plain": [
              "True"
            ]
          },
          "metadata": {},
          "execution_count": 356
        }
      ]
    },
    {
      "cell_type": "code",
      "source": [
        "def even(num):\n",
        "    if num%2==0:\n",
        "        return True\n",
        "    else:\n",
        "      return False\n",
        "even(13)"
      ],
      "metadata": {
        "colab": {
          "base_uri": "https://localhost:8080/"
        },
        "id": "KakslgnPmJyD",
        "outputId": "af7376e4-3c2b-4f76-e369-8e757324b9ca"
      },
      "execution_count": null,
      "outputs": [
        {
          "output_type": "execute_result",
          "data": {
            "text/plain": [
              "False"
            ]
          },
          "metadata": {},
          "execution_count": 357
        }
      ]
    },
    {
      "cell_type": "code",
      "source": [
        "even1=lambda num:num%2==0\n",
        "even1(12)"
      ],
      "metadata": {
        "colab": {
          "base_uri": "https://localhost:8080/"
        },
        "id": "sn7DVrMXmL9V",
        "outputId": "1c94ce2a-1181-4acc-db02-6c2a1303e138"
      },
      "execution_count": null,
      "outputs": [
        {
          "output_type": "execute_result",
          "data": {
            "text/plain": [
              "True"
            ]
          },
          "metadata": {},
          "execution_count": 358
        }
      ]
    },
    {
      "cell_type": "code",
      "source": [
        "def addition(x,y,z):\n",
        "    return x+y+z\n",
        "\n",
        "addition(12,13,14)"
      ],
      "metadata": {
        "colab": {
          "base_uri": "https://localhost:8080/"
        },
        "id": "WAn-YzQ8mX4B",
        "outputId": "70f1b84e-440f-4891-d381-c675d5ad566f"
      },
      "execution_count": null,
      "outputs": [
        {
          "output_type": "execute_result",
          "data": {
            "text/plain": [
              "39"
            ]
          },
          "metadata": {},
          "execution_count": 359
        }
      ]
    },
    {
      "cell_type": "code",
      "source": [
        "add=lambda x,y,z:x+y+z\n",
        "add(12,13,14)"
      ],
      "metadata": {
        "colab": {
          "base_uri": "https://localhost:8080/"
        },
        "id": "gC8k91h6mZBu",
        "outputId": "0c25d174-9727-437c-8eb7-cc6ea87f4754"
      },
      "execution_count": null,
      "outputs": [
        {
          "output_type": "execute_result",
          "data": {
            "text/plain": [
              "39"
            ]
          },
          "metadata": {},
          "execution_count": 360
        }
      ]
    },
    {
      "cell_type": "markdown",
      "source": [
        "##### **map()- applies a function to all items in a list**"
      ],
      "metadata": {
        "id": "kJFOp9R7mgcU"
      }
    },
    {
      "cell_type": "code",
      "source": [
        "numbers=[1,2,3,4,5,6]\n",
        "def square(number):\n",
        "    return number**2\n",
        "\n",
        "square(6)"
      ],
      "metadata": {
        "colab": {
          "base_uri": "https://localhost:8080/"
        },
        "id": "tMLqNwUQmeJo",
        "outputId": "131c09ad-de2f-4c09-decc-f5069402a1eb"
      },
      "execution_count": null,
      "outputs": [
        {
          "output_type": "execute_result",
          "data": {
            "text/plain": [
              "36"
            ]
          },
          "metadata": {},
          "execution_count": 361
        }
      ]
    },
    {
      "cell_type": "code",
      "source": [
        "numbers=[1,2,3,4,5,6]\n",
        "def square(number):\n",
        "    return number**2\n",
        "\n",
        "square(3)"
      ],
      "metadata": {
        "colab": {
          "base_uri": "https://localhost:8080/"
        },
        "id": "ZjVaOoA7mog0",
        "outputId": "252e9bc5-0d90-4952-e1c9-819ad137ec7c"
      },
      "execution_count": null,
      "outputs": [
        {
          "output_type": "execute_result",
          "data": {
            "text/plain": [
              "9"
            ]
          },
          "metadata": {},
          "execution_count": 362
        }
      ]
    },
    {
      "cell_type": "code",
      "source": [
        "list(map(lambda x:x**2,numbers))"
      ],
      "metadata": {
        "colab": {
          "base_uri": "https://localhost:8080/"
        },
        "id": "5oZE6oNCmsCv",
        "outputId": "5a5b620c-5b06-49f2-f078-3a66d0aa6a2c"
      },
      "execution_count": null,
      "outputs": [
        {
          "output_type": "execute_result",
          "data": {
            "text/plain": [
              "[1, 4, 9, 16, 25, 36]"
            ]
          },
          "metadata": {},
          "execution_count": 363
        }
      ]
    },
    {
      "cell_type": "markdown",
      "source": [
        "#### **The map() Function in Python**\n",
        "\n",
        "- The map() function applies a given function to all items in an input list (or any other iterable) and returns a map object (an iterator).\n",
        "- This is particularly useful for transforming data in a list comprehensively."
      ],
      "metadata": {
        "id": "spM6UDXkm-YM"
      }
    },
    {
      "cell_type": "code",
      "source": [
        "def square(x):\n",
        "    return x*x\n",
        "\n",
        "square(98)"
      ],
      "metadata": {
        "colab": {
          "base_uri": "https://localhost:8080/"
        },
        "id": "Y8VcDe2em33j",
        "outputId": "17d5edf9-ad14-43e6-e9e3-a53cf574fefa"
      },
      "execution_count": null,
      "outputs": [
        {
          "output_type": "execute_result",
          "data": {
            "text/plain": [
              "9604"
            ]
          },
          "metadata": {},
          "execution_count": 364
        }
      ]
    },
    {
      "cell_type": "code",
      "source": [
        "numbers=[1,2,3,4,5,6,7,8]\n",
        "\n",
        "list(map(square,numbers))"
      ],
      "metadata": {
        "colab": {
          "base_uri": "https://localhost:8080/"
        },
        "id": "iTo05tC8nLEu",
        "outputId": "d4d94a04-5c77-4846-8e12-a547b3c6ead2"
      },
      "execution_count": null,
      "outputs": [
        {
          "output_type": "execute_result",
          "data": {
            "text/plain": [
              "[1, 4, 9, 16, 25, 36, 49, 64]"
            ]
          },
          "metadata": {},
          "execution_count": 365
        }
      ]
    },
    {
      "cell_type": "code",
      "source": [
        "## Lambda function with map\n",
        "numbers=[1,2,3,4,5,6,7,8]\n",
        "list(map(lambda x:x*x,numbers))"
      ],
      "metadata": {
        "colab": {
          "base_uri": "https://localhost:8080/"
        },
        "id": "_1EB048rnNkJ",
        "outputId": "a87dca21-a03f-4a24-c13c-7e1c002b8f3a"
      },
      "execution_count": null,
      "outputs": [
        {
          "output_type": "execute_result",
          "data": {
            "text/plain": [
              "[1, 4, 9, 16, 25, 36, 49, 64]"
            ]
          },
          "metadata": {},
          "execution_count": 366
        }
      ]
    },
    {
      "cell_type": "code",
      "source": [
        "# Map multiple iterables\n",
        "\n",
        "numbers1=[1,2,3]\n",
        "numbers2=[4,5,6]\n",
        "\n",
        "added_numbers=list(map(lambda x,y:x+y,numbers1,numbers2))\n",
        "print(added_numbers)"
      ],
      "metadata": {
        "colab": {
          "base_uri": "https://localhost:8080/"
        },
        "id": "Fu63O7THnQIn",
        "outputId": "2e948726-d657-4f75-9d6e-49d4ad3262ef"
      },
      "execution_count": null,
      "outputs": [
        {
          "output_type": "stream",
          "name": "stdout",
          "text": [
            "[5, 7, 9]\n"
          ]
        }
      ]
    },
    {
      "cell_type": "markdown",
      "source": [
        "**map() to convert a list of strings to integers**\n",
        "\n",
        "**Use map to convert strings to integers**"
      ],
      "metadata": {
        "id": "qARvKiMnnYhS"
      }
    },
    {
      "cell_type": "code",
      "source": [
        "str_numbers = ['1', '2', '3', '4', '5']\n",
        "int_numbers = list(map(int, str_numbers))\n",
        "\n",
        "print(int_numbers)  # Output: [1, 2, 3, 4, 5]"
      ],
      "metadata": {
        "colab": {
          "base_uri": "https://localhost:8080/"
        },
        "id": "7anYIc7RnTDP",
        "outputId": "a56090af-2cda-41ee-e4e7-1d8680a7d4a9"
      },
      "execution_count": null,
      "outputs": [
        {
          "output_type": "stream",
          "name": "stdout",
          "text": [
            "[1, 2, 3, 4, 5]\n"
          ]
        }
      ]
    },
    {
      "cell_type": "code",
      "source": [
        "def get_name(person):\n",
        "    return person['name']\n",
        "\n",
        "people=[\n",
        "    {'name':'Sanad','age':32},\n",
        "    {'name':'Raj','age':33}\n",
        "]\n",
        "list(map(get_name,people))"
      ],
      "metadata": {
        "colab": {
          "base_uri": "https://localhost:8080/"
        },
        "id": "iEMBSsmUnmmT",
        "outputId": "af0552bb-8465-4d5a-9d9a-2f9515216c7f"
      },
      "execution_count": null,
      "outputs": [
        {
          "output_type": "execute_result",
          "data": {
            "text/plain": [
              "['Sanad', 'Raj']"
            ]
          },
          "metadata": {},
          "execution_count": 369
        }
      ]
    },
    {
      "cell_type": "markdown",
      "source": [
        "#### **Key Points**\n",
        "\n",
        "- The map() function is a powerful tool for applying transformations to iterable data structures.\n",
        "\n",
        "- It can be used with regular functions, lambda functions, and even multiple iterables, providing a versatile approach to data processing in Python.\n",
        "\n",
        "- By understanding and utilizing map(), you can write more efficient and readable code."
      ],
      "metadata": {
        "id": "JpmMSn-6n6dQ"
      }
    },
    {
      "cell_type": "markdown",
      "source": [
        "##### **The filter() Function in Python**\n",
        "\n",
        "- The filter() function constructs an iterator from elements of an iterable for which a function returns true.\n",
        "- It is used to filter out items from a list (or any other iterable) based on a condition."
      ],
      "metadata": {
        "id": "gGt3EtlDoHW5"
      }
    },
    {
      "cell_type": "code",
      "source": [
        "def even(num):\n",
        "    if num%2==0:\n",
        "        return True\n",
        "even(24)"
      ],
      "metadata": {
        "colab": {
          "base_uri": "https://localhost:8080/"
        },
        "id": "U7EewkDun1dm",
        "outputId": "b3cebb87-9abe-441f-ba23-4a380cfa6a12"
      },
      "execution_count": null,
      "outputs": [
        {
          "output_type": "execute_result",
          "data": {
            "text/plain": [
              "True"
            ]
          },
          "metadata": {},
          "execution_count": 370
        }
      ]
    },
    {
      "cell_type": "code",
      "source": [
        "lst=[1,2,3,4,5,6,7,8,9,10,11,12]\n",
        "\n",
        "list(filter(even,lst))"
      ],
      "metadata": {
        "colab": {
          "base_uri": "https://localhost:8080/"
        },
        "id": "XQ_SpYTAoQRh",
        "outputId": "feb50300-fd2f-4b16-991f-865b375505e6"
      },
      "execution_count": null,
      "outputs": [
        {
          "output_type": "execute_result",
          "data": {
            "text/plain": [
              "[2, 4, 6, 8, 10, 12]"
            ]
          },
          "metadata": {},
          "execution_count": 371
        }
      ]
    },
    {
      "cell_type": "markdown",
      "source": [
        "## **Filter with a Lambda Function**\n"
      ],
      "metadata": {
        "id": "no_4livboZFr"
      }
    },
    {
      "cell_type": "code",
      "source": [
        "numbers=[1,2,3,4,5,6,7,8,9]\n",
        "greater_than_five=list(filter(lambda x:x>5,numbers))\n",
        "print(greater_than_five)"
      ],
      "metadata": {
        "colab": {
          "base_uri": "https://localhost:8080/"
        },
        "id": "T_s0NukYoUlz",
        "outputId": "d5f104fe-1002-4804-cf3f-9a0d2583e00f"
      },
      "execution_count": null,
      "outputs": [
        {
          "output_type": "stream",
          "name": "stdout",
          "text": [
            "[6, 7, 8, 9]\n"
          ]
        }
      ]
    },
    {
      "cell_type": "markdown",
      "source": [
        "## **Filter with a lambda function and multiple conditions**"
      ],
      "metadata": {
        "id": "AKb7bgJaog3d"
      }
    },
    {
      "cell_type": "code",
      "source": [
        "numbers=[1,2,3,4,5,6,7,8,9]\n",
        "even_and_greater_than_five=list(filter(lambda x:x>5 and x%2==0,numbers))\n",
        "print(even_and_greater_than_five)"
      ],
      "metadata": {
        "colab": {
          "base_uri": "https://localhost:8080/"
        },
        "id": "9iI-n9pZocZw",
        "outputId": "4f77c980-428a-4542-9cd5-453b015397d2"
      },
      "execution_count": null,
      "outputs": [
        {
          "output_type": "stream",
          "name": "stdout",
          "text": [
            "[6, 8]\n"
          ]
        }
      ]
    },
    {
      "cell_type": "markdown",
      "source": [
        "## **Filter() to check if the age is greate than 25 in dictionaries**\n"
      ],
      "metadata": {
        "id": "L0lk_0sUoojY"
      }
    },
    {
      "cell_type": "code",
      "source": [
        "people=[\n",
        "    {'name':'raj','age':32},\n",
        "    {'name':'siddhart','age':33},\n",
        "    {'name':'saurabh','age':25}\n",
        "]\n",
        "\n",
        "def age_greater_than_25(person):\n",
        "    return person['age']>25\n",
        "\n",
        "list(filter(age_greater_than_25,people))"
      ],
      "metadata": {
        "colab": {
          "base_uri": "https://localhost:8080/"
        },
        "id": "opXo9ET9ouj_",
        "outputId": "da13df61-364a-4e68-9125-987ee42035fe"
      },
      "execution_count": null,
      "outputs": [
        {
          "output_type": "execute_result",
          "data": {
            "text/plain": [
              "[{'name': 'raj', 'age': 32}, {'name': 'siddhart', 'age': 33}]"
            ]
          },
          "metadata": {},
          "execution_count": 374
        }
      ]
    },
    {
      "cell_type": "markdown",
      "source": [
        "##### Key Pointers\n",
        "- The filter() function is a powerful tool for creating iterators that filter items out of an iterable based on a function.\n",
        "- It is commonly used for data cleaning, filtering objects, and removing unwanted elements from lists.\n",
        "- By mastering filter(), you can write more concise and efficient code for processing and manipulating collections in Python."
      ],
      "metadata": {
        "id": "aOtNEt2xpF7E"
      }
    },
    {
      "cell_type": "markdown",
      "source": [
        "##### **Importing Modules in Python: Modules and Packages**\n",
        "\n",
        "In Python, modules and packages help organize and reuse code. Here's a comprehensive guide on how to import them."
      ],
      "metadata": {
        "id": "Fu3sVxiwb8OG"
      }
    },
    {
      "cell_type": "code",
      "source": [
        "import math\n",
        "math.sqrt(16)"
      ],
      "metadata": {
        "id": "8XGkTq1Nolj7",
        "colab": {
          "base_uri": "https://localhost:8080/"
        },
        "outputId": "7f570e70-827a-4971-a755-678fc238d5ef"
      },
      "execution_count": null,
      "outputs": [
        {
          "output_type": "execute_result",
          "data": {
            "text/plain": [
              "4.0"
            ]
          },
          "metadata": {},
          "execution_count": 375
        }
      ]
    },
    {
      "cell_type": "code",
      "source": [
        "from math import sqrt,pi\n",
        "print(sqrt(16))\n",
        "print(sqrt(25))\n",
        "print(pi)"
      ],
      "metadata": {
        "colab": {
          "base_uri": "https://localhost:8080/"
        },
        "id": "L4X2k1MLcD3T",
        "outputId": "2d85a2bb-b738-4d5f-8d1e-6133156bafba"
      },
      "execution_count": null,
      "outputs": [
        {
          "output_type": "stream",
          "name": "stdout",
          "text": [
            "4.0\n",
            "5.0\n",
            "3.141592653589793\n"
          ]
        }
      ]
    },
    {
      "cell_type": "code",
      "source": [
        "import numpy as np\n",
        "np.array([1,2,3,4])"
      ],
      "metadata": {
        "colab": {
          "base_uri": "https://localhost:8080/"
        },
        "id": "G_WWT6QVcE4g",
        "outputId": "54172908-a8b3-4d2e-cdf1-323608709e3c"
      },
      "execution_count": null,
      "outputs": [
        {
          "output_type": "execute_result",
          "data": {
            "text/plain": [
              "array([1, 2, 3, 4])"
            ]
          },
          "metadata": {},
          "execution_count": 377
        }
      ]
    },
    {
      "cell_type": "code",
      "source": [
        "from math import *\n",
        "print(sqrt(16))\n",
        "print(pi)"
      ],
      "metadata": {
        "colab": {
          "base_uri": "https://localhost:8080/"
        },
        "id": "NoxHoE1AcGII",
        "outputId": "8533ca67-ff9b-461b-c7a3-65e60e597446"
      },
      "execution_count": null,
      "outputs": [
        {
          "output_type": "stream",
          "name": "stdout",
          "text": [
            "4.0\n",
            "3.141592653589793\n"
          ]
        }
      ]
    },
    {
      "cell_type": "markdown",
      "source": [
        "### **Some Maths Functions**"
      ],
      "metadata": {
        "id": "9_ygtwwPcf2N"
      }
    },
    {
      "cell_type": "code",
      "source": [
        "import random # Getting any random element from the list\n",
        "seq=[1,3,5,7.1,9,10,15,14,18,19]\n",
        "random.choice(seq)"
      ],
      "metadata": {
        "colab": {
          "base_uri": "https://localhost:8080/"
        },
        "id": "8LSkmOVgcXlG",
        "outputId": "e1b98377-9668-4858-d4dd-16bb9ec75f14"
      },
      "execution_count": null,
      "outputs": [
        {
          "output_type": "execute_result",
          "data": {
            "text/plain": [
              "1"
            ]
          },
          "metadata": {},
          "execution_count": 383
        }
      ]
    },
    {
      "cell_type": "code",
      "source": [
        "seq=[\"data\",\"Tcs\",\"infosys\",\"hcl\",\"sam\",\"himanshu\",\"kalay\"] #any random element from the list\n",
        "random.choice(seq)"
      ],
      "metadata": {
        "colab": {
          "base_uri": "https://localhost:8080/",
          "height": 36
        },
        "id": "BahCQvulcm5z",
        "outputId": "05328077-b37e-4033-c6d0-80ed839008c4"
      },
      "execution_count": null,
      "outputs": [
        {
          "output_type": "execute_result",
          "data": {
            "text/plain": [
              "'sam'"
            ],
            "application/vnd.google.colaboratory.intrinsic+json": {
              "type": "string"
            }
          },
          "metadata": {},
          "execution_count": 384
        }
      ]
    },
    {
      "cell_type": "code",
      "source": [
        "import random #got any random element from the range\n",
        "start=50899945682365442365412665\n",
        "end=6999985555555556666666699999\n",
        "step=110000999789745862254\n",
        "random.randrange(start,end,step)"
      ],
      "metadata": {
        "colab": {
          "base_uri": "https://localhost:8080/"
        },
        "id": "VKFWAnYjcqkb",
        "outputId": "c6b79c40-9223-4b13-97f1-5a223aeaeb7a"
      },
      "execution_count": null,
      "outputs": [
        {
          "output_type": "execute_result",
          "data": {
            "text/plain": [
              "519367473543944161460670943"
            ]
          },
          "metadata": {},
          "execution_count": 385
        }
      ]
    },
    {
      "cell_type": "code",
      "source": [
        "list1=[1,9,2,3,4,5,6,9,7,8,5,6,4,7] #getting suffelled elements of the list\n",
        "random.shuffle(list1)\n",
        "print(list1)"
      ],
      "metadata": {
        "colab": {
          "base_uri": "https://localhost:8080/"
        },
        "id": "VvLFoYIXcspB",
        "outputId": "5586831b-0b3f-4de9-b3cf-2c9d90eaa5a0"
      },
      "execution_count": null,
      "outputs": [
        {
          "output_type": "stream",
          "name": "stdout",
          "text": [
            "[4, 1, 6, 8, 5, 6, 9, 3, 7, 4, 9, 5, 2, 7]\n"
          ]
        }
      ]
    },
    {
      "cell_type": "code",
      "source": [
        "lower=99 #any random integer in-between the different variable\n",
        "upper=130\n",
        "random.randint(lower,upper)"
      ],
      "metadata": {
        "colab": {
          "base_uri": "https://localhost:8080/"
        },
        "id": "soGDrNeyctwk",
        "outputId": "b44c307d-1846-48d9-ba6d-7df1d6d78081"
      },
      "execution_count": null,
      "outputs": [
        {
          "output_type": "execute_result",
          "data": {
            "text/plain": [
              "99"
            ]
          },
          "metadata": {},
          "execution_count": 387
        }
      ]
    },
    {
      "cell_type": "code",
      "source": [
        "population=[20,21,23,24,25,26,27,28,29,30]  #got error because of float value, as sample need only integer\n",
        "k=5.5\n",
        "random.sample(population,k)"
      ],
      "metadata": {
        "colab": {
          "base_uri": "https://localhost:8080/",
          "height": 310
        },
        "id": "QL8Sx4y7cvRY",
        "outputId": "626a85b0-7847-4235-e313-b1d492b62e4b"
      },
      "execution_count": null,
      "outputs": [
        {
          "output_type": "error",
          "ename": "TypeError",
          "evalue": "can't multiply sequence by non-int of type 'float'",
          "traceback": [
            "\u001b[0;31m---------------------------------------------------------------------------\u001b[0m",
            "\u001b[0;31mTypeError\u001b[0m                                 Traceback (most recent call last)",
            "\u001b[0;32m<ipython-input-388-c33fd7418736>\u001b[0m in \u001b[0;36m<cell line: 3>\u001b[0;34m()\u001b[0m\n\u001b[1;32m      1\u001b[0m \u001b[0mpopulation\u001b[0m\u001b[0;34m=\u001b[0m\u001b[0;34m[\u001b[0m\u001b[0;36m20\u001b[0m\u001b[0;34m,\u001b[0m\u001b[0;36m21\u001b[0m\u001b[0;34m,\u001b[0m\u001b[0;36m23\u001b[0m\u001b[0;34m,\u001b[0m\u001b[0;36m24\u001b[0m\u001b[0;34m,\u001b[0m\u001b[0;36m25\u001b[0m\u001b[0;34m,\u001b[0m\u001b[0;36m26\u001b[0m\u001b[0;34m,\u001b[0m\u001b[0;36m27\u001b[0m\u001b[0;34m,\u001b[0m\u001b[0;36m28\u001b[0m\u001b[0;34m,\u001b[0m\u001b[0;36m29\u001b[0m\u001b[0;34m,\u001b[0m\u001b[0;36m30\u001b[0m\u001b[0;34m]\u001b[0m  \u001b[0;31m#got error because of float value, as sample need only integer\u001b[0m\u001b[0;34m\u001b[0m\u001b[0;34m\u001b[0m\u001b[0m\n\u001b[1;32m      2\u001b[0m \u001b[0mk\u001b[0m\u001b[0;34m=\u001b[0m\u001b[0;36m5.5\u001b[0m\u001b[0;34m\u001b[0m\u001b[0;34m\u001b[0m\u001b[0m\n\u001b[0;32m----> 3\u001b[0;31m \u001b[0mrandom\u001b[0m\u001b[0;34m.\u001b[0m\u001b[0msample\u001b[0m\u001b[0;34m(\u001b[0m\u001b[0mpopulation\u001b[0m\u001b[0;34m,\u001b[0m\u001b[0mk\u001b[0m\u001b[0;34m)\u001b[0m\u001b[0;34m\u001b[0m\u001b[0;34m\u001b[0m\u001b[0m\n\u001b[0m",
            "\u001b[0;32m/usr/lib/python3.10/random.py\u001b[0m in \u001b[0;36msample\u001b[0;34m(self, population, k, counts)\u001b[0m\n\u001b[1;32m    481\u001b[0m         \u001b[0;32mif\u001b[0m \u001b[0;32mnot\u001b[0m \u001b[0;36m0\u001b[0m \u001b[0;34m<=\u001b[0m \u001b[0mk\u001b[0m \u001b[0;34m<=\u001b[0m \u001b[0mn\u001b[0m\u001b[0;34m:\u001b[0m\u001b[0;34m\u001b[0m\u001b[0;34m\u001b[0m\u001b[0m\n\u001b[1;32m    482\u001b[0m             \u001b[0;32mraise\u001b[0m \u001b[0mValueError\u001b[0m\u001b[0;34m(\u001b[0m\u001b[0;34m\"Sample larger than population or is negative\"\u001b[0m\u001b[0;34m)\u001b[0m\u001b[0;34m\u001b[0m\u001b[0;34m\u001b[0m\u001b[0m\n\u001b[0;32m--> 483\u001b[0;31m         \u001b[0mresult\u001b[0m \u001b[0;34m=\u001b[0m \u001b[0;34m[\u001b[0m\u001b[0;32mNone\u001b[0m\u001b[0;34m]\u001b[0m \u001b[0;34m*\u001b[0m \u001b[0mk\u001b[0m\u001b[0;34m\u001b[0m\u001b[0;34m\u001b[0m\u001b[0m\n\u001b[0m\u001b[1;32m    484\u001b[0m         \u001b[0msetsize\u001b[0m \u001b[0;34m=\u001b[0m \u001b[0;36m21\u001b[0m        \u001b[0;31m# size of a small set minus size of an empty list\u001b[0m\u001b[0;34m\u001b[0m\u001b[0;34m\u001b[0m\u001b[0m\n\u001b[1;32m    485\u001b[0m         \u001b[0;32mif\u001b[0m \u001b[0mk\u001b[0m \u001b[0;34m>\u001b[0m \u001b[0;36m5\u001b[0m\u001b[0;34m:\u001b[0m\u001b[0;34m\u001b[0m\u001b[0;34m\u001b[0m\u001b[0m\n",
            "\u001b[0;31mTypeError\u001b[0m: can't multiply sequence by non-int of type 'float'"
          ]
        }
      ]
    },
    {
      "cell_type": "code",
      "source": [
        "population=[20,21,23,24,25,26,27,28,29,30]  #overcome the error got 5 sample values from the list\n",
        "k=5\n",
        "random.sample(population,k)"
      ],
      "metadata": {
        "colab": {
          "base_uri": "https://localhost:8080/"
        },
        "id": "C1uGLryxcxFi",
        "outputId": "e82e4207-5f4f-4c6c-cf10-839d1f9abf0b"
      },
      "execution_count": null,
      "outputs": [
        {
          "output_type": "execute_result",
          "data": {
            "text/plain": [
              "[30, 29, 20, 21, 26]"
            ]
          },
          "metadata": {},
          "execution_count": 389
        }
      ]
    },
    {
      "cell_type": "code",
      "source": [
        "population=[20,21,23,24,25,26,27,28,29,30] #got  7 sample values from the list\n",
        "k=7\n",
        "random.sample(population,k)"
      ],
      "metadata": {
        "colab": {
          "base_uri": "https://localhost:8080/"
        },
        "id": "q1LM1PRXc0il",
        "outputId": "4237261d-7d82-45dd-e312-76a612cbb987"
      },
      "execution_count": null,
      "outputs": [
        {
          "output_type": "execute_result",
          "data": {
            "text/plain": [
              "[30, 20, 24, 25, 26, 29, 21]"
            ]
          },
          "metadata": {},
          "execution_count": 390
        }
      ]
    },
    {
      "cell_type": "markdown",
      "source": [
        "# **Number Representational function**\n",
        "\n",
        "* Ceil() - Upper value\n",
        "* Floor() - Lower Value"
      ],
      "metadata": {
        "id": "UDmDaxRyc43L"
      }
    },
    {
      "cell_type": "code",
      "source": [
        "import math   #ceiling is upper value\n",
        "number=8.10\n",
        "print(math.ceil(number))"
      ],
      "metadata": {
        "colab": {
          "base_uri": "https://localhost:8080/"
        },
        "id": "DcoBthxFc2na",
        "outputId": "f9c9e65b-121a-4863-ccbc-046a8d76f7fb"
      },
      "execution_count": null,
      "outputs": [
        {
          "output_type": "stream",
          "name": "stdout",
          "text": [
            "9\n"
          ]
        }
      ]
    },
    {
      "cell_type": "code",
      "source": [
        "print(math.floor(number)) #lower value"
      ],
      "metadata": {
        "colab": {
          "base_uri": "https://localhost:8080/"
        },
        "id": "nnijvy07dGmU",
        "outputId": "dca41f15-f8c9-44a2-add2-9254b40458d4"
      },
      "execution_count": null,
      "outputs": [
        {
          "output_type": "stream",
          "name": "stdout",
          "text": [
            "8\n"
          ]
        }
      ]
    },
    {
      "cell_type": "markdown",
      "source": [
        "# fabs() or math.fabs()"
      ],
      "metadata": {
        "id": "YIq4v6iTdI-g"
      }
    },
    {
      "cell_type": "code",
      "source": [
        "print(math.fabs(-8.10)) # converted the -ve float values to the +ve value"
      ],
      "metadata": {
        "colab": {
          "base_uri": "https://localhost:8080/"
        },
        "id": "bepFNDO5dH2X",
        "outputId": "a06768dd-8c67-45aa-ea8b-4e6b6c0fae7f"
      },
      "execution_count": null,
      "outputs": [
        {
          "output_type": "stream",
          "name": "stdout",
          "text": [
            "8.1\n"
          ]
        }
      ]
    },
    {
      "cell_type": "markdown",
      "source": [
        "# Factorial()"
      ],
      "metadata": {
        "id": "zEO3qa01dShj"
      }
    },
    {
      "cell_type": "code",
      "source": [
        "print(math.factorial(5))"
      ],
      "metadata": {
        "colab": {
          "base_uri": "https://localhost:8080/"
        },
        "id": "5T3mcgK0dPVk",
        "outputId": "b3e5cded-5fe0-4e56-d114-ae41929627a8"
      },
      "execution_count": null,
      "outputs": [
        {
          "output_type": "stream",
          "name": "stdout",
          "text": [
            "120\n"
          ]
        }
      ]
    },
    {
      "cell_type": "code",
      "source": [
        "print(math.factorial(-5)) #factorial of negative values are not possible\n",
        "\n",
        "  #ValueError: factorial() not defined for negative values"
      ],
      "metadata": {
        "colab": {
          "base_uri": "https://localhost:8080/",
          "height": 183
        },
        "id": "a5M94yb-dUgw",
        "outputId": "56ae758e-5a89-4515-d650-0d767f0d42d3"
      },
      "execution_count": null,
      "outputs": [
        {
          "output_type": "error",
          "ename": "ValueError",
          "evalue": "factorial() not defined for negative values",
          "traceback": [
            "\u001b[0;31m---------------------------------------------------------------------------\u001b[0m",
            "\u001b[0;31mValueError\u001b[0m                                Traceback (most recent call last)",
            "\u001b[0;32m<ipython-input-395-f7dd80158980>\u001b[0m in \u001b[0;36m<cell line: 1>\u001b[0;34m()\u001b[0m\n\u001b[0;32m----> 1\u001b[0;31m \u001b[0mprint\u001b[0m\u001b[0;34m(\u001b[0m\u001b[0mmath\u001b[0m\u001b[0;34m.\u001b[0m\u001b[0mfactorial\u001b[0m\u001b[0;34m(\u001b[0m\u001b[0;34m-\u001b[0m\u001b[0;36m5\u001b[0m\u001b[0;34m)\u001b[0m\u001b[0;34m)\u001b[0m \u001b[0;31m#factorial of negative values are not possible\u001b[0m\u001b[0;34m\u001b[0m\u001b[0;34m\u001b[0m\u001b[0m\n\u001b[0m\u001b[1;32m      2\u001b[0m \u001b[0;34m\u001b[0m\u001b[0m\n\u001b[1;32m      3\u001b[0m   \u001b[0;31m#ValueError: factorial() not defined for negative values\u001b[0m\u001b[0;34m\u001b[0m\u001b[0;34m\u001b[0m\u001b[0m\n",
            "\u001b[0;31mValueError\u001b[0m: factorial() not defined for negative values"
          ]
        }
      ]
    },
    {
      "cell_type": "markdown",
      "source": [
        "# fmod()\n",
        "\n",
        "* returns x%y or always gives the remainder"
      ],
      "metadata": {
        "id": "dknsHN7VdYgs"
      }
    },
    {
      "cell_type": "code",
      "source": [
        "print(math.fmod(5,2))"
      ],
      "metadata": {
        "colab": {
          "base_uri": "https://localhost:8080/"
        },
        "id": "xov6GeAEdVvS",
        "outputId": "e3f15057-8932-4463-f3d3-db2dff37dd0e"
      },
      "execution_count": null,
      "outputs": [
        {
          "output_type": "stream",
          "name": "stdout",
          "text": [
            "1.0\n"
          ]
        }
      ]
    },
    {
      "cell_type": "code",
      "source": [
        "print(math.fmod(-5,2))"
      ],
      "metadata": {
        "colab": {
          "base_uri": "https://localhost:8080/"
        },
        "id": "kiWJqpR2da3n",
        "outputId": "ecbf7e6e-e661-4829-f53a-57273e50c025"
      },
      "execution_count": null,
      "outputs": [
        {
          "output_type": "stream",
          "name": "stdout",
          "text": [
            "-1.0\n"
          ]
        }
      ]
    },
    {
      "cell_type": "code",
      "source": [
        "print(math.fmod(-5.2,2)) #negative value with mod"
      ],
      "metadata": {
        "colab": {
          "base_uri": "https://localhost:8080/"
        },
        "id": "wgVKFRLfdcH_",
        "outputId": "a346329d-9809-4a72-ddb3-677511e39f3b"
      },
      "execution_count": null,
      "outputs": [
        {
          "output_type": "stream",
          "name": "stdout",
          "text": [
            "-1.2000000000000002\n"
          ]
        }
      ]
    },
    {
      "cell_type": "code",
      "source": [
        "print(math.fmod(5.2,3)) #positve value with Mod"
      ],
      "metadata": {
        "colab": {
          "base_uri": "https://localhost:8080/"
        },
        "id": "7KXcIVRXddsY",
        "outputId": "44f4abf1-333f-45dc-b7b9-c0d0b7501544"
      },
      "execution_count": null,
      "outputs": [
        {
          "output_type": "stream",
          "name": "stdout",
          "text": [
            "2.2\n"
          ]
        }
      ]
    },
    {
      "cell_type": "markdown",
      "source": [
        "# fsum()\n",
        "* sum of float values (list, tupple) # when list tupple is given"
      ],
      "metadata": {
        "id": "ctk-lOEjdlgF"
      }
    },
    {
      "cell_type": "code",
      "source": [
        "numbers=[.1,.2,.3,.4,.5,.6,.7,.8,8.9]\n",
        "print(\"Sum of \",numbers,\" is :\",math.fsum(numbers))  #cumulative sum of all elements of the list"
      ],
      "metadata": {
        "colab": {
          "base_uri": "https://localhost:8080/"
        },
        "id": "OiEbHCPVditc",
        "outputId": "cab1881e-b5ea-43bd-b251-aab0d93f1888"
      },
      "execution_count": null,
      "outputs": [
        {
          "output_type": "stream",
          "name": "stdout",
          "text": [
            "Sum of  [0.1, 0.2, 0.3, 0.4, 0.5, 0.6, 0.7, 0.8, 8.9]  is : 12.5\n"
          ]
        }
      ]
    },
    {
      "cell_type": "code",
      "source": [
        "print(\"Sum of 1 to 10 numbers is :\",math.fsum(range(1,11))) #when list is not given we can define range"
      ],
      "metadata": {
        "colab": {
          "base_uri": "https://localhost:8080/"
        },
        "id": "pttALWD2hA8a",
        "outputId": "ce988d82-bb4b-4669-d2e5-660ac67cbe44"
      },
      "execution_count": null,
      "outputs": [
        {
          "output_type": "stream",
          "name": "stdout",
          "text": [
            "Sum of 1 to 10 numbers is : 55.0\n"
          ]
        }
      ]
    },
    {
      "cell_type": "code",
      "source": [
        "math.e #exponential value"
      ],
      "metadata": {
        "colab": {
          "base_uri": "https://localhost:8080/"
        },
        "id": "cluoUs6ehCfS",
        "outputId": "93e086f9-2cb2-4f88-c2e1-b3a5254af2da"
      },
      "execution_count": null,
      "outputs": [
        {
          "output_type": "execute_result",
          "data": {
            "text/plain": [
              "2.718281828459045"
            ]
          },
          "metadata": {},
          "execution_count": 402
        }
      ]
    },
    {
      "cell_type": "code",
      "source": [
        "math.pi #mantisa decimal point after decimal point."
      ],
      "metadata": {
        "colab": {
          "base_uri": "https://localhost:8080/"
        },
        "id": "32uYaU-thDq1",
        "outputId": "54fcc232-0a34-4f14-a411-4dd002f1e025"
      },
      "execution_count": null,
      "outputs": [
        {
          "output_type": "execute_result",
          "data": {
            "text/plain": [
              "3.141592653589793"
            ]
          },
          "metadata": {},
          "execution_count": 403
        }
      ]
    },
    {
      "cell_type": "code",
      "source": [
        "print(math.log(1))"
      ],
      "metadata": {
        "colab": {
          "base_uri": "https://localhost:8080/"
        },
        "id": "OkTcyUKHhPCQ",
        "outputId": "0947b98b-21e3-4457-9887-1b6a187dcf96"
      },
      "execution_count": null,
      "outputs": [
        {
          "output_type": "stream",
          "name": "stdout",
          "text": [
            "0.0\n"
          ]
        }
      ]
    },
    {
      "cell_type": "code",
      "source": [
        "print(math.log(2)) #base e"
      ],
      "metadata": {
        "colab": {
          "base_uri": "https://localhost:8080/"
        },
        "id": "UnRpYq0MhRM8",
        "outputId": "1165c6ec-9df3-4b77-c7b3-c1af1650475f"
      },
      "execution_count": null,
      "outputs": [
        {
          "output_type": "stream",
          "name": "stdout",
          "text": [
            "0.6931471805599453\n"
          ]
        }
      ]
    },
    {
      "cell_type": "code",
      "source": [
        "print(math.log(64,2)) #base 2"
      ],
      "metadata": {
        "colab": {
          "base_uri": "https://localhost:8080/"
        },
        "id": "yg_yx8gUhTSY",
        "outputId": "d039226b-4e53-4cab-a8bb-11a6d951c12f"
      },
      "execution_count": null,
      "outputs": [
        {
          "output_type": "stream",
          "name": "stdout",
          "text": [
            "6.0\n"
          ]
        }
      ]
    },
    {
      "cell_type": "code",
      "source": [
        "#log10()--> log with base 10\n",
        "print(math.log10(1000))"
      ],
      "metadata": {
        "colab": {
          "base_uri": "https://localhost:8080/"
        },
        "id": "FtB7klv7hUbK",
        "outputId": "b7dda64c-f291-4487-d0a8-d402810e3edf"
      },
      "execution_count": null,
      "outputs": [
        {
          "output_type": "stream",
          "name": "stdout",
          "text": [
            "3.0\n"
          ]
        }
      ]
    },
    {
      "cell_type": "code",
      "source": [
        "print(math.log(1000,10))"
      ],
      "metadata": {
        "colab": {
          "base_uri": "https://localhost:8080/"
        },
        "id": "eGoEu4WghV-5",
        "outputId": "48fedc01-2b79-4fe8-8295-22e21b0961e2"
      },
      "execution_count": null,
      "outputs": [
        {
          "output_type": "stream",
          "name": "stdout",
          "text": [
            "2.9999999999999996\n"
          ]
        }
      ]
    },
    {
      "cell_type": "code",
      "source": [
        "print(math.log(254,4))"
      ],
      "metadata": {
        "colab": {
          "base_uri": "https://localhost:8080/"
        },
        "id": "sqc2BRV5hX-u",
        "outputId": "95f00331-fbb7-4b8e-930d-44cdf74a22c1"
      },
      "execution_count": null,
      "outputs": [
        {
          "output_type": "stream",
          "name": "stdout",
          "text": [
            "3.994342343386083\n"
          ]
        }
      ]
    },
    {
      "cell_type": "code",
      "source": [
        "print(math.pow(5,4)) #power"
      ],
      "metadata": {
        "colab": {
          "base_uri": "https://localhost:8080/"
        },
        "id": "ZsElanXAhZDZ",
        "outputId": "b69696aa-5b47-4371-af61-7b3bcab9bd07"
      },
      "execution_count": null,
      "outputs": [
        {
          "output_type": "stream",
          "name": "stdout",
          "text": [
            "625.0\n"
          ]
        }
      ]
    },
    {
      "cell_type": "code",
      "source": [
        "#sqrt()\n",
        "print(math.sqrt(256)) #square root"
      ],
      "metadata": {
        "colab": {
          "base_uri": "https://localhost:8080/"
        },
        "id": "9SVKm3gxhacK",
        "outputId": "ed81e87c-6f2a-4d25-c6a1-5c10024c8cc4"
      },
      "execution_count": null,
      "outputs": [
        {
          "output_type": "stream",
          "name": "stdout",
          "text": [
            "16.0\n"
          ]
        }
      ]
    },
    {
      "cell_type": "markdown",
      "source": [
        "### **Trignometric Functions**"
      ],
      "metadata": {
        "id": "6YmQBhDIhi19"
      }
    },
    {
      "cell_type": "code",
      "source": [
        "print(\"Sin pi/2:\",math.sin(90))  #result radians"
      ],
      "metadata": {
        "colab": {
          "base_uri": "https://localhost:8080/"
        },
        "id": "e5x2yRpzhgYN",
        "outputId": "60eae798-0e41-439a-a04d-a461cd65d970"
      },
      "execution_count": null,
      "outputs": [
        {
          "output_type": "stream",
          "name": "stdout",
          "text": [
            "Sin pi/2: 0.8939966636005579\n"
          ]
        }
      ]
    },
    {
      "cell_type": "code",
      "source": [
        "print(\"Sin pi/2:\",math.sin(math.pi/2)) #result degree"
      ],
      "metadata": {
        "colab": {
          "base_uri": "https://localhost:8080/"
        },
        "id": "YleiNoeChnWv",
        "outputId": "8b51d753-ea7d-45a3-dc43-a0febf321517"
      },
      "execution_count": null,
      "outputs": [
        {
          "output_type": "stream",
          "name": "stdout",
          "text": [
            "Sin pi/2: 1.0\n"
          ]
        }
      ]
    },
    {
      "cell_type": "code",
      "source": [
        "print(\"tan pi/4:\",math.tan(math.pi/4))"
      ],
      "metadata": {
        "colab": {
          "base_uri": "https://localhost:8080/"
        },
        "id": "OMqXEJbphodP",
        "outputId": "4aa8dbb4-e07c-43cc-d78a-d077690a2c97"
      },
      "execution_count": null,
      "outputs": [
        {
          "output_type": "stream",
          "name": "stdout",
          "text": [
            "tan pi/4: 0.9999999999999999\n"
          ]
        }
      ]
    },
    {
      "cell_type": "code",
      "source": [
        "print(math.degrees(1.57))   #1.57 radians"
      ],
      "metadata": {
        "colab": {
          "base_uri": "https://localhost:8080/"
        },
        "id": "sKpG1cR4hpqW",
        "outputId": "55b18ef2-b8ff-4674-f4de-a4a3a5819842"
      },
      "execution_count": null,
      "outputs": [
        {
          "output_type": "stream",
          "name": "stdout",
          "text": [
            "89.95437383553924\n"
          ]
        }
      ]
    },
    {
      "cell_type": "code",
      "source": [
        "print(math.radians(89.95437383553924))"
      ],
      "metadata": {
        "colab": {
          "base_uri": "https://localhost:8080/"
        },
        "id": "k3a27hWThwV2",
        "outputId": "e2cbcb38-fc86-4cac-981e-4ae55c3b8b93"
      },
      "execution_count": null,
      "outputs": [
        {
          "output_type": "stream",
          "name": "stdout",
          "text": [
            "1.57\n"
          ]
        }
      ]
    },
    {
      "cell_type": "markdown",
      "source": [
        "# Number Datatypes\n",
        "\n",
        "* int--> positive or negative whole number with no decimal point.\n",
        "* float---> floating point numbers\n",
        "* complex --> (x+yj)    where x and y -->real values and j --> imaginary number\n",
        "\n",
        "* long ---> NO\n",
        "* double --->NO"
      ],
      "metadata": {
        "id": "Cpq2fI-sh3gp"
      }
    },
    {
      "cell_type": "code",
      "source": [
        "#isinstance() #checking data type\n",
        "a=1234\n",
        "isinstance(a,int)"
      ],
      "metadata": {
        "colab": {
          "base_uri": "https://localhost:8080/"
        },
        "id": "Klyjj9vphxdJ",
        "outputId": "9783c07c-71a9-485e-ca3c-f9b6db7b45e5"
      },
      "execution_count": null,
      "outputs": [
        {
          "output_type": "execute_result",
          "data": {
            "text/plain": [
              "True"
            ]
          },
          "metadata": {},
          "execution_count": 417
        }
      ]
    },
    {
      "cell_type": "code",
      "source": [
        "a=1234\n",
        "isinstance(a,float)"
      ],
      "metadata": {
        "colab": {
          "base_uri": "https://localhost:8080/"
        },
        "id": "j7FkXKrfh8VP",
        "outputId": "f66cac4b-7a7c-4f8d-e876-00fdce14ed94"
      },
      "execution_count": null,
      "outputs": [
        {
          "output_type": "execute_result",
          "data": {
            "text/plain": [
              "False"
            ]
          },
          "metadata": {},
          "execution_count": 418
        }
      ]
    },
    {
      "cell_type": "code",
      "source": [
        "#Number system-->   prefixed\n",
        "#0B or 0b --> binary ---->binary 2\n",
        "#0O or 0o---> octal  ----->8\n",
        "#0x or 0X ---> Hexadecimal --->16   A=10,B=11,C=12,D=13,E=15"
      ],
      "metadata": {
        "id": "sOS7xI_eh9jT"
      },
      "execution_count": null,
      "outputs": []
    },
    {
      "cell_type": "code",
      "source": [
        "print(0b1110001)"
      ],
      "metadata": {
        "colab": {
          "base_uri": "https://localhost:8080/"
        },
        "id": "bvDALKVSh-7g",
        "outputId": "37eec9a7-58ba-4673-a6e3-4390d56c1ad1"
      },
      "execution_count": null,
      "outputs": [
        {
          "output_type": "stream",
          "name": "stdout",
          "text": [
            "113\n"
          ]
        }
      ]
    },
    {
      "cell_type": "code",
      "source": [
        "bin(113)"
      ],
      "metadata": {
        "colab": {
          "base_uri": "https://localhost:8080/",
          "height": 36
        },
        "id": "Z09F9s8Th_8J",
        "outputId": "9653a58b-5ba6-43f0-d263-7d77a89357e4"
      },
      "execution_count": null,
      "outputs": [
        {
          "output_type": "execute_result",
          "data": {
            "text/plain": [
              "'0b1110001'"
            ],
            "application/vnd.google.colaboratory.intrinsic+json": {
              "type": "string"
            }
          },
          "metadata": {},
          "execution_count": 421
        }
      ]
    },
    {
      "cell_type": "code",
      "source": [
        "x=0o15\n",
        "print(x)"
      ],
      "metadata": {
        "colab": {
          "base_uri": "https://localhost:8080/"
        },
        "id": "k49muje5iBWw",
        "outputId": "9d15653f-61ee-433d-c2e3-66acea1ad14f"
      },
      "execution_count": null,
      "outputs": [
        {
          "output_type": "stream",
          "name": "stdout",
          "text": [
            "13\n"
          ]
        }
      ]
    },
    {
      "cell_type": "code",
      "source": [
        "oct(13)"
      ],
      "metadata": {
        "colab": {
          "base_uri": "https://localhost:8080/",
          "height": 36
        },
        "id": "QP9lGkeDiCrJ",
        "outputId": "1c8a6508-e916-421f-c077-78f24bc423e1"
      },
      "execution_count": null,
      "outputs": [
        {
          "output_type": "execute_result",
          "data": {
            "text/plain": [
              "'0o15'"
            ],
            "application/vnd.google.colaboratory.intrinsic+json": {
              "type": "string"
            }
          },
          "metadata": {},
          "execution_count": 423
        }
      ]
    },
    {
      "cell_type": "code",
      "source": [
        "x=0xBF\n",
        "print(x)"
      ],
      "metadata": {
        "colab": {
          "base_uri": "https://localhost:8080/"
        },
        "id": "W-lrs4DZiEAm",
        "outputId": "77517d0b-7697-4bcc-cc32-f1ff87744d79"
      },
      "execution_count": null,
      "outputs": [
        {
          "output_type": "stream",
          "name": "stdout",
          "text": [
            "191\n"
          ]
        }
      ]
    },
    {
      "cell_type": "code",
      "source": [
        "x=112.34\n",
        "print(type(x))\n",
        "print(int(x))"
      ],
      "metadata": {
        "colab": {
          "base_uri": "https://localhost:8080/"
        },
        "id": "UFVx0d_AiFVq",
        "outputId": "347a9b08-f736-4e13-b4ed-da11b038b4e3"
      },
      "execution_count": null,
      "outputs": [
        {
          "output_type": "stream",
          "name": "stdout",
          "text": [
            "<class 'float'>\n",
            "112\n"
          ]
        }
      ]
    },
    {
      "cell_type": "code",
      "source": [
        "x=1234\n",
        "float(x)"
      ],
      "metadata": {
        "colab": {
          "base_uri": "https://localhost:8080/"
        },
        "id": "g8nXQjg4iGkA",
        "outputId": "46b1c376-c58f-4a67-f5a7-19dc48e69e97"
      },
      "execution_count": null,
      "outputs": [
        {
          "output_type": "execute_result",
          "data": {
            "text/plain": [
              "1234.0"
            ]
          },
          "metadata": {},
          "execution_count": 426
        }
      ]
    },
    {
      "cell_type": "code",
      "source": [
        "x=123\n",
        "complex(x)"
      ],
      "metadata": {
        "colab": {
          "base_uri": "https://localhost:8080/"
        },
        "id": "XQbvmm03iH7_",
        "outputId": "805ccbc7-e87a-4c1c-efbd-c423c7027d2a"
      },
      "execution_count": null,
      "outputs": [
        {
          "output_type": "execute_result",
          "data": {
            "text/plain": [
              "(123+0j)"
            ]
          },
          "metadata": {},
          "execution_count": 427
        }
      ]
    },
    {
      "cell_type": "code",
      "source": [
        "x=12.34\n",
        "complex(x)"
      ],
      "metadata": {
        "colab": {
          "base_uri": "https://localhost:8080/"
        },
        "id": "J2p6x1bxiI_4",
        "outputId": "b1beecda-6594-48c7-a622-b37ecc3e2648"
      },
      "execution_count": null,
      "outputs": [
        {
          "output_type": "execute_result",
          "data": {
            "text/plain": [
              "(12.34+0j)"
            ]
          },
          "metadata": {},
          "execution_count": 428
        }
      ]
    },
    {
      "cell_type": "code",
      "source": [
        "x=12.34\n",
        "y=56\n",
        "z=complex(x,y)\n",
        "z"
      ],
      "metadata": {
        "colab": {
          "base_uri": "https://localhost:8080/"
        },
        "id": "wv6GyVEKiMoL",
        "outputId": "24876234-2507-481f-d1df-ab21b4746c68"
      },
      "execution_count": null,
      "outputs": [
        {
          "output_type": "execute_result",
          "data": {
            "text/plain": [
              "(12.34+56j)"
            ]
          },
          "metadata": {},
          "execution_count": 430
        }
      ]
    },
    {
      "cell_type": "code",
      "source": [
        "from math import pi\n",
        "print(pi)"
      ],
      "metadata": {
        "colab": {
          "base_uri": "https://localhost:8080/"
        },
        "id": "j0Y6aBUHiNf-",
        "outputId": "9d48e98a-fd34-46f8-bb7e-41fdbae8727c"
      },
      "execution_count": null,
      "outputs": [
        {
          "output_type": "stream",
          "name": "stdout",
          "text": [
            "3.141592653589793\n"
          ]
        }
      ]
    },
    {
      "cell_type": "code",
      "source": [
        "import math  as m\n",
        "m.pi"
      ],
      "metadata": {
        "colab": {
          "base_uri": "https://localhost:8080/"
        },
        "id": "jjhLqKEBiR0e",
        "outputId": "3963d1de-01bd-45f4-dcec-e0dc177734a8"
      },
      "execution_count": null,
      "outputs": [
        {
          "output_type": "execute_result",
          "data": {
            "text/plain": [
              "3.141592653589793"
            ]
          },
          "metadata": {},
          "execution_count": 432
        }
      ]
    },
    {
      "cell_type": "code",
      "source": [
        "from fractions import Fraction as fr"
      ],
      "metadata": {
        "id": "AqIKG6dFiS5Y"
      },
      "execution_count": null,
      "outputs": []
    },
    {
      "cell_type": "code",
      "source": [
        "fr(2.2) #higgest value give"
      ],
      "metadata": {
        "colab": {
          "base_uri": "https://localhost:8080/"
        },
        "id": "UURGaAGxiU4h",
        "outputId": "cb6018ee-b21c-437c-d6d1-1ec8f8a56453"
      },
      "execution_count": null,
      "outputs": [
        {
          "output_type": "execute_result",
          "data": {
            "text/plain": [
              "Fraction(2476979795053773, 1125899906842624)"
            ]
          },
          "metadata": {},
          "execution_count": 434
        }
      ]
    },
    {
      "cell_type": "code",
      "source": [
        "fr('2.2')"
      ],
      "metadata": {
        "colab": {
          "base_uri": "https://localhost:8080/"
        },
        "id": "Bb1pAL6QiV5W",
        "outputId": "669b74a6-6243-4460-8f43-b51c2cd4bf5e"
      },
      "execution_count": null,
      "outputs": [
        {
          "output_type": "execute_result",
          "data": {
            "text/plain": [
              "Fraction(11, 5)"
            ]
          },
          "metadata": {},
          "execution_count": 435
        }
      ]
    },
    {
      "cell_type": "code",
      "source": [
        "fr('2.5')"
      ],
      "metadata": {
        "colab": {
          "base_uri": "https://localhost:8080/"
        },
        "id": "qVJmU29oiYlc",
        "outputId": "017a72ea-1c55-428d-836b-765e6fa92b8d"
      },
      "execution_count": null,
      "outputs": [
        {
          "output_type": "execute_result",
          "data": {
            "text/plain": [
              "Fraction(5, 2)"
            ]
          },
          "metadata": {},
          "execution_count": 436
        }
      ]
    },
    {
      "cell_type": "code",
      "source": [
        "fr(1,3)+fr(3,1)"
      ],
      "metadata": {
        "colab": {
          "base_uri": "https://localhost:8080/"
        },
        "id": "6pObofPhiaPz",
        "outputId": "d3a4c802-fecc-4dea-c574-d1babd791e66"
      },
      "execution_count": null,
      "outputs": [
        {
          "output_type": "execute_result",
          "data": {
            "text/plain": [
              "Fraction(10, 3)"
            ]
          },
          "metadata": {},
          "execution_count": 437
        }
      ]
    },
    {
      "cell_type": "code",
      "source": [
        "fr(1,3)-fr(3,1)"
      ],
      "metadata": {
        "colab": {
          "base_uri": "https://localhost:8080/"
        },
        "id": "_ppqjPSPibjk",
        "outputId": "cf59e759-15e1-4559-855e-3571a8ae44f2"
      },
      "execution_count": null,
      "outputs": [
        {
          "output_type": "execute_result",
          "data": {
            "text/plain": [
              "Fraction(-8, 3)"
            ]
          },
          "metadata": {},
          "execution_count": 438
        }
      ]
    },
    {
      "cell_type": "code",
      "source": [
        "fr(1,6)*fr(6,1)"
      ],
      "metadata": {
        "colab": {
          "base_uri": "https://localhost:8080/"
        },
        "id": "Ch97Y4uqicmu",
        "outputId": "5d017271-a906-44a9-c676-8fa9e8cdf9f5"
      },
      "execution_count": null,
      "outputs": [
        {
          "output_type": "execute_result",
          "data": {
            "text/plain": [
              "Fraction(1, 1)"
            ]
          },
          "metadata": {},
          "execution_count": 439
        }
      ]
    },
    {
      "cell_type": "code",
      "source": [
        "fr(1,6)/fr(6,1)"
      ],
      "metadata": {
        "colab": {
          "base_uri": "https://localhost:8080/"
        },
        "id": "deFUd8-JieVK",
        "outputId": "45b58d1a-1986-48da-83ab-4a14c4ede94f"
      },
      "execution_count": null,
      "outputs": [
        {
          "output_type": "execute_result",
          "data": {
            "text/plain": [
              "Fraction(1, 36)"
            ]
          },
          "metadata": {},
          "execution_count": 440
        }
      ]
    },
    {
      "cell_type": "code",
      "source": [
        "n=9\n",
        "bin(n)"
      ],
      "metadata": {
        "colab": {
          "base_uri": "https://localhost:8080/",
          "height": 36
        },
        "id": "nk40g0K7ifhH",
        "outputId": "1de694d7-9696-431d-c154-9c2426093c80"
      },
      "execution_count": null,
      "outputs": [
        {
          "output_type": "execute_result",
          "data": {
            "text/plain": [
              "'0b1001'"
            ],
            "application/vnd.google.colaboratory.intrinsic+json": {
              "type": "string"
            }
          },
          "metadata": {},
          "execution_count": 441
        }
      ]
    },
    {
      "cell_type": "code",
      "source": [
        "n.bit_length()"
      ],
      "metadata": {
        "colab": {
          "base_uri": "https://localhost:8080/"
        },
        "id": "MEd44fxRigod",
        "outputId": "1641485f-04cc-49a9-a94a-69054f624572"
      },
      "execution_count": null,
      "outputs": [
        {
          "output_type": "execute_result",
          "data": {
            "text/plain": [
              "4"
            ]
          },
          "metadata": {},
          "execution_count": 442
        }
      ]
    },
    {
      "cell_type": "code",
      "source": [
        "num1=13 #maximum value within the variable\n",
        "num2=26\n",
        "num3=33\n",
        "max(num1,num2,num3)"
      ],
      "metadata": {
        "colab": {
          "base_uri": "https://localhost:8080/"
        },
        "id": "GsG9fyMCih6K",
        "outputId": "a042b294-9754-4e4c-e84e-87245164882d"
      },
      "execution_count": null,
      "outputs": [
        {
          "output_type": "execute_result",
          "data": {
            "text/plain": [
              "33"
            ]
          },
          "metadata": {},
          "execution_count": 443
        }
      ]
    },
    {
      "cell_type": "code",
      "source": [
        "min(num1,num2,num3)"
      ],
      "metadata": {
        "colab": {
          "base_uri": "https://localhost:8080/"
        },
        "id": "mOii2Vxnij-O",
        "outputId": "6dbef994-0e7a-409a-b897-1eaf6b3e38f1"
      },
      "execution_count": null,
      "outputs": [
        {
          "output_type": "execute_result",
          "data": {
            "text/plain": [
              "13"
            ]
          },
          "metadata": {},
          "execution_count": 444
        }
      ]
    },
    {
      "cell_type": "code",
      "source": [
        "num=12.345567\n",
        "n=3\n",
        "round(num,n)"
      ],
      "metadata": {
        "colab": {
          "base_uri": "https://localhost:8080/"
        },
        "id": "FsyLveililhy",
        "outputId": "4715a515-84b2-49b7-9dd7-7b1321d60de5"
      },
      "execution_count": null,
      "outputs": [
        {
          "output_type": "execute_result",
          "data": {
            "text/plain": [
              "12.346"
            ]
          },
          "metadata": {},
          "execution_count": 445
        }
      ]
    },
    {
      "cell_type": "code",
      "source": [
        "math.trunc(num)"
      ],
      "metadata": {
        "colab": {
          "base_uri": "https://localhost:8080/"
        },
        "id": "p9xDYH_2imhP",
        "outputId": "b71c63d6-df97-40ba-a4cb-9de84dd5078d"
      },
      "execution_count": null,
      "outputs": [
        {
          "output_type": "execute_result",
          "data": {
            "text/plain": [
              "12"
            ]
          },
          "metadata": {},
          "execution_count": 446
        }
      ]
    },
    {
      "cell_type": "markdown",
      "source": [
        "#What is ooop?\n",
        "* Oops stands for Object-Oriented Programming System\n",
        "- In computer science their are various proggraming launguage abailable for instructing systems or computing devices.\n",
        "- oops is one of the fundamental concept for every computer launguage to provide a clear modular sturcture and effective way of solving problems.\n",
        "\n",
        "#What is ooop?\n",
        "- Obeject oriented programiing is a programing paradigm,  that deals with various fundamental of its concepts\n",
        "- After the procedural laungage revolution, the oops cooncept has become an essential part of our programing world to achieve better productivity, flexiblity, userfriendlyness, rapid code management.\n",
        "\n",
        "#What is class?\n",
        "- Class is nothing but, buleprint, templete,plan, design for an object. Class is a virtual entity.\n",
        "\n",
        "#What is Object?\n",
        "- Object is a physical instance of a class\n",
        "\n",
        "#Defining a class?\n",
        "\n",
        "-class classname:\n",
        "\n",
        "  \"\"\"documentation string\n",
        "  #constructor\n",
        "  #statement1.....\n",
        "  #statementN\"\"\""
      ],
      "metadata": {
        "id": "R27OzO7gmurq"
      }
    },
    {
      "cell_type": "code",
      "source": [
        "class student:\n",
        "  \"\"\"we can get college student details\"\"\"\n",
        "  def __init__(self,sid,sname,smobileno):\n",
        "    self.sid=sid\n",
        "    self.sname=sname\n",
        "    self.smobileno=smobileno\n",
        "    print(\"construction execution\")\n",
        "  def talk (self):\n",
        "    print(\"method execution\")\n",
        "    print(\"hello my id is:\", self.sid)\n",
        "    print(\"hello my name is :\",self.sname)\n",
        "    print(\"hello my mobileno:\",self.smobileno)\n",
        "obj=student(2453, \"sanad\",1234567897)\n",
        "print(student.__doc__)\n",
        "obj.talk()"
      ],
      "metadata": {
        "colab": {
          "base_uri": "https://localhost:8080/"
        },
        "id": "JeyfhllIioDo",
        "outputId": "116328ee-21ce-4296-8ef0-ccda11f96bc5"
      },
      "execution_count": null,
      "outputs": [
        {
          "output_type": "stream",
          "name": "stdout",
          "text": [
            "construction execution\n",
            "we can get college student details\n",
            "method execution\n",
            "hello my id is: 2453\n",
            "hello my name is : sanad\n",
            "hello my mobileno: 1234567897\n"
          ]
        }
      ]
    },
    {
      "cell_type": "code",
      "source": [
        "a= 1\n",
        "print(type(a))\n",
        "print(type(\"Sanad Singh\"))"
      ],
      "metadata": {
        "colab": {
          "base_uri": "https://localhost:8080/"
        },
        "id": "P4JuJNfQnUhQ",
        "outputId": "ada31952-e5a7-4148-a28c-02479a5b9c6d"
      },
      "execution_count": null,
      "outputs": [
        {
          "output_type": "stream",
          "name": "stdout",
          "text": [
            "<class 'int'>\n",
            "<class 'str'>\n"
          ]
        }
      ]
    },
    {
      "cell_type": "code",
      "source": [
        "class test:\n",
        "  pass\n",
        "a=test()\n",
        "print(type(a))"
      ],
      "metadata": {
        "colab": {
          "base_uri": "https://localhost:8080/"
        },
        "id": "zkDH9BiSniDp",
        "outputId": "5d079557-5ff7-4a6d-fb66-cdf450b4b036"
      },
      "execution_count": null,
      "outputs": [
        {
          "output_type": "stream",
          "name": "stdout",
          "text": [
            "<class '__main__.test'>\n"
          ]
        }
      ]
    },
    {
      "cell_type": "code",
      "source": [
        "class dataloves: # Class define\n",
        "  def welcome(self): #constructor\n",
        "    print(\"welcome to the hollow earth\") #statement\n",
        "obj=dataloves() #object calling\n",
        "obj.welcome()"
      ],
      "metadata": {
        "colab": {
          "base_uri": "https://localhost:8080/"
        },
        "id": "whMFEg1pnkd8",
        "outputId": "a552adce-77f1-4beb-a5d2-d9b107bc3ace"
      },
      "execution_count": null,
      "outputs": [
        {
          "output_type": "stream",
          "name": "stdout",
          "text": [
            "welcome to the hollow earth\n"
          ]
        }
      ]
    },
    {
      "cell_type": "code",
      "source": [
        "obj2=dataloves()\n",
        "obj2.welcome()"
      ],
      "metadata": {
        "colab": {
          "base_uri": "https://localhost:8080/"
        },
        "id": "yg-MDKUenoyY",
        "outputId": "a803aed0-c1af-4dd4-b816-1ac69a7105c1"
      },
      "execution_count": null,
      "outputs": [
        {
          "output_type": "stream",
          "name": "stdout",
          "text": [
            "welcome to the hollow earth\n"
          ]
        }
      ]
    },
    {
      "cell_type": "code",
      "source": [
        "a=1,\n",
        "b=2\n",
        "print(a,b)"
      ],
      "metadata": {
        "colab": {
          "base_uri": "https://localhost:8080/"
        },
        "id": "oFgnZcvOnqhQ",
        "outputId": "c41f3d1f-a84f-4641-8d4f-3fc2290dc4b1"
      },
      "execution_count": null,
      "outputs": [
        {
          "output_type": "stream",
          "name": "stdout",
          "text": [
            "(1,) 2\n"
          ]
        }
      ]
    },
    {
      "cell_type": "code",
      "source": [
        "class dataloves:\n",
        "  def __init__(self, phone_number,email_id,student_id):\n",
        "    self.phone_number=phone_number\n",
        "    self.email_id=email_id\n",
        "    self.student_id=student_id\n",
        "    print(\"Student Details\")\n",
        "  def talk(self):\n",
        "    print(\"Method execution\")\n",
        "obj=dataloves(4256489,\"sand@hotmail.com\",235)\n",
        "obj.talk()"
      ],
      "metadata": {
        "colab": {
          "base_uri": "https://localhost:8080/"
        },
        "id": "lRQ2YR2Cnrne",
        "outputId": "478dfee6-29f0-4ba2-c4fb-15ed5dd0112d"
      },
      "execution_count": null,
      "outputs": [
        {
          "output_type": "stream",
          "name": "stdout",
          "text": [
            "Student Details\n",
            "Method execution\n"
          ]
        }
      ]
    },
    {
      "cell_type": "markdown",
      "source": [
        "# write a programm to get student details"
      ],
      "metadata": {
        "id": "_4-rqxjFnwsX"
      }
    },
    {
      "cell_type": "code",
      "source": [
        "class student:\n",
        "  \"Here we got the student details\"\n",
        "  def __init__(self,sid,sname,snumber):\n",
        "    self.sid=sid\n",
        "    self.sname=sname\n",
        "    self.snumber=snumber\n",
        "  def talk(self):\n",
        "    print(\"Student Details\")\n",
        "    print(\"Student Id:\", self.sid)\n",
        "    print(\"Student Name:\", self.sname)\n",
        "    print(\"Student Name:\", self.snumber)\n",
        "obj=student(987654321,\"himanshu\",987654321)\n",
        "print(student.__doc__)\n",
        "obj.talk()"
      ],
      "metadata": {
        "colab": {
          "base_uri": "https://localhost:8080/"
        },
        "id": "oI-UZ7JWntXv",
        "outputId": "58e531bf-88fc-45c5-e07c-dc28a0f52ddd"
      },
      "execution_count": null,
      "outputs": [
        {
          "output_type": "stream",
          "name": "stdout",
          "text": [
            "Here we got the student details\n",
            "Student Details\n",
            "Student Id: 987654321\n",
            "Student Name: himanshu\n",
            "Student Name: 987654321\n"
          ]
        }
      ]
    },
    {
      "cell_type": "code",
      "source": [
        "# write a programm to get empployee  details using OOPS\n",
        "class emp:\n",
        "  def __init__(self,empname,empage,empcompany,empsalary,emprole):\n",
        "    self.empname=empname\n",
        "    self.empage=empage\n",
        "    self.empcompany=empcompany\n",
        "    self.empsalary=empsalary\n",
        "    self.emprole=emprole\n",
        "  def talk(self):\n",
        "    print(\"method exection\")\n",
        "    print(\"hello my name is:\", self.empname)\n",
        "    print(\"hello my age is:\",self.empname)\n",
        "    print(\"hello my company is:\",self.empcompany)\n",
        "    print(\"hello my salary is:\",self.empsalary)\n",
        "    print(\"hello my role is:\",self.emprole)\n",
        "obj=emp(\"sanad\",29,\"deeshaw\",52000,\"datascientist\")\n",
        "print(emp.__doc__)\n",
        "obj.talk()"
      ],
      "metadata": {
        "colab": {
          "base_uri": "https://localhost:8080/"
        },
        "id": "A_3OfM3Gn02c",
        "outputId": "15ad9382-753d-4fbb-89d7-38f2ebf54dd3"
      },
      "execution_count": null,
      "outputs": [
        {
          "output_type": "stream",
          "name": "stdout",
          "text": [
            "None\n",
            "method exection\n",
            "hello my name is: sanad\n",
            "hello my age is: sanad\n",
            "hello my company is: deeshaw\n",
            "hello my salary is: 52000\n",
            "hello my role is: datascientist\n"
          ]
        }
      ]
    },
    {
      "cell_type": "markdown",
      "source": [
        "# Write a programm to get details of multiple employee using OOPS."
      ],
      "metadata": {
        "id": "4zpW8F-pn3rM"
      }
    },
    {
      "cell_type": "code",
      "source": [
        "class emp:\n",
        "  \"we can get employee data using OOPs\"\n",
        "  def __init__(self,empname,empage,empcompany,empsalary,emprole):\n",
        "    self.empname=empname\n",
        "    self.empage=empage\n",
        "    self.empcompany=empcompany\n",
        "    self.empsalary=empsalary\n",
        "    self.emprole=emprole\n",
        "  def talk(self):\n",
        "    print(\"method exection\")\n",
        "    print(\"hello my name is:\", self.empname)\n",
        "    print(\"hello my age is:\",self.empage)\n",
        "    print(\"hello my company is:\",self.empcompany)\n",
        "    print(\"hello my salary is:\",self.empsalary)\n",
        "    print(\"hello my role is:\",self.emprole)\n",
        "obj=emp(\"sanad\",29,\"deeshaw\",52000,\"datascientist\")\n",
        "obj1=emp(\"himanshu\",30,\"deeshaw\",60000,\"datascientist\")\n",
        "print(emp.__doc__)\n",
        "obj.talk()\n",
        "obj1.talk()"
      ],
      "metadata": {
        "colab": {
          "base_uri": "https://localhost:8080/"
        },
        "id": "cIpc1eL-n1uA",
        "outputId": "22437185-114f-41d7-ff74-f9bbff7bd422"
      },
      "execution_count": null,
      "outputs": [
        {
          "output_type": "stream",
          "name": "stdout",
          "text": [
            "we can get employee data using OOPs\n",
            "method exection\n",
            "hello my name is: sanad\n",
            "hello my age is: 29\n",
            "hello my company is: deeshaw\n",
            "hello my salary is: 52000\n",
            "hello my role is: datascientist\n",
            "method exection\n",
            "hello my name is: himanshu\n",
            "hello my age is: 30\n",
            "hello my company is: deeshaw\n",
            "hello my salary is: 60000\n",
            "hello my role is: datascientist\n"
          ]
        }
      ]
    },
    {
      "cell_type": "code",
      "source": [
        "class emp:\n",
        "  \"we can get employee data using OOPs\"\n",
        "  def __init__(self,empname,empage,empcompany,empsalary,emprole):\n",
        "    self.empname=empname\n",
        "    self.empage=empage\n",
        "    self.empcompany=empcompany\n",
        "    self.empsalary=empsalary\n",
        "    self.emprole=emprole\n",
        "  def talk(self):\n",
        "    print(\"hello my name is:\", self.empname)\n",
        "    print(\"hello my age is:\",self.empage)\n",
        "    print(\"hello my company is:\",self.empcompany)\n",
        "    print(\"hello my salary is:\",self.empsalary)\n",
        "    print(\"hello my role is:\",self.emprole)\n",
        "obj=emp(\"sanad\",29,\"deeshaw\",52000,\"datascientist\")\n",
        "print(emp.__doc__)\n",
        "obj.talk()"
      ],
      "metadata": {
        "colab": {
          "base_uri": "https://localhost:8080/"
        },
        "id": "UjmTomCJn6Dh",
        "outputId": "41b3f843-d569-4565-c9da-038cf09517f3"
      },
      "execution_count": null,
      "outputs": [
        {
          "output_type": "stream",
          "name": "stdout",
          "text": [
            "we can get employee data using OOPs\n",
            "hello my name is: sanad\n",
            "hello my age is: 29\n",
            "hello my company is: deeshaw\n",
            "hello my salary is: 52000\n",
            "hello my role is: datascientist\n"
          ]
        }
      ]
    },
    {
      "cell_type": "code",
      "source": [
        "class emp:\n",
        "  \"we can get employee data using OOPs\"\n",
        "  def __init__(self,empname,empage,empcompany,empsalary,emprole):\n",
        "    self.empname=empname\n",
        "    self.empage=empage\n",
        "    self.empcompany=empcompany\n",
        "    self.empsalary=empsalary\n",
        "    self.emprole=emprole\n",
        "  def talk(self):\n",
        "    print(\"hello my name is:\", self.empname)\n",
        "    print(\"hello my age is:\",self.empname)\n",
        "    print(\"hello my company is:\",self.empcompany)\n",
        "    print(\"hello my salary is:\",self.empsalary)\n",
        "    print(\"hello my role is:\",self.emprole)\n",
        "\n",
        "obj=emp(\"sanad\",29,\"deeshaw\",52000,\"datascientist\")\n",
        "\n",
        "obj1=emp(\"himanshu\",30,\"deeshaw\",60000,\"datascientist\")\n",
        "\n",
        "print(emp.__doc__)\n",
        "\n",
        "obj.talk()\n",
        "print(\"-----------------------------------------------------------\")\n",
        "\n",
        "\n",
        "obj1.talk()\n",
        "print(\"-----------------------------------------------------------\")"
      ],
      "metadata": {
        "colab": {
          "base_uri": "https://localhost:8080/"
        },
        "id": "mvAcXO_Vn_HL",
        "outputId": "02a54f98-3677-427f-a50d-9368d580187e"
      },
      "execution_count": null,
      "outputs": [
        {
          "output_type": "stream",
          "name": "stdout",
          "text": [
            "we can get employee data using OOPs\n",
            "hello my name is: sanad\n",
            "hello my age is: sanad\n",
            "hello my company is: deeshaw\n",
            "hello my salary is: 52000\n",
            "hello my role is: datascientist\n",
            "-----------------------------------------------------------\n",
            "hello my name is: himanshu\n",
            "hello my age is: himanshu\n",
            "hello my company is: deeshaw\n",
            "hello my salary is: 60000\n",
            "hello my role is: datascientist\n",
            "-----------------------------------------------------------\n"
          ]
        }
      ]
    },
    {
      "cell_type": "code",
      "source": [
        "print(help(emp))"
      ],
      "metadata": {
        "colab": {
          "base_uri": "https://localhost:8080/"
        },
        "id": "JDHEXg1QoBHp",
        "outputId": "249b450e-3f33-4724-d4fc-9f8cd3a7a268"
      },
      "execution_count": null,
      "outputs": [
        {
          "output_type": "stream",
          "name": "stdout",
          "text": [
            "Help on class emp in module __main__:\n",
            "\n",
            "class emp(builtins.object)\n",
            " |  emp(empname, empage, empcompany, empsalary, emprole)\n",
            " |  \n",
            " |  we can get employee data using OOPs\n",
            " |  \n",
            " |  Methods defined here:\n",
            " |  \n",
            " |  __init__(self, empname, empage, empcompany, empsalary, emprole)\n",
            " |      Initialize self.  See help(type(self)) for accurate signature.\n",
            " |  \n",
            " |  talk(self)\n",
            " |  \n",
            " |  ----------------------------------------------------------------------\n",
            " |  Data descriptors defined here:\n",
            " |  \n",
            " |  __dict__\n",
            " |      dictionary for instance variables (if defined)\n",
            " |  \n",
            " |  __weakref__\n",
            " |      list of weak references to the object (if defined)\n",
            "\n",
            "None\n"
          ]
        }
      ]
    },
    {
      "cell_type": "code",
      "source": [
        "class emp:\n",
        "  def __init__(self):\n",
        "    print(id(self))\n",
        "obj=emp()\n",
        "print(id(obj))"
      ],
      "metadata": {
        "colab": {
          "base_uri": "https://localhost:8080/"
        },
        "id": "9LoX_PpmoDq4",
        "outputId": "02ae25fb-b08b-4a1a-fbf2-07d0565e7a51"
      },
      "execution_count": null,
      "outputs": [
        {
          "output_type": "stream",
          "name": "stdout",
          "text": [
            "140498111619392\n",
            "140498111619392\n"
          ]
        }
      ]
    },
    {
      "cell_type": "code",
      "source": [
        "class emp:\n",
        "  \"we can get employee data using OOPs\"\n",
        "  def __init__(self,empname,empage,empcompany,empsalary,emprole):\n",
        "    self.empname=\"sanad\"\n",
        "    self.empage=29\n",
        "    self.empcompany=\"deeshaw\"\n",
        "    self.empsalary=520000\n",
        "    self.emprole=\"datascientist\"\n",
        "    print(\"constructor execution\")\n",
        "  def talk(self):\n",
        "    print(\"method exection\")\n",
        "    print(\"hello my name is:\", self.empname)\n",
        "    print(\"hello my age is:\",self.empage)\n",
        "    print(\"hello my company is:\",self.empcompany)\n",
        "    print(\"hello my salary is:\",self.empsalary)\n",
        "    print(\"hello my role is:\",self.emprole)\n",
        "obj=emp(\"sanad\",29,\"deeshaw\",52000,\"datascientist\")\n",
        "print(emp.__doc__)\n",
        "obj.talk()"
      ],
      "metadata": {
        "colab": {
          "base_uri": "https://localhost:8080/"
        },
        "id": "bi-sm7nooFvD",
        "outputId": "9f5ecb5f-0193-4764-f39e-2459351e613b"
      },
      "execution_count": null,
      "outputs": [
        {
          "output_type": "stream",
          "name": "stdout",
          "text": [
            "constructor execution\n",
            "we can get employee data using OOPs\n",
            "method exection\n",
            "hello my name is: sanad\n",
            "hello my age is: 29\n",
            "hello my company is: deeshaw\n",
            "hello my salary is: 520000\n",
            "hello my role is: datascientist\n"
          ]
        }
      ]
    },
    {
      "cell_type": "markdown",
      "source": [
        "# **Constructor**\n",
        "\n",
        "* Whenever we are creating object, constructor will be executed automatically and we are not required to call expcitelly.\n",
        "* The main objective of the constructor is to declair and initilize variable.\n",
        "* For every object constructor will be executed only once. This will be called as default constructor.\n",
        "\n",
        "# **What is Self?**\n",
        "\n",
        "* Self is an implicite variable which is always provided by the PVM 'python virtual machine.\n",
        "* Self is always pointing to the current onject.\n",
        "* For every constructor an instance method, the first argument should be self."
      ],
      "metadata": {
        "id": "sBkCT1LxoP3U"
      }
    },
    {
      "cell_type": "code",
      "source": [
        "class test:\n",
        "  def __init__(self):\n",
        "    print(\"constructor execution\")\n",
        "t=test()"
      ],
      "metadata": {
        "colab": {
          "base_uri": "https://localhost:8080/"
        },
        "id": "EYzbA4EAoIRN",
        "outputId": "fecf27c5-44bb-4272-b58d-53c296bafa27"
      },
      "execution_count": null,
      "outputs": [
        {
          "output_type": "stream",
          "name": "stdout",
          "text": [
            "constructor execution\n"
          ]
        }
      ]
    },
    {
      "cell_type": "code",
      "source": [
        "class test:\n",
        "  def __init__(self):\n",
        "    self.x=10\n",
        "    self.y=20\n",
        "  def demo(self):\n",
        "    print(self.x)\n",
        "    print(self.y)\n",
        "obj=test()\n",
        "obj.demo()"
      ],
      "metadata": {
        "colab": {
          "base_uri": "https://localhost:8080/"
        },
        "id": "rDdRvRN8oYGu",
        "outputId": "9fb89636-b28e-4b10-8cec-18178364197a"
      },
      "execution_count": null,
      "outputs": [
        {
          "output_type": "stream",
          "name": "stdout",
          "text": [
            "10\n",
            "20\n"
          ]
        }
      ]
    },
    {
      "cell_type": "code",
      "source": [
        "class test:\n",
        "  def __init__(self):\n",
        "    self.x=10\n",
        "    self.y=20\n",
        "  def demo(self):\n",
        "    print(self.x)\n",
        "    print(self.y)\n",
        "t=test()"
      ],
      "metadata": {
        "id": "vmRW81JhoZYP"
      },
      "execution_count": null,
      "outputs": []
    },
    {
      "cell_type": "code",
      "source": [
        "class test:  #if two constructor, or two method but different argument it will be known as overloded, only considered by PVM last.9\n",
        "  def __init__(self):\n",
        "    print(\"no argument\")\n",
        "  def __init__(self,x):\n",
        "    print(\"one argument\")\n",
        "t1=test(10)"
      ],
      "metadata": {
        "colab": {
          "base_uri": "https://localhost:8080/"
        },
        "id": "NYffLXFcoatL",
        "outputId": "8ea0eeec-7016-472a-c63a-b8d46af65c7f"
      },
      "execution_count": null,
      "outputs": [
        {
          "output_type": "stream",
          "name": "stdout",
          "text": [
            "one argument\n"
          ]
        }
      ]
    },
    {
      "cell_type": "markdown",
      "source": [
        "# Printing multiple candidates details\n"
      ],
      "metadata": {
        "id": "02COE2VAoepb"
      }
    },
    {
      "cell_type": "code",
      "source": [
        "class student:\n",
        "  cname=\"dataloves\"\n",
        "  def __init__(self,sid,sname,sage):\n",
        "    self.sid=sid\n",
        "    self.sname=sname\n",
        "    self.sage=sage\n",
        "  def display(self):\n",
        "    print(\"hello my id is:\", self.sid)\n",
        "    print(\"hello my name is :\",self.sname)\n",
        "    print(\"hello my age is:\",self.sage)\n",
        "    print(\"hello my college name is:\",self.cname)\n",
        "obj=student(2453, \"sanad\",29)\n",
        "obj2=student(111,\"himanshu\",65)\n",
        "obj3=student(564,\"Raj\",69)\n",
        "print(\"data1\")\n",
        "obj.display()\n",
        "print(\"data2\")\n",
        "obj2.display()\n",
        "print(\"data3\")\n",
        "obj3.display()"
      ],
      "metadata": {
        "colab": {
          "base_uri": "https://localhost:8080/"
        },
        "id": "Q3PAM35_ocEN",
        "outputId": "5f3d4262-0197-42a5-9e60-500cb658a723"
      },
      "execution_count": null,
      "outputs": [
        {
          "output_type": "stream",
          "name": "stdout",
          "text": [
            "data1\n",
            "hello my id is: 2453\n",
            "hello my name is : sanad\n",
            "hello my age is: 29\n",
            "hello my college name is: dataloves\n",
            "data2\n",
            "hello my id is: 111\n",
            "hello my name is : himanshu\n",
            "hello my age is: 65\n",
            "hello my college name is: dataloves\n",
            "data3\n",
            "hello my id is: 564\n",
            "hello my name is : Raj\n",
            "hello my age is: 69\n",
            "hello my college name is: dataloves\n"
          ]
        }
      ]
    },
    {
      "cell_type": "code",
      "source": [
        "class student:\n",
        "  cname=\"dataloves\" #statice variable\n",
        "  def __init__(self,sid,sname,sage): #constructor parametrized\n",
        "    self.sid=sid #instance variable\n",
        "    self.sname=sname\n",
        "    self.sage=sage\n",
        "  def display (self): #instance method\n",
        "    print(\"hello my id is:\", self.sid) #instance varibale\n",
        "    print(\"hello my name is :\",self.sname)\n",
        "    print(\"hello my age is:\",self.sage)\n",
        "  @classmethod #decorator\n",
        "  def getCollegename(cls):\n",
        "    print(\"college name is:\", cls.cname)\n",
        "    #print(\"hello my college name is:\",self.cname)\n",
        "    #use of statice variable by self, but we are not reccomended to do this.\n",
        "obj=student(2453, \"sanad\",29)\n",
        "obj2=student(111,\"himanshu\",65)\n",
        "obj3=student(564,\"Raj\",69)\n",
        "student.getCollegename()\n",
        "print(\"data1\")\n",
        "obj.display()\n",
        "print(\"data2\")\n",
        "obj2.display()\n",
        "print(\"data3\")\n",
        "obj3.display()"
      ],
      "metadata": {
        "colab": {
          "base_uri": "https://localhost:8080/"
        },
        "id": "elf-DismohJ8",
        "outputId": "bc9372bc-c62d-4791-a6c9-b90993cbf786"
      },
      "execution_count": null,
      "outputs": [
        {
          "output_type": "stream",
          "name": "stdout",
          "text": [
            "college name is: dataloves\n",
            "data1\n",
            "hello my id is: 2453\n",
            "hello my name is : sanad\n",
            "hello my age is: 29\n",
            "data2\n",
            "hello my id is: 111\n",
            "hello my name is : himanshu\n",
            "hello my age is: 65\n",
            "data3\n",
            "hello my id is: 564\n",
            "hello my name is : Raj\n",
            "hello my age is: 69\n"
          ]
        }
      ]
    },
    {
      "cell_type": "code",
      "source": [
        "class student:\n",
        "  cname=\"dataloves\" #statice variable\n",
        "  def __init__(self,sid,sname,sage): #constructor parametrized\n",
        "    self.sid=sid #instance variable\n",
        "    self.sname=sname\n",
        "    self.sage=sage\n",
        "  def display (self): #instance method\n",
        "    print(\"hello my id is:\", self.sid) #instance varibale\n",
        "    print(\"hello my name is :\",self.sname)\n",
        "    print(\"hello my age is:\",self.sage)\n",
        "  @classmethod #decorator\n",
        "  def getCollegename(cls):\n",
        "    print(\"college name is:\", cls.cname)\n",
        "  def findavg(x,y):\n",
        "    print(\"Average is:\",(x+y)/2 )\n",
        "    #print(\"hello my college name is:\",self.cname) #use of statice variable by self, but we are not reccomended to do this.\n",
        "obj=student(2453, \"sanad\",29)\n",
        "obj2=student(111,\"himanshu\",65)\n",
        "obj3=student(564,\"Raj\",69)\n",
        "student.getCollegename()\n",
        "student.findavg(10,5)\n",
        "print(\"data1\")\n",
        "obj.display()\n",
        "print(\"data2\")\n",
        "obj2.display()\n",
        "print(\"data3\")\n",
        "obj3.display()"
      ],
      "metadata": {
        "colab": {
          "base_uri": "https://localhost:8080/"
        },
        "id": "ZUXNZnmjoizE",
        "outputId": "b7e3c7d9-96e6-4f11-e028-eb87eaeaf8e8"
      },
      "execution_count": null,
      "outputs": [
        {
          "output_type": "stream",
          "name": "stdout",
          "text": [
            "college name is: dataloves\n",
            "Average is: 7.5\n",
            "data1\n",
            "hello my id is: 2453\n",
            "hello my name is : sanad\n",
            "hello my age is: 29\n",
            "data2\n",
            "hello my id is: 111\n",
            "hello my name is : himanshu\n",
            "hello my age is: 65\n",
            "data3\n",
            "hello my id is: 564\n",
            "hello my name is : Raj\n",
            "hello my age is: 69\n"
          ]
        }
      ]
    },
    {
      "cell_type": "markdown",
      "source": [
        "# What is python constructor?\n",
        "\n",
        "* In programm construction, every statement like data attributes, class members, methods and other objects must be present within the class boundary.\n",
        "\n",
        "* A constructor is a special type of method that help to initilize a newly created object.\n",
        "\n",
        "* Depending on constructor (init method) we can pass ant no of the arguments by creating the class objects.\n",
        "\n",
        "* Their are two type of constructor available in python programm in order to initlize instance member of the class.\n",
        "\n",
        "* Non Parameterized and Parameterized constructors."
      ],
      "metadata": {
        "id": "C0CIVYUpoySS"
      }
    },
    {
      "cell_type": "code",
      "source": [
        "class dataloves: #Example of Non Parametrized Constructor\n",
        "\n",
        "  community=\"\"\n",
        "  def __init__(self):\n",
        "    self.community=\"welcome to data trainee\"\n",
        "  def display(self):\n",
        "    print(self.community)\n",
        "obj=dataloves()\n",
        "obj.display()"
      ],
      "metadata": {
        "colab": {
          "base_uri": "https://localhost:8080/"
        },
        "id": "bL2Skrcqolvo",
        "outputId": "508bea94-7e9e-4abd-b6e4-9a0c0538a598"
      },
      "execution_count": null,
      "outputs": [
        {
          "output_type": "stream",
          "name": "stdout",
          "text": [
            "welcome to data trainee\n"
          ]
        }
      ]
    },
    {
      "cell_type": "code",
      "source": [
        "# Example for Parametrized Constructor\n",
        "\n",
        "class fruits:\n",
        "  def __init__(self,fname,fcolor):\n",
        "    self.fname=fname\n",
        "    self.fcolor=fcolor\n",
        "  def display(self):\n",
        "    print(\"fruit name:\",self.fname)\n",
        "    print(\"fruit color\",self.fcolor)\n",
        "fruit=fruits(\"orange\",\"orange\")\n",
        "fruit2=fruits(\"apple\",\"red\")\n",
        "fruit3=fruits(\"banana\",\"yellow\")\n",
        "fruit4=fruits(\"Pear\",\"green\")\n",
        "fruit.display()\n",
        "fruit2.display()\n",
        "fruit3.display()\n",
        "fruit4.display()"
      ],
      "metadata": {
        "colab": {
          "base_uri": "https://localhost:8080/"
        },
        "id": "AZTlYD-_o2lp",
        "outputId": "035a45e4-c019-410e-d112-7a91bf725a45"
      },
      "execution_count": null,
      "outputs": [
        {
          "output_type": "stream",
          "name": "stdout",
          "text": [
            "fruit name: orange\n",
            "fruit color orange\n",
            "fruit name: apple\n",
            "fruit color red\n",
            "fruit name: banana\n",
            "fruit color yellow\n",
            "fruit name: Pear\n",
            "fruit color green\n"
          ]
        }
      ]
    },
    {
      "cell_type": "code",
      "source": [
        "class fruits:\n",
        "  total=0\n",
        "  def __init__(self,fname,fcolor):\n",
        "    self.fname=fname\n",
        "    self.fcolor=fcolor\n",
        "    fruits.total+=1\n",
        "  def display(self):\n",
        "    print(\"fruit name:\",self.fname)\n",
        "    print(\"fruit color\",self.fcolor)\n",
        "fruit=fruits(\"orange\",\"orange\")\n",
        "fruit2=fruits(\"apple\",\"red\")\n",
        "fruit3=fruits(\"banana\",\"yellow\")\n",
        "fruit4=fruits(\"Pear\",\"green\")\n",
        "fruit.display()\n",
        "fruit2.display()\n",
        "fruit3.display()\n",
        "fruit4.display()\n",
        "print(fruits.total) #total number of fruits"
      ],
      "metadata": {
        "colab": {
          "base_uri": "https://localhost:8080/"
        },
        "id": "5PXaTaPeo65M",
        "outputId": "063cd3af-a255-40e8-969f-537a8fb0ebf0"
      },
      "execution_count": null,
      "outputs": [
        {
          "output_type": "stream",
          "name": "stdout",
          "text": [
            "fruit name: orange\n",
            "fruit color orange\n",
            "fruit name: apple\n",
            "fruit color red\n",
            "fruit name: banana\n",
            "fruit color yellow\n",
            "fruit name: Pear\n",
            "fruit color green\n",
            "4\n"
          ]
        }
      ]
    },
    {
      "cell_type": "markdown",
      "source": [
        "# Arithmetic Operations using Oops\n"
      ],
      "metadata": {
        "id": "_hFdFwfSpAUI"
      }
    },
    {
      "cell_type": "code",
      "source": [
        "class calculation:\n",
        "  def __init__(self,a,b):\n",
        "    self.a=a\n",
        "    self.b=b\n",
        "  def add(self):\n",
        "    print(\"addidtion:\",self.a+self.b)\n",
        "  def sub(self):\n",
        "    print(\"sub:\",self.a-self.b)\n",
        "  def multiplication(self):\n",
        "    print(\"multiplication:\",self.a*self.b)\n",
        "  def division(self):\n",
        "    print(\"division:\",self.a/self.b)\n",
        "  def floorDivision(self):\n",
        "    print(\"floordivision:\",self.a//self.b)\n",
        "  def mod(self):\n",
        "    print(\"modulous:\",self.a%self.b)\n",
        "obj=calculation(a=int(input(\"enter the number\")),b=int(input(\"enter the number\")))\n",
        "obj.add()\n",
        "obj.sub()\n",
        "obj.multiplication()\n",
        "obj.division()\n",
        "obj.floorDivision()\n",
        "obj.mod()"
      ],
      "metadata": {
        "colab": {
          "base_uri": "https://localhost:8080/"
        },
        "id": "Y-d34CPto8_H",
        "outputId": "3a5d7077-18d4-4833-b19a-aea212115b10"
      },
      "execution_count": null,
      "outputs": [
        {
          "output_type": "stream",
          "name": "stdout",
          "text": [
            "enter the number10\n",
            "enter the number5\n",
            "addidtion: 15\n",
            "sub: 5\n",
            "multiplication: 50\n",
            "division: 2.0\n",
            "floordivision: 2\n",
            "modulous: 0\n"
          ]
        }
      ]
    },
    {
      "cell_type": "code",
      "source": [
        "class calculation:\n",
        "  def __init__(self,a,b):\n",
        "    self.a=a\n",
        "    self.b=b\n",
        "  def add(self):\n",
        "    print(\"addidtion:\",self.a+self.b)\n",
        "  def sub(self):\n",
        "    print(\"sub:\",self.a-self.b)\n",
        "  def multiplication(self):\n",
        "    print(\"multiplication:\",self.a*self.b)\n",
        "  def division(self):\n",
        "    print(\"division:\",self.a/self.b)\n",
        "  def floorDivision(self):\n",
        "    print(\"floordivision:\",self.a//self.b)\n",
        "  def mod(self):\n",
        "    print(\"modulous:\",self.a%self.b)\n",
        "p=int(input(\"enter the number\"))\n",
        "q=int(input(\"enter the number\"))\n",
        "obj=calculation(p,q)\n",
        "obj.add()\n",
        "obj.sub()\n",
        "obj.multiplication()\n",
        "obj.division()\n",
        "obj.floorDivision()\n",
        "obj.mod()"
      ],
      "metadata": {
        "colab": {
          "base_uri": "https://localhost:8080/"
        },
        "id": "vlCw4ey6pB1r",
        "outputId": "7ccf2b28-a5d9-4fca-8077-59e24843b626"
      },
      "execution_count": null,
      "outputs": [
        {
          "output_type": "stream",
          "name": "stdout",
          "text": [
            "enter the number5\n",
            "enter the number9\n",
            "addidtion: 14\n",
            "sub: -4\n",
            "multiplication: 45\n",
            "division: 0.5555555555555556\n",
            "floordivision: 0\n",
            "modulous: 5\n"
          ]
        }
      ]
    },
    {
      "cell_type": "markdown",
      "source": [
        "# Accessing instance attribiute\n",
        "\n",
        "* In python we can access the object, variable using the dot operator, for calling the instance methodd in a programm you should create an object from the class that will provide accibility of class member, an attributes with the help of the dot operator"
      ],
      "metadata": {
        "id": "wQ1-3sSOpJj5"
      }
    },
    {
      "cell_type": "code",
      "source": [
        "class community:\n",
        "  def __init__(sanad,name,year):\n",
        "    sanad.name=name\n",
        "    sanad.year=year\n",
        "  def demo(sanad):\n",
        "    print(\"hello good aternoon\")\n",
        "obj=community(\"datalove is a community\",\"year of establismnet was 2019\")\n",
        "obj.demo()"
      ],
      "metadata": {
        "colab": {
          "base_uri": "https://localhost:8080/"
        },
        "id": "PjY_EPUIpFEb",
        "outputId": "4c9cc9d7-b515-40d5-838f-d9dd74beb0ae"
      },
      "execution_count": null,
      "outputs": [
        {
          "output_type": "stream",
          "name": "stdout",
          "text": [
            "hello good aternoon\n"
          ]
        }
      ]
    },
    {
      "cell_type": "code",
      "source": [
        "class community:\n",
        "  def __init__(sanad,name,year):\n",
        "    sanad.name=name\n",
        "    sanad.year=year\n",
        "  def demo(sanad):\n",
        "    print(\"hello good aternoon\")\n",
        "obj=community(\"data is a community\",\"year of establismnet was 1990\")\n",
        "obj.demo()\n",
        "print(\"welcome to\",obj.name,\"and\",obj.year) #dot operator"
      ],
      "metadata": {
        "colab": {
          "base_uri": "https://localhost:8080/"
        },
        "id": "qdGfOwP5pO9q",
        "outputId": "ee9af8c2-dfcb-47b0-c601-3fa16c3030ff"
      },
      "execution_count": null,
      "outputs": [
        {
          "output_type": "stream",
          "name": "stdout",
          "text": [
            "hello good aternoon\n",
            "welcome to data is a community and year of establismnet was 1990\n"
          ]
        }
      ]
    },
    {
      "cell_type": "markdown",
      "source": [
        "# **Accessing attribute inbuilt class function**\n",
        "\n",
        "* getattr(obj,name)- it allow us to access an attriute of an object\n",
        "* setattr(obj,name)- This method use to set an attruibute if it created when it dosnt exist.\n",
        "* hasattr(obj,name)-to check the attribute exist or not\n",
        "* delattr(obj,name)-to delete an attribute"
      ],
      "metadata": {
        "id": "nhKxLmHmpXhb"
      }
    },
    {
      "cell_type": "code",
      "source": [
        "class dog:\n",
        "  name=\"dommy\"\n",
        "  age=8\n",
        "  def show(self):\n",
        "    print(self.name)\n",
        "    print(self.age)\n",
        "obj=dog()\n",
        "print(getattr(obj,'height'))"
      ],
      "metadata": {
        "colab": {
          "base_uri": "https://localhost:8080/",
          "height": 183
        },
        "id": "6-ut0o6-pQYd",
        "outputId": "d46881c1-7d07-4cab-eb66-e4083f858b23"
      },
      "execution_count": null,
      "outputs": [
        {
          "output_type": "error",
          "ename": "AttributeError",
          "evalue": "'dog' object has no attribute 'height'",
          "traceback": [
            "\u001b[0;31m---------------------------------------------------------------------------\u001b[0m",
            "\u001b[0;31mAttributeError\u001b[0m                            Traceback (most recent call last)",
            "\u001b[0;32m<ipython-input-480-f39a7d263c7d>\u001b[0m in \u001b[0;36m<cell line: 8>\u001b[0;34m()\u001b[0m\n\u001b[1;32m      6\u001b[0m     \u001b[0mprint\u001b[0m\u001b[0;34m(\u001b[0m\u001b[0mself\u001b[0m\u001b[0;34m.\u001b[0m\u001b[0mage\u001b[0m\u001b[0;34m)\u001b[0m\u001b[0;34m\u001b[0m\u001b[0;34m\u001b[0m\u001b[0m\n\u001b[1;32m      7\u001b[0m \u001b[0mobj\u001b[0m\u001b[0;34m=\u001b[0m\u001b[0mdog\u001b[0m\u001b[0;34m(\u001b[0m\u001b[0;34m)\u001b[0m\u001b[0;34m\u001b[0m\u001b[0;34m\u001b[0m\u001b[0m\n\u001b[0;32m----> 8\u001b[0;31m \u001b[0mprint\u001b[0m\u001b[0;34m(\u001b[0m\u001b[0mgetattr\u001b[0m\u001b[0;34m(\u001b[0m\u001b[0mobj\u001b[0m\u001b[0;34m,\u001b[0m\u001b[0;34m'height'\u001b[0m\u001b[0;34m)\u001b[0m\u001b[0;34m)\u001b[0m\u001b[0;34m\u001b[0m\u001b[0;34m\u001b[0m\u001b[0m\n\u001b[0m",
            "\u001b[0;31mAttributeError\u001b[0m: 'dog' object has no attribute 'height'"
          ]
        }
      ]
    },
    {
      "cell_type": "code",
      "source": [
        "class dog:\n",
        "  name=\"dommy\"\n",
        "  age=8\n",
        "  def show(self):\n",
        "    print(self.name)\n",
        "    print(self.age)\n",
        "obj=dog()\n",
        "print(getattr(obj,'name'))"
      ],
      "metadata": {
        "colab": {
          "base_uri": "https://localhost:8080/"
        },
        "id": "eqMndf0lpdlR",
        "outputId": "c71da130-e330-4b11-cb17-9b8a9ce0c61a"
      },
      "execution_count": null,
      "outputs": [
        {
          "output_type": "stream",
          "name": "stdout",
          "text": [
            "dommy\n"
          ]
        }
      ]
    },
    {
      "cell_type": "code",
      "source": [
        "class dog:\n",
        "  name=\"dommy\"\n",
        "  age=8\n",
        "  def show(self):\n",
        "    print(self.name)\n",
        "    print(self.age)\n",
        "obj=dog()\n",
        "print(hasattr(obj,'height'))"
      ],
      "metadata": {
        "colab": {
          "base_uri": "https://localhost:8080/"
        },
        "id": "IKBG8CRvpgmW",
        "outputId": "dd884e41-0fd7-4eec-e3e5-c8d4baf78167"
      },
      "execution_count": null,
      "outputs": [
        {
          "output_type": "stream",
          "name": "stdout",
          "text": [
            "False\n"
          ]
        }
      ]
    },
    {
      "cell_type": "code",
      "source": [
        "class dog:\n",
        "  name=\"dommy\"\n",
        "  age=8\n",
        "  def show(self):\n",
        "    print(self.name)\n",
        "    print(self.age)\n",
        "obj=dog()\n",
        "setattr(obj,'height',175)"
      ],
      "metadata": {
        "id": "fWI7XGGMphnT"
      },
      "execution_count": null,
      "outputs": []
    },
    {
      "cell_type": "code",
      "source": [
        "print(hasattr(obj,\"height\"))"
      ],
      "metadata": {
        "colab": {
          "base_uri": "https://localhost:8080/"
        },
        "id": "zuhBm-CSpi7P",
        "outputId": "a2aafa8f-e105-4a9f-a5ae-3156df731a5f"
      },
      "execution_count": null,
      "outputs": [
        {
          "output_type": "stream",
          "name": "stdout",
          "text": [
            "True\n"
          ]
        }
      ]
    },
    {
      "cell_type": "code",
      "source": [
        "print(getattr(obj,\"height\"))"
      ],
      "metadata": {
        "colab": {
          "base_uri": "https://localhost:8080/"
        },
        "id": "tggrPPrKpkec",
        "outputId": "396d58e0-786c-465c-d764-6189c8bab75c"
      },
      "execution_count": null,
      "outputs": [
        {
          "output_type": "stream",
          "name": "stdout",
          "text": [
            "175\n"
          ]
        }
      ]
    },
    {
      "cell_type": "code",
      "source": [
        "print(hasattr(obj,\"age\"))"
      ],
      "metadata": {
        "colab": {
          "base_uri": "https://localhost:8080/"
        },
        "id": "Ye8OZZ1Dpl37",
        "outputId": "7b8c81ec-1546-4379-f6f4-627baef3b36c"
      },
      "execution_count": null,
      "outputs": [
        {
          "output_type": "stream",
          "name": "stdout",
          "text": [
            "True\n"
          ]
        }
      ]
    },
    {
      "cell_type": "code",
      "source": [
        "delattr(dog,\"age\") #only class will be able to perform del operation."
      ],
      "metadata": {
        "id": "XUa4KdlQpnFc"
      },
      "execution_count": null,
      "outputs": []
    },
    {
      "cell_type": "code",
      "source": [
        "print(hasattr(obj,\"age\"))"
      ],
      "metadata": {
        "colab": {
          "base_uri": "https://localhost:8080/"
        },
        "id": "u5nff6KNpoLf",
        "outputId": "6e926fd9-ecdb-4817-d033-b94a924becd4"
      },
      "execution_count": null,
      "outputs": [
        {
          "output_type": "stream",
          "name": "stdout",
          "text": [
            "False\n"
          ]
        }
      ]
    },
    {
      "cell_type": "markdown",
      "source": [
        "# **Built-in class attributes**\n",
        "\n",
        "* pythob built-in class attributes give us some info about the class.\n",
        "* Every class in python can retain below an attribute an access  by using the dot operator.\n",
        "* __dict__ - to holding the class information\n",
        "* __doc__ - to give the class documentation string\n",
        "* __name__ - to give the class name\n",
        "* __module__-it provide the module name in which the class is defined\n",
        "* __bases__-to give the bases(in other words object information)"
      ],
      "metadata": {
        "id": "UKM92v29psEN"
      }
    },
    {
      "cell_type": "code",
      "source": [
        "class colors:\n",
        "  \"this  is a sample class called colors\"\n",
        "  colorCount=0\n",
        "  def __init__(self,red,yellow):\n",
        "    self.red=\"apple\"\n",
        "    self.yellow=\"lemon\"\n",
        "    colors.colorCount+=1\n",
        "  def display(self):\n",
        "    print(\"red color fruit is:\",self.red)\n",
        "    print(\"yellow color fruit is:\",self.yellow)\n",
        "obj=colors(\"apple\",\"lemon\")\n",
        "obj.display()\n",
        "print(colors.colorCount) #only one time constructor is working, constructor only call according to object calling"
      ],
      "metadata": {
        "colab": {
          "base_uri": "https://localhost:8080/"
        },
        "id": "XV0yzM4fppme",
        "outputId": "9065a58f-71f2-4715-920c-382e3ea3fa6d"
      },
      "execution_count": null,
      "outputs": [
        {
          "output_type": "stream",
          "name": "stdout",
          "text": [
            "red color fruit is: apple\n",
            "yellow color fruit is: lemon\n",
            "1\n"
          ]
        }
      ]
    },
    {
      "cell_type": "code",
      "source": [
        "class colors:\n",
        "  \"this  is a sample class called colors\" #documentation string\n",
        "  colorCount=0 #global Variable\n",
        "  def __init__(self,red,yellow): #constructor\n",
        "    self.red=\"apple\" #instance variable\n",
        "    self.yellow=\"lemon\"#instance variable\n",
        "    colors.colorCount+=1 #instance variable\n",
        "  def display(self): #Instance Variable\n",
        "    print(\"red color fruit is:\",self.red)\n",
        "    print(\"yellow color fruit is:\",self.yellow)\n",
        "\n",
        "print(\"colors.__doc__\",colors.__doc__)"
      ],
      "metadata": {
        "colab": {
          "base_uri": "https://localhost:8080/"
        },
        "id": "4AelEBNPpvx1",
        "outputId": "b5546f8f-9727-41cb-8299-40b72754a00b"
      },
      "execution_count": null,
      "outputs": [
        {
          "output_type": "stream",
          "name": "stdout",
          "text": [
            "colors.__doc__ this  is a sample class called colors\n"
          ]
        }
      ]
    },
    {
      "cell_type": "code",
      "source": [
        "class colors:\n",
        "  \"this  is a sample class called colors\" #documentation string\n",
        "  colorCount=0 #global Variable\n",
        "  def __init__(self,red,yellow): #constructor\n",
        "    self.red=\"apple\" #instance variable\n",
        "    self.yellow=\"lemon\"#instance variable\n",
        "    colors.colorCount+=1 #instance variable\n",
        "  def display(self): #Instance Variable\n",
        "    print(\"red color fruit is:\",self.red)\n",
        "    print(\"yellow color fruit is:\",self.yellow)\n",
        "\n",
        "print(\"colors.__name__\",colors.__name__)  #builtin attributes\n",
        "print(\"colors.__module__\",colors.__module__)\n",
        "print(\"colors.__bases__\",colors.__bases__)\n",
        "print(\"colors.__dict__\",colors.__dict__)"
      ],
      "metadata": {
        "colab": {
          "base_uri": "https://localhost:8080/"
        },
        "id": "y-SnCt9Spxax",
        "outputId": "8ace2268-d373-45ab-c619-55f8dc798e41"
      },
      "execution_count": null,
      "outputs": [
        {
          "output_type": "stream",
          "name": "stdout",
          "text": [
            "colors.__name__ colors\n",
            "colors.__module__ __main__\n",
            "colors.__bases__ (<class 'object'>,)\n",
            "colors.__dict__ {'__module__': '__main__', '__doc__': 'this  is a sample class called colors', 'colorCount': 0, '__init__': <function colors.__init__ at 0x7fc8440f6680>, 'display': <function colors.display at 0x7fc8440f5e10>, '__dict__': <attribute '__dict__' of 'colors' objects>, '__weakref__': <attribute '__weakref__' of 'colors' objects>}\n"
          ]
        }
      ]
    },
    {
      "cell_type": "code",
      "source": [
        "class employee:\n",
        "  def __init__(self,ename,eId,esalary):\n",
        "    self.ename=ename\n",
        "    self.eId=eId\n",
        "    self.esalary=esalary\n",
        "  def info(self):\n",
        "    self.eloc=\"banglore\"\n",
        "    print(\"employee name:\",self.ename)  #No need to use this, as we need data in dictionary\n",
        "    print(\"employee Id:\",self.eId)\n",
        "    print(\"employee salary:\",self.esalary)\n",
        "obj=employee(\"sanad\",265,415467)\n",
        "obj.info()"
      ],
      "metadata": {
        "colab": {
          "base_uri": "https://localhost:8080/"
        },
        "id": "WjcFA6WApyxz",
        "outputId": "73c28ba1-a76d-4b6c-da45-8b26fd8bf0d9"
      },
      "execution_count": null,
      "outputs": [
        {
          "output_type": "stream",
          "name": "stdout",
          "text": [
            "employee name: sanad\n",
            "employee Id: 265\n",
            "employee salary: 415467\n"
          ]
        }
      ]
    },
    {
      "cell_type": "code",
      "source": [
        "class employee:\n",
        "  def __init__(self,ename,eId,esalary):\n",
        "    self.ename=ename\n",
        "    self.eId=eId\n",
        "    self.esalary=esalary\n",
        "  def info(self):\n",
        "    self.eloc=\"banglore\"\n",
        "obj=employee(\"sanad\",265,415467)\n",
        "obj.info()\n",
        "print(obj.__dict__)"
      ],
      "metadata": {
        "colab": {
          "base_uri": "https://localhost:8080/"
        },
        "id": "CePIjpp-p0Gd",
        "outputId": "16c08bde-30af-49d7-f6b2-b1b5785bc4bf"
      },
      "execution_count": null,
      "outputs": [
        {
          "output_type": "stream",
          "name": "stdout",
          "text": [
            "{'ename': 'sanad', 'eId': 265, 'esalary': 415467, 'eloc': 'banglore'}\n"
          ]
        }
      ]
    },
    {
      "cell_type": "code",
      "source": [
        "class employee:\n",
        "  def __init__(self,ename,eId):\n",
        "    self.ename=ename\n",
        "    self.eId=eId\n",
        "  def info(self):\n",
        "    self.eSal=60000\n",
        "obj=employee(\"sanad\",265)\n",
        "obj.info()\n",
        "obj.eloc=\"banglore\" #new addition in dictionary due to mutability\n",
        "print(obj.__dict__)"
      ],
      "metadata": {
        "colab": {
          "base_uri": "https://localhost:8080/"
        },
        "id": "nISgzE0lp1W5",
        "outputId": "36e1923f-5f5b-432b-c527-c6c4e67b2f44"
      },
      "execution_count": null,
      "outputs": [
        {
          "output_type": "stream",
          "name": "stdout",
          "text": [
            "{'ename': 'sanad', 'eId': 265, 'eSal': 60000, 'eloc': 'banglore'}\n"
          ]
        }
      ]
    },
    {
      "cell_type": "code",
      "source": [
        "class student:\n",
        "  def __init__(self):\n",
        "    self.a=10\n",
        "    self.b=20\n",
        "    self.c=30\n",
        "  def m1(self):\n",
        "    self.d=40\n",
        "  def m2(self):\n",
        "    self.e=50\n",
        "obj=student()\n",
        "obj.m1()\n",
        "obj1=student()\n",
        "obj1.m2()\n",
        "obj1.p=200\n",
        "obj1.q=300\n",
        "print(obj.__dict__)\n",
        "print(obj1.__dict__)"
      ],
      "metadata": {
        "colab": {
          "base_uri": "https://localhost:8080/"
        },
        "id": "lxM7TMZlp23E",
        "outputId": "bc873a6a-f5aa-4d5c-80e4-0bad7d363ced"
      },
      "execution_count": null,
      "outputs": [
        {
          "output_type": "stream",
          "name": "stdout",
          "text": [
            "{'a': 10, 'b': 20, 'c': 30, 'd': 40}\n",
            "{'a': 10, 'b': 20, 'c': 30, 'e': 50, 'p': 200, 'q': 300}\n"
          ]
        }
      ]
    },
    {
      "cell_type": "code",
      "source": [
        "class test:\n",
        "  def __init__(self):\n",
        "    self.a=10\n",
        "    self.b=20\n",
        "    self.c=30\n",
        "  def delete(self):\n",
        "    del self.b\n",
        "    del self.c\n",
        "obj=test()\n",
        "print(obj.__dict__)"
      ],
      "metadata": {
        "colab": {
          "base_uri": "https://localhost:8080/"
        },
        "id": "PE1ibvhBp4VL",
        "outputId": "9ab5edd8-42b0-4b16-df92-6bddbc1f8393"
      },
      "execution_count": null,
      "outputs": [
        {
          "output_type": "stream",
          "name": "stdout",
          "text": [
            "{'a': 10, 'b': 20, 'c': 30}\n"
          ]
        }
      ]
    },
    {
      "cell_type": "code",
      "source": [
        "class test:\n",
        "  def __init__(self):\n",
        "    self.a=10\n",
        "    self.b=20\n",
        "    self.c=30\n",
        "  def delete(self):\n",
        "    del self.b\n",
        "    del self.c\n",
        "obj=test()\n",
        "obj.delete()\n",
        "print(obj.__dict__)"
      ],
      "metadata": {
        "colab": {
          "base_uri": "https://localhost:8080/"
        },
        "id": "sisL3szIp7El",
        "outputId": "b2aaa61b-2e52-4f3c-e021-0143382d06ab"
      },
      "execution_count": null,
      "outputs": [
        {
          "output_type": "stream",
          "name": "stdout",
          "text": [
            "{'a': 10}\n"
          ]
        }
      ]
    },
    {
      "cell_type": "code",
      "source": [
        "class test:\n",
        "  def __init__(self):\n",
        "    self.a=10\n",
        "    self.b=20\n",
        "    self.c=30\n",
        "  def delete(self):\n",
        "    del self\n",
        "obj=test()\n",
        "obj.delete()\n",
        "print(obj.__dict__)"
      ],
      "metadata": {
        "colab": {
          "base_uri": "https://localhost:8080/"
        },
        "id": "TZSao2bep8UO",
        "outputId": "11b2a559-a742-4d8d-fe53-1f6939e8990a"
      },
      "execution_count": null,
      "outputs": [
        {
          "output_type": "stream",
          "name": "stdout",
          "text": [
            "{'a': 10, 'b': 20, 'c': 30}\n"
          ]
        }
      ]
    },
    {
      "cell_type": "code",
      "source": [
        "class test:\n",
        "  def __init__(self):\n",
        "    self.a=10\n",
        "    self.b=20\n",
        "    self.c=30\n",
        "obj=test()\n",
        "obj1=test()\n",
        "del obj.a\n",
        "del obj1.b\n",
        "print(obj.__dict__)\n",
        "print(obj1.__dict__)"
      ],
      "metadata": {
        "colab": {
          "base_uri": "https://localhost:8080/"
        },
        "id": "Sgm0GyJzp9X4",
        "outputId": "1821a1c8-628e-4ac3-d292-5e67fb7c8542"
      },
      "execution_count": null,
      "outputs": [
        {
          "output_type": "stream",
          "name": "stdout",
          "text": [
            "{'b': 20, 'c': 30}\n",
            "{'a': 10, 'c': 30}\n"
          ]
        }
      ]
    },
    {
      "cell_type": "code",
      "source": [
        "class test:\n",
        "  def __init__(self):\n",
        "    self.a=10\n",
        "    self.b=20\n",
        "obj1=test()\n",
        "obj2=test()\n",
        "obj1.a=888\n",
        "obj2.b=999\n",
        "print(obj1.a,obj2.b)\n",
        "print(obj2.a,obj2.b)"
      ],
      "metadata": {
        "colab": {
          "base_uri": "https://localhost:8080/"
        },
        "id": "Ju2Dznv4p_Hg",
        "outputId": "03ea2869-0d5b-4a62-ea56-966cf9ce0aa8"
      },
      "execution_count": null,
      "outputs": [
        {
          "output_type": "stream",
          "name": "stdout",
          "text": [
            "888 999\n",
            "10 999\n"
          ]
        }
      ]
    },
    {
      "cell_type": "code",
      "source": [
        "class test:\n",
        "  a=10\n",
        "  def __init__(self):\n",
        "    print(\"inside constructor\")\n",
        "    print(test.a)\n",
        "    print(self.a)\n",
        "  def m1(self):\n",
        "    print(\"inside instance Method\")\n",
        "    print(test.a)\n",
        "    print(self.a)\n",
        "obj=test()\n",
        "obj.m1()"
      ],
      "metadata": {
        "colab": {
          "base_uri": "https://localhost:8080/"
        },
        "id": "FkHNbivbqBEC",
        "outputId": "d63b253d-0a84-413f-9d81-2d4021d88b58"
      },
      "execution_count": null,
      "outputs": [
        {
          "output_type": "stream",
          "name": "stdout",
          "text": [
            "inside constructor\n",
            "10\n",
            "10\n",
            "inside instance Method\n",
            "10\n",
            "10\n"
          ]
        }
      ]
    },
    {
      "cell_type": "code",
      "source": [
        "class test:\n",
        "  a=10\n",
        "  def __init__(self):\n",
        "    print(\"inside constructor\")\n",
        "    print(test.a)\n",
        "    print(self.a)\n",
        "  def m1(self):\n",
        "    print(\"inside instance Method\")\n",
        "    print(test.a)\n",
        "    print(self.a)\n",
        "  def m2(cls):\n",
        "    print(\"inside class method\")\n",
        "    print(test.a)\n",
        "    print(cls.a)\n",
        "  @staticmethod\n",
        "  def m3():\n",
        "    print(\"inside static method\")\n",
        "    print(test.a)\n",
        "obj=test()\n",
        "obj.m1()\n",
        "obj.m2()\n",
        "obj.m3()\n",
        "print(\"inside from the class\")\n",
        "print(test.a)\n",
        "print(obj.a)"
      ],
      "metadata": {
        "colab": {
          "base_uri": "https://localhost:8080/"
        },
        "id": "NbY4D-jTqCa2",
        "outputId": "7d0b9d33-80f4-4665-f2a3-72ca0683f1df"
      },
      "execution_count": null,
      "outputs": [
        {
          "output_type": "stream",
          "name": "stdout",
          "text": [
            "inside constructor\n",
            "10\n",
            "10\n",
            "inside instance Method\n",
            "10\n",
            "10\n",
            "inside class method\n",
            "10\n",
            "10\n",
            "inside static method\n",
            "10\n",
            "inside from the class\n",
            "10\n",
            "10\n"
          ]
        }
      ]
    },
    {
      "cell_type": "code",
      "source": [
        "class test:\n",
        "  a=10\n",
        "  def __init__(self):\n",
        "    test.a=20\n",
        "obj=test()\n",
        "print(test.a)\n",
        "print(obj.a) #case1"
      ],
      "metadata": {
        "colab": {
          "base_uri": "https://localhost:8080/"
        },
        "id": "dg93SYD-qELR",
        "outputId": "ed0b83aa-a7d8-48be-c76a-10e7abb6a05f"
      },
      "execution_count": null,
      "outputs": [
        {
          "output_type": "stream",
          "name": "stdout",
          "text": [
            "20\n",
            "20\n"
          ]
        }
      ]
    },
    {
      "cell_type": "code",
      "source": [
        "class test:\n",
        "  a=10\n",
        "  def __init__(self):\n",
        "    test.a=20\n",
        "  @classmethod\n",
        "  def m1(cls):\n",
        "    cls.a=30\n",
        "    test.a=40\n",
        "obj=test()\n",
        "obj.m1()\n",
        "print(test.a)\n",
        "print(obj.a) #case2"
      ],
      "metadata": {
        "colab": {
          "base_uri": "https://localhost:8080/"
        },
        "id": "GndBElOfqFkz",
        "outputId": "c9cb5e18-02ec-4dc6-c147-3422b9b5e395"
      },
      "execution_count": null,
      "outputs": [
        {
          "output_type": "stream",
          "name": "stdout",
          "text": [
            "40\n",
            "40\n"
          ]
        }
      ]
    },
    {
      "cell_type": "code",
      "source": [
        "class test:\n",
        "  a=10\n",
        "  def __init__(self):\n",
        "    test.a=20\n",
        "  @classmethod\n",
        "  def m1(cls):\n",
        "    cls.a=30\n",
        "    test.a=40\n",
        "  @staticmethod\n",
        "  def m2():\n",
        "    test.a=50\n",
        "obj=test()\n",
        "obj.m1()\n",
        "obj.m2()\n",
        "test.a=60\n",
        "print(test.a)\n",
        "print(obj.a) #case3"
      ],
      "metadata": {
        "colab": {
          "base_uri": "https://localhost:8080/"
        },
        "id": "Z7lS0zzIqG9Z",
        "outputId": "50b0f16e-6e8c-4c4c-ef30-feddecb047b0"
      },
      "execution_count": null,
      "outputs": [
        {
          "output_type": "stream",
          "name": "stdout",
          "text": [
            "60\n",
            "60\n"
          ]
        }
      ]
    },
    {
      "cell_type": "code",
      "source": [
        "class test:\n",
        "  def m1(self):\n",
        "    a=100\n",
        "    print(a)\n",
        "  def m2(self):\n",
        "    b=200\n",
        "    print(b)\n",
        "obj=test()\n",
        "obj.m1()\n",
        "obj.m2()"
      ],
      "metadata": {
        "colab": {
          "base_uri": "https://localhost:8080/"
        },
        "id": "Yx7ro_3mqIRj",
        "outputId": "efa71aba-65bb-4997-f305-489bbe64a38f"
      },
      "execution_count": null,
      "outputs": [
        {
          "output_type": "stream",
          "name": "stdout",
          "text": [
            "100\n",
            "200\n"
          ]
        }
      ]
    },
    {
      "cell_type": "code",
      "source": [
        "class test:\n",
        "  def m1(self):\n",
        "    a=100\n",
        "    print(a)\n",
        "  def m2(self):\n",
        "    b=200\n",
        "    print(a,b) #name error\n",
        "obj=test()\n",
        "obj.m1()\n",
        "obj.m2()"
      ],
      "metadata": {
        "colab": {
          "base_uri": "https://localhost:8080/"
        },
        "id": "Vr67_PNfqJXB",
        "outputId": "339b1da5-dddb-4fb5-fbfa-92540c610343"
      },
      "execution_count": null,
      "outputs": [
        {
          "output_type": "stream",
          "name": "stdout",
          "text": [
            "100\n",
            "(1,) 200\n"
          ]
        }
      ]
    },
    {
      "cell_type": "code",
      "source": [
        "x=100\n",
        "class test:\n",
        "  def m1(self):\n",
        "    print(x)\n",
        "  def m2(self):\n",
        "    print(x)\n",
        "obj=test()\n",
        "obj.m1()\n",
        "obj.m2()"
      ],
      "metadata": {
        "colab": {
          "base_uri": "https://localhost:8080/"
        },
        "id": "xpb9VPGZqKgm",
        "outputId": "9a54e1c7-fe09-4845-e8bc-728b577be8df"
      },
      "execution_count": null,
      "outputs": [
        {
          "output_type": "stream",
          "name": "stdout",
          "text": [
            "100\n",
            "100\n"
          ]
        }
      ]
    },
    {
      "cell_type": "code",
      "source": [
        "x=100\n",
        "class test:\n",
        "  x=777\n",
        "  def m1(self):\n",
        "    x=888\n",
        "    print(x)\n",
        "  def m2(self):\n",
        "    print(x)\n",
        "    print(test.x)\n",
        "obj=test()\n",
        "obj.m1()"
      ],
      "metadata": {
        "colab": {
          "base_uri": "https://localhost:8080/"
        },
        "id": "TZLw_Cm-qMNU",
        "outputId": "56a4ee48-6467-4240-c4b3-6f539df496f4"
      },
      "execution_count": null,
      "outputs": [
        {
          "output_type": "stream",
          "name": "stdout",
          "text": [
            "888\n"
          ]
        }
      ]
    },
    {
      "cell_type": "code",
      "source": [
        "class animals:\n",
        "  leg=4\n",
        "  @classmethod\n",
        "  def walk(cls,name):\n",
        "    cls.name=name\n",
        "    print(cls.name,\"walk with\", animals.leg, \"legs\")\n",
        "animals.walk(\"dog\")\n",
        "animals.walk(\"cat\")"
      ],
      "metadata": {
        "colab": {
          "base_uri": "https://localhost:8080/"
        },
        "id": "uZ0SGlOnqPo4",
        "outputId": "0c2d490a-ca07-49f6-dc91-7037accb0152"
      },
      "execution_count": null,
      "outputs": [
        {
          "output_type": "stream",
          "name": "stdout",
          "text": [
            "dog walk with 4 legs\n",
            "cat walk with 4 legs\n"
          ]
        }
      ]
    },
    {
      "cell_type": "code",
      "source": [
        "class employee:\n",
        "  cname='Infosys' #static variable\n",
        "  #print(cname)\n",
        "  def _init_(self,eid,ename,esale,eloc): #constructor with parameter\n",
        "    self.eid=eid #instance variable\n",
        "    self.ename=ename #instance variable\n",
        "    self.esale=esale\n",
        "    self.eloc=eloc\n",
        "  def display(self): #instance method\n",
        "    print('Hello my id is=',self.eid)\n",
        "    print('my name is=',self.ename)\n",
        "    print('my salary is=',self.esale)\n",
        "    print('my location is=',self.eloc)\n",
        "    #print('my company name is=',self.cname)\n",
        "  @classmethod\n",
        "  def get_company_name(cls): #class method\n",
        "    print('Hello my company name is=',cls.cname)   #class level variable\n",
        "obj=employee(5426,'Honey', 45000,'Kanpur')\n",
        "obj1=employee(4236,'Sooraj',55000,\"Noeda\")\n",
        "employee.get_company_name()\n",
        "obj.display() #object by calling\n",
        "obj1.display()"
      ],
      "metadata": {
        "colab": {
          "base_uri": "https://localhost:8080/",
          "height": 219
        },
        "id": "X0lAPOliqQ7O",
        "outputId": "8aa0d689-83a8-4b9b-8093-268473a3f562"
      },
      "execution_count": null,
      "outputs": [
        {
          "output_type": "error",
          "ename": "TypeError",
          "evalue": "employee() takes no arguments",
          "traceback": [
            "\u001b[0;31m---------------------------------------------------------------------------\u001b[0m",
            "\u001b[0;31mTypeError\u001b[0m                                 Traceback (most recent call last)",
            "\u001b[0;32m<ipython-input-511-291a96391270>\u001b[0m in \u001b[0;36m<cell line: 18>\u001b[0;34m()\u001b[0m\n\u001b[1;32m     16\u001b[0m   \u001b[0;32mdef\u001b[0m \u001b[0mget_company_name\u001b[0m\u001b[0;34m(\u001b[0m\u001b[0mcls\u001b[0m\u001b[0;34m)\u001b[0m\u001b[0;34m:\u001b[0m \u001b[0;31m#class method\u001b[0m\u001b[0;34m\u001b[0m\u001b[0;34m\u001b[0m\u001b[0m\n\u001b[1;32m     17\u001b[0m     \u001b[0mprint\u001b[0m\u001b[0;34m(\u001b[0m\u001b[0;34m'Hello my company name is='\u001b[0m\u001b[0;34m,\u001b[0m\u001b[0mcls\u001b[0m\u001b[0;34m.\u001b[0m\u001b[0mcname\u001b[0m\u001b[0;34m)\u001b[0m   \u001b[0;31m#class level variable\u001b[0m\u001b[0;34m\u001b[0m\u001b[0;34m\u001b[0m\u001b[0m\n\u001b[0;32m---> 18\u001b[0;31m \u001b[0mobj\u001b[0m\u001b[0;34m=\u001b[0m\u001b[0memployee\u001b[0m\u001b[0;34m(\u001b[0m\u001b[0;36m5426\u001b[0m\u001b[0;34m,\u001b[0m\u001b[0;34m'Honey'\u001b[0m\u001b[0;34m,\u001b[0m \u001b[0;36m45000\u001b[0m\u001b[0;34m,\u001b[0m\u001b[0;34m'Kanpur'\u001b[0m\u001b[0;34m)\u001b[0m\u001b[0;34m\u001b[0m\u001b[0;34m\u001b[0m\u001b[0m\n\u001b[0m\u001b[1;32m     19\u001b[0m \u001b[0mobj1\u001b[0m\u001b[0;34m=\u001b[0m\u001b[0memployee\u001b[0m\u001b[0;34m(\u001b[0m\u001b[0;36m4236\u001b[0m\u001b[0;34m,\u001b[0m\u001b[0;34m'Sooraj'\u001b[0m\u001b[0;34m,\u001b[0m\u001b[0;36m55000\u001b[0m\u001b[0;34m,\u001b[0m\u001b[0;34m\"Noeda\"\u001b[0m\u001b[0;34m)\u001b[0m\u001b[0;34m\u001b[0m\u001b[0;34m\u001b[0m\u001b[0m\n\u001b[1;32m     20\u001b[0m \u001b[0memployee\u001b[0m\u001b[0;34m.\u001b[0m\u001b[0mget_company_name\u001b[0m\u001b[0;34m(\u001b[0m\u001b[0;34m)\u001b[0m\u001b[0;34m\u001b[0m\u001b[0;34m\u001b[0m\u001b[0m\n",
            "\u001b[0;31mTypeError\u001b[0m: employee() takes no arguments"
          ]
        }
      ]
    },
    {
      "cell_type": "markdown",
      "source": [
        "# What is Inheriterance?\n",
        "\n",
        "* Inheritance allows us to define a class that inherits all the methods and properties from another class.\n",
        "* Parent class is the class being inherited from, also called base class.\n",
        "* Child class is the class that inherits from another class, also called derived class\"\"\"\n",
        "\n",
        "# Type of Inheriterance\n",
        "\n",
        "* Single level inheriterance\n",
        "* multilevel inheriterance\n",
        "* multiple inheriterance\n",
        "* Hierarchical\n",
        "* Hybrid"
      ],
      "metadata": {
        "id": "DuigeTh8qv7Z"
      }
    },
    {
      "cell_type": "code",
      "source": [
        "#Single level inheriterance:\n",
        "class parent:                     #single level inheriterance syntax\n",
        "  pass\n",
        "class child(parent):\n",
        "  pass"
      ],
      "metadata": {
        "id": "n4vyCJizqax1"
      },
      "execution_count": null,
      "outputs": []
    },
    {
      "cell_type": "code",
      "source": [
        "#multilevel inheriterance #synatx\n",
        "class a:    #grandfather\n",
        "  pass\n",
        "class b(a): #father\n",
        "  pass\n",
        "class c(b): #child\n",
        "  pass"
      ],
      "metadata": {
        "id": "Y8PagyOqrCwg"
      },
      "execution_count": null,
      "outputs": []
    },
    {
      "cell_type": "code",
      "source": [
        "#multiple Inheriterance : One child class with multiple parent class called multiple inheriterance or multiple father with one child.\n",
        "class a: #father\n",
        "  pass\n",
        "class b: #father\n",
        "  pass\n",
        "class c(a,b): #child\n",
        "  pass"
      ],
      "metadata": {
        "id": "IfZcmy9CrDvZ"
      },
      "execution_count": null,
      "outputs": []
    },
    {
      "cell_type": "code",
      "source": [
        "#Hierarchical Inheriterance : One father with multiple childs.\n",
        "class a: #father\n",
        "  pass\n",
        "class b(a): #child\n",
        "  pass\n",
        "class c(a): #child\n",
        "  pass"
      ],
      "metadata": {
        "id": "hu--valerFQx"
      },
      "execution_count": null,
      "outputs": []
    },
    {
      "cell_type": "markdown",
      "source": [
        "- Hybrid Inheriterance: combination of multiple with hierarchial inheriterance.\n",
        "- We cannot define syntex for Hybrid inheriterance."
      ],
      "metadata": {
        "id": "dFpebnFJrHYf"
      }
    },
    {
      "cell_type": "code",
      "source": [
        "class a: #example for single level inheriterance\n",
        "  def m1(self):\n",
        "    print(\"m1 method\")\n",
        "class b(a):\n",
        "  def m2(self):\n",
        "    print(\"m2 method\")\n",
        "obj=b()\n",
        "obj.m1()\n",
        "obj.m2()"
      ],
      "metadata": {
        "colab": {
          "base_uri": "https://localhost:8080/"
        },
        "id": "EyWPQ6ParGWm",
        "outputId": "8d56c5ed-120c-4f37-96cd-b142fb385113"
      },
      "execution_count": null,
      "outputs": [
        {
          "output_type": "stream",
          "name": "stdout",
          "text": [
            "m1 method\n",
            "m2 method\n"
          ]
        }
      ]
    },
    {
      "cell_type": "code",
      "source": [
        "#example for multi level inheriterance\n",
        "class a:\n",
        "  def m1(self):\n",
        "    print(\"m1 method\")\n",
        "class b(a):\n",
        "  def m2(self):\n",
        "    print(\"m2 method\")\n",
        "class c(b):\n",
        "  def m3(self):\n",
        "    print(\"m3 method\")\n",
        "obj=c() #always current class object will be called\n",
        "obj.m1()\n",
        "obj.m2()\n",
        "obj.m3()"
      ],
      "metadata": {
        "colab": {
          "base_uri": "https://localhost:8080/"
        },
        "id": "o-5XCSH9rOf9",
        "outputId": "5b992cbb-74c9-4762-bcbb-fca25d7e988e"
      },
      "execution_count": null,
      "outputs": [
        {
          "output_type": "stream",
          "name": "stdout",
          "text": [
            "m1 method\n",
            "m2 method\n",
            "m3 method\n"
          ]
        }
      ]
    },
    {
      "cell_type": "code",
      "source": [
        "#hierarichial inheriterance\n",
        "class vehical:\n",
        "  def disp1(self):\n",
        "    print(\"vehical information\")\n",
        "class car(vehical):\n",
        "  def disp2(self):\n",
        "    print(\"car information\")\n",
        "class areoplane(vehical):\n",
        "  def disp3(self):\n",
        "    print(\"Areoplane information\")\n",
        "obj1=vehical()\n",
        "obj1.disp1()\n",
        "obj1.disp2()\n",
        "obj1.disp3()"
      ],
      "metadata": {
        "colab": {
          "base_uri": "https://localhost:8080/",
          "height": 219
        },
        "id": "KDN7b5LLrP01",
        "outputId": "eedc2765-f43f-4090-f2c7-d8c105b4ce21"
      },
      "execution_count": null,
      "outputs": [
        {
          "output_type": "stream",
          "name": "stdout",
          "text": [
            "vehical information\n"
          ]
        },
        {
          "output_type": "error",
          "ename": "AttributeError",
          "evalue": "'vehical' object has no attribute 'disp2'",
          "traceback": [
            "\u001b[0;31m---------------------------------------------------------------------------\u001b[0m",
            "\u001b[0;31mAttributeError\u001b[0m                            Traceback (most recent call last)",
            "\u001b[0;32m<ipython-input-520-aae7dd835ad4>\u001b[0m in \u001b[0;36m<cell line: 13>\u001b[0;34m()\u001b[0m\n\u001b[1;32m     11\u001b[0m \u001b[0mobj1\u001b[0m\u001b[0;34m=\u001b[0m\u001b[0mvehical\u001b[0m\u001b[0;34m(\u001b[0m\u001b[0;34m)\u001b[0m\u001b[0;34m\u001b[0m\u001b[0;34m\u001b[0m\u001b[0m\n\u001b[1;32m     12\u001b[0m \u001b[0mobj1\u001b[0m\u001b[0;34m.\u001b[0m\u001b[0mdisp1\u001b[0m\u001b[0;34m(\u001b[0m\u001b[0;34m)\u001b[0m\u001b[0;34m\u001b[0m\u001b[0;34m\u001b[0m\u001b[0m\n\u001b[0;32m---> 13\u001b[0;31m \u001b[0mobj1\u001b[0m\u001b[0;34m.\u001b[0m\u001b[0mdisp2\u001b[0m\u001b[0;34m(\u001b[0m\u001b[0;34m)\u001b[0m\u001b[0;34m\u001b[0m\u001b[0;34m\u001b[0m\u001b[0m\n\u001b[0m\u001b[1;32m     14\u001b[0m \u001b[0mobj1\u001b[0m\u001b[0;34m.\u001b[0m\u001b[0mdisp3\u001b[0m\u001b[0;34m(\u001b[0m\u001b[0;34m)\u001b[0m\u001b[0;34m\u001b[0m\u001b[0;34m\u001b[0m\u001b[0m\n",
            "\u001b[0;31mAttributeError\u001b[0m: 'vehical' object has no attribute 'disp2'"
          ]
        }
      ]
    },
    {
      "cell_type": "code",
      "source": [
        "#hierarichial inheriterance\n",
        "class vehical:\n",
        "  def disp1(self):\n",
        "    print(\"vehical information\")\n",
        "class car(vehical):\n",
        "  def disp2(self):\n",
        "    print(\"car information\")\n",
        "class areoplane(vehical):\n",
        "  def disp3(self):\n",
        "    print(\"Areoplane information\")\n",
        "obj1=vehical()\n",
        "obj1.disp1()"
      ],
      "metadata": {
        "colab": {
          "base_uri": "https://localhost:8080/"
        },
        "id": "Zhv-VcvirRHK",
        "outputId": "36cc3d4c-309f-43ba-f4dd-0c9fc5e8eb52"
      },
      "execution_count": null,
      "outputs": [
        {
          "output_type": "stream",
          "name": "stdout",
          "text": [
            "vehical information\n"
          ]
        }
      ]
    },
    {
      "cell_type": "code",
      "source": [
        "obj2=car()\n",
        "obj2.disp2()"
      ],
      "metadata": {
        "colab": {
          "base_uri": "https://localhost:8080/"
        },
        "id": "DxgPxSogrZBf",
        "outputId": "27d09047-4874-4d53-fe77-1fc668a25683"
      },
      "execution_count": null,
      "outputs": [
        {
          "output_type": "stream",
          "name": "stdout",
          "text": [
            "car information\n"
          ]
        }
      ]
    },
    {
      "cell_type": "code",
      "source": [
        "obj2.disp1()"
      ],
      "metadata": {
        "colab": {
          "base_uri": "https://localhost:8080/"
        },
        "id": "YYlD_FLTrbRE",
        "outputId": "5d6fb96c-bc57-4d79-a3e1-ec20fb42faa3"
      },
      "execution_count": null,
      "outputs": [
        {
          "output_type": "stream",
          "name": "stdout",
          "text": [
            "vehical information\n"
          ]
        }
      ]
    },
    {
      "cell_type": "code",
      "source": [
        "obj2.disp3()"
      ],
      "metadata": {
        "colab": {
          "base_uri": "https://localhost:8080/",
          "height": 146
        },
        "id": "upq3ZFfGrcdr",
        "outputId": "0c8e9507-af90-42d2-b00a-e8e1719952ca"
      },
      "execution_count": null,
      "outputs": [
        {
          "output_type": "error",
          "ename": "AttributeError",
          "evalue": "'car' object has no attribute 'disp3'",
          "traceback": [
            "\u001b[0;31m---------------------------------------------------------------------------\u001b[0m",
            "\u001b[0;31mAttributeError\u001b[0m                            Traceback (most recent call last)",
            "\u001b[0;32m<ipython-input-525-90d9e1734828>\u001b[0m in \u001b[0;36m<cell line: 1>\u001b[0;34m()\u001b[0m\n\u001b[0;32m----> 1\u001b[0;31m \u001b[0mobj2\u001b[0m\u001b[0;34m.\u001b[0m\u001b[0mdisp3\u001b[0m\u001b[0;34m(\u001b[0m\u001b[0;34m)\u001b[0m\u001b[0;34m\u001b[0m\u001b[0;34m\u001b[0m\u001b[0m\n\u001b[0m",
            "\u001b[0;31mAttributeError\u001b[0m: 'car' object has no attribute 'disp3'"
          ]
        }
      ]
    },
    {
      "cell_type": "code",
      "source": [
        "obj3=areoplane()\n",
        "obj3.disp1()"
      ],
      "metadata": {
        "colab": {
          "base_uri": "https://localhost:8080/"
        },
        "id": "3FOjOU3Lrd9J",
        "outputId": "9a989bc2-5b5e-4025-a76d-893c61e5b484"
      },
      "execution_count": null,
      "outputs": [
        {
          "output_type": "stream",
          "name": "stdout",
          "text": [
            "vehical information\n"
          ]
        }
      ]
    },
    {
      "cell_type": "code",
      "source": [
        "obj3.disp2()"
      ],
      "metadata": {
        "colab": {
          "base_uri": "https://localhost:8080/",
          "height": 146
        },
        "id": "sg-buCH1re7P",
        "outputId": "f27a144a-477c-43af-c09f-dd2351d830d1"
      },
      "execution_count": null,
      "outputs": [
        {
          "output_type": "error",
          "ename": "AttributeError",
          "evalue": "'areoplane' object has no attribute 'disp2'",
          "traceback": [
            "\u001b[0;31m---------------------------------------------------------------------------\u001b[0m",
            "\u001b[0;31mAttributeError\u001b[0m                            Traceback (most recent call last)",
            "\u001b[0;32m<ipython-input-527-aba113b6ce38>\u001b[0m in \u001b[0;36m<cell line: 1>\u001b[0;34m()\u001b[0m\n\u001b[0;32m----> 1\u001b[0;31m \u001b[0mobj3\u001b[0m\u001b[0;34m.\u001b[0m\u001b[0mdisp2\u001b[0m\u001b[0;34m(\u001b[0m\u001b[0;34m)\u001b[0m\u001b[0;34m\u001b[0m\u001b[0;34m\u001b[0m\u001b[0m\n\u001b[0m",
            "\u001b[0;31mAttributeError\u001b[0m: 'areoplane' object has no attribute 'disp2'"
          ]
        }
      ]
    },
    {
      "cell_type": "code",
      "source": [
        "obj3.disp3()"
      ],
      "metadata": {
        "colab": {
          "base_uri": "https://localhost:8080/"
        },
        "id": "Xi37UXKTrg55",
        "outputId": "3417caac-8502-4532-cf4d-db8862338949"
      },
      "execution_count": null,
      "outputs": [
        {
          "output_type": "stream",
          "name": "stdout",
          "text": [
            "Areoplane information\n"
          ]
        }
      ]
    },
    {
      "cell_type": "code",
      "source": [
        "class vehical: #case 1\n",
        "  def disp1(self):\n",
        "    print(\"vehical information\")\n",
        "class car(vehical):\n",
        "  def disp2(self):\n",
        "    print(\"car information\")\n",
        "class areoplane(vehical):\n",
        "  def disp3(self):\n",
        "    print(\"Areoplane information\")\n",
        "obj=vehical()\n",
        "obj.disp1()\n",
        "\"\"\"obj.disp2() Will not be able to inherete\n",
        "obj.disp3()\"\"\""
      ],
      "metadata": {
        "colab": {
          "base_uri": "https://localhost:8080/",
          "height": 54
        },
        "id": "7MXe3xXmrgGt",
        "outputId": "5900f80f-ef06-44c7-e99f-3ef1cd13534f"
      },
      "execution_count": null,
      "outputs": [
        {
          "output_type": "stream",
          "name": "stdout",
          "text": [
            "vehical information\n"
          ]
        },
        {
          "output_type": "execute_result",
          "data": {
            "text/plain": [
              "'obj.disp2() Will not be able to inherete\\nobj.disp3()'"
            ],
            "application/vnd.google.colaboratory.intrinsic+json": {
              "type": "string"
            }
          },
          "metadata": {},
          "execution_count": 529
        }
      ]
    },
    {
      "cell_type": "code",
      "source": [
        "class vehical: #case 2\n",
        "  def disp1(self):\n",
        "    print(\"vehical information\")\n",
        "class car(vehical):\n",
        "  def disp2(self):\n",
        "    print(\"car information\")\n",
        "class areoplane(vehical):\n",
        "  def disp3(self):\n",
        "    print(\"Areoplane information\")\n",
        "obj1=car()\n",
        "obj1.disp1()\n",
        "obj1.disp2()\n",
        "#obj1.disp3() #will not be able to inherte"
      ],
      "metadata": {
        "colab": {
          "base_uri": "https://localhost:8080/"
        },
        "id": "EtQeM8yTrjqm",
        "outputId": "47251c19-a231-4fb4-8bf6-9cabaad124e5"
      },
      "execution_count": null,
      "outputs": [
        {
          "output_type": "stream",
          "name": "stdout",
          "text": [
            "vehical information\n",
            "car information\n"
          ]
        }
      ]
    },
    {
      "cell_type": "code",
      "source": [
        "class vehical: #case 2\n",
        "  def disp1(self):\n",
        "    print(\"vehical information\")\n",
        "class car(vehical):\n",
        "  def disp2(self):\n",
        "    print(\"car information\")\n",
        "class areoplane(vehical):\n",
        "  def disp3(self):\n",
        "    print(\"Areoplane information\")\n",
        "obj2=areoplane()\n",
        "obj2.disp1()\n",
        "#obj2.disp2() #will bot be able to inherate\n",
        "obj2.disp3()"
      ],
      "metadata": {
        "colab": {
          "base_uri": "https://localhost:8080/"
        },
        "id": "YmqVU5zarlt_",
        "outputId": "aa7cea2f-fd00-4e6b-e3db-739d956b3971"
      },
      "execution_count": null,
      "outputs": [
        {
          "output_type": "stream",
          "name": "stdout",
          "text": [
            "vehical information\n",
            "Areoplane information\n"
          ]
        }
      ]
    },
    {
      "cell_type": "code",
      "source": [
        "#multiple Inheriterance\n",
        "class parent1():\n",
        "  def m1(self):\n",
        "    print(\"Parent1 information\")\n",
        "class parent2():\n",
        "  def m2(self):\n",
        "    print(\"parent2 information\")\n",
        "class child(parent1,parent2):\n",
        "  def m3(self):\n",
        "    print(\"child Information\")\n",
        "obj=child()\n",
        "obj.m1()\n",
        "obj.m2()\n",
        "obj.m3()"
      ],
      "metadata": {
        "colab": {
          "base_uri": "https://localhost:8080/"
        },
        "id": "jayDxWmvrm_v",
        "outputId": "a611da40-a291-4554-9be8-0bba7fd2c2f2"
      },
      "execution_count": null,
      "outputs": [
        {
          "output_type": "stream",
          "name": "stdout",
          "text": [
            "Parent1 information\n",
            "parent2 information\n",
            "child Information\n"
          ]
        }
      ]
    },
    {
      "cell_type": "code",
      "source": [
        "class School:\n",
        "    def func1(self):\n",
        "        print(\"This function is in school.\")\n",
        "class Student1(School):\n",
        "    def func2(self):\n",
        "        print(\"This function is in student 1. \")\n",
        "class Student2(School):\n",
        "    def func3(self):\n",
        "        print(\"This function is in student 2.\")\n",
        "class Student3(Student2, School):\n",
        "    def func4(self):\n",
        "        print(\"This function is in student 3.\")\n",
        "object = Student3()\n",
        "object.func1()\n",
        "object.func3()"
      ],
      "metadata": {
        "colab": {
          "base_uri": "https://localhost:8080/"
        },
        "id": "BJkI_WmyroR_",
        "outputId": "1ee968fb-8f29-4d0c-f8ba-f5f82a0434e6"
      },
      "execution_count": null,
      "outputs": [
        {
          "output_type": "stream",
          "name": "stdout",
          "text": [
            "This function is in school.\n",
            "This function is in student 2.\n"
          ]
        }
      ]
    },
    {
      "cell_type": "code",
      "source": [
        "class person():\n",
        "  def __init__(self,fname,lname):\n",
        "    self.fname=fname\n",
        "    self.lname=lname\n",
        "class emp(person):\n",
        "  def __init__(self,fname,lname,eid):\n",
        "    self.fname=fname\n",
        "    self.lname=lname\n",
        "    self.eid=eid\n",
        "  def disp(self):\n",
        "    print(\"employee id number is:\",self.eid)\n",
        "    print(\"employee first name is:\",self.fname)\n",
        "    print(\"employee last name is:\",self.lname)\n",
        "obj=emp(\"sanad\",\"singh\",2457)\n",
        "obj.disp()"
      ],
      "metadata": {
        "colab": {
          "base_uri": "https://localhost:8080/"
        },
        "id": "ixi9Y4aFrpcs",
        "outputId": "397b5ae3-94c6-498d-9cb9-a07c81895194"
      },
      "execution_count": null,
      "outputs": [
        {
          "output_type": "stream",
          "name": "stdout",
          "text": [
            "employee id number is: 2457\n",
            "employee first name is: sanad\n",
            "employee last name is: singh\n"
          ]
        }
      ]
    },
    {
      "cell_type": "code",
      "source": [
        "class person(): #use of super function\n",
        "  def __init__(self,fname,lname):\n",
        "    self.fname=fname\n",
        "    self.lname=lname\n",
        "class emp(person):\n",
        "  def __init__(self,fname,lname,eid):\n",
        "    #self.fname=fname\n",
        "    #self.lname=lname\n",
        "    super().__init__(fname,lname)\n",
        "    self.eid=eid\n",
        "  def disp(self):\n",
        "    print(\"employee id number is:\",self.eid)\n",
        "    print(\"employee first name is:\",self.fname)\n",
        "    print(\"employee last name is:\",self.lname)\n",
        "obj=emp(\"sanad\",\"singh\",2457)\n",
        "obj.disp()"
      ],
      "metadata": {
        "colab": {
          "base_uri": "https://localhost:8080/"
        },
        "id": "Guv75xYHrq3i",
        "outputId": "78f26b76-0c36-4899-bded-138ac4eac5bc"
      },
      "execution_count": null,
      "outputs": [
        {
          "output_type": "stream",
          "name": "stdout",
          "text": [
            "employee id number is: 2457\n",
            "employee first name is: sanad\n",
            "employee last name is: singh\n"
          ]
        }
      ]
    },
    {
      "cell_type": "code",
      "source": [
        "class person():\n",
        "  def __init__(self,fname,lname):\n",
        "    self.fname=fname\n",
        "    self.lname=lname\n",
        "class emp(person):\n",
        "  def __init__(self,fname,lname,eid):\n",
        "    #self.fname=fname\n",
        "    #self.lname=lname\n",
        "    #super().__init__(fname,lname)\n",
        "    person.__init__(self,fname,lname) #use of parent class.\n",
        "    self.eid=eid\n",
        "  def disp(self):\n",
        "    print(\"employee id number is:\",self.eid)\n",
        "    print(\"employee first name is:\",self.fname)\n",
        "    print(\"employee last name is:\",self.lname)\n",
        "obj=emp(\"sanad\",\"singh\",2457)\n",
        "obj.disp()"
      ],
      "metadata": {
        "colab": {
          "base_uri": "https://localhost:8080/"
        },
        "id": "PruujM7grsSa",
        "outputId": "24572773-92ac-42e3-e8fc-b6e6bb21f8ef"
      },
      "execution_count": null,
      "outputs": [
        {
          "output_type": "stream",
          "name": "stdout",
          "text": [
            "employee id number is: 2457\n",
            "employee first name is: sanad\n",
            "employee last name is: singh\n"
          ]
        }
      ]
    },
    {
      "cell_type": "code",
      "source": [
        "class Mammal():\n",
        "  def __init__(self, mName):\n",
        "    print(mName, 'is a warm-blooded animal.')\n",
        "class Dog(Mammal):\n",
        "  def __init__(self):\n",
        "    print('Dog has four legs.')\n",
        "    super().__init__('Dog') #use of super keyword in single level inheritance.\n",
        "d1 = Dog()"
      ],
      "metadata": {
        "colab": {
          "base_uri": "https://localhost:8080/"
        },
        "id": "yH47LV60ruEE",
        "outputId": "916e5350-a37b-40ec-c86f-f3e6d1ec93f3"
      },
      "execution_count": null,
      "outputs": [
        {
          "output_type": "stream",
          "name": "stdout",
          "text": [
            "Dog has four legs.\n",
            "Dog is a warm-blooded animal.\n"
          ]
        }
      ]
    },
    {
      "cell_type": "markdown",
      "source": [
        "# **Abstract Class**\n",
        "\n",
        "- An abstract class can be considered a blueprint for other classes.\n",
        "- It allows you to create a set of methods that must be created within any child classes built from the abstract class.\n",
        "\n",
        "- A class that contains one or more abstract methods is called an abstract class.\n",
        "- An abstract method is a method that has a declaration but does not have an implementation.\n",
        "\n",
        "- We use an abstract class while we are designing large functional units or when we want to provide a common interface for different implementations of a component.\n",
        "\n",
        "# **Abstract Base Classes in Python**\n",
        "\n",
        "- By defining an abstract base class, you can define a common Application Program Interface(API) for a set of subclasses.\n",
        "- This capability is especially useful in situations where a third party is going to provide implementations, such as with plugins, but can also help you when working in a large team or with a large code base where keeping all classes in your mind is difficult or not possible."
      ],
      "metadata": {
        "id": "9j5L9KFPry3m"
      }
    },
    {
      "cell_type": "code",
      "source": [
        "import abc\n",
        "\n",
        "class dataloves :\n",
        "\n",
        "    @abc.abstractmethod\n",
        "    def student_details(self):\n",
        "        pass\n",
        "\n",
        "    @abc.abstractmethod\n",
        "    def student_assignment(self):\n",
        "        pass\n",
        "\n",
        "\n",
        "    @abc.abstractmethod\n",
        "    def student_marks(self):\n",
        "        pass"
      ],
      "metadata": {
        "id": "P_pbjKTkrvXY"
      },
      "execution_count": null,
      "outputs": []
    },
    {
      "cell_type": "code",
      "source": [
        "class data_science(dataloves):\n",
        "\n",
        "    def student_details(self):\n",
        "        return \"it will try to return a details of data science masters \"\n",
        "\n",
        "    def student_assignment(self):\n",
        "        return \"it will return a details of student assignemnt for data science masters \""
      ],
      "metadata": {
        "id": "BakbAbMbr3Oo"
      },
      "execution_count": null,
      "outputs": []
    },
    {
      "cell_type": "code",
      "source": [
        "class web_dev(dataloves):\n",
        "     def student_details(self):\n",
        "            return \"this will retrun a detils of web dev \"\n",
        "\n",
        "\n",
        "     def student_marks(self):\n",
        "             return \"this will return a makrs of web dev class\""
      ],
      "metadata": {
        "id": "KtzyWFKYr5HM"
      },
      "execution_count": null,
      "outputs": []
    },
    {
      "cell_type": "code",
      "source": [
        "ds = data_science()\n",
        "ds.student_details()"
      ],
      "metadata": {
        "colab": {
          "base_uri": "https://localhost:8080/",
          "height": 36
        },
        "id": "9LH9zjUwr--Y",
        "outputId": "fa44e484-0299-45a6-ba6a-d549e047044b"
      },
      "execution_count": null,
      "outputs": [
        {
          "output_type": "execute_result",
          "data": {
            "text/plain": [
              "'it will try to return a details of data science masters '"
            ],
            "application/vnd.google.colaboratory.intrinsic+json": {
              "type": "string"
            }
          },
          "metadata": {},
          "execution_count": 542
        }
      ]
    },
    {
      "cell_type": "code",
      "source": [
        "wb = web_dev()\n",
        "wb.student_details()"
      ],
      "metadata": {
        "colab": {
          "base_uri": "https://localhost:8080/",
          "height": 36
        },
        "id": "GVgxoudssAvi",
        "outputId": "edcacbde-aee1-4071-e5a5-43ef738e9438"
      },
      "execution_count": null,
      "outputs": [
        {
          "output_type": "execute_result",
          "data": {
            "text/plain": [
              "'this will retrun a detils of web dev '"
            ],
            "application/vnd.google.colaboratory.intrinsic+json": {
              "type": "string"
            }
          },
          "metadata": {},
          "execution_count": 543
        }
      ]
    },
    {
      "cell_type": "code",
      "source": [
        "from abc import abstractmethod #method 1 abc=package or module that is predefined ABC is parent class\n",
        "from abc import ABC,abstractmethod #method 2\n",
        "class person(ABC):\n",
        "  def m1(self):\n",
        "    pass\n",
        "class tcs(person):\n",
        "  def eat(self):\n",
        "    print(\"tcs  eat 5 employe\")\n",
        "class ibm(person):\n",
        "  def eat(self):\n",
        "    print(\"ibm eat 50 emolye\")\n",
        "obj=ibm()\n",
        "obj.eat()\n",
        "obj=tcs()\n",
        "obj.eat()"
      ],
      "metadata": {
        "colab": {
          "base_uri": "https://localhost:8080/"
        },
        "id": "9VECNSL7uAxf",
        "outputId": "b5f16369-30d5-4459-9a6c-e0c071ae462b"
      },
      "execution_count": null,
      "outputs": [
        {
          "output_type": "stream",
          "name": "stdout",
          "text": [
            "ibm eat 50 emolye\n",
            "tcs  eat 5 employe\n"
          ]
        }
      ]
    },
    {
      "cell_type": "code",
      "source": [
        "from abc import ABC,abstractmethod\n",
        "class A(ABC):\n",
        "  @abstractmethod\n",
        "  def disp1(self):\n",
        "    pass\n",
        "  @abstractmethod\n",
        "  def disp2(self):\n",
        "    pass\n",
        "class himanshu(A):\n",
        "  def disp1(self):\n",
        "    print(\"disp1 implimentation\")\n",
        "  def disp2(self):\n",
        "     print(\"kokok\")\n",
        "obj=himanshu()\n",
        "obj.disp2()\n",
        "obj.disp1()"
      ],
      "metadata": {
        "colab": {
          "base_uri": "https://localhost:8080/"
        },
        "id": "PzRN3gS5uA9A",
        "outputId": "0b9bad8d-8fd9-49b0-e154-aeecd4a610e2"
      },
      "execution_count": null,
      "outputs": [
        {
          "output_type": "stream",
          "name": "stdout",
          "text": [
            "kokok\n",
            "disp1 implimentation\n"
          ]
        }
      ]
    },
    {
      "cell_type": "code",
      "source": [
        "class my:\n",
        "  def __disp1(self):\n",
        "    print(\"my self veer\")\n",
        "  def disp2(disp1):\n",
        "    print(\"follow me please\")\n",
        "obj=my()\n",
        "obj.disp2()\n",
        "#obj.disp1() not able to fetch disp1 because its secure"
      ],
      "metadata": {
        "colab": {
          "base_uri": "https://localhost:8080/"
        },
        "id": "dK2LN3sduBFP",
        "outputId": "0b97f24d-f88b-4247-ded0-b79a40021c4e"
      },
      "execution_count": null,
      "outputs": [
        {
          "output_type": "stream",
          "name": "stdout",
          "text": [
            "follow me please\n"
          ]
        }
      ]
    },
    {
      "cell_type": "code",
      "source": [
        "from abc import ABC,abstractmethod\n",
        "class BMW(ABC):\n",
        "  @abstractmethod\n",
        "  def disp(self):\n",
        "    pass\n",
        "class X3(BMW):\n",
        "  def disp(self):\n",
        "    print(\"very good design\")\n",
        "obj1=BMW()\n",
        "obj1.disp()"
      ],
      "metadata": {
        "colab": {
          "base_uri": "https://localhost:8080/",
          "height": 201
        },
        "id": "3WxRJR5fuGmw",
        "outputId": "2f45617e-548a-422b-9122-9744c2dd8d5e"
      },
      "execution_count": null,
      "outputs": [
        {
          "output_type": "error",
          "ename": "TypeError",
          "evalue": "Can't instantiate abstract class BMW with abstract method disp",
          "traceback": [
            "\u001b[0;31m---------------------------------------------------------------------------\u001b[0m",
            "\u001b[0;31mTypeError\u001b[0m                                 Traceback (most recent call last)",
            "\u001b[0;32m<ipython-input-571-8fd965a8d78c>\u001b[0m in \u001b[0;36m<cell line: 9>\u001b[0;34m()\u001b[0m\n\u001b[1;32m      7\u001b[0m   \u001b[0;32mdef\u001b[0m \u001b[0mdisp\u001b[0m\u001b[0;34m(\u001b[0m\u001b[0mself\u001b[0m\u001b[0;34m)\u001b[0m\u001b[0;34m:\u001b[0m\u001b[0;34m\u001b[0m\u001b[0;34m\u001b[0m\u001b[0m\n\u001b[1;32m      8\u001b[0m     \u001b[0mprint\u001b[0m\u001b[0;34m(\u001b[0m\u001b[0;34m\"very good design\"\u001b[0m\u001b[0;34m)\u001b[0m\u001b[0;34m\u001b[0m\u001b[0;34m\u001b[0m\u001b[0m\n\u001b[0;32m----> 9\u001b[0;31m \u001b[0mobj1\u001b[0m\u001b[0;34m=\u001b[0m\u001b[0mBMW\u001b[0m\u001b[0;34m(\u001b[0m\u001b[0;34m)\u001b[0m\u001b[0;34m\u001b[0m\u001b[0;34m\u001b[0m\u001b[0m\n\u001b[0m\u001b[1;32m     10\u001b[0m \u001b[0mobj1\u001b[0m\u001b[0;34m.\u001b[0m\u001b[0mdisp\u001b[0m\u001b[0;34m(\u001b[0m\u001b[0;34m)\u001b[0m\u001b[0;34m\u001b[0m\u001b[0;34m\u001b[0m\u001b[0m\n",
            "\u001b[0;31mTypeError\u001b[0m: Can't instantiate abstract class BMW with abstract method disp"
          ]
        }
      ]
    },
    {
      "cell_type": "code",
      "source": [
        "obj2=X3()\n",
        "obj2.disp()"
      ],
      "metadata": {
        "colab": {
          "base_uri": "https://localhost:8080/"
        },
        "id": "3FwBIIg4uGvc",
        "outputId": "d2bcf863-5512-4149-d790-b4970df6eea8"
      },
      "execution_count": null,
      "outputs": [
        {
          "output_type": "stream",
          "name": "stdout",
          "text": [
            "very good design\n"
          ]
        }
      ]
    },
    {
      "cell_type": "markdown",
      "source": [
        "# **Encapsulation in Python**\n",
        "\n",
        "- Encapsulation is one of the fundamental concepts in object-oriented programming (OOP). It describes the idea of wrapping data and the methods that work on data within one unit.\n",
        "- This puts restrictions on accessing variables and methods directly and can prevent the accidental modification of data.\n",
        "- To prevent accidental change, an object’s variable can only be changed by an object’s method. Those types of variables are known as private variables.\n",
        "- A class is an example of encapsulation as it encapsulates all the data that is member functions, variables, etc.\n",
        "- The goal of information hiding is to ensure that an object’s state is always valid by controlling access to attributes that are hidden from the outside world."
      ],
      "metadata": {
        "id": "aJkvibQcsrMt"
      }
    },
    {
      "cell_type": "code",
      "source": [
        "class test :\n",
        "    def __init__(self , a,b ) :\n",
        "        self.a = a\n",
        "        self.b = b"
      ],
      "metadata": {
        "id": "y4IjDO7esCOi"
      },
      "execution_count": null,
      "outputs": []
    },
    {
      "cell_type": "code",
      "source": [
        "t = test(45,56)"
      ],
      "metadata": {
        "id": "TYH2MRjLs5Rf"
      },
      "execution_count": null,
      "outputs": []
    },
    {
      "cell_type": "code",
      "source": [
        "print(t.a)\n",
        "t.b"
      ],
      "metadata": {
        "colab": {
          "base_uri": "https://localhost:8080/"
        },
        "id": "vm7NV_ccs6SM",
        "outputId": "c9c4407f-58c7-4cbc-e02a-9fc78e19d3e2"
      },
      "execution_count": null,
      "outputs": [
        {
          "output_type": "stream",
          "name": "stdout",
          "text": [
            "45\n"
          ]
        },
        {
          "output_type": "execute_result",
          "data": {
            "text/plain": [
              "56"
            ]
          },
          "metadata": {},
          "execution_count": 546
        }
      ]
    },
    {
      "cell_type": "code",
      "source": [
        "t.a = 3243\n",
        "print(t.a)"
      ],
      "metadata": {
        "colab": {
          "base_uri": "https://localhost:8080/"
        },
        "id": "eWSA8smRs7Tx",
        "outputId": "270718bc-5fb6-4c8d-dc8c-5a298a7dcae7"
      },
      "execution_count": null,
      "outputs": [
        {
          "output_type": "stream",
          "name": "stdout",
          "text": [
            "3243\n"
          ]
        }
      ]
    },
    {
      "cell_type": "code",
      "source": [
        "class bank_acount:\n",
        "\n",
        "    def __init__(self , balance ):\n",
        "        self.__balance = balance\n",
        "\n",
        "    def deposit(self , amount ) :\n",
        "        self.__balance = self.__balance + amount\n",
        "\n",
        "    def withdraw(self , amount) :\n",
        "        if self.__balance >= amount :\n",
        "            self.__balance = self.__balance -amount\n",
        "            return True\n",
        "        else :\n",
        "            return False\n",
        "\n",
        "    def get_balance(self) :\n",
        "        return self.__balance\n",
        "obj_bank_account = bank_acount(1000)\n",
        "obj_bank_account.get_balance()"
      ],
      "metadata": {
        "colab": {
          "base_uri": "https://localhost:8080/"
        },
        "id": "6TLFEKOks9ip",
        "outputId": "9678f0b3-969c-45df-f933-f560ebe68f1b"
      },
      "execution_count": null,
      "outputs": [
        {
          "output_type": "execute_result",
          "data": {
            "text/plain": [
              "1000"
            ]
          },
          "metadata": {},
          "execution_count": 548
        }
      ]
    },
    {
      "cell_type": "code",
      "source": [
        "obj_bank_account.deposit(6000)"
      ],
      "metadata": {
        "id": "Z5u1xXUetCPt"
      },
      "execution_count": null,
      "outputs": []
    },
    {
      "cell_type": "code",
      "source": [
        "obj_bank_account.get_balance()"
      ],
      "metadata": {
        "colab": {
          "base_uri": "https://localhost:8080/"
        },
        "id": "BvGYcqpCtEpF",
        "outputId": "2ae28a4f-b4a6-4fc4-b52b-e3ee0fb38292"
      },
      "execution_count": null,
      "outputs": [
        {
          "output_type": "execute_result",
          "data": {
            "text/plain": [
              "7000"
            ]
          },
          "metadata": {},
          "execution_count": 550
        }
      ]
    },
    {
      "cell_type": "code",
      "source": [
        "obj_bank_account.withdraw(10000)"
      ],
      "metadata": {
        "colab": {
          "base_uri": "https://localhost:8080/"
        },
        "id": "Cm2mqfh4tFx8",
        "outputId": "0d55ab2d-dcf9-4e13-9202-24fe7ad6f3dc"
      },
      "execution_count": null,
      "outputs": [
        {
          "output_type": "execute_result",
          "data": {
            "text/plain": [
              "False"
            ]
          },
          "metadata": {},
          "execution_count": 551
        }
      ]
    },
    {
      "cell_type": "code",
      "source": [
        "obj_bank_account.withdraw(2000)"
      ],
      "metadata": {
        "colab": {
          "base_uri": "https://localhost:8080/"
        },
        "id": "PTys4TKGtGvK",
        "outputId": "1c12e511-5390-486a-e3ca-a18c9407cee7"
      },
      "execution_count": null,
      "outputs": [
        {
          "output_type": "execute_result",
          "data": {
            "text/plain": [
              "True"
            ]
          },
          "metadata": {},
          "execution_count": 552
        }
      ]
    },
    {
      "cell_type": "code",
      "source": [
        "obj_bank_account.get_balance()"
      ],
      "metadata": {
        "colab": {
          "base_uri": "https://localhost:8080/"
        },
        "id": "KmC6eXSOtHv5",
        "outputId": "bc3494f9-ff3e-48e4-f175-0a04e1b116b0"
      },
      "execution_count": null,
      "outputs": [
        {
          "output_type": "execute_result",
          "data": {
            "text/plain": [
              "5000"
            ]
          },
          "metadata": {},
          "execution_count": 553
        }
      ]
    },
    {
      "cell_type": "markdown",
      "source": [
        "# **Polymorphism in Python**\n",
        "\n",
        "- The word polymorphism means having many forms. In programming, polymorphism means the same function name (but different signatures) being used for different types.\n",
        "- The key difference is the data types and number of arguments used in function."
      ],
      "metadata": {
        "id": "IopUIA2ktQEN"
      }
    },
    {
      "cell_type": "code",
      "source": [
        "def test(a,b) :\n",
        "    return a+b"
      ],
      "metadata": {
        "id": "ixDjpUtLtI7F"
      },
      "execution_count": null,
      "outputs": []
    },
    {
      "cell_type": "code",
      "source": [
        "test(4,5)"
      ],
      "metadata": {
        "colab": {
          "base_uri": "https://localhost:8080/"
        },
        "id": "R5vFls26tYDD",
        "outputId": "c5b38271-8f15-43f1-e476-e71c9d0cc0a6"
      },
      "execution_count": null,
      "outputs": [
        {
          "output_type": "execute_result",
          "data": {
            "text/plain": [
              "9"
            ]
          },
          "metadata": {},
          "execution_count": 555
        }
      ]
    },
    {
      "cell_type": "code",
      "source": [
        "test(\"sanad\" , \"kumar\")"
      ],
      "metadata": {
        "colab": {
          "base_uri": "https://localhost:8080/",
          "height": 36
        },
        "id": "ZBgtqz-NtY6H",
        "outputId": "cdcef474-3333-4639-b5e9-f6a0ca9911c7"
      },
      "execution_count": null,
      "outputs": [
        {
          "output_type": "execute_result",
          "data": {
            "text/plain": [
              "'sanadkumar'"
            ],
            "application/vnd.google.colaboratory.intrinsic+json": {
              "type": "string"
            }
          },
          "metadata": {},
          "execution_count": 556
        }
      ]
    },
    {
      "cell_type": "code",
      "source": [
        "test([2,3,4,5,5] , [4,5,6,7])"
      ],
      "metadata": {
        "colab": {
          "base_uri": "https://localhost:8080/"
        },
        "id": "wyg8qZMAtZyW",
        "outputId": "63e5f594-35dd-414c-9eff-ce79edfe164d"
      },
      "execution_count": null,
      "outputs": [
        {
          "output_type": "execute_result",
          "data": {
            "text/plain": [
              "[2, 3, 4, 5, 5, 4, 5, 6, 7]"
            ]
          },
          "metadata": {},
          "execution_count": 557
        }
      ]
    },
    {
      "cell_type": "code",
      "source": [
        "class data_science:\n",
        "    def syllabus(self) :\n",
        "        print(\"this is my method for data science syllbaus \" )"
      ],
      "metadata": {
        "id": "GNl7Jtzxta4v"
      },
      "execution_count": null,
      "outputs": []
    },
    {
      "cell_type": "code",
      "source": [
        "class web_dev :\n",
        "    def syllabus(self) :\n",
        "        print(\"this is my method for web dev \" )"
      ],
      "metadata": {
        "id": "HQYpeSpGtcXC"
      },
      "execution_count": null,
      "outputs": []
    },
    {
      "cell_type": "code",
      "source": [
        "def class_parcer(class_obj) :\n",
        "    for i in class_obj :\n",
        "        i.syllabus()"
      ],
      "metadata": {
        "id": "0jNDEWRHtdW8"
      },
      "execution_count": null,
      "outputs": []
    },
    {
      "cell_type": "code",
      "source": [
        "obj_data_science= data_science()"
      ],
      "metadata": {
        "id": "EvRRyRr9thR1"
      },
      "execution_count": null,
      "outputs": []
    },
    {
      "cell_type": "code",
      "source": [
        "obj_web_dev = web_dev()"
      ],
      "metadata": {
        "id": "SmZ9Ev4vtiPo"
      },
      "execution_count": null,
      "outputs": []
    },
    {
      "cell_type": "code",
      "source": [
        "class_ojb = [obj_data_science , obj_web_dev]"
      ],
      "metadata": {
        "id": "5DIbnuxItjPD"
      },
      "execution_count": null,
      "outputs": []
    },
    {
      "cell_type": "code",
      "source": [
        "class_parcer(class_ojb)"
      ],
      "metadata": {
        "colab": {
          "base_uri": "https://localhost:8080/"
        },
        "id": "wGUWF159tkX0",
        "outputId": "0d084fb1-82ca-488b-88dd-4642401fa245"
      },
      "execution_count": null,
      "outputs": [
        {
          "output_type": "stream",
          "name": "stdout",
          "text": [
            "this is my method for data science syllbaus \n",
            "this is my method for web dev \n"
          ]
        }
      ]
    },
    {
      "cell_type": "code",
      "source": [],
      "metadata": {
        "id": "-UeZCB6ZtlWz"
      },
      "execution_count": null,
      "outputs": []
    }
  ]
}