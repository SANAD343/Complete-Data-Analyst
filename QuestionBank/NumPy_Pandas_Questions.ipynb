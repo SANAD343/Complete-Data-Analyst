{
  "nbformat": 4,
  "nbformat_minor": 0,
  "metadata": {
    "colab": {
      "provenance": []
    },
    "kernelspec": {
      "name": "python3",
      "display_name": "Python 3"
    },
    "language_info": {
      "name": "python"
    }
  },
  "cells": [
    {
      "cell_type": "markdown",
      "source": [
        "# **NumPy Questions**\n",
        "\n",
        "## Question 1: Array Creation and Manipulation\n",
        "\n",
        "1. Create a NumPy array of shape (5, 5) filled with random integers between 1 and 20. Replace all the elements in the third column with 1.\n",
        "\n",
        "2. Create a NumPy array of shape (4, 4) with values from 1 to 16. Replace the diagonal elements with 0."
      ],
      "metadata": {
        "id": "HbnBm39TcIgS"
      }
    },
    {
      "cell_type": "code",
      "execution_count": 1,
      "metadata": {
        "colab": {
          "base_uri": "https://localhost:8080/"
        },
        "id": "GiZCV38QbncY",
        "outputId": "db143b06-1bfe-42af-86c6-afa75e31374c"
      },
      "outputs": [
        {
          "output_type": "stream",
          "name": "stdout",
          "text": [
            "Original array:\n",
            "[[19  4  9 13  3]\n",
            " [20  4 13 17 14]\n",
            " [10  2  4 20  5]\n",
            " [18  1 15  9  8]\n",
            " [12  7  8 20  8]]\n",
            "Modified array:\n",
            "[[19  4  1 13  3]\n",
            " [20  4  1 17 14]\n",
            " [10  2  1 20  5]\n",
            " [18  1  1  9  8]\n",
            " [12  7  1 20  8]]\n"
          ]
        }
      ],
      "source": [
        "import numpy as np\n",
        "\n",
        "# Create a NumPy array of shape (5, 5) filled with random integers\n",
        "\n",
        "array = np.random.randint(1, 21, size=(5, 5))\n",
        "print(\"Original array:\")\n",
        "print(array)\n",
        "\n",
        "# Replace all the elements in the third column with 1\n",
        "\n",
        "array[:, 2] = 1\n",
        "print(\"Modified array:\")\n",
        "print(array)"
      ]
    },
    {
      "cell_type": "code",
      "source": [
        "# Create a NumPy array of shape (4, 4) with values from 1 to 16\n",
        "array = np.arange(1, 17).reshape((4, 4))\n",
        "print(\"Original array:\")\n",
        "print(array)\n",
        "\n",
        "# Replace the diagonal elements with 0\n",
        "np.fill_diagonal(array, 0)\n",
        "print(\"Modified array:\")\n",
        "print(array)"
      ],
      "metadata": {
        "colab": {
          "base_uri": "https://localhost:8080/"
        },
        "id": "_fEpgBT_cdZa",
        "outputId": "3d7ee36f-550e-4dc0-c8fb-9cb4575f2690"
      },
      "execution_count": 2,
      "outputs": [
        {
          "output_type": "stream",
          "name": "stdout",
          "text": [
            "Original array:\n",
            "[[ 1  2  3  4]\n",
            " [ 5  6  7  8]\n",
            " [ 9 10 11 12]\n",
            " [13 14 15 16]]\n",
            "Modified array:\n",
            "[[ 0  2  3  4]\n",
            " [ 5  0  7  8]\n",
            " [ 9 10  0 12]\n",
            " [13 14 15  0]]\n"
          ]
        }
      ]
    },
    {
      "cell_type": "markdown",
      "source": [
        "### Question 2: Array Indexing and Slicing\n",
        "\n",
        "1. Create a NumPy array of shape (6, 6) with values from 1 to 36. Extract the sub-array consisting of the 3rd to 5th rows and 2nd to 4th columns.\n",
        "\n",
        "2. Create a NumPy array of shape (5, 5) with random integers. Extract the elements on the border."
      ],
      "metadata": {
        "id": "rTpbigLQck1h"
      }
    },
    {
      "cell_type": "code",
      "source": [
        "# Create a NumPy array of shape (6, 6) with values from 1 to 36\n",
        "array = np.arange(1, 37).reshape((6, 6))\n",
        "print(\"Original array:\")\n",
        "print(array)\n",
        "\n",
        "# Extract the sub-array\n",
        "sub_array = array[2:5, 1:4]\n",
        "print(\"Sub-array:\")\n",
        "print(sub_array)"
      ],
      "metadata": {
        "colab": {
          "base_uri": "https://localhost:8080/"
        },
        "id": "hvXC4Omgcix5",
        "outputId": "12409400-ea6f-413f-d477-1b27bccd1384"
      },
      "execution_count": 3,
      "outputs": [
        {
          "output_type": "stream",
          "name": "stdout",
          "text": [
            "Original array:\n",
            "[[ 1  2  3  4  5  6]\n",
            " [ 7  8  9 10 11 12]\n",
            " [13 14 15 16 17 18]\n",
            " [19 20 21 22 23 24]\n",
            " [25 26 27 28 29 30]\n",
            " [31 32 33 34 35 36]]\n",
            "Sub-array:\n",
            "[[14 15 16]\n",
            " [20 21 22]\n",
            " [26 27 28]]\n"
          ]
        }
      ]
    },
    {
      "cell_type": "code",
      "source": [
        "# Create a NumPy array of shape (5, 5) with random integers\n",
        "array = np.random.randint(1, 21, size=(5, 5))\n",
        "print(\"Original array:\")\n",
        "print(array)\n",
        "\n",
        "# Extract the elements on the border\n",
        "border_elements = np.concatenate((array[0, :], array[-1, :], array[1:-1, 0], array[1:-1, -1]))\n",
        "print(\"Border elements:\")\n",
        "print(border_elements)"
      ],
      "metadata": {
        "colab": {
          "base_uri": "https://localhost:8080/"
        },
        "id": "BuKGrcVVcpWP",
        "outputId": "2d86f744-2c2a-4830-9343-df021bd94fce"
      },
      "execution_count": 4,
      "outputs": [
        {
          "output_type": "stream",
          "name": "stdout",
          "text": [
            "Original array:\n",
            "[[16 10  1 20  8]\n",
            " [11 17 20 17 14]\n",
            " [ 9 19 14 20  2]\n",
            " [11 15 17  9  8]\n",
            " [16  6 13 14  9]]\n",
            "Border elements:\n",
            "[16 10  1 20  8 16  6 13 14  9 11  9 11 14  2  8]\n"
          ]
        }
      ]
    },
    {
      "cell_type": "markdown",
      "source": [
        "### Question 3: Array Operations\n",
        "\n",
        "1. Create two NumPy arrays of shape (3, 4) filled with random integers. Perform element-wise addition, subtraction, multiplication, and division.\n",
        "\n",
        "2. Create a NumPy array of shape (4, 4) with values from 1 to 16. Compute the row-wise and column-wise sum."
      ],
      "metadata": {
        "id": "ATAK1WSIcs3M"
      }
    },
    {
      "cell_type": "code",
      "source": [
        "# Create two NumPy arrays of shape (3, 4) filled with random integers\n",
        "array1 = np.random.randint(1, 11, size=(3, 4))\n",
        "array2 = np.random.randint(1, 11, size=(3, 4))\n",
        "print(\"Array 1:\")\n",
        "print(array1)\n",
        "print(\"Array 2:\")\n",
        "print(array2)\n",
        "\n",
        "# Perform element-wise operations\n",
        "addition = array1 + array2\n",
        "subtraction = array1 - array2\n",
        "multiplication = array1 * array2\n",
        "division = array1 / array2\n",
        "\n",
        "print(\"Element-wise addition:\")\n",
        "print(addition)\n",
        "print(\"Element-wise subtraction:\")\n",
        "print(subtraction)\n",
        "print(\"Element-wise multiplication:\")\n",
        "print(multiplication)\n",
        "print(\"Element-wise division:\")\n",
        "print(division)"
      ],
      "metadata": {
        "colab": {
          "base_uri": "https://localhost:8080/"
        },
        "id": "-TaR5OU3cqmM",
        "outputId": "f5fec9ef-6dc2-43ca-90c6-1e2708c4cc71"
      },
      "execution_count": 5,
      "outputs": [
        {
          "output_type": "stream",
          "name": "stdout",
          "text": [
            "Array 1:\n",
            "[[ 5  2  3  7]\n",
            " [ 6  7  8  2]\n",
            " [ 2  1 10  3]]\n",
            "Array 2:\n",
            "[[ 8  2  4  3]\n",
            " [ 4 10  6  6]\n",
            " [ 5  3  7  9]]\n",
            "Element-wise addition:\n",
            "[[13  4  7 10]\n",
            " [10 17 14  8]\n",
            " [ 7  4 17 12]]\n",
            "Element-wise subtraction:\n",
            "[[-3  0 -1  4]\n",
            " [ 2 -3  2 -4]\n",
            " [-3 -2  3 -6]]\n",
            "Element-wise multiplication:\n",
            "[[40  4 12 21]\n",
            " [24 70 48 12]\n",
            " [10  3 70 27]]\n",
            "Element-wise division:\n",
            "[[0.625      1.         0.75       2.33333333]\n",
            " [1.5        0.7        1.33333333 0.33333333]\n",
            " [0.4        0.33333333 1.42857143 0.33333333]]\n"
          ]
        }
      ]
    },
    {
      "cell_type": "code",
      "source": [
        "# Create a NumPy array of shape (4, 4) with values from 1 to 16\n",
        "array = np.arange(1, 17).reshape((4, 4))\n",
        "print(\"Original array:\")\n",
        "print(array)\n",
        "\n",
        "# Compute the row-wise and column-wise sum\n",
        "row_sum = np.sum(array, axis=1)\n",
        "column_sum = np.sum(array, axis=0)\n",
        "\n",
        "print(\"Row-wise sum:\")\n",
        "print(row_sum)\n",
        "print(\"Column-wise sum:\")\n",
        "print(column_sum)"
      ],
      "metadata": {
        "colab": {
          "base_uri": "https://localhost:8080/"
        },
        "id": "bqGNyyeFczIm",
        "outputId": "ca1f270a-9374-41b5-e7ab-9827c0d2821f"
      },
      "execution_count": 6,
      "outputs": [
        {
          "output_type": "stream",
          "name": "stdout",
          "text": [
            "Original array:\n",
            "[[ 1  2  3  4]\n",
            " [ 5  6  7  8]\n",
            " [ 9 10 11 12]\n",
            " [13 14 15 16]]\n",
            "Row-wise sum:\n",
            "[10 26 42 58]\n",
            "Column-wise sum:\n",
            "[28 32 36 40]\n"
          ]
        }
      ]
    },
    {
      "cell_type": "markdown",
      "source": [
        "### Question 4: Statistical Operations\n",
        "\n",
        "1. Create a NumPy array of shape (5, 5) filled with random integers. Compute the mean, median, standard deviation, and variance of the array.\n",
        "\n",
        "2. Create a NumPy array of shape (3, 3) with values from 1 to 9. Normalize the array (i.e., scale the values to have a mean of 0 and a standard deviation of 1)."
      ],
      "metadata": {
        "id": "k16m8arqc2OH"
      }
    },
    {
      "cell_type": "code",
      "source": [
        "# Create a NumPy array of shape (5, 5) filled with random integers\n",
        "array = np.random.randint(1, 21, size=(5, 5))\n",
        "print(\"Original array:\")\n",
        "print(array)\n",
        "\n",
        "# Compute the statistical values\n",
        "mean = np.mean(array)\n",
        "median = np.median(array)\n",
        "std_dev = np.std(array)\n",
        "variance = np.var(array)\n",
        "\n",
        "print(\"Mean:\", mean)\n",
        "print(\"Median:\", median)\n",
        "print(\"Standard Deviation:\", std_dev)\n",
        "print(\"Variance:\", variance)"
      ],
      "metadata": {
        "colab": {
          "base_uri": "https://localhost:8080/"
        },
        "id": "ClWVzRzZc0wr",
        "outputId": "6541dd84-bf51-4076-82e5-4cfa16ee443a"
      },
      "execution_count": 7,
      "outputs": [
        {
          "output_type": "stream",
          "name": "stdout",
          "text": [
            "Original array:\n",
            "[[ 7 12 20  8  7]\n",
            " [ 8 20 19  4  8]\n",
            " [19  5 19  1 15]\n",
            " [17 17 11 10  3]\n",
            " [16 12  5 18 17]]\n",
            "Mean: 11.92\n",
            "Median: 12.0\n",
            "Standard Deviation: 5.925672957563554\n",
            "Variance: 35.1136\n"
          ]
        }
      ]
    },
    {
      "cell_type": "code",
      "source": [
        "# Create a NumPy array of shape (3, 3) with values from 1 to 9\n",
        "array = np.arange(1, 10).reshape((3, 3))\n",
        "print(\"Original array:\")\n",
        "print(array)\n",
        "\n",
        "# Normalize the array\n",
        "mean = np.mean(array)\n",
        "std_dev = np.std(array)\n",
        "normalized_array = (array - mean) / std_dev\n",
        "\n",
        "print(\"Normalized array:\")\n",
        "print(normalized_array)"
      ],
      "metadata": {
        "colab": {
          "base_uri": "https://localhost:8080/"
        },
        "id": "5k5o__kmc8wN",
        "outputId": "449a58ed-36ce-467d-e781-b2a3a13cd262"
      },
      "execution_count": 8,
      "outputs": [
        {
          "output_type": "stream",
          "name": "stdout",
          "text": [
            "Original array:\n",
            "[[1 2 3]\n",
            " [4 5 6]\n",
            " [7 8 9]]\n",
            "Normalized array:\n",
            "[[-1.54919334 -1.161895   -0.77459667]\n",
            " [-0.38729833  0.          0.38729833]\n",
            " [ 0.77459667  1.161895    1.54919334]]\n"
          ]
        }
      ]
    },
    {
      "cell_type": "markdown",
      "source": [
        "### Question 5: Broadcasting\n",
        "\n",
        "1. Create a NumPy array of shape (3, 3) filled with random integers. Add a 1D array of shape (3,) to each row of the 2D array using broadcasting.\n",
        "\n",
        "2. Create a NumPy array of shape (4, 4) filled with random integers. Subtract a 1D array of shape (4,) from each column of the 2D array using broadcasting."
      ],
      "metadata": {
        "id": "RPadVVBLdDGm"
      }
    },
    {
      "cell_type": "code",
      "source": [
        "# Create a NumPy array of shape (3, 3) filled with random integers\n",
        "array = np.random.randint(1, 11, size=(3, 3))\n",
        "row_array = np.random.randint(1, 11, size=(3,))\n",
        "print(\"Original array:\")\n",
        "print(array)\n",
        "print(\"1D array:\")\n",
        "print(row_array)\n",
        "\n",
        "# Add the 1D array to each row of the 2D array using broadcasting\n",
        "result = array + row_array\n",
        "print(\"Resulting array:\")\n",
        "print(result)"
      ],
      "metadata": {
        "colab": {
          "base_uri": "https://localhost:8080/"
        },
        "id": "WDAYhUT7c--r",
        "outputId": "ea3f4dfb-61b0-40d0-a8c2-01d5b5639c1f"
      },
      "execution_count": 9,
      "outputs": [
        {
          "output_type": "stream",
          "name": "stdout",
          "text": [
            "Original array:\n",
            "[[ 8 10  7]\n",
            " [ 1 10  5]\n",
            " [ 9  4  1]]\n",
            "1D array:\n",
            "[2 6 8]\n",
            "Resulting array:\n",
            "[[10 16 15]\n",
            " [ 3 16 13]\n",
            " [11 10  9]]\n"
          ]
        }
      ]
    },
    {
      "cell_type": "code",
      "source": [
        "# Create a NumPy array of shape (4, 4) filled with random integers\n",
        "array = np.random.randint(1, 11, size=(4, 4))\n",
        "column_array = np.random.randint(1, 11, size=(4,))\n",
        "print(\"Original array:\")\n",
        "print(array)\n",
        "print(\"1D array:\")\n",
        "print(column_array)\n",
        "\n",
        "# Subtract the 1D array from each column of the 2D array using broadcasting\n",
        "result = array - column_array[:, np.newaxis]\n",
        "print(\"Resulting array:\")\n",
        "print(result)"
      ],
      "metadata": {
        "colab": {
          "base_uri": "https://localhost:8080/"
        },
        "id": "8fHGh0LydG-_",
        "outputId": "bafe2942-e30f-4b75-b38a-411c923d2623"
      },
      "execution_count": 10,
      "outputs": [
        {
          "output_type": "stream",
          "name": "stdout",
          "text": [
            "Original array:\n",
            "[[8 5 3 9]\n",
            " [9 9 3 3]\n",
            " [6 4 1 7]\n",
            " [2 7 4 6]]\n",
            "1D array:\n",
            "[7 2 4 3]\n",
            "Resulting array:\n",
            "[[ 1 -2 -4  2]\n",
            " [ 7  7  1  1]\n",
            " [ 2  0 -3  3]\n",
            " [-1  4  1  3]]\n"
          ]
        }
      ]
    },
    {
      "cell_type": "markdown",
      "source": [
        "### Question 6: Linear Algebra\n",
        "\n",
        "1. Create a NumPy array of shape (3, 3) representing a matrix. Compute its determinant, inverse, and eigenvalues.\n",
        "\n",
        "2. Create two NumPy arrays of shape (2, 3) and (3, 2). Perform matrix multiplication on these arrays."
      ],
      "metadata": {
        "id": "SFBjrW8xdJ2L"
      }
    },
    {
      "cell_type": "code",
      "source": [
        "# Create a NumPy array of shape (3, 3) representing a matrix\n",
        "matrix = np.random.randint(1, 11, size=(3, 3))\n",
        "print(\"Original matrix:\")\n",
        "print(matrix)\n",
        "\n",
        "# Compute the determinant\n",
        "determinant = np.linalg.det(matrix)\n",
        "print(\"Determinant:\", determinant)\n",
        "\n",
        "# Compute the inverse\n",
        "inverse = np.linalg.inv(matrix)\n",
        "print(\"Inverse:\")\n",
        "print(inverse)\n",
        "\n",
        "# Compute the eigenvalues\n",
        "eigenvalues = np.linalg.eigvals(matrix)\n",
        "print(\"Eigenvalues:\", eigenvalues)"
      ],
      "metadata": {
        "colab": {
          "base_uri": "https://localhost:8080/"
        },
        "id": "LjzCMKJxdIzT",
        "outputId": "34d6f188-2749-40f1-8c82-19762e755eb7"
      },
      "execution_count": 11,
      "outputs": [
        {
          "output_type": "stream",
          "name": "stdout",
          "text": [
            "Original matrix:\n",
            "[[10  1  3]\n",
            " [ 1  9  4]\n",
            " [ 4  9  6]]\n",
            "Determinant: 108.99999999999997\n",
            "Inverse:\n",
            "[[ 0.16513761  0.19266055 -0.21100917]\n",
            " [ 0.09174312  0.44036697 -0.33944954]\n",
            " [-0.24770642 -0.78899083  0.81651376]]\n",
            "Eigenvalues: [15.38686093  8.80896191  0.80417717]\n"
          ]
        }
      ]
    },
    {
      "cell_type": "code",
      "source": [
        "# Create two NumPy arrays of shape (2, 3) and (3, 2)\n",
        "array1 = np.random.randint(1, 11, size=(2, 3))\n",
        "array2 = np.random.randint(1, 11, size=(3, 2))\n",
        "print(\"Array 1:\")\n",
        "print(array1)\n",
        "print(\"Array 2:\")\n",
        "print(array2)\n",
        "\n",
        "# Perform matrix multiplication\n",
        "result = np.dot(array1, array2)\n",
        "print(\"Matrix multiplication result:\")\n",
        "print(result)"
      ],
      "metadata": {
        "colab": {
          "base_uri": "https://localhost:8080/"
        },
        "id": "Njci9kkndPGO",
        "outputId": "5eb9b54e-9b1d-4b00-d7a2-22386f6a251b"
      },
      "execution_count": 12,
      "outputs": [
        {
          "output_type": "stream",
          "name": "stdout",
          "text": [
            "Array 1:\n",
            "[[1 9 7]\n",
            " [8 4 4]]\n",
            "Array 2:\n",
            "[[5 6]\n",
            " [2 4]\n",
            " [6 3]]\n",
            "Matrix multiplication result:\n",
            "[[65 63]\n",
            " [72 76]]\n"
          ]
        }
      ]
    },
    {
      "cell_type": "markdown",
      "source": [
        "### Question 7: Advanced Array Manipulation\n",
        "\n",
        "1. Create a NumPy array of shape (3, 3) with values from 1 to 9. Reshape the array to shape (1, 9) and then to shape (9, 1).\n",
        "\n",
        "2. Create a NumPy array of shape (5, 5) filled with random integers. Flatten the array and then reshape it back to (5, 5)."
      ],
      "metadata": {
        "id": "KjWesSOSdRLJ"
      }
    },
    {
      "cell_type": "code",
      "source": [
        "# Create a NumPy array of shape (3, 3) with values from 1 to 9\n",
        "array = np.arange(1, 10).reshape((3, 3))\n",
        "print(\"Original array:\")\n",
        "print(array)\n",
        "\n",
        "# Reshape the array to shape (1, 9)\n",
        "reshaped_array_1 = array.reshape((1, 9))\n",
        "print(\"Reshaped array (1, 9):\")\n",
        "print(reshaped_array_1)\n",
        "\n",
        "# Reshape the array to shape (9, 1)\n",
        "reshaped_array_2 = reshaped_array_1.reshape((9, 1))\n",
        "print(\"Reshaped array (9, 1):\")\n",
        "print(reshaped_array_2)"
      ],
      "metadata": {
        "colab": {
          "base_uri": "https://localhost:8080/"
        },
        "id": "rBhfuPrxdQZh",
        "outputId": "1a68261e-69f5-4e2e-d4fe-f7c3141b56f7"
      },
      "execution_count": 13,
      "outputs": [
        {
          "output_type": "stream",
          "name": "stdout",
          "text": [
            "Original array:\n",
            "[[1 2 3]\n",
            " [4 5 6]\n",
            " [7 8 9]]\n",
            "Reshaped array (1, 9):\n",
            "[[1 2 3 4 5 6 7 8 9]]\n",
            "Reshaped array (9, 1):\n",
            "[[1]\n",
            " [2]\n",
            " [3]\n",
            " [4]\n",
            " [5]\n",
            " [6]\n",
            " [7]\n",
            " [8]\n",
            " [9]]\n"
          ]
        }
      ]
    },
    {
      "cell_type": "code",
      "source": [
        "# Create a NumPy array of shape (5, 5) filled with random integers\n",
        "array = np.random.randint(1, 21, size=(5, 5))\n",
        "print(\"Original array:\")\n",
        "print(array)\n",
        "\n",
        "# Flatten the array\n",
        "flattened_array = array.flatten()\n",
        "print(\"Flattened array:\")\n",
        "print(flattened_array)\n",
        "\n",
        "# Reshape the array back to (5, 5)\n",
        "reshaped_array = flattened_array.reshape((5, 5))\n",
        "print(\"Reshaped array:\")\n",
        "print(reshaped_array)"
      ],
      "metadata": {
        "colab": {
          "base_uri": "https://localhost:8080/"
        },
        "id": "9iFnh6nodXjM",
        "outputId": "64d894d7-9728-42e2-8491-7b1010f30a17"
      },
      "execution_count": 14,
      "outputs": [
        {
          "output_type": "stream",
          "name": "stdout",
          "text": [
            "Original array:\n",
            "[[17 18 16 17  7]\n",
            " [15  7 18  1 14]\n",
            " [ 9  6  5  8 11]\n",
            " [ 8  2 10  3  5]\n",
            " [14 18 13  6 15]]\n",
            "Flattened array:\n",
            "[17 18 16 17  7 15  7 18  1 14  9  6  5  8 11  8  2 10  3  5 14 18 13  6\n",
            " 15]\n",
            "Reshaped array:\n",
            "[[17 18 16 17  7]\n",
            " [15  7 18  1 14]\n",
            " [ 9  6  5  8 11]\n",
            " [ 8  2 10  3  5]\n",
            " [14 18 13  6 15]]\n"
          ]
        }
      ]
    },
    {
      "cell_type": "markdown",
      "source": [
        "### Question 8: Fancy Indexing and Boolean Indexing\n",
        "\n",
        "1. Create a NumPy array of shape (5, 5) filled with random integers. Use fancy indexing to extract the elements at the corners of the array.\n",
        "\n",
        "2. Create a NumPy array of shape (4, 4) filled with random integers. Use boolean indexing to set all elements greater than 10 to 10."
      ],
      "metadata": {
        "id": "tNZ42_KHdaz9"
      }
    },
    {
      "cell_type": "code",
      "source": [
        "# Create a NumPy array of shape (5, 5) filled with random integers\n",
        "array = np.random.randint(1, 21, size=(5, 5))\n",
        "print(\"Original array:\")\n",
        "print(array)\n",
        "\n",
        "# Use fancy indexing to extract the elements at the corners of the array\n",
        "corners = array[[0, 0, -1, -1], [0, -1, 0, -1]]\n",
        "print(\"Corner elements:\")\n",
        "print(corners)"
      ],
      "metadata": {
        "colab": {
          "base_uri": "https://localhost:8080/"
        },
        "id": "kJ2kBNeJdYw5",
        "outputId": "69112ac0-3270-4671-9a0f-18175b9e308a"
      },
      "execution_count": 15,
      "outputs": [
        {
          "output_type": "stream",
          "name": "stdout",
          "text": [
            "Original array:\n",
            "[[14 18  7 18 16]\n",
            " [ 8  6  9 12  1]\n",
            " [14 12 17 17 11]\n",
            " [ 8 13 20  9 19]\n",
            " [12 19 17 11 15]]\n",
            "Corner elements:\n",
            "[14 16 12 15]\n"
          ]
        }
      ]
    },
    {
      "cell_type": "code",
      "source": [
        "# Create a NumPy array of shape (4, 4) filled with random integers\n",
        "array = np.random.randint(1, 21, size=(4, 4))\n",
        "print(\"Original array:\")\n",
        "print(array)\n",
        "\n",
        "# Use boolean indexing to set all elements greater than 10 to 10\n",
        "array[array > 10] = 10\n",
        "print(\"Modified array:\")\n",
        "print(array)"
      ],
      "metadata": {
        "colab": {
          "base_uri": "https://localhost:8080/"
        },
        "id": "WEOSkouvdfUI",
        "outputId": "500c98df-6622-4395-ea2e-91c55a78bc78"
      },
      "execution_count": 16,
      "outputs": [
        {
          "output_type": "stream",
          "name": "stdout",
          "text": [
            "Original array:\n",
            "[[20  7  3  7]\n",
            " [16  9  2 13]\n",
            " [ 7  9 14  7]\n",
            " [ 4  8  3  9]]\n",
            "Modified array:\n",
            "[[10  7  3  7]\n",
            " [10  9  2 10]\n",
            " [ 7  9 10  7]\n",
            " [ 4  8  3  9]]\n"
          ]
        }
      ]
    },
    {
      "cell_type": "markdown",
      "source": [
        "### Question 9: Structured Arrays\n",
        "\n",
        "1. Create a structured array with fields 'name' (string), 'age' (integer), and 'weight' (float). Add some data and sort the array by age.\n",
        "\n",
        "2. Create a structured array with fields 'x' and 'y' (both integers). Add some data and compute the Euclidean distance between each pair of points."
      ],
      "metadata": {
        "id": "m7bFR3FTdhzx"
      }
    },
    {
      "cell_type": "code",
      "source": [
        "# Create a structured array with fields 'name', 'age', and 'weight'\n",
        "data_type = [('name', 'U10'), ('age', 'i4'), ('weight', 'f4')]\n",
        "data = np.array([('Alice', 25, 55.5), ('Bob', 30, 85.3), ('Charlie', 20, 65.2)], dtype=data_type)\n",
        "print(\"Original array:\")\n",
        "print(data)\n",
        "\n",
        "# Sort the array by age\n",
        "sorted_data = np.sort(data, order='age')\n",
        "print(\"Sorted array by age:\")\n",
        "print(sorted_data)"
      ],
      "metadata": {
        "colab": {
          "base_uri": "https://localhost:8080/"
        },
        "id": "2Ldpk59fdgcw",
        "outputId": "8e4648c9-c898-456c-bce9-3dddc2e838e3"
      },
      "execution_count": 17,
      "outputs": [
        {
          "output_type": "stream",
          "name": "stdout",
          "text": [
            "Original array:\n",
            "[('Alice', 25, 55.5) ('Bob', 30, 85.3) ('Charlie', 20, 65.2)]\n",
            "Sorted array by age:\n",
            "[('Charlie', 20, 65.2) ('Alice', 25, 55.5) ('Bob', 30, 85.3)]\n"
          ]
        }
      ]
    },
    {
      "cell_type": "code",
      "source": [
        "# Create a structured array with fields 'x' and 'y'\n",
        "data_type = [('x', 'i4'), ('y', 'i4')]\n",
        "data = np.array([(1, 2), (3, 4), (5, 6)], dtype=data_type)\n",
        "print(\"Original array:\")\n",
        "print(data)\n",
        "\n",
        "# Compute the Euclidean distance between each pair of points\n",
        "distances = np.sqrt((data['x'][:, np.newaxis] - data['x'])**2 + (data['y'][:, np.newaxis] - data['y'])**2)\n",
        "print(\"Euclidean distances:\")\n",
        "print(distances)"
      ],
      "metadata": {
        "colab": {
          "base_uri": "https://localhost:8080/"
        },
        "id": "ECTX7FQ9dnUn",
        "outputId": "f53421a4-5d48-447f-fdeb-715c3aa06ccb"
      },
      "execution_count": 18,
      "outputs": [
        {
          "output_type": "stream",
          "name": "stdout",
          "text": [
            "Original array:\n",
            "[(1, 2) (3, 4) (5, 6)]\n",
            "Euclidean distances:\n",
            "[[0.         2.82842712 5.65685425]\n",
            " [2.82842712 0.         2.82842712]\n",
            " [5.65685425 2.82842712 0.        ]]\n"
          ]
        }
      ]
    },
    {
      "cell_type": "markdown",
      "source": [
        "### Question 10: Masked Arrays\n",
        "\n",
        "1. Create a masked array of shape (4, 4) with random integers and mask the elements greater than 10. Compute the sum of the unmasked elements.\n",
        "\n",
        "2. Create a masked array of shape (3, 3) with random integers and mask the diagonal elements. Replace the masked elements with the mean of the unmasked elements."
      ],
      "metadata": {
        "id": "m4oKoiFCdsvV"
      }
    },
    {
      "cell_type": "code",
      "source": [
        "import numpy.ma as ma\n",
        "\n",
        "# Create a masked array of shape (4, 4) with random integers\n",
        "array = np.random.randint(1, 21, size=(4, 4))\n",
        "masked_array = ma.masked_greater(array, 10)\n",
        "print(\"Original array:\")\n",
        "print(array)\n",
        "print(\"Masked array:\")\n",
        "print(masked_array)\n",
        "\n",
        "# Compute the sum of the unmasked elements\n",
        "sum_unmasked = masked_array.sum()\n",
        "print(\"Sum of unmasked elements:\", sum_unmasked)"
      ],
      "metadata": {
        "colab": {
          "base_uri": "https://localhost:8080/"
        },
        "id": "4hbRnBTodokn",
        "outputId": "0c9a8369-7364-4f9c-d342-b0fecda4d833"
      },
      "execution_count": 19,
      "outputs": [
        {
          "output_type": "stream",
          "name": "stdout",
          "text": [
            "Original array:\n",
            "[[20 16  2  7]\n",
            " [20 19 19 19]\n",
            " [ 2 17  1 12]\n",
            " [ 5  5 10 18]]\n",
            "Masked array:\n",
            "[[-- -- 2 7]\n",
            " [-- -- -- --]\n",
            " [2 -- 1 --]\n",
            " [5 5 10 --]]\n",
            "Sum of unmasked elements: 32\n"
          ]
        }
      ]
    },
    {
      "cell_type": "code",
      "source": [
        "# Create a masked array of shape (3, 3) with random integers\n",
        "array = np.random.randint(1, 21, size=(3, 3))\n",
        "masked_array = ma.masked_array(array, mask=np.eye(3, dtype=bool))\n",
        "print(\"Original array:\")\n",
        "print(array)\n",
        "print(\"Masked array:\")\n",
        "print(masked_array)\n",
        "\n",
        "# Replace the masked elements with the mean of the unmasked elements\n",
        "mean_unmasked = masked_array.mean()\n",
        "masked_array = masked_array.filled(mean_unmasked)\n",
        "print(\"Modified masked array:\")\n",
        "print(masked_array)"
      ],
      "metadata": {
        "colab": {
          "base_uri": "https://localhost:8080/"
        },
        "id": "jyKQThyGdzeE",
        "outputId": "1fa0287c-11df-4721-ba43-ec3c060d7172"
      },
      "execution_count": 20,
      "outputs": [
        {
          "output_type": "stream",
          "name": "stdout",
          "text": [
            "Original array:\n",
            "[[ 2 10  8]\n",
            " [ 8 10  4]\n",
            " [19 18 18]]\n",
            "Masked array:\n",
            "[[-- 10 8]\n",
            " [8 -- 4]\n",
            " [19 18 --]]\n",
            "Modified masked array:\n",
            "[[11 10  8]\n",
            " [ 8 11  4]\n",
            " [19 18 11]]\n"
          ]
        }
      ]
    },
    {
      "cell_type": "markdown",
      "source": [
        "### Pandas Questions\n",
        "\n",
        "### Assignment 1: DataFrame Creation and Indexing\n",
        "\n",
        "1. Create a Pandas DataFrame with 4 columns and 6 rows filled with random integers. Set the index to be the first column.\n",
        "\n",
        "2. Create a Pandas DataFrame with columns 'A', 'B', 'C' and index 'X', 'Y', 'Z'. Fill the DataFrame with random integers and access the element at row 'Y' and column 'B'."
      ],
      "metadata": {
        "id": "XbxpBTsMeH5x"
      }
    },
    {
      "cell_type": "code",
      "source": [
        "import pandas as pd\n",
        "import numpy as np\n",
        "\n",
        "# Create a Pandas DataFrame with 4 columns and 6 rows filled with random integers\n",
        "df = pd.DataFrame(np.random.randint(1, 100, size=(6, 4)), columns=['A', 'B', 'C', 'D'])\n",
        "print(\"Original DataFrame:\")\n",
        "print(df)\n",
        "\n",
        "# Set the index to be the first column\n",
        "df.set_index('A', inplace=True)\n",
        "print(\"DataFrame with new index:\")\n",
        "print(df)"
      ],
      "metadata": {
        "colab": {
          "base_uri": "https://localhost:8080/"
        },
        "id": "zCl7PiPBd1Lh",
        "outputId": "7fc9d80c-975b-4c70-b059-a1e98d68d892"
      },
      "execution_count": 21,
      "outputs": [
        {
          "output_type": "stream",
          "name": "stdout",
          "text": [
            "Original DataFrame:\n",
            "    A   B   C   D\n",
            "0  57  82  97  53\n",
            "1   6   9  86  85\n",
            "2  95  78  75  48\n",
            "3  44  83  36  71\n",
            "4  82  76  20  73\n",
            "5  74  96  87  84\n",
            "DataFrame with new index:\n",
            "     B   C   D\n",
            "A             \n",
            "57  82  97  53\n",
            "6    9  86  85\n",
            "95  78  75  48\n",
            "44  83  36  71\n",
            "82  76  20  73\n",
            "74  96  87  84\n"
          ]
        }
      ]
    },
    {
      "cell_type": "code",
      "source": [
        "# Create a Pandas DataFrame with specified columns and index\n",
        "df = pd.DataFrame(np.random.randint(1, 100, size=(3, 3)), columns=['A', 'B', 'C'], index=['X', 'Y', 'Z'])\n",
        "print(\"Original DataFrame:\")\n",
        "print(df)\n",
        "\n",
        "# Access the element at row 'Y' and column 'B'\n",
        "element = df.at['Y', 'B']\n",
        "print(\"Element at row 'Y' and column 'B':\", element)"
      ],
      "metadata": {
        "colab": {
          "base_uri": "https://localhost:8080/"
        },
        "id": "4J5QeS-2eUsr",
        "outputId": "5747c36c-9507-4751-f466-43347b443765"
      },
      "execution_count": 22,
      "outputs": [
        {
          "output_type": "stream",
          "name": "stdout",
          "text": [
            "Original DataFrame:\n",
            "    A   B   C\n",
            "X  89  68  42\n",
            "Y   4  58   2\n",
            "Z  20  64  48\n",
            "Element at row 'Y' and column 'B': 58\n"
          ]
        }
      ]
    },
    {
      "cell_type": "markdown",
      "source": [
        "### Assignment 2: DataFrame Operations\n",
        "\n",
        "1. Create a Pandas DataFrame with 3 columns and 5 rows filled with random integers. Add a new column that is the product of the first two columns.\n",
        "\n",
        "2. Create a Pandas DataFrame with 3 columns and 4 rows filled with random integers. Compute the row-wise and column-wise sum."
      ],
      "metadata": {
        "id": "ymAR8WEeeXWQ"
      }
    },
    {
      "cell_type": "code",
      "source": [
        "# Create a Pandas DataFrame with 3 columns and 5 rows filled with random integers\n",
        "df = pd.DataFrame(np.random.randint(1, 100, size=(5, 3)), columns=['A', 'B', 'C'])\n",
        "print(\"Original DataFrame:\")\n",
        "print(df)\n",
        "\n",
        "# Add a new column that is the product of the first two columns\n",
        "df['D'] = df['A'] * df['B']\n",
        "print(\"DataFrame with new column:\")\n",
        "print(df)"
      ],
      "metadata": {
        "colab": {
          "base_uri": "https://localhost:8080/"
        },
        "id": "SDtbBSh3eWN4",
        "outputId": "d361cab8-6645-4284-b1b1-af27389da840"
      },
      "execution_count": 23,
      "outputs": [
        {
          "output_type": "stream",
          "name": "stdout",
          "text": [
            "Original DataFrame:\n",
            "    A   B   C\n",
            "0  91  10  43\n",
            "1  64  42  35\n",
            "2  76  15  86\n",
            "3  41  43   1\n",
            "4   3  18  81\n",
            "DataFrame with new column:\n",
            "    A   B   C     D\n",
            "0  91  10  43   910\n",
            "1  64  42  35  2688\n",
            "2  76  15  86  1140\n",
            "3  41  43   1  1763\n",
            "4   3  18  81    54\n"
          ]
        }
      ]
    },
    {
      "cell_type": "code",
      "source": [
        "# Create a Pandas DataFrame with 3 columns and 4 rows filled with random integers\n",
        "df = pd.DataFrame(np.random.randint(1, 100, size=(4, 3)), columns=['A', 'B', 'C'])\n",
        "print(\"Original DataFrame:\")\n",
        "print(df)\n",
        "\n",
        "# Compute the row-wise and column-wise sum\n",
        "row_sum = df.sum(axis=1)\n",
        "column_sum = df.sum(axis=0)\n",
        "\n",
        "print(\"Row-wise sum:\")\n",
        "print(row_sum)\n",
        "print(\"Column-wise sum:\")\n",
        "print(column_sum)"
      ],
      "metadata": {
        "colab": {
          "base_uri": "https://localhost:8080/"
        },
        "id": "Vzgt6fK6eano",
        "outputId": "81ebf08a-01ba-45ad-a93b-968ac181f338"
      },
      "execution_count": 24,
      "outputs": [
        {
          "output_type": "stream",
          "name": "stdout",
          "text": [
            "Original DataFrame:\n",
            "    A   B   C\n",
            "0  95  91  45\n",
            "1  80  46  35\n",
            "2  52  46  41\n",
            "3  69  43  84\n",
            "Row-wise sum:\n",
            "0    231\n",
            "1    161\n",
            "2    139\n",
            "3    196\n",
            "dtype: int64\n",
            "Column-wise sum:\n",
            "A    296\n",
            "B    226\n",
            "C    205\n",
            "dtype: int64\n"
          ]
        }
      ]
    },
    {
      "cell_type": "markdown",
      "source": [
        "### Assignment 3: Data Cleaning\n",
        "\n",
        "1. Create a Pandas DataFrame with 3 columns and 5 rows filled with random integers. Introduce some NaN values. Fill the NaN values with the mean of the respective columns.\n",
        "\n",
        "2. Create a Pandas DataFrame with 4 columns and 6 rows filled with random integers. Introduce some NaN values. Drop the rows with any NaN values."
      ],
      "metadata": {
        "id": "l1MCWRvlenwC"
      }
    },
    {
      "cell_type": "code",
      "source": [
        "# Create a Pandas DataFrame with 3 columns and 5 rows filled with random integers\n",
        "df = pd.DataFrame(np.random.randint(1, 100, size=(5, 3)), columns=['A', 'B', 'C'])\n",
        "print(\"Original DataFrame:\")\n",
        "print(df)\n",
        "\n",
        "# Introduce some NaN values\n",
        "df.iloc[0, 1] = np.nan\n",
        "df.iloc[2, 2] = np.nan\n",
        "df.iloc[4, 0] = np.nan\n",
        "print(\"DataFrame with NaN values:\")\n",
        "print(df)\n",
        "\n",
        "# Fill the NaN values with the mean of the respective columns\n",
        "df.fillna(df.mean(), inplace=True)\n",
        "print(\"DataFrame with NaN values filled:\")\n",
        "print(df)"
      ],
      "metadata": {
        "colab": {
          "base_uri": "https://localhost:8080/"
        },
        "id": "S-IakboFeb5c",
        "outputId": "0df87998-9308-41e1-cc96-e4c30e606651"
      },
      "execution_count": 25,
      "outputs": [
        {
          "output_type": "stream",
          "name": "stdout",
          "text": [
            "Original DataFrame:\n",
            "    A   B   C\n",
            "0  98   1  76\n",
            "1  84  63  87\n",
            "2  74  23  14\n",
            "3   7  30  62\n",
            "4  61  53  51\n",
            "DataFrame with NaN values:\n",
            "      A     B     C\n",
            "0  98.0   NaN  76.0\n",
            "1  84.0  63.0  87.0\n",
            "2  74.0  23.0   NaN\n",
            "3   7.0  30.0  62.0\n",
            "4   NaN  53.0  51.0\n",
            "DataFrame with NaN values filled:\n",
            "       A      B     C\n",
            "0  98.00  42.25  76.0\n",
            "1  84.00  63.00  87.0\n",
            "2  74.00  23.00  69.0\n",
            "3   7.00  30.00  62.0\n",
            "4  65.75  53.00  51.0\n"
          ]
        }
      ]
    },
    {
      "cell_type": "code",
      "source": [
        "# Create a Pandas DataFrame with 4 columns and 6 rows filled with random integers\n",
        "df = pd.DataFrame(np.random.randint(1, 100, size=(6, 4)), columns=['A', 'B', 'C', 'D'])\n",
        "print(\"Original DataFrame:\")\n",
        "print(df)\n",
        "\n",
        "# Introduce some NaN values\n",
        "df.iloc[1, 2] = np.nan\n",
        "df.iloc[3, 0] = np.nan\n",
        "df.iloc[5, 1] = np.nan\n",
        "print(\"DataFrame with NaN values:\")\n",
        "print(df)\n",
        "\n",
        "# Drop the rows with any NaN values\n",
        "df.dropna(inplace=True)\n",
        "print(\"DataFrame with NaN values dropped:\")\n",
        "print(df)"
      ],
      "metadata": {
        "colab": {
          "base_uri": "https://localhost:8080/"
        },
        "id": "4_dyve3Verrh",
        "outputId": "6f9e4876-d312-4b0b-ef64-3fc880650c24"
      },
      "execution_count": 26,
      "outputs": [
        {
          "output_type": "stream",
          "name": "stdout",
          "text": [
            "Original DataFrame:\n",
            "    A   B   C   D\n",
            "0  95  98  92   6\n",
            "1   5   6  94   2\n",
            "2  73  33  63  15\n",
            "3  54  87  19  17\n",
            "4  52  36  79  76\n",
            "5  78  31  23  97\n",
            "DataFrame with NaN values:\n",
            "      A     B     C   D\n",
            "0  95.0  98.0  92.0   6\n",
            "1   5.0   6.0   NaN   2\n",
            "2  73.0  33.0  63.0  15\n",
            "3   NaN  87.0  19.0  17\n",
            "4  52.0  36.0  79.0  76\n",
            "5  78.0   NaN  23.0  97\n",
            "DataFrame with NaN values dropped:\n",
            "      A     B     C   D\n",
            "0  95.0  98.0  92.0   6\n",
            "2  73.0  33.0  63.0  15\n",
            "4  52.0  36.0  79.0  76\n"
          ]
        }
      ]
    },
    {
      "cell_type": "markdown",
      "source": [
        "### Assignment 4: Data Aggregation\n",
        "\n",
        "1. Create a Pandas DataFrame with 2 columns: 'Category' and 'Value'. Fill the 'Category' column with random categories ('A', 'B', 'C') and the 'Value' column with random integers. Group the DataFrame by 'Category' and compute the sum and mean of 'Value' for each category.\n",
        "\n",
        "2. Create a Pandas DataFrame with 3 columns: 'Product', 'Category', and 'Sales'. Fill the DataFrame with random data. Group the DataFrame by 'Category' and compute the total sales for each category."
      ],
      "metadata": {
        "id": "HJHfTKYbetyq"
      }
    },
    {
      "cell_type": "code",
      "source": [
        "# Create a Pandas DataFrame with 2 columns: 'Category' and 'Value'\n",
        "df = pd.DataFrame({'Category': np.random.choice(['A', 'B', 'C'], size=10), 'Value': np.random.randint(1, 100, size=10)})\n",
        "print(\"Original DataFrame:\")\n",
        "print(df)\n",
        "\n",
        "# Group the DataFrame by 'Category' and compute the sum and mean of 'Value' for each category\n",
        "grouped = df.groupby('Category')['Value'].agg(['sum', 'mean'])\n",
        "print(\"Grouped DataFrame:\")\n",
        "print(grouped)"
      ],
      "metadata": {
        "colab": {
          "base_uri": "https://localhost:8080/"
        },
        "id": "Gt41AoMOes8Q",
        "outputId": "30de14f7-f567-48b5-efef-663db4f69f69"
      },
      "execution_count": 27,
      "outputs": [
        {
          "output_type": "stream",
          "name": "stdout",
          "text": [
            "Original DataFrame:\n",
            "  Category  Value\n",
            "0        A     10\n",
            "1        C     24\n",
            "2        B     71\n",
            "3        C     87\n",
            "4        B     84\n",
            "5        B     89\n",
            "6        A     56\n",
            "7        C     23\n",
            "8        A     26\n",
            "9        C     82\n",
            "Grouped DataFrame:\n",
            "          sum       mean\n",
            "Category                \n",
            "A          92  30.666667\n",
            "B         244  81.333333\n",
            "C         216  54.000000\n"
          ]
        }
      ]
    },
    {
      "cell_type": "code",
      "source": [
        "# Create a Pandas DataFrame with 3 columns: 'Product', 'Category', and 'Sales'\n",
        "df = pd.DataFrame({'Product': np.random.choice(['Prod1', 'Prod2', 'Prod3'], size=10), 'Category': np.random.choice(['A', 'B', 'C'], size=10), 'Sales': np.random.randint(1, 100, size=10)})\n",
        "print(\"Original DataFrame:\")\n",
        "print(df)\n",
        "\n",
        "# Group the DataFrame by 'Category' and compute the total sales for each category\n",
        "grouped = df.groupby('Category')['Sales'].sum()\n",
        "print(\"Grouped DataFrame:\")\n",
        "print(grouped)"
      ],
      "metadata": {
        "colab": {
          "base_uri": "https://localhost:8080/"
        },
        "id": "nB9hQ26feytA",
        "outputId": "cdbd1cc9-e3dd-4b7e-8323-26b5b3fd41aa"
      },
      "execution_count": 28,
      "outputs": [
        {
          "output_type": "stream",
          "name": "stdout",
          "text": [
            "Original DataFrame:\n",
            "  Product Category  Sales\n",
            "0   Prod1        C     30\n",
            "1   Prod1        B     23\n",
            "2   Prod1        B     13\n",
            "3   Prod1        C     23\n",
            "4   Prod1        C     75\n",
            "5   Prod2        B     17\n",
            "6   Prod1        C     55\n",
            "7   Prod3        A     26\n",
            "8   Prod2        A     89\n",
            "9   Prod2        A     10\n",
            "Grouped DataFrame:\n",
            "Category\n",
            "A    125\n",
            "B     53\n",
            "C    183\n",
            "Name: Sales, dtype: int64\n"
          ]
        }
      ]
    },
    {
      "cell_type": "markdown",
      "source": [
        "### Assignment 5: Merging DataFrames\n",
        "\n",
        "1. Create two Pandas DataFrames with a common column. Merge the DataFrames using the common column.\n",
        "\n",
        "2. Create two Pandas DataFrames with different columns. Concatenate the DataFrames along the rows and along the columns."
      ],
      "metadata": {
        "id": "ImCnylyKe1fs"
      }
    },
    {
      "cell_type": "code",
      "source": [
        "# Create two Pandas DataFrames with a common column\n",
        "df1 = pd.DataFrame({'Key': ['A', 'B', 'C', 'D'], 'Value1': np.random.randint(1, 100, size=4)})\n",
        "df2 = pd.DataFrame({'Key': ['A', 'B', 'C', 'E'], 'Value2': np.random.randint(1, 100, size=4)})\n",
        "print(\"DataFrame 1:\")\n",
        "print(df1)\n",
        "print(\"DataFrame 2:\")\n",
        "print(df2)\n",
        "\n",
        "# Merge the DataFrames using the common column\n",
        "merged = pd.merge(df1, df2, on='Key')\n",
        "print(\"Merged DataFrame:\")\n",
        "print(merged)"
      ],
      "metadata": {
        "colab": {
          "base_uri": "https://localhost:8080/"
        },
        "id": "s-jiZh8ie0J3",
        "outputId": "6984d34e-0d75-4c2f-cf72-0002cec9c450"
      },
      "execution_count": 29,
      "outputs": [
        {
          "output_type": "stream",
          "name": "stdout",
          "text": [
            "DataFrame 1:\n",
            "  Key  Value1\n",
            "0   A      20\n",
            "1   B      23\n",
            "2   C      58\n",
            "3   D      95\n",
            "DataFrame 2:\n",
            "  Key  Value2\n",
            "0   A      60\n",
            "1   B      86\n",
            "2   C       2\n",
            "3   E      93\n",
            "Merged DataFrame:\n",
            "  Key  Value1  Value2\n",
            "0   A      20      60\n",
            "1   B      23      86\n",
            "2   C      58       2\n"
          ]
        }
      ]
    },
    {
      "cell_type": "code",
      "source": [
        "# Create two Pandas DataFrames with different columns\n",
        "df1 = pd.DataFrame({'A': np.random.randint(1, 100, size=3), 'B': np.random.randint(1, 100, size=3)})\n",
        "df2 = pd.DataFrame({'C': np.random.randint(1, 100, size=3), 'D': np.random.randint(1, 100, size=3)})\n",
        "print(\"DataFrame 1:\")\n",
        "print(df1)\n",
        "print(\"DataFrame 2:\")\n",
        "print(df2)\n",
        "\n",
        "# Concatenate the DataFrames along the rows\n",
        "concat_rows = pd.concat([df1, df2], axis=0)\n",
        "print(\"Concatenated DataFrame (rows):\")\n",
        "print(concat_rows)\n",
        "\n",
        "# Concatenate the DataFrames along the columns\n",
        "concat_columns = pd.concat([df1, df2], axis=1)\n",
        "print(\"Concatenated DataFrame (columns):\")\n",
        "print(concat_columns)"
      ],
      "metadata": {
        "colab": {
          "base_uri": "https://localhost:8080/"
        },
        "id": "hfSf4cGle5bD",
        "outputId": "f478b4a8-caf8-43e5-90bf-a3d8181ac2ae"
      },
      "execution_count": 30,
      "outputs": [
        {
          "output_type": "stream",
          "name": "stdout",
          "text": [
            "DataFrame 1:\n",
            "    A   B\n",
            "0  13  35\n",
            "1   1  35\n",
            "2  18  23\n",
            "DataFrame 2:\n",
            "    C   D\n",
            "0  21  75\n",
            "1  43  60\n",
            "2  39  78\n",
            "Concatenated DataFrame (rows):\n",
            "      A     B     C     D\n",
            "0  13.0  35.0   NaN   NaN\n",
            "1   1.0  35.0   NaN   NaN\n",
            "2  18.0  23.0   NaN   NaN\n",
            "0   NaN   NaN  21.0  75.0\n",
            "1   NaN   NaN  43.0  60.0\n",
            "2   NaN   NaN  39.0  78.0\n",
            "Concatenated DataFrame (columns):\n",
            "    A   B   C   D\n",
            "0  13  35  21  75\n",
            "1   1  35  43  60\n",
            "2  18  23  39  78\n"
          ]
        }
      ]
    },
    {
      "cell_type": "markdown",
      "source": [
        "### Assignment 6: Time Series Analysis\n",
        "\n",
        "1. Create a Pandas DataFrame with a datetime index and one column filled with random integers. Resample the DataFrame to compute the monthly mean of the values.\n",
        "\n",
        "2. Create a Pandas DataFrame with a datetime index ranging from '2021-01-01' to '2021-12-31' and one column filled with random integers. Compute the rolling mean with a window of 7 days."
      ],
      "metadata": {
        "id": "JnOjYCgOe9if"
      }
    },
    {
      "cell_type": "code",
      "source": [
        "# Create a Pandas DataFrame with a datetime index and one column filled with random integers\n",
        "date_rng = pd.date_range(start='2022-01-01', end='2022-12-31', freq='D')\n",
        "df = pd.DataFrame(date_rng, columns=['date'])\n",
        "df['data'] = np.random.randint(0, 100, size=(len(date_rng)))\n",
        "df.set_index('date', inplace=True)\n",
        "print(\"Original DataFrame:\")\n",
        "print(df)\n",
        "\n",
        "# Resample the DataFrame to compute the monthly mean of the values\n",
        "monthly_mean = df.resample('M').mean()\n",
        "print(\"Monthly mean DataFrame:\")\n",
        "print(monthly_mean)"
      ],
      "metadata": {
        "colab": {
          "base_uri": "https://localhost:8080/"
        },
        "id": "AqVT7ufHe62E",
        "outputId": "5ec232e6-43c8-4546-81cc-fdbc77ef2bce"
      },
      "execution_count": 31,
      "outputs": [
        {
          "output_type": "stream",
          "name": "stdout",
          "text": [
            "Original DataFrame:\n",
            "            data\n",
            "date            \n",
            "2022-01-01    66\n",
            "2022-01-02    27\n",
            "2022-01-03    64\n",
            "2022-01-04    78\n",
            "2022-01-05    48\n",
            "...          ...\n",
            "2022-12-27    27\n",
            "2022-12-28    91\n",
            "2022-12-29    34\n",
            "2022-12-30    31\n",
            "2022-12-31    30\n",
            "\n",
            "[365 rows x 1 columns]\n",
            "Monthly mean DataFrame:\n",
            "                 data\n",
            "date                 \n",
            "2022-01-31  51.258065\n",
            "2022-02-28  44.178571\n",
            "2022-03-31  53.677419\n",
            "2022-04-30  36.200000\n",
            "2022-05-31  49.709677\n",
            "2022-06-30  47.000000\n",
            "2022-07-31  51.612903\n",
            "2022-08-31  51.451613\n",
            "2022-09-30  51.500000\n",
            "2022-10-31  40.967742\n",
            "2022-11-30  42.366667\n",
            "2022-12-31  52.225806\n"
          ]
        },
        {
          "output_type": "stream",
          "name": "stderr",
          "text": [
            "<ipython-input-31-5fb4668014f5>:10: FutureWarning: 'M' is deprecated and will be removed in a future version, please use 'ME' instead.\n",
            "  monthly_mean = df.resample('M').mean()\n"
          ]
        }
      ]
    },
    {
      "cell_type": "code",
      "source": [
        "# Create a Pandas DataFrame with a datetime index ranging from '2021-01-01' to '2021-12-31'\n",
        "date_rng = pd.date_range(start='2021-01-01', end='2021-12-31', freq='D')\n",
        "df = pd.DataFrame(date_rng, columns=['date'])\n",
        "df['data'] = np.random.randint(0, 100, size=(len(date_rng)))\n",
        "df.set_index('date', inplace=True)\n",
        "print(\"Original DataFrame:\")\n",
        "print(df)\n",
        "\n",
        "# Compute the rolling mean with a window of 7 days\n",
        "rolling_mean = df.rolling(window=7).mean()\n",
        "print(\"Rolling mean DataFrame:\")\n",
        "print(rolling_mean)"
      ],
      "metadata": {
        "colab": {
          "base_uri": "https://localhost:8080/"
        },
        "id": "ytWpXSr-fB18",
        "outputId": "622f7dc3-fe3f-4fed-da12-80e72a25de59"
      },
      "execution_count": 32,
      "outputs": [
        {
          "output_type": "stream",
          "name": "stdout",
          "text": [
            "Original DataFrame:\n",
            "            data\n",
            "date            \n",
            "2021-01-01    36\n",
            "2021-01-02    31\n",
            "2021-01-03    39\n",
            "2021-01-04    50\n",
            "2021-01-05    68\n",
            "...          ...\n",
            "2021-12-27    93\n",
            "2021-12-28    90\n",
            "2021-12-29    60\n",
            "2021-12-30    90\n",
            "2021-12-31    39\n",
            "\n",
            "[365 rows x 1 columns]\n",
            "Rolling mean DataFrame:\n",
            "                 data\n",
            "date                 \n",
            "2021-01-01        NaN\n",
            "2021-01-02        NaN\n",
            "2021-01-03        NaN\n",
            "2021-01-04        NaN\n",
            "2021-01-05        NaN\n",
            "...               ...\n",
            "2021-12-27  67.428571\n",
            "2021-12-28  66.285714\n",
            "2021-12-29  69.142857\n",
            "2021-12-30  69.142857\n",
            "2021-12-31  74.571429\n",
            "\n",
            "[365 rows x 1 columns]\n"
          ]
        }
      ]
    },
    {
      "cell_type": "markdown",
      "source": [
        "### Assignment 7: MultiIndex DataFrame\n",
        "\n",
        "1. Create a Pandas DataFrame with a MultiIndex (hierarchical index). Perform some basic indexing and slicing operations on the MultiIndex DataFrame.\n",
        "\n",
        "2. Create a Pandas DataFrame with MultiIndex consisting of 'Category' and 'SubCategory'. Fill the DataFrame with random data and compute the sum of values for each 'Category' and 'SubCategory'."
      ],
      "metadata": {
        "id": "AAqjpZsUfEya"
      }
    },
    {
      "cell_type": "code",
      "source": [
        "# Create a Pandas DataFrame with a MultiIndex (hierarchical index)\n",
        "arrays = [['A', 'A', 'B', 'B'], ['one', 'two', 'one', 'two']]\n",
        "index = pd.MultiIndex.from_arrays(arrays, names=('Category', 'SubCategory'))\n",
        "df = pd.DataFrame(np.random.randint(1, 100, size=(4, 3)), index=index, columns=['Value1', 'Value2', 'Value3'])\n",
        "print(\"MultiIndex DataFrame:\")\n",
        "print(df)\n",
        "\n",
        "# Basic indexing and slicing operations\n",
        "print(\"Indexing at Category 'A':\")\n",
        "print(df.loc['A'])\n",
        "\n",
        "print(\"Slicing at Category 'B' and SubCategory 'two':\")\n",
        "print(df.loc[('B', 'two')])"
      ],
      "metadata": {
        "colab": {
          "base_uri": "https://localhost:8080/"
        },
        "id": "mJDftJvmfD14",
        "outputId": "f6ac630a-0d37-4efb-e2b8-149d87284788"
      },
      "execution_count": 33,
      "outputs": [
        {
          "output_type": "stream",
          "name": "stdout",
          "text": [
            "MultiIndex DataFrame:\n",
            "                      Value1  Value2  Value3\n",
            "Category SubCategory                        \n",
            "A        one              22      83      67\n",
            "         two              46      15      25\n",
            "B        one               2      90      49\n",
            "         two              98      37      97\n",
            "Indexing at Category 'A':\n",
            "             Value1  Value2  Value3\n",
            "SubCategory                        \n",
            "one              22      83      67\n",
            "two              46      15      25\n",
            "Slicing at Category 'B' and SubCategory 'two':\n",
            "Value1    98\n",
            "Value2    37\n",
            "Value3    97\n",
            "Name: (B, two), dtype: int64\n"
          ]
        }
      ]
    },
    {
      "cell_type": "code",
      "source": [
        "# Create a Pandas DataFrame with MultiIndex consisting of 'Category' and 'SubCategory'\n",
        "arrays = [['A', 'A', 'B', 'B', 'C', 'C'], ['one', 'two', 'one', 'two', 'one', 'two']]\n",
        "index = pd.MultiIndex.from_arrays(arrays, names=('Category', 'SubCategory'))\n",
        "df = pd.DataFrame(np.random.randint(1, 100, size=(6, 3)), index=index, columns=['Value1', 'Value2', 'Value3'])\n",
        "print(\"MultiIndex DataFrame:\")\n",
        "print(df)\n",
        "\n",
        "# Compute the sum of values for each 'Category' and 'SubCategory'\n",
        "sum_values = df.groupby(['Category', 'SubCategory']).sum()\n",
        "print(\"Sum of values:\")\n",
        "print(sum_values)"
      ],
      "metadata": {
        "colab": {
          "base_uri": "https://localhost:8080/"
        },
        "id": "IRfyEKSzfJWI",
        "outputId": "9a384a9d-cfa1-4795-e51f-932321e77a47"
      },
      "execution_count": 34,
      "outputs": [
        {
          "output_type": "stream",
          "name": "stdout",
          "text": [
            "MultiIndex DataFrame:\n",
            "                      Value1  Value2  Value3\n",
            "Category SubCategory                        \n",
            "A        one              99      82      49\n",
            "         two              50      44      69\n",
            "B        one              76      70      65\n",
            "         two              40      54      53\n",
            "C        one              71      52      41\n",
            "         two              64      15      62\n",
            "Sum of values:\n",
            "                      Value1  Value2  Value3\n",
            "Category SubCategory                        \n",
            "A        one              99      82      49\n",
            "         two              50      44      69\n",
            "B        one              76      70      65\n",
            "         two              40      54      53\n",
            "C        one              71      52      41\n",
            "         two              64      15      62\n"
          ]
        }
      ]
    },
    {
      "cell_type": "markdown",
      "source": [
        "### Assignment 8: Pivot Tables\n",
        "\n",
        "1. Create a Pandas DataFrame with columns 'Date', 'Category', and 'Value'. Create a pivot table to compute the sum of 'Value' for each 'Category' by 'Date'.\n",
        "\n",
        "2. Create a Pandas DataFrame with columns 'Year', 'Quarter', and 'Revenue'. Create a pivot table to compute the mean 'Revenue' for each 'Quarter' by 'Year'."
      ],
      "metadata": {
        "id": "xDB8wRQvfMGu"
      }
    },
    {
      "cell_type": "code",
      "source": [
        "# Create a Pandas DataFrame with columns 'Date', 'Category', and 'Value'\n",
        "date_rng = pd.date_range(start='2022-01-01', end='2022-01-10', freq='D')\n",
        "df = pd.DataFrame({'Date': np.random.choice(date_rng, size=20), 'Category': np.random.choice(['A', 'B', 'C'], size=20), 'Value': np.random.randint(1, 100, size=20)})\n",
        "print(\"Original DataFrame:\")\n",
        "print(df)\n",
        "\n",
        "# Create a pivot table to compute the sum of 'Value' for each 'Category' by 'Date'\n",
        "pivot_table = df.pivot_table(values='Value', index='Date', columns='Category', aggfunc='sum')\n",
        "print(\"Pivot Table:\")\n",
        "print(pivot_table)"
      ],
      "metadata": {
        "colab": {
          "base_uri": "https://localhost:8080/"
        },
        "id": "Gv3fBftofK3F",
        "outputId": "da770ec7-20be-423a-afe7-ed52d775a0e3"
      },
      "execution_count": 35,
      "outputs": [
        {
          "output_type": "stream",
          "name": "stdout",
          "text": [
            "Original DataFrame:\n",
            "         Date Category  Value\n",
            "0  2022-01-04        B     27\n",
            "1  2022-01-04        C     22\n",
            "2  2022-01-04        B      2\n",
            "3  2022-01-09        A     21\n",
            "4  2022-01-10        A     88\n",
            "5  2022-01-07        A     80\n",
            "6  2022-01-10        A     68\n",
            "7  2022-01-04        B     44\n",
            "8  2022-01-06        B     64\n",
            "9  2022-01-01        B     75\n",
            "10 2022-01-07        A     70\n",
            "11 2022-01-06        C     65\n",
            "12 2022-01-06        B     25\n",
            "13 2022-01-02        A     33\n",
            "14 2022-01-08        B     33\n",
            "15 2022-01-02        C     14\n",
            "16 2022-01-02        A     16\n",
            "17 2022-01-06        A     25\n",
            "18 2022-01-03        B     51\n",
            "19 2022-01-07        C     18\n",
            "Pivot Table:\n",
            "Category        A     B     C\n",
            "Date                         \n",
            "2022-01-01    NaN  75.0   NaN\n",
            "2022-01-02   49.0   NaN  14.0\n",
            "2022-01-03    NaN  51.0   NaN\n",
            "2022-01-04    NaN  73.0  22.0\n",
            "2022-01-06   25.0  89.0  65.0\n",
            "2022-01-07  150.0   NaN  18.0\n",
            "2022-01-08    NaN  33.0   NaN\n",
            "2022-01-09   21.0   NaN   NaN\n",
            "2022-01-10  156.0   NaN   NaN\n"
          ]
        }
      ]
    },
    {
      "cell_type": "code",
      "source": [
        "# Create a Pandas DataFrame with columns 'Year', 'Quarter', and 'Revenue'\n",
        "df = pd.DataFrame({'Year': np.random.choice([2020, 2021, 2022], size=12), 'Quarter': np.random.choice(['Q1', 'Q2', 'Q3', 'Q4'], size=12), 'Revenue': np.random.randint(1, 1000, size=12)})\n",
        "print(\"Original DataFrame:\")\n",
        "print(df)\n",
        "\n",
        "# Create a pivot table to compute the mean 'Revenue' for each 'Quarter' by 'Year'\n",
        "pivot_table = df.pivot_table(values='Revenue', index='Year', columns='Quarter', aggfunc='mean')\n",
        "print(\"Pivot Table:\")\n",
        "print(pivot_table)"
      ],
      "metadata": {
        "colab": {
          "base_uri": "https://localhost:8080/"
        },
        "id": "sTd4HE_pfPxJ",
        "outputId": "f211ea83-ef00-48c6-fb25-07bc57474874"
      },
      "execution_count": 36,
      "outputs": [
        {
          "output_type": "stream",
          "name": "stdout",
          "text": [
            "Original DataFrame:\n",
            "    Year Quarter  Revenue\n",
            "0   2021      Q1      462\n",
            "1   2022      Q3      662\n",
            "2   2020      Q2      837\n",
            "3   2021      Q3      802\n",
            "4   2020      Q3      277\n",
            "5   2021      Q2      513\n",
            "6   2022      Q4       56\n",
            "7   2022      Q2      130\n",
            "8   2021      Q4      533\n",
            "9   2022      Q3      930\n",
            "10  2021      Q2      674\n",
            "11  2022      Q1      744\n",
            "Pivot Table:\n",
            "Quarter     Q1     Q2     Q3     Q4\n",
            "Year                               \n",
            "2020       NaN  837.0  277.0    NaN\n",
            "2021     462.0  593.5  802.0  533.0\n",
            "2022     744.0  130.0  796.0   56.0\n"
          ]
        }
      ]
    },
    {
      "cell_type": "markdown",
      "source": [
        "### Assignment 9: Applying Functions\n",
        "\n",
        "1. Create a Pandas DataFrame with 3 columns and 5 rows filled with random integers. Apply a function that doubles the values of the DataFrame.\n",
        "\n",
        "2. Create a Pandas DataFrame with 3 columns and 6 rows filled with random integers. Apply a lambda function to create a new column that is the sum of the existing columns."
      ],
      "metadata": {
        "id": "MBczfGAJfZG8"
      }
    },
    {
      "cell_type": "code",
      "source": [
        "# Create a Pandas DataFrame with 3 columns and 5 rows filled with random integers\n",
        "df = pd.DataFrame(np.random.randint(1, 100, size=(5, 3)), columns=['A', 'B', 'C'])\n",
        "print(\"Original DataFrame:\")\n",
        "print(df)\n",
        "\n",
        "# Apply a function that doubles the values of the DataFrame\n",
        "df_doubled = df.applymap(lambda x: x * 2)\n",
        "print(\"Doubled DataFrame:\")\n",
        "print(df_doubled)"
      ],
      "metadata": {
        "colab": {
          "base_uri": "https://localhost:8080/"
        },
        "id": "0WAfPLJ-fRKJ",
        "outputId": "2b5454ff-370e-4c40-b433-d462b154a108"
      },
      "execution_count": 37,
      "outputs": [
        {
          "output_type": "stream",
          "name": "stdout",
          "text": [
            "Original DataFrame:\n",
            "    A   B   C\n",
            "0  37   9  75\n",
            "1  62  42  85\n",
            "2  55   3  31\n",
            "3   4  84  89\n",
            "4  10  20  46\n",
            "Doubled DataFrame:\n",
            "     A    B    C\n",
            "0   74   18  150\n",
            "1  124   84  170\n",
            "2  110    6   62\n",
            "3    8  168  178\n",
            "4   20   40   92\n"
          ]
        },
        {
          "output_type": "stream",
          "name": "stderr",
          "text": [
            "<ipython-input-37-79053e5e385f>:7: FutureWarning: DataFrame.applymap has been deprecated. Use DataFrame.map instead.\n",
            "  df_doubled = df.applymap(lambda x: x * 2)\n"
          ]
        }
      ]
    },
    {
      "cell_type": "code",
      "source": [
        "# Create a Pandas DataFrame with 3 columns and 6 rows filled with random integers\n",
        "df = pd.DataFrame(np.random.randint(1, 100, size=(6, 3)), columns=['A', 'B', 'C'])\n",
        "print(\"Original DataFrame:\")\n",
        "print(df)\n",
        "\n",
        "# Apply a lambda function to create a new column that is the sum of the existing columns\n",
        "df['Sum'] = df.apply(lambda row: row.sum(), axis=1)\n",
        "print(\"DataFrame with Sum column:\")\n",
        "print(df)"
      ],
      "metadata": {
        "colab": {
          "base_uri": "https://localhost:8080/"
        },
        "id": "Lw3j7GCKfb9X",
        "outputId": "a8078cd0-e8ed-4c0d-b626-2952c56251da"
      },
      "execution_count": 38,
      "outputs": [
        {
          "output_type": "stream",
          "name": "stdout",
          "text": [
            "Original DataFrame:\n",
            "    A   B   C\n",
            "0  10  53  60\n",
            "1  29   4  50\n",
            "2  22  18  86\n",
            "3  64  92  81\n",
            "4  74  58  67\n",
            "5   9  52   7\n",
            "DataFrame with Sum column:\n",
            "    A   B   C  Sum\n",
            "0  10  53  60  123\n",
            "1  29   4  50   83\n",
            "2  22  18  86  126\n",
            "3  64  92  81  237\n",
            "4  74  58  67  199\n",
            "5   9  52   7   68\n"
          ]
        }
      ]
    },
    {
      "cell_type": "markdown",
      "source": [
        "### Assignment 10: Working with Text Data\n",
        "\n",
        "1. Create a Pandas Series with 5 random text strings. Convert all the strings to uppercase.\n",
        "\n",
        "2. Create a Pandas Series with 5 random text strings. Extract the first three characters of each string."
      ],
      "metadata": {
        "id": "SirKmdoJfeOp"
      }
    },
    {
      "cell_type": "code",
      "source": [
        "# Create a Pandas Series with 5 random text strings\n",
        "text_data = pd.Series(['apple', 'banana', 'cherry', 'date', 'elderberry'])\n",
        "print(\"Original Series:\")\n",
        "print(text_data)\n",
        "\n",
        "# Convert all the strings to uppercase\n",
        "uppercase_data = text_data.str.upper()\n",
        "print(\"Uppercase Series:\")\n",
        "print(uppercase_data)"
      ],
      "metadata": {
        "colab": {
          "base_uri": "https://localhost:8080/"
        },
        "id": "Op67-bGcfdQS",
        "outputId": "689eec19-17fd-43fd-f66a-371fe4294c24"
      },
      "execution_count": 39,
      "outputs": [
        {
          "output_type": "stream",
          "name": "stdout",
          "text": [
            "Original Series:\n",
            "0         apple\n",
            "1        banana\n",
            "2        cherry\n",
            "3          date\n",
            "4    elderberry\n",
            "dtype: object\n",
            "Uppercase Series:\n",
            "0         APPLE\n",
            "1        BANANA\n",
            "2        CHERRY\n",
            "3          DATE\n",
            "4    ELDERBERRY\n",
            "dtype: object\n"
          ]
        }
      ]
    },
    {
      "cell_type": "code",
      "source": [
        "# Create a Pandas Series with 5 random text strings\n",
        "text_data = pd.Series(['apple', 'banana', 'cherry', 'date', 'elderberry'])\n",
        "print(\"Original Series:\")\n",
        "print(text_data)\n",
        "\n",
        "# Extract the first three characters of each string\n",
        "first_three_chars = text_data.str[:3]\n",
        "print(\"First three characters:\")\n",
        "print(first_three_chars)"
      ],
      "metadata": {
        "colab": {
          "base_uri": "https://localhost:8080/"
        },
        "id": "68SGkJTtfic2",
        "outputId": "f5bcdce5-5b36-4f6c-e8c9-af28024df645"
      },
      "execution_count": 41,
      "outputs": [
        {
          "output_type": "stream",
          "name": "stdout",
          "text": [
            "Original Series:\n",
            "0         apple\n",
            "1        banana\n",
            "2        cherry\n",
            "3          date\n",
            "4    elderberry\n",
            "dtype: object\n",
            "First three characters:\n",
            "0    app\n",
            "1    ban\n",
            "2    che\n",
            "3    dat\n",
            "4    eld\n",
            "dtype: object\n"
          ]
        }
      ]
    },
    {
      "cell_type": "code",
      "source": [],
      "metadata": {
        "id": "vqJrI4NnfjnR"
      },
      "execution_count": null,
      "outputs": []
    }
  ]
}